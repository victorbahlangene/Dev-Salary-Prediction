{
 "cells": [
  {
   "cell_type": "markdown",
   "metadata": {},
   "source": [
    "# DATA"
   ]
  },
  {
   "cell_type": "code",
   "execution_count": 1,
   "metadata": {},
   "outputs": [],
   "source": [
    "import numpy as np\n",
    "import pandas as pd"
   ]
  },
  {
   "cell_type": "code",
   "execution_count": 2,
   "metadata": {},
   "outputs": [],
   "source": [
    "import matplotlib.pyplot as plt\n",
    "import seaborn as sns\n",
    "%matplotlib inline"
   ]
  },
  {
   "cell_type": "code",
   "execution_count": 3,
   "metadata": {},
   "outputs": [],
   "source": [
    "# # Show Full dataFrame #\n",
    "# pd.set_option('display.max_rows', None)\n",
    "# pd.set_option('display.max_columns', None)\n",
    "# pd.set_option('display.width', None)\n",
    "# pd.set_option('display.max_colwidth', None)"
   ]
  },
  {
   "cell_type": "markdown",
   "metadata": {},
   "source": [
    "**Extract the *[developer_survey_2020.zip]()* flile**"
   ]
  },
  {
   "cell_type": "code",
   "execution_count": 4,
   "metadata": {},
   "outputs": [],
   "source": [
    "schema = pd.read_csv(\"survey_results_schema.csv\")"
   ]
  },
  {
   "cell_type": "code",
   "execution_count": 5,
   "metadata": {},
   "outputs": [
    {
     "data": {
      "text/html": [
       "<div>\n",
       "<style scoped>\n",
       "    .dataframe tbody tr th:only-of-type {\n",
       "        vertical-align: middle;\n",
       "    }\n",
       "\n",
       "    .dataframe tbody tr th {\n",
       "        vertical-align: top;\n",
       "    }\n",
       "\n",
       "    .dataframe thead th {\n",
       "        text-align: right;\n",
       "    }\n",
       "</style>\n",
       "<table border=\"1\" class=\"dataframe\">\n",
       "  <thead>\n",
       "    <tr style=\"text-align: right;\">\n",
       "      <th></th>\n",
       "      <th>Column</th>\n",
       "      <th>QuestionText</th>\n",
       "    </tr>\n",
       "  </thead>\n",
       "  <tbody>\n",
       "    <tr>\n",
       "      <th>0</th>\n",
       "      <td>Respondent</td>\n",
       "      <td>Randomized respondent ID number (not in order ...</td>\n",
       "    </tr>\n",
       "    <tr>\n",
       "      <th>1</th>\n",
       "      <td>MainBranch</td>\n",
       "      <td>Which of the following options best describes ...</td>\n",
       "    </tr>\n",
       "    <tr>\n",
       "      <th>2</th>\n",
       "      <td>Hobbyist</td>\n",
       "      <td>Do you code as a hobby?</td>\n",
       "    </tr>\n",
       "    <tr>\n",
       "      <th>3</th>\n",
       "      <td>Age</td>\n",
       "      <td>What is your age (in years)? If you prefer not...</td>\n",
       "    </tr>\n",
       "    <tr>\n",
       "      <th>4</th>\n",
       "      <td>Age1stCode</td>\n",
       "      <td>At what age did you write your first line of c...</td>\n",
       "    </tr>\n",
       "    <tr>\n",
       "      <th>...</th>\n",
       "      <td>...</td>\n",
       "      <td>...</td>\n",
       "    </tr>\n",
       "    <tr>\n",
       "      <th>56</th>\n",
       "      <td>WebframeWorkedWith</td>\n",
       "      <td>Which web frameworks have you done extensive d...</td>\n",
       "    </tr>\n",
       "    <tr>\n",
       "      <th>57</th>\n",
       "      <td>WelcomeChange</td>\n",
       "      <td>Compared to last year, how welcome do you feel...</td>\n",
       "    </tr>\n",
       "    <tr>\n",
       "      <th>58</th>\n",
       "      <td>WorkWeekHrs</td>\n",
       "      <td>On average, how many hours per week do you wor...</td>\n",
       "    </tr>\n",
       "    <tr>\n",
       "      <th>59</th>\n",
       "      <td>YearsCode</td>\n",
       "      <td>Including any education, how many years have y...</td>\n",
       "    </tr>\n",
       "    <tr>\n",
       "      <th>60</th>\n",
       "      <td>YearsCodePro</td>\n",
       "      <td>NOT including education, how many years have y...</td>\n",
       "    </tr>\n",
       "  </tbody>\n",
       "</table>\n",
       "<p>61 rows × 2 columns</p>\n",
       "</div>"
      ],
      "text/plain": [
       "                Column                                       QuestionText\n",
       "0           Respondent  Randomized respondent ID number (not in order ...\n",
       "1           MainBranch  Which of the following options best describes ...\n",
       "2             Hobbyist                            Do you code as a hobby?\n",
       "3                  Age  What is your age (in years)? If you prefer not...\n",
       "4           Age1stCode  At what age did you write your first line of c...\n",
       "..                 ...                                                ...\n",
       "56  WebframeWorkedWith  Which web frameworks have you done extensive d...\n",
       "57       WelcomeChange  Compared to last year, how welcome do you feel...\n",
       "58         WorkWeekHrs  On average, how many hours per week do you wor...\n",
       "59           YearsCode  Including any education, how many years have y...\n",
       "60        YearsCodePro  NOT including education, how many years have y...\n",
       "\n",
       "[61 rows x 2 columns]"
      ]
     },
     "execution_count": 5,
     "metadata": {},
     "output_type": "execute_result"
    }
   ],
   "source": [
    "schema"
   ]
  },
  {
   "cell_type": "code",
   "execution_count": 6,
   "metadata": {},
   "outputs": [
    {
     "data": {
      "text/html": [
       "<div>\n",
       "<style scoped>\n",
       "    .dataframe tbody tr th:only-of-type {\n",
       "        vertical-align: middle;\n",
       "    }\n",
       "\n",
       "    .dataframe tbody tr th {\n",
       "        vertical-align: top;\n",
       "    }\n",
       "\n",
       "    .dataframe thead th {\n",
       "        text-align: right;\n",
       "    }\n",
       "</style>\n",
       "<table border=\"1\" class=\"dataframe\">\n",
       "  <thead>\n",
       "    <tr style=\"text-align: right;\">\n",
       "      <th></th>\n",
       "      <th>Column</th>\n",
       "      <th>QuestionText</th>\n",
       "    </tr>\n",
       "  </thead>\n",
       "  <tbody>\n",
       "    <tr>\n",
       "      <th>3</th>\n",
       "      <td>Age</td>\n",
       "      <td>What is your age (in years)? If you prefer not...</td>\n",
       "    </tr>\n",
       "  </tbody>\n",
       "</table>\n",
       "</div>"
      ],
      "text/plain": [
       "  Column                                       QuestionText\n",
       "3    Age  What is your age (in years)? If you prefer not..."
      ]
     },
     "execution_count": 6,
     "metadata": {},
     "output_type": "execute_result"
    }
   ],
   "source": [
    "schema.loc[schema[\"Column\"] == \"Age\"]"
   ]
  },
  {
   "cell_type": "code",
   "execution_count": 7,
   "metadata": {},
   "outputs": [
    {
     "data": {
      "text/plain": [
       "3    What is your age (in years)? If you prefer not...\n",
       "Name: QuestionText, dtype: object"
      ]
     },
     "execution_count": 7,
     "metadata": {},
     "output_type": "execute_result"
    }
   ],
   "source": [
    "schema.loc[schema[\"Column\"] == \"Age\", \"QuestionText\"]"
   ]
  },
  {
   "cell_type": "code",
   "execution_count": 8,
   "metadata": {},
   "outputs": [
    {
     "data": {
      "text/plain": [
       "'At what age did you write your first line of code or program? (e.g., webpage, Hello World, Scratch project)'"
      ]
     },
     "execution_count": 8,
     "metadata": {},
     "output_type": "execute_result"
    }
   ],
   "source": [
    "schema.loc[4, \"QuestionText\"]"
   ]
  },
  {
   "cell_type": "code",
   "execution_count": 9,
   "metadata": {},
   "outputs": [],
   "source": [
    "survey = pd.read_csv(\"survey_results_public.csv\")"
   ]
  },
  {
   "cell_type": "code",
   "execution_count": 10,
   "metadata": {},
   "outputs": [
    {
     "data": {
      "text/plain": [
       "Index(['Respondent', 'MainBranch', 'Hobbyist', 'Age', 'Age1stCode', 'CompFreq',\n",
       "       'CompTotal', 'ConvertedComp', 'Country', 'CurrencyDesc',\n",
       "       'CurrencySymbol', 'DatabaseDesireNextYear', 'DatabaseWorkedWith',\n",
       "       'DevType', 'EdLevel', 'Employment', 'Ethnicity', 'Gender', 'JobFactors',\n",
       "       'JobSat', 'JobSeek', 'LanguageDesireNextYear', 'LanguageWorkedWith',\n",
       "       'MiscTechDesireNextYear', 'MiscTechWorkedWith',\n",
       "       'NEWCollabToolsDesireNextYear', 'NEWCollabToolsWorkedWith', 'NEWDevOps',\n",
       "       'NEWDevOpsImpt', 'NEWEdImpt', 'NEWJobHunt', 'NEWJobHuntResearch',\n",
       "       'NEWLearn', 'NEWOffTopic', 'NEWOnboardGood', 'NEWOtherComms',\n",
       "       'NEWOvertime', 'NEWPurchaseResearch', 'NEWPurpleLink', 'NEWSOSites',\n",
       "       'NEWStuck', 'OpSys', 'OrgSize', 'PlatformDesireNextYear',\n",
       "       'PlatformWorkedWith', 'PurchaseWhat', 'Sexuality', 'SOAccount',\n",
       "       'SOComm', 'SOPartFreq', 'SOVisitFreq', 'SurveyEase', 'SurveyLength',\n",
       "       'Trans', 'UndergradMajor', 'WebframeDesireNextYear',\n",
       "       'WebframeWorkedWith', 'WelcomeChange', 'WorkWeekHrs', 'YearsCode',\n",
       "       'YearsCodePro'],\n",
       "      dtype='object')"
      ]
     },
     "execution_count": 10,
     "metadata": {},
     "output_type": "execute_result"
    }
   ],
   "source": [
    "survey.columns"
   ]
  },
  {
   "cell_type": "code",
   "execution_count": 11,
   "metadata": {},
   "outputs": [
    {
     "name": "stdout",
     "output_type": "stream",
     "text": [
      "<class 'pandas.core.frame.DataFrame'>\n",
      "RangeIndex: 64461 entries, 0 to 64460\n",
      "Data columns (total 61 columns):\n",
      " #   Column                        Non-Null Count  Dtype  \n",
      "---  ------                        --------------  -----  \n",
      " 0   Respondent                    64461 non-null  int64  \n",
      " 1   MainBranch                    64162 non-null  object \n",
      " 2   Hobbyist                      64416 non-null  object \n",
      " 3   Age                           45446 non-null  float64\n",
      " 4   Age1stCode                    57900 non-null  object \n",
      " 5   CompFreq                      40069 non-null  object \n",
      " 6   CompTotal                     34826 non-null  float64\n",
      " 7   ConvertedComp                 34756 non-null  float64\n",
      " 8   Country                       64072 non-null  object \n",
      " 9   CurrencyDesc                  45472 non-null  object \n",
      " 10  CurrencySymbol                45472 non-null  object \n",
      " 11  DatabaseDesireNextYear        44070 non-null  object \n",
      " 12  DatabaseWorkedWith            49537 non-null  object \n",
      " 13  DevType                       49370 non-null  object \n",
      " 14  EdLevel                       57431 non-null  object \n",
      " 15  Employment                    63854 non-null  object \n",
      " 16  Ethnicity                     45948 non-null  object \n",
      " 17  Gender                        50557 non-null  object \n",
      " 18  JobFactors                    49349 non-null  object \n",
      " 19  JobSat                        45194 non-null  object \n",
      " 20  JobSeek                       51727 non-null  object \n",
      " 21  LanguageDesireNextYear        54113 non-null  object \n",
      " 22  LanguageWorkedWith            57378 non-null  object \n",
      " 23  MiscTechDesireNextYear        42379 non-null  object \n",
      " 24  MiscTechWorkedWith            40314 non-null  object \n",
      " 25  NEWCollabToolsDesireNextYear  47287 non-null  object \n",
      " 26  NEWCollabToolsWorkedWith      52883 non-null  object \n",
      " 27  NEWDevOps                     42686 non-null  object \n",
      " 28  NEWDevOpsImpt                 41732 non-null  object \n",
      " 29  NEWEdImpt                     48465 non-null  object \n",
      " 30  NEWJobHunt                    42286 non-null  object \n",
      " 31  NEWJobHuntResearch            41022 non-null  object \n",
      " 32  NEWLearn                      56156 non-null  object \n",
      " 33  NEWOffTopic                   50804 non-null  object \n",
      " 34  NEWOnboardGood                42623 non-null  object \n",
      " 35  NEWOtherComms                 57205 non-null  object \n",
      " 36  NEWOvertime                   43231 non-null  object \n",
      " 37  NEWPurchaseResearch           37321 non-null  object \n",
      " 38  NEWPurpleLink                 54803 non-null  object \n",
      " 39  NEWSOSites                    58275 non-null  object \n",
      " 40  NEWStuck                      54983 non-null  object \n",
      " 41  OpSys                         56228 non-null  object \n",
      " 42  OrgSize                       44334 non-null  object \n",
      " 43  PlatformDesireNextYear        50605 non-null  object \n",
      " 44  PlatformWorkedWith            53843 non-null  object \n",
      " 45  PurchaseWhat                  39364 non-null  object \n",
      " 46  Sexuality                     43992 non-null  object \n",
      " 47  SOAccount                     56805 non-null  object \n",
      " 48  SOComm                        56476 non-null  object \n",
      " 49  SOPartFreq                    46792 non-null  object \n",
      " 50  SOVisitFreq                   56970 non-null  object \n",
      " 51  SurveyEase                    51802 non-null  object \n",
      " 52  SurveyLength                  51701 non-null  object \n",
      " 53  Trans                         49345 non-null  object \n",
      " 54  UndergradMajor                50995 non-null  object \n",
      " 55  WebframeDesireNextYear        40024 non-null  object \n",
      " 56  WebframeWorkedWith            42279 non-null  object \n",
      " 57  WelcomeChange                 52683 non-null  object \n",
      " 58  WorkWeekHrs                   41151 non-null  float64\n",
      " 59  YearsCode                     57684 non-null  object \n",
      " 60  YearsCodePro                  46349 non-null  object \n",
      "dtypes: float64(4), int64(1), object(56)\n",
      "memory usage: 30.0+ MB\n"
     ]
    }
   ],
   "source": [
    "survey.info()"
   ]
  },
  {
   "cell_type": "markdown",
   "metadata": {},
   "source": [
    "What cols will i explore?\n",
    "    \n",
    "    59. YearsCode\n",
    "    60. YearsCodePro\n",
    "    3. Age                                                     \n",
    "    6. CompTotal       \n",
    "    7. ConvertedComp                 \n",
    "    8. Country                        \n",
    "    9. CurrencyDesc                   \n",
    "    13. DevType          \n",
    "    14. EdLevel "
   ]
  },
  {
   "cell_type": "code",
   "execution_count": 12,
   "metadata": {},
   "outputs": [
    {
     "data": {
      "text/plain": [
       "'Including any education, how many years have you been coding in total?'"
      ]
     },
     "execution_count": 12,
     "metadata": {},
     "output_type": "execute_result"
    }
   ],
   "source": [
    "schema.loc[59, \"QuestionText\"]"
   ]
  },
  {
   "cell_type": "code",
   "execution_count": 13,
   "metadata": {},
   "outputs": [
    {
     "data": {
      "text/plain": [
       "'NOT including education, how many years have you coded professionally (as a part of your work)?'"
      ]
     },
     "execution_count": 13,
     "metadata": {},
     "output_type": "execute_result"
    }
   ],
   "source": [
    "schema.loc[60, \"QuestionText\"]"
   ]
  },
  {
   "cell_type": "code",
   "execution_count": 14,
   "metadata": {},
   "outputs": [
    {
     "data": {
      "text/plain": [
       "'What is your age (in years)? If you prefer not to answer, you may leave this question blank.'"
      ]
     },
     "execution_count": 14,
     "metadata": {},
     "output_type": "execute_result"
    }
   ],
   "source": [
    "schema.loc[3, \"QuestionText\"]"
   ]
  },
  {
   "cell_type": "code",
   "execution_count": 15,
   "metadata": {},
   "outputs": [
    {
     "data": {
      "text/plain": [
       "'What is your current total compensation (salary, bonuses, and perks, before taxes and deductions), in `CurrencySymbol`? Please enter a whole number in the box below, without any punctuation. If you are paid hourly, please estimate an equivalent weekly, monthly, or yearly salary. If you prefer not to answer, please leave the box empty.'"
      ]
     },
     "execution_count": 15,
     "metadata": {},
     "output_type": "execute_result"
    }
   ],
   "source": [
    "schema.loc[6, \"QuestionText\"]"
   ]
  },
  {
   "cell_type": "code",
   "execution_count": 16,
   "metadata": {},
   "outputs": [
    {
     "data": {
      "text/plain": [
       "'Salary converted to annual USD salaries using the exchange rate on 2020-02-19, assuming 12 working months and 50 working weeks.'"
      ]
     },
     "execution_count": 16,
     "metadata": {},
     "output_type": "execute_result"
    }
   ],
   "source": [
    "schema.loc[7, \"QuestionText\"]"
   ]
  },
  {
   "cell_type": "code",
   "execution_count": 17,
   "metadata": {},
   "outputs": [
    {
     "data": {
      "text/plain": [
       "'Where do you live?'"
      ]
     },
     "execution_count": 17,
     "metadata": {},
     "output_type": "execute_result"
    }
   ],
   "source": [
    "schema.loc[8, \"QuestionText\"]"
   ]
  },
  {
   "cell_type": "code",
   "execution_count": 18,
   "metadata": {},
   "outputs": [
    {
     "data": {
      "text/plain": [
       "\"Which currency do you use day-to-day? If your answer is complicated, please pick the one you're most comfortable estimating in.\""
      ]
     },
     "execution_count": 18,
     "metadata": {},
     "output_type": "execute_result"
    }
   ],
   "source": [
    "schema.loc[9, \"QuestionText\"]"
   ]
  },
  {
   "cell_type": "code",
   "execution_count": 19,
   "metadata": {},
   "outputs": [
    {
     "data": {
      "text/plain": [
       "\"Which currency do you use day-to-day? If your answer is complicated, please pick the one you're most comfortable estimating in.\""
      ]
     },
     "execution_count": 19,
     "metadata": {},
     "output_type": "execute_result"
    }
   ],
   "source": [
    "schema.loc[10, \"QuestionText\"]"
   ]
  },
  {
   "cell_type": "code",
   "execution_count": 20,
   "metadata": {},
   "outputs": [
    {
     "data": {
      "text/plain": [
       "'Which of the following describe you? Please select all that apply.'"
      ]
     },
     "execution_count": 20,
     "metadata": {},
     "output_type": "execute_result"
    }
   ],
   "source": [
    "schema.loc[13, \"QuestionText\"]"
   ]
  },
  {
   "cell_type": "code",
   "execution_count": 21,
   "metadata": {},
   "outputs": [
    {
     "data": {
      "text/plain": [
       "'Which of the following best describes the highest level of formal education that you’ve completed?'"
      ]
     },
     "execution_count": 21,
     "metadata": {},
     "output_type": "execute_result"
    }
   ],
   "source": [
    "schema.loc[14, \"QuestionText\"]"
   ]
  },
  {
   "cell_type": "code",
   "execution_count": 22,
   "metadata": {},
   "outputs": [],
   "source": [
    "# Cols used for the prediction #\n",
    "columns_in_use = [\"YearsCode\", \"YearsCodePro\", \"Age\", \"CompTotal\", \"ConvertedComp\", \"Country\", \"CurrencyDesc\", \"DevType\", \"EdLevel\"]"
   ]
  },
  {
   "cell_type": "code",
   "execution_count": 23,
   "metadata": {},
   "outputs": [],
   "source": [
    "test = survey.copy()"
   ]
  },
  {
   "cell_type": "code",
   "execution_count": 24,
   "metadata": {},
   "outputs": [],
   "source": [
    "test = test[columns_in_use]"
   ]
  },
  {
   "cell_type": "code",
   "execution_count": 25,
   "metadata": {},
   "outputs": [
    {
     "name": "stdout",
     "output_type": "stream",
     "text": [
      "<class 'pandas.core.frame.DataFrame'>\n",
      "RangeIndex: 64461 entries, 0 to 64460\n",
      "Data columns (total 9 columns):\n",
      " #   Column         Non-Null Count  Dtype  \n",
      "---  ------         --------------  -----  \n",
      " 0   YearsCode      57684 non-null  object \n",
      " 1   YearsCodePro   46349 non-null  object \n",
      " 2   Age            45446 non-null  float64\n",
      " 3   CompTotal      34826 non-null  float64\n",
      " 4   ConvertedComp  34756 non-null  float64\n",
      " 5   Country        64072 non-null  object \n",
      " 6   CurrencyDesc   45472 non-null  object \n",
      " 7   DevType        49370 non-null  object \n",
      " 8   EdLevel        57431 non-null  object \n",
      "dtypes: float64(3), object(6)\n",
      "memory usage: 4.4+ MB\n"
     ]
    }
   ],
   "source": [
    "test.info()"
   ]
  },
  {
   "cell_type": "code",
   "execution_count": 26,
   "metadata": {},
   "outputs": [
    {
     "data": {
      "text/html": [
       "<div>\n",
       "<style scoped>\n",
       "    .dataframe tbody tr th:only-of-type {\n",
       "        vertical-align: middle;\n",
       "    }\n",
       "\n",
       "    .dataframe tbody tr th {\n",
       "        vertical-align: top;\n",
       "    }\n",
       "\n",
       "    .dataframe thead th {\n",
       "        text-align: right;\n",
       "    }\n",
       "</style>\n",
       "<table border=\"1\" class=\"dataframe\">\n",
       "  <thead>\n",
       "    <tr style=\"text-align: right;\">\n",
       "      <th></th>\n",
       "      <th>Age</th>\n",
       "      <th>CompTotal</th>\n",
       "      <th>ConvertedComp</th>\n",
       "    </tr>\n",
       "  </thead>\n",
       "  <tbody>\n",
       "    <tr>\n",
       "      <th>count</th>\n",
       "      <td>45446.000000</td>\n",
       "      <td>3.482600e+04</td>\n",
       "      <td>3.475600e+04</td>\n",
       "    </tr>\n",
       "    <tr>\n",
       "      <th>mean</th>\n",
       "      <td>30.834111</td>\n",
       "      <td>3.190464e+242</td>\n",
       "      <td>1.037561e+05</td>\n",
       "    </tr>\n",
       "    <tr>\n",
       "      <th>std</th>\n",
       "      <td>9.585392</td>\n",
       "      <td>inf</td>\n",
       "      <td>2.268853e+05</td>\n",
       "    </tr>\n",
       "    <tr>\n",
       "      <th>min</th>\n",
       "      <td>1.000000</td>\n",
       "      <td>0.000000e+00</td>\n",
       "      <td>0.000000e+00</td>\n",
       "    </tr>\n",
       "    <tr>\n",
       "      <th>25%</th>\n",
       "      <td>24.000000</td>\n",
       "      <td>2.000000e+04</td>\n",
       "      <td>2.464800e+04</td>\n",
       "    </tr>\n",
       "    <tr>\n",
       "      <th>50%</th>\n",
       "      <td>29.000000</td>\n",
       "      <td>6.300000e+04</td>\n",
       "      <td>5.404900e+04</td>\n",
       "    </tr>\n",
       "    <tr>\n",
       "      <th>75%</th>\n",
       "      <td>35.000000</td>\n",
       "      <td>1.250000e+05</td>\n",
       "      <td>9.500000e+04</td>\n",
       "    </tr>\n",
       "    <tr>\n",
       "      <th>max</th>\n",
       "      <td>279.000000</td>\n",
       "      <td>1.111111e+247</td>\n",
       "      <td>2.000000e+06</td>\n",
       "    </tr>\n",
       "  </tbody>\n",
       "</table>\n",
       "</div>"
      ],
      "text/plain": [
       "                Age      CompTotal  ConvertedComp\n",
       "count  45446.000000   3.482600e+04   3.475600e+04\n",
       "mean      30.834111  3.190464e+242   1.037561e+05\n",
       "std        9.585392            inf   2.268853e+05\n",
       "min        1.000000   0.000000e+00   0.000000e+00\n",
       "25%       24.000000   2.000000e+04   2.464800e+04\n",
       "50%       29.000000   6.300000e+04   5.404900e+04\n",
       "75%       35.000000   1.250000e+05   9.500000e+04\n",
       "max      279.000000  1.111111e+247   2.000000e+06"
      ]
     },
     "execution_count": 26,
     "metadata": {},
     "output_type": "execute_result"
    }
   ],
   "source": [
    "test.describe()"
   ]
  },
  {
   "cell_type": "code",
   "execution_count": 27,
   "metadata": {},
   "outputs": [],
   "source": [
    "# convert numerical cols dtype to float #"
   ]
  },
  {
   "cell_type": "markdown",
   "metadata": {},
   "source": [
    "**YearsCode**"
   ]
  },
  {
   "cell_type": "code",
   "execution_count": 28,
   "metadata": {},
   "outputs": [
    {
     "data": {
      "text/plain": [
       "array(['36', '7', '4', '15', '6', '17', '8', '10', '35', '5', '37', '19',\n",
       "       '9', '22', '30', '23', '20', '2', 'Less than 1 year', '3', '13',\n",
       "       '25', '16', '43', '11', '38', '33', nan, '24', '21', '12', '40',\n",
       "       '27', '50', '46', '14', '18', '28', '32', '44', '26', '42', '31',\n",
       "       '34', '29', '1', '39', '41', '45', 'More than 50 years', '47',\n",
       "       '49', '48'], dtype=object)"
      ]
     },
     "execution_count": 28,
     "metadata": {},
     "output_type": "execute_result"
    }
   ],
   "source": [
    "test[\"YearsCode\"].unique()"
   ]
  },
  {
   "cell_type": "markdown",
   "metadata": {},
   "source": [
    "convert:\n",
    "    \n",
    "    Less than 1 year => 0\n",
    "    More than 50 years => 51    "
   ]
  },
  {
   "cell_type": "code",
   "execution_count": 29,
   "metadata": {},
   "outputs": [],
   "source": [
    "test[\"YearsCode\"].replace(\"Less than 1 year\", 0, inplace=True)\n",
    "test[\"YearsCode\"].replace(\"More than 50 years\", 51, inplace=True)"
   ]
  },
  {
   "cell_type": "code",
   "execution_count": 30,
   "metadata": {},
   "outputs": [
    {
     "data": {
      "text/plain": [
       "array(['36', '7', '4', '15', '6', '17', '8', '10', '35', '5', '37', '19',\n",
       "       '9', '22', '30', '23', '20', '2', 0, '3', '13', '25', '16', '43',\n",
       "       '11', '38', '33', nan, '24', '21', '12', '40', '27', '50', '46',\n",
       "       '14', '18', '28', '32', '44', '26', '42', '31', '34', '29', '1',\n",
       "       '39', '41', '45', 51, '47', '49', '48'], dtype=object)"
      ]
     },
     "execution_count": 30,
     "metadata": {},
     "output_type": "execute_result"
    }
   ],
   "source": [
    "test[\"YearsCode\"].unique()"
   ]
  },
  {
   "cell_type": "code",
   "execution_count": 31,
   "metadata": {},
   "outputs": [
    {
     "data": {
      "text/plain": [
       "dtype('O')"
      ]
     },
     "execution_count": 31,
     "metadata": {},
     "output_type": "execute_result"
    }
   ],
   "source": [
    "test[\"YearsCode\"].dtype"
   ]
  },
  {
   "cell_type": "code",
   "execution_count": 32,
   "metadata": {},
   "outputs": [],
   "source": [
    "# change col dtype to a float #\n",
    "test[\"YearsCode\"] = test[\"YearsCode\"].astype(float)"
   ]
  },
  {
   "cell_type": "code",
   "execution_count": 33,
   "metadata": {},
   "outputs": [
    {
     "data": {
      "text/plain": [
       "dtype('float64')"
      ]
     },
     "execution_count": 33,
     "metadata": {},
     "output_type": "execute_result"
    }
   ],
   "source": [
    "test[\"YearsCode\"].dtype"
   ]
  },
  {
   "cell_type": "markdown",
   "metadata": {},
   "source": [
    "**YearsCodePro**"
   ]
  },
  {
   "cell_type": "code",
   "execution_count": 34,
   "metadata": {},
   "outputs": [
    {
     "data": {
      "text/plain": [
       "array(['27', '4', nan, '8', '13', '2', '7', '20', '1', '23', '3', '12',\n",
       "       '17', '18', '10', '14', '29', '6', '28', '9', '15', '11', '16',\n",
       "       '25', 'Less than 1 year', '5', '21', '19', '35', '24', '32', '22',\n",
       "       '30', '38', '26', '40', '33', '31', 'More than 50 years', '34',\n",
       "       '36', '39', '37', '41', '45', '47', '42', '46', '50', '43', '44',\n",
       "       '48', '49'], dtype=object)"
      ]
     },
     "execution_count": 34,
     "metadata": {},
     "output_type": "execute_result"
    }
   ],
   "source": [
    "test[\"YearsCodePro\"].unique()"
   ]
  },
  {
   "cell_type": "markdown",
   "metadata": {},
   "source": [
    "convert:\n",
    "    \n",
    "    Less than 1 year => 0\n",
    "    More than 50 years => 51    "
   ]
  },
  {
   "cell_type": "code",
   "execution_count": 35,
   "metadata": {},
   "outputs": [],
   "source": [
    "test[\"YearsCodePro\"].replace(\"Less than 1 year\", 0, inplace=True)\n",
    "test[\"YearsCodePro\"].replace(\"More than 50 years\", 0, inplace=True)"
   ]
  },
  {
   "cell_type": "code",
   "execution_count": 36,
   "metadata": {},
   "outputs": [
    {
     "data": {
      "text/plain": [
       "array(['27', '4', nan, '8', '13', '2', '7', '20', '1', '23', '3', '12',\n",
       "       '17', '18', '10', '14', '29', '6', '28', '9', '15', '11', '16',\n",
       "       '25', 0, '5', '21', '19', '35', '24', '32', '22', '30', '38', '26',\n",
       "       '40', '33', '31', '34', '36', '39', '37', '41', '45', '47', '42',\n",
       "       '46', '50', '43', '44', '48', '49'], dtype=object)"
      ]
     },
     "execution_count": 36,
     "metadata": {},
     "output_type": "execute_result"
    }
   ],
   "source": [
    "test[\"YearsCodePro\"].unique()"
   ]
  },
  {
   "cell_type": "code",
   "execution_count": 37,
   "metadata": {},
   "outputs": [
    {
     "data": {
      "text/plain": [
       "dtype('O')"
      ]
     },
     "execution_count": 37,
     "metadata": {},
     "output_type": "execute_result"
    }
   ],
   "source": [
    "test[\"YearsCodePro\"].dtype"
   ]
  },
  {
   "cell_type": "code",
   "execution_count": 38,
   "metadata": {},
   "outputs": [],
   "source": [
    "# change col dtype to a float #\n",
    "test[\"YearsCodePro\"] = test[\"YearsCodePro\"].astype(float)"
   ]
  },
  {
   "cell_type": "code",
   "execution_count": 39,
   "metadata": {},
   "outputs": [
    {
     "data": {
      "text/plain": [
       "dtype('float64')"
      ]
     },
     "execution_count": 39,
     "metadata": {},
     "output_type": "execute_result"
    }
   ],
   "source": [
    "test[\"YearsCodePro\"].dtype"
   ]
  },
  {
   "cell_type": "code",
   "execution_count": 40,
   "metadata": {},
   "outputs": [
    {
     "data": {
      "text/html": [
       "<div>\n",
       "<style scoped>\n",
       "    .dataframe tbody tr th:only-of-type {\n",
       "        vertical-align: middle;\n",
       "    }\n",
       "\n",
       "    .dataframe tbody tr th {\n",
       "        vertical-align: top;\n",
       "    }\n",
       "\n",
       "    .dataframe thead th {\n",
       "        text-align: right;\n",
       "    }\n",
       "</style>\n",
       "<table border=\"1\" class=\"dataframe\">\n",
       "  <thead>\n",
       "    <tr style=\"text-align: right;\">\n",
       "      <th></th>\n",
       "      <th>YearsCode</th>\n",
       "      <th>YearsCodePro</th>\n",
       "      <th>Age</th>\n",
       "      <th>CompTotal</th>\n",
       "      <th>ConvertedComp</th>\n",
       "    </tr>\n",
       "  </thead>\n",
       "  <tbody>\n",
       "    <tr>\n",
       "      <th>count</th>\n",
       "      <td>57684.000000</td>\n",
       "      <td>46349.000000</td>\n",
       "      <td>45446.000000</td>\n",
       "      <td>3.482600e+04</td>\n",
       "      <td>3.475600e+04</td>\n",
       "    </tr>\n",
       "    <tr>\n",
       "      <th>mean</th>\n",
       "      <td>12.709053</td>\n",
       "      <td>8.445598</td>\n",
       "      <td>30.834111</td>\n",
       "      <td>3.190464e+242</td>\n",
       "      <td>1.037561e+05</td>\n",
       "    </tr>\n",
       "    <tr>\n",
       "      <th>std</th>\n",
       "      <td>9.717353</td>\n",
       "      <td>7.805093</td>\n",
       "      <td>9.585392</td>\n",
       "      <td>inf</td>\n",
       "      <td>2.268853e+05</td>\n",
       "    </tr>\n",
       "    <tr>\n",
       "      <th>min</th>\n",
       "      <td>0.000000</td>\n",
       "      <td>0.000000</td>\n",
       "      <td>1.000000</td>\n",
       "      <td>0.000000e+00</td>\n",
       "      <td>0.000000e+00</td>\n",
       "    </tr>\n",
       "    <tr>\n",
       "      <th>25%</th>\n",
       "      <td>6.000000</td>\n",
       "      <td>3.000000</td>\n",
       "      <td>24.000000</td>\n",
       "      <td>2.000000e+04</td>\n",
       "      <td>2.464800e+04</td>\n",
       "    </tr>\n",
       "    <tr>\n",
       "      <th>50%</th>\n",
       "      <td>10.000000</td>\n",
       "      <td>6.000000</td>\n",
       "      <td>29.000000</td>\n",
       "      <td>6.300000e+04</td>\n",
       "      <td>5.404900e+04</td>\n",
       "    </tr>\n",
       "    <tr>\n",
       "      <th>75%</th>\n",
       "      <td>17.000000</td>\n",
       "      <td>12.000000</td>\n",
       "      <td>35.000000</td>\n",
       "      <td>1.250000e+05</td>\n",
       "      <td>9.500000e+04</td>\n",
       "    </tr>\n",
       "    <tr>\n",
       "      <th>max</th>\n",
       "      <td>51.000000</td>\n",
       "      <td>50.000000</td>\n",
       "      <td>279.000000</td>\n",
       "      <td>1.111111e+247</td>\n",
       "      <td>2.000000e+06</td>\n",
       "    </tr>\n",
       "  </tbody>\n",
       "</table>\n",
       "</div>"
      ],
      "text/plain": [
       "          YearsCode  YearsCodePro           Age      CompTotal  ConvertedComp\n",
       "count  57684.000000  46349.000000  45446.000000   3.482600e+04   3.475600e+04\n",
       "mean      12.709053      8.445598     30.834111  3.190464e+242   1.037561e+05\n",
       "std        9.717353      7.805093      9.585392            inf   2.268853e+05\n",
       "min        0.000000      0.000000      1.000000   0.000000e+00   0.000000e+00\n",
       "25%        6.000000      3.000000     24.000000   2.000000e+04   2.464800e+04\n",
       "50%       10.000000      6.000000     29.000000   6.300000e+04   5.404900e+04\n",
       "75%       17.000000     12.000000     35.000000   1.250000e+05   9.500000e+04\n",
       "max       51.000000     50.000000    279.000000  1.111111e+247   2.000000e+06"
      ]
     },
     "execution_count": 40,
     "metadata": {},
     "output_type": "execute_result"
    }
   ],
   "source": [
    "test.describe()"
   ]
  },
  {
   "cell_type": "markdown",
   "metadata": {},
   "source": [
    "### Some graphs"
   ]
  },
  {
   "cell_type": "code",
   "execution_count": 41,
   "metadata": {},
   "outputs": [
    {
     "data": {
      "text/plain": [
       "<seaborn.axisgrid.PairGrid at 0x2bedaca860>"
      ]
     },
     "execution_count": 41,
     "metadata": {},
     "output_type": "execute_result"
    },
    {
     "data": {
      "image/png": "[encoded data removed]",
      "text/plain": [
       "<Figure size 900x900 with 30 Axes>"
      ]
     },
     "metadata": {
      "needs_background": "light"
     },
     "output_type": "display_data"
    }
   ],
   "source": [
    "sns.pairplot(test)"
   ]
  },
  {
   "cell_type": "code",
   "execution_count": 42,
   "metadata": {},
   "outputs": [
    {
     "data": {
      "text/plain": [
       "<matplotlib.axes._subplots.AxesSubplot at 0x2bedaca358>"
      ]
     },
     "execution_count": 42,
     "metadata": {},
     "output_type": "execute_result"
    },
    {
     "data": {
      "image/png": "[encoded data removed]",
      "text/plain": [
       "<Figure size 432x288 with 1 Axes>"
      ]
     },
     "metadata": {
      "needs_background": "light"
     },
     "output_type": "display_data"
    }
   ],
   "source": [
    "sns.scatterplot(x=\"Age\", y=\"ConvertedComp\", data=test)"
   ]
  },
  {
   "cell_type": "code",
   "execution_count": 43,
   "metadata": {},
   "outputs": [
    {
     "data": {
      "text/plain": [
       "<matplotlib.axes._subplots.AxesSubplot at 0x2be878ceb8>"
      ]
     },
     "execution_count": 43,
     "metadata": {},
     "output_type": "execute_result"
    },
    {
     "data": {
      "image/png": "[encoded data removed]",
      "text/plain": [
       "<Figure size 432x288 with 1 Axes>"
      ]
     },
     "metadata": {
      "needs_background": "light"
     },
     "output_type": "display_data"
    }
   ],
   "source": [
    "sns.scatterplot(x=\"YearsCodePro\", y=\"ConvertedComp\", data=test)"
   ]
  },
  {
   "cell_type": "markdown",
   "metadata": {},
   "source": [
    "check seaborn for more plot types"
   ]
  },
  {
   "cell_type": "code",
   "execution_count": 44,
   "metadata": {},
   "outputs": [
    {
     "name": "stderr",
     "output_type": "stream",
     "text": [
      "C:\\ProgramData\\Anaconda3\\lib\\site-packages\\scipy\\stats\\stats.py:1713: FutureWarning: Using a non-tuple sequence for multidimensional indexing is deprecated; use `arr[tuple(seq)]` instead of `arr[seq]`. In the future this will be interpreted as an array index, `arr[np.array(seq)]`, which will result either in an error or a different result.\n",
      "  return np.add.reduce(sorted[indexer] * weights, axis=axis) / sumval\n"
     ]
    },
    {
     "data": {
      "text/plain": [
       "<matplotlib.axes._subplots.AxesSubplot at 0x2bec4806d8>"
      ]
     },
     "execution_count": 44,
     "metadata": {},
     "output_type": "execute_result"
    },
    {
     "data": {
      "image/png": "[encoded data removed]",
      "text/plain": [
       "<Figure size 432x288 with 1 Axes>"
      ]
     },
     "metadata": {
      "needs_background": "light"
     },
     "output_type": "display_data"
    }
   ],
   "source": [
    "# salary distribution for non Null values #\n",
    "sns.distplot(test[\"ConvertedComp\"][test[\"ConvertedComp\"].notna()],bins=100)"
   ]
  },
  {
   "cell_type": "code",
   "execution_count": 45,
   "metadata": {},
   "outputs": [
    {
     "data": {
      "text/plain": [
       "Index(['YearsCode', 'YearsCodePro', 'Age', 'CompTotal', 'ConvertedComp',\n",
       "       'Country', 'CurrencyDesc', 'DevType', 'EdLevel'],\n",
       "      dtype='object')"
      ]
     },
     "execution_count": 45,
     "metadata": {},
     "output_type": "execute_result"
    }
   ],
   "source": [
    "test.columns"
   ]
  },
  {
   "cell_type": "code",
   "execution_count": 46,
   "metadata": {},
   "outputs": [],
   "source": [
    "# For categorical data #\n",
    "#sns.boxplot(x=\"EdLevel\", y=\"ConvertedComp\", data=test,palette='rainbow')"
   ]
  },
  {
   "cell_type": "markdown",
   "metadata": {},
   "source": [
    "## Column analysis"
   ]
  },
  {
   "cell_type": "markdown",
   "metadata": {},
   "source": [
    "### Categorical cols"
   ]
  },
  {
   "cell_type": "code",
   "execution_count": 47,
   "metadata": {},
   "outputs": [
    {
     "name": "stdout",
     "output_type": "stream",
     "text": [
      "<class 'pandas.core.frame.DataFrame'>\n",
      "RangeIndex: 64461 entries, 0 to 64460\n",
      "Data columns (total 9 columns):\n",
      " #   Column         Non-Null Count  Dtype  \n",
      "---  ------         --------------  -----  \n",
      " 0   YearsCode      57684 non-null  float64\n",
      " 1   YearsCodePro   46349 non-null  float64\n",
      " 2   Age            45446 non-null  float64\n",
      " 3   CompTotal      34826 non-null  float64\n",
      " 4   ConvertedComp  34756 non-null  float64\n",
      " 5   Country        64072 non-null  object \n",
      " 6   CurrencyDesc   45472 non-null  object \n",
      " 7   DevType        49370 non-null  object \n",
      " 8   EdLevel        57431 non-null  object \n",
      "dtypes: float64(5), object(4)\n",
      "memory usage: 4.4+ MB\n"
     ]
    }
   ],
   "source": [
    "test.info()"
   ]
  },
  {
   "cell_type": "markdown",
   "metadata": {},
   "source": [
    "**Country col**"
   ]
  },
  {
   "cell_type": "code",
   "execution_count": 48,
   "metadata": {},
   "outputs": [
    {
     "data": {
      "text/plain": [
       "array(['Germany', 'United Kingdom', 'Russian Federation', 'Albania',\n",
       "       'United States', 'India', 'Tunisia', 'Spain', 'Netherlands',\n",
       "       'France', 'Belgium', 'Portugal', 'Canada', 'China', 'Ukraine',\n",
       "       'Italy', 'Brazil', 'Austria', 'Mexico', 'Sweden', 'Poland',\n",
       "       'Indonesia', 'Greece', 'Israel', 'Czech Republic',\n",
       "       'Bosnia and Herzegovina', 'Bulgaria', 'Serbia', 'Switzerland',\n",
       "       'Hungary', 'Nepal', 'Slovenia', 'Uruguay', 'Denmark', 'Pakistan',\n",
       "       'Taiwan', 'Romania', 'Finland', 'Costa Rica', 'Nigeria', 'Chile',\n",
       "       'Turkey', 'Panama', 'Ireland', 'Estonia', 'Philippines',\n",
       "       'Australia', 'Nomadic', 'Peru', 'Cyprus', 'Sri Lanka', 'Kenya',\n",
       "       'Norway', 'Kyrgyzstan', 'Iran', 'Croatia', 'Egypt', 'Argentina',\n",
       "       'Ghana', 'Latvia', 'Morocco', 'Bangladesh', 'Ecuador', 'Haiti',\n",
       "       'Venezuela, Bolivarian Republic of...', 'Colombia', 'Lithuania',\n",
       "       'El Salvador', 'Honduras', 'Ethiopia', 'Lebanon', 'Uganda',\n",
       "       'Algeria', 'Viet Nam', 'Guatemala', 'Syrian Arab Republic',\n",
       "       'Afghanistan', 'Slovakia', 'United Arab Emirates', 'Belarus',\n",
       "       'Sudan', 'South Africa', 'Jordan', 'Georgia',\n",
       "       'United Republic of Tanzania', 'Antigua and Barbuda',\n",
       "       'Saudi Arabia', 'New Zealand', 'Kuwait', 'Armenia',\n",
       "       'Republic of Moldova', 'Cuba', 'Luxembourg', 'Singapore',\n",
       "       'Azerbaijan', 'Dominican Republic', 'Iceland', 'Isle of Man',\n",
       "       'Uzbekistan', 'Trinidad and Tobago', 'Senegal', 'Andorra',\n",
       "       'Turkmenistan', 'Hong Kong (S.A.R.)', 'Benin', 'Bolivia',\n",
       "       'Republic of Korea', 'Japan', 'Malta', 'Iraq', 'South Korea',\n",
       "       'Paraguay', 'Malaysia', 'Thailand', 'Myanmar', 'Kazakhstan',\n",
       "       'Cambodia', 'Jamaica', 'Nicaragua', 'Maldives',\n",
       "       'Democratic Republic of the Congo', 'Papua New Guinea', 'Oman',\n",
       "       'The former Yugoslav Republic of Macedonia', 'Malawi', 'Qatar',\n",
       "       'Madagascar', 'Botswana', 'Angola', 'Montenegro', 'Yemen',\n",
       "       'Mongolia', 'Kosovo', 'Zambia', 'Zimbabwe',\n",
       "       'Libyan Arab Jamahiriya', 'Mozambique', 'Somalia', 'Eritrea',\n",
       "       'Namibia', 'Rwanda', 'Burkina Faso', 'Congo, Republic of the...',\n",
       "       'Swaziland', 'Bhutan', 'Cameroon', 'Bahrain', \"Côte d'Ivoire\",\n",
       "       'Sierra Leone', 'Togo', 'Niger', 'Barbados', 'Belize',\n",
       "       'Saint Vincent and the Grenadines',\n",
       "       \"Lao People's Democratic Republic\", 'Tajikistan', 'Mauritius',\n",
       "       'Guinea', 'Brunei Darussalam', 'Bahamas', 'Mauritania',\n",
       "       'Saint Lucia', 'Djibouti', 'San Marino', 'Lesotho', 'Nauru', nan,\n",
       "       'Burundi', 'Fiji', 'Kiribati', 'Grenada', 'Chad', 'Mali', 'Guyana',\n",
       "       'Micronesia, Federated States of...', 'Gambia', 'North Korea',\n",
       "       'Liechtenstein', 'Monaco', 'Timor-Leste', 'Solomon Islands',\n",
       "       'Cape Verde', 'Gabon', 'Marshall Islands'], dtype=object)"
      ]
     },
     "execution_count": 48,
     "metadata": {},
     "output_type": "execute_result"
    }
   ],
   "source": [
    "test[\"Country\"].unique()"
   ]
  },
  {
   "cell_type": "code",
   "execution_count": 49,
   "metadata": {},
   "outputs": [
    {
     "data": {
      "text/plain": [
       "United States     12469\n",
       "India              8403\n",
       "United Kingdom     3896\n",
       "Germany            3890\n",
       "Canada             2191\n",
       "                  ...  \n",
       "Nauru                 1\n",
       "North Korea           1\n",
       "Kiribati              1\n",
       "Grenada               1\n",
       "Chad                  1\n",
       "Name: Country, Length: 183, dtype: int64"
      ]
     },
     "execution_count": 49,
     "metadata": {},
     "output_type": "execute_result"
    }
   ],
   "source": [
    "test[\"Country\"].value_counts()"
   ]
  },
  {
   "cell_type": "markdown",
   "metadata": {},
   "source": [
    "No real way to fill in country data. The country is either in there, or its not"
   ]
  },
  {
   "cell_type": "code",
   "execution_count": 50,
   "metadata": {},
   "outputs": [
    {
     "data": {
      "text/plain": [
       "389"
      ]
     },
     "execution_count": 50,
     "metadata": {},
     "output_type": "execute_result"
    }
   ],
   "source": [
    "# Number of NaN values for Country col # \n",
    "len(test[test[\"Country\"].isna()])"
   ]
  },
  {
   "cell_type": "code",
   "execution_count": 51,
   "metadata": {},
   "outputs": [
    {
     "data": {
      "text/plain": [
       "64072"
      ]
     },
     "execution_count": 51,
     "metadata": {},
     "output_type": "execute_result"
    }
   ],
   "source": [
    "# Number of entries left if I drop rows where Country col has an NaN value #\n",
    "len(test.dropna(subset=[\"Country\"]))"
   ]
  },
  {
   "cell_type": "code",
   "execution_count": 52,
   "metadata": {},
   "outputs": [],
   "source": [
    "# Drop NaN in the Country col #\n",
    "test.dropna(subset=[\"Country\"], inplace=True)"
   ]
  },
  {
   "cell_type": "code",
   "execution_count": 53,
   "metadata": {},
   "outputs": [
    {
     "data": {
      "text/plain": [
       "0"
      ]
     },
     "execution_count": 53,
     "metadata": {},
     "output_type": "execute_result"
    }
   ],
   "source": [
    "# Check for NaN values #\n",
    "len(test[test[\"Country\"].isna()])"
   ]
  },
  {
   "cell_type": "markdown",
   "metadata": {},
   "source": [
    "**DevType**"
   ]
  },
  {
   "cell_type": "code",
   "execution_count": 54,
   "metadata": {},
   "outputs": [
    {
     "name": "stdout",
     "output_type": "stream",
     "text": [
      "<class 'pandas.core.frame.DataFrame'>\n",
      "Int64Index: 64072 entries, 0 to 64460\n",
      "Data columns (total 9 columns):\n",
      " #   Column         Non-Null Count  Dtype  \n",
      "---  ------         --------------  -----  \n",
      " 0   YearsCode      57684 non-null  float64\n",
      " 1   YearsCodePro   46349 non-null  float64\n",
      " 2   Age            45446 non-null  float64\n",
      " 3   CompTotal      34826 non-null  float64\n",
      " 4   ConvertedComp  34756 non-null  float64\n",
      " 5   Country        64072 non-null  object \n",
      " 6   CurrencyDesc   45472 non-null  object \n",
      " 7   DevType        49370 non-null  object \n",
      " 8   EdLevel        57431 non-null  object \n",
      "dtypes: float64(5), object(4)\n",
      "memory usage: 4.9+ MB\n"
     ]
    }
   ],
   "source": [
    "test.info()"
   ]
  },
  {
   "cell_type": "code",
   "execution_count": 55,
   "metadata": {},
   "outputs": [
    {
     "data": {
      "text/plain": [
       "array(['Developer, desktop or enterprise applications;Developer, full-stack',\n",
       "       'Developer, full-stack;Developer, mobile', nan, ...,\n",
       "       'Data scientist or machine learning specialist;Database administrator;Developer, back-end;Developer, front-end;System administrator',\n",
       "       'Academic researcher;Data or business analyst;Data scientist or machine learning specialist;Database administrator;Designer;Developer, back-end;Developer, desktop or enterprise applications;Developer, embedded applications or devices;Developer, front-end;Developer, full-stack;Developer, game or graphics;Developer, mobile;Developer, QA or test;DevOps specialist;Senior executive/VP;System administrator',\n",
       "       'Data or business analyst;Developer, mobile;Senior executive/VP;System administrator'],\n",
       "      dtype=object)"
      ]
     },
     "execution_count": 55,
     "metadata": {},
     "output_type": "execute_result"
    }
   ],
   "source": [
    "test[\"DevType\"].unique()"
   ]
  },
  {
   "cell_type": "code",
   "execution_count": 56,
   "metadata": {},
   "outputs": [
    {
     "data": {
      "text/plain": [
       "Developer, full-stack                                                                                                                                                                                                                                                              4424\n",
       "Developer, back-end                                                                                                                                                                                                                                                                3086\n",
       "Developer, back-end;Developer, front-end;Developer, full-stack                                                                                                                                                                                                                     2227\n",
       "Developer, back-end;Developer, full-stack                                                                                                                                                                                                                                          1476\n",
       "Developer, front-end                                                                                                                                                                                                                                                               1401\n",
       "                                                                                                                                                                                                                                                                                   ... \n",
       "Database administrator;Developer, embedded applications or devices;Developer, mobile;Engineer, data                                                                                                                                                                                   1\n",
       "Data scientist or machine learning specialist;Developer, front-end;Developer, full-stack;Developer, game or graphics;Developer, mobile                                                                                                                                                1\n",
       "Designer;Developer, back-end;Developer, desktop or enterprise applications;Developer, front-end;Developer, mobile;Engineering manager;Product manager                                                                                                                                 1\n",
       "Developer, back-end;Developer, embedded applications or devices;DevOps specialist;Engineer, site reliability;Senior executive/VP                                                                                                                                                      1\n",
       "Data or business analyst;Data scientist or machine learning specialist;Database administrator;Developer, back-end;Developer, desktop or enterprise applications;Developer, full-stack;DevOps specialist;Engineer, data;Engineering manager;Product manager;System administrator       1\n",
       "Name: DevType, Length: 8269, dtype: int64"
      ]
     },
     "execution_count": 56,
     "metadata": {},
     "output_type": "execute_result"
    }
   ],
   "source": [
    "test[\"DevType\"].value_counts()"
   ]
  },
  {
   "cell_type": "code",
   "execution_count": 57,
   "metadata": {},
   "outputs": [
    {
     "data": {
      "text/plain": [
       "14702"
      ]
     },
     "execution_count": 57,
     "metadata": {},
     "output_type": "execute_result"
    }
   ],
   "source": [
    "# Number of NaN in DevType col #\n",
    "len(test[test[\"DevType\"].isna()])"
   ]
  },
  {
   "cell_type": "code",
   "execution_count": 58,
   "metadata": {},
   "outputs": [
    {
     "data": {
      "text/plain": [
       "'Developer, desktop or enterprise applications;Developer, full-stack'"
      ]
     },
     "execution_count": 58,
     "metadata": {},
     "output_type": "execute_result"
    }
   ],
   "source": [
    "test[\"DevType\"][0]"
   ]
  },
  {
   "cell_type": "code",
   "execution_count": 59,
   "metadata": {},
   "outputs": [
    {
     "data": {
      "text/plain": [
       "'Developer, full-stack;Developer, mobile'"
      ]
     },
     "execution_count": 59,
     "metadata": {},
     "output_type": "execute_result"
    }
   ],
   "source": [
    "test[\"DevType\"][1]"
   ]
  },
  {
   "cell_type": "code",
   "execution_count": 60,
   "metadata": {},
   "outputs": [
    {
     "data": {
      "text/plain": [
       "0    Developer, desktop or enterprise applications;...\n",
       "1              Developer, full-stack;Developer, mobile\n",
       "2                                                  NaN\n",
       "3                                                  NaN\n",
       "4                                                  NaN\n",
       "5      Designer;Developer, front-end;Developer, mobile\n",
       "6    Developer, back-end;Developer, front-end;Devel...\n",
       "7    Developer, back-end;Developer, desktop or ente...\n",
       "8                                Developer, full-stack\n",
       "9    Database administrator;Developer, full-stack;D...\n",
       "Name: DevType, dtype: object"
      ]
     },
     "execution_count": 60,
     "metadata": {},
     "output_type": "execute_result"
    }
   ],
   "source": [
    "test[\"DevType\"].head(10)"
   ]
  },
  {
   "cell_type": "code",
   "execution_count": 61,
   "metadata": {},
   "outputs": [
    {
     "data": {
      "text/plain": [
       "0    [Developer, desktop or enterprise applications...\n",
       "1           [Developer, full-stack, Developer, mobile]\n",
       "2                                                  NaN\n",
       "3                                                  NaN\n",
       "4                                                  NaN\n",
       "5    [Designer, Developer, front-end, Developer, mo...\n",
       "6    [Developer, back-end, Developer, front-end, De...\n",
       "7    [Developer, back-end, Developer, desktop or en...\n",
       "8                              [Developer, full-stack]\n",
       "9    [Database administrator, Developer, full-stack...\n",
       "Name: DevType, dtype: object"
      ]
     },
     "execution_count": 61,
     "metadata": {},
     "output_type": "execute_result"
    }
   ],
   "source": [
    "test[\"DevType\"].str.split(\";\").head(10)"
   ]
  },
  {
   "cell_type": "code",
   "execution_count": 62,
   "metadata": {},
   "outputs": [
    {
     "data": {
      "text/plain": [
       "['Developer, desktop or enterprise applications', 'Developer, full-stack']"
      ]
     },
     "execution_count": 62,
     "metadata": {},
     "output_type": "execute_result"
    }
   ],
   "source": [
    "test[\"DevType\"].str.split(\";\")[0]"
   ]
  },
  {
   "cell_type": "code",
   "execution_count": 63,
   "metadata": {},
   "outputs": [],
   "source": [
    "# convert strings in DevType col into lists #\n",
    "test[\"DevType\"]= test[\"DevType\"].str.split(\";\")"
   ]
  },
  {
   "cell_type": "code",
   "execution_count": 64,
   "metadata": {},
   "outputs": [
    {
     "data": {
      "text/plain": [
       "0    [Developer, desktop or enterprise applications...\n",
       "1           [Developer, full-stack, Developer, mobile]\n",
       "2                                                  NaN\n",
       "3                                                  NaN\n",
       "4                                                  NaN\n",
       "Name: DevType, dtype: object"
      ]
     },
     "execution_count": 64,
     "metadata": {},
     "output_type": "execute_result"
    }
   ],
   "source": [
    "# for each individuall select the first option as dev type #\n",
    "test[\"DevType\"].head()"
   ]
  },
  {
   "cell_type": "code",
   "execution_count": 65,
   "metadata": {},
   "outputs": [
    {
     "data": {
      "text/plain": [
       "0    Developer, desktop or enterprise applications\n",
       "1                            Developer, full-stack\n",
       "2                                              NaN\n",
       "3                                              NaN\n",
       "4                                              NaN\n",
       "5                                         Designer\n",
       "6                              Developer, back-end\n",
       "7                              Developer, back-end\n",
       "8                            Developer, full-stack\n",
       "9                           Database administrator\n",
       "Name: DevType, dtype: object"
      ]
     },
     "execution_count": 65,
     "metadata": {},
     "output_type": "execute_result"
    }
   ],
   "source": [
    "# grab the first element for each list iterm in the col #\n",
    "test[\"DevType\"].str[0].head(10)"
   ]
  },
  {
   "cell_type": "code",
   "execution_count": 66,
   "metadata": {},
   "outputs": [
    {
     "data": {
      "text/plain": [
       "Developer, back-end                              18142\n",
       "Developer, full-stack                             6100\n",
       "Database administrator                            3687\n",
       "Academic researcher                               3552\n",
       "Data or business analyst                          3370\n",
       "Developer, front-end                              3213\n",
       "Designer                                          2963\n",
       "Developer, desktop or enterprise applications     2108\n",
       "Data scientist or machine learning specialist     1936\n",
       "Developer, mobile                                 1393\n",
       "Developer, embedded applications or devices        820\n",
       "DevOps specialist                                  389\n",
       "Developer, QA or test                              358\n",
       "Engineering manager                                228\n",
       "Engineer, data                                     221\n",
       "Developer, game or graphics                        214\n",
       "System administrator                               160\n",
       "Senior executive/VP                                118\n",
       "Product manager                                     95\n",
       "Scientist                                           86\n",
       "Educator                                            83\n",
       "Engineer, site reliability                          82\n",
       "Marketing or sales professional                     52\n",
       "Name: DevType, dtype: int64"
      ]
     },
     "execution_count": 66,
     "metadata": {},
     "output_type": "execute_result"
    }
   ],
   "source": [
    "test[\"DevType\"].str[0].value_counts()"
   ]
  },
  {
   "cell_type": "code",
   "execution_count": 67,
   "metadata": {},
   "outputs": [],
   "source": [
    "# for each individuall select the first option as dev type #\n",
    "test[\"DevType\"] = test[\"DevType\"].str[0]"
   ]
  },
  {
   "cell_type": "code",
   "execution_count": 68,
   "metadata": {},
   "outputs": [
    {
     "data": {
      "text/plain": [
       "24"
      ]
     },
     "execution_count": 68,
     "metadata": {},
     "output_type": "execute_result"
    }
   ],
   "source": [
    "# number of options to select #\n",
    "len(test[\"DevType\"].unique())"
   ]
  },
  {
   "cell_type": "code",
   "execution_count": 69,
   "metadata": {},
   "outputs": [],
   "source": [
    "# Rename column data by replacing some names #\n",
    "test[\"DevType\"].replace(\"Developer, back-end\",\"back-end\",inplace=True)\n",
    "test[\"DevType\"].replace(\"Developer, full-stack\",\"full-stack\",inplace=True)\n",
    "test[\"DevType\"].replace(\"Database administrator\",\"Database-administrator\",inplace=True)\n",
    "test[\"DevType\"].replace(\"Academic researcher\",\"Academic-researcher\",inplace=True)\n",
    "test[\"DevType\"].replace(\"Data or business analyst\",\"Data-business-analyst\",inplace=True)\n",
    "test[\"DevType\"].replace(\"Developer, front-end\",\"front-end\",inplace=True)\n",
    "test[\"DevType\"].replace(\"Developer, desktop or enterprise applications\",\"desktop-enterprise-applications\",inplace=True)\n",
    "test[\"DevType\"].replace(\"Data scientist or machine learning specialist\",\"Data scientist\",inplace=True)\n",
    "test[\"DevType\"].replace(\"Developer, mobile\",\"mobile\",inplace=True)\n",
    "test[\"DevType\"].replace(\"Developer, embedded applications or devices\",\"embedded-applications-devices\",inplace=True)\n",
    "test[\"DevType\"].replace(\"DevOps specialist\",\"DevOps-specialist\",inplace=True)\n",
    "test[\"DevType\"].replace(\"Developer, QA or test\",\"QA-test\",inplace=True)\n",
    "test[\"DevType\"].replace(\"Engineering manager\",\"Engineering-manager\",inplace=True)\n",
    "test[\"DevType\"].replace(\"Engineer, data\",\"data-Engineer\",inplace=True)\n",
    "test[\"DevType\"].replace(\"Developer, game or graphics\",\"game-Dev\",inplace=True)\n",
    "test[\"DevType\"].replace(\"System administrator\",\"System-administrator\",inplace=True)\n",
    "test[\"DevType\"].replace(\"Senior executive/VP\",\"Senior-executive/VP\",inplace=True)\n",
    "test[\"DevType\"].replace(\"Product manager\",\"Product-manager\",inplace=True)\n",
    "test[\"DevType\"].replace(\"Engineer, site reliability\",\"Engineer-site-reliability\",inplace=True)\n",
    "test[\"DevType\"].replace(\"Marketing or sales professional\",\"Marketing-sales-professional\",inplace=True)\n",
    "test[\"DevType\"].replace(\"Data scientist\",\"Data-scientist\",inplace=True)"
   ]
  },
  {
   "cell_type": "code",
   "execution_count": 70,
   "metadata": {},
   "outputs": [
    {
     "data": {
      "text/plain": [
       "back-end                           18142\n",
       "full-stack                          6100\n",
       "Database-administrator              3687\n",
       "Academic-researcher                 3552\n",
       "Data-business-analyst               3370\n",
       "front-end                           3213\n",
       "Designer                            2963\n",
       "desktop-enterprise-applications     2108\n",
       "Data-scientist                      1936\n",
       "mobile                              1393\n",
       "embedded-applications-devices        820\n",
       "DevOps-specialist                    389\n",
       "QA-test                              358\n",
       "Engineering-manager                  228\n",
       "data-Engineer                        221\n",
       "game-Dev                             214\n",
       "System-administrator                 160\n",
       "Senior-executive/VP                  118\n",
       "Product-manager                       95\n",
       "Scientist                             86\n",
       "Educator                              83\n",
       "Engineer-site-reliability             82\n",
       "Marketing-sales-professional          52\n",
       "Name: DevType, dtype: int64"
      ]
     },
     "execution_count": 70,
     "metadata": {},
     "output_type": "execute_result"
    }
   ],
   "source": [
    "test[\"DevType\"].value_counts()"
   ]
  },
  {
   "cell_type": "code",
   "execution_count": 71,
   "metadata": {},
   "outputs": [
    {
     "data": {
      "text/plain": [
       "14702"
      ]
     },
     "execution_count": 71,
     "metadata": {},
     "output_type": "execute_result"
    }
   ],
   "source": [
    "# check for NaN #\n",
    "len(test[test[\"DevType\"].isna()])"
   ]
  },
  {
   "cell_type": "markdown",
   "metadata": {},
   "source": [
    "Fill NaN values with:\n",
    "    \n",
    "    padding max=2\n",
    "    highest Frequency"
   ]
  },
  {
   "cell_type": "code",
   "execution_count": 72,
   "metadata": {},
   "outputs": [],
   "source": [
    "# Padding dataframe #\n",
    "test[\"DevType\"].interpolate(method=\"pad\",limit=2, inplace=True)"
   ]
  },
  {
   "cell_type": "code",
   "execution_count": 73,
   "metadata": {},
   "outputs": [
    {
     "data": {
      "text/plain": [
       "2046"
      ]
     },
     "execution_count": 73,
     "metadata": {},
     "output_type": "execute_result"
    }
   ],
   "source": [
    "# Check for NaN #\n",
    "len(test[test[\"DevType\"].isna()])"
   ]
  },
  {
   "cell_type": "code",
   "execution_count": 74,
   "metadata": {},
   "outputs": [
    {
     "data": {
      "text/plain": [
       "'back-end'"
      ]
     },
     "execution_count": 74,
     "metadata": {},
     "output_type": "execute_result"
    }
   ],
   "source": [
    "# highest frequency #\n",
    "test[\"DevType\"].mode()[0]"
   ]
  },
  {
   "cell_type": "code",
   "execution_count": 75,
   "metadata": {},
   "outputs": [],
   "source": [
    "# fillna using highest frequency #\n",
    "test[\"DevType\"].fillna(test[\"DevType\"].mode()[0],inplace=True)"
   ]
  },
  {
   "cell_type": "code",
   "execution_count": 76,
   "metadata": {},
   "outputs": [
    {
     "data": {
      "text/plain": [
       "0"
      ]
     },
     "execution_count": 76,
     "metadata": {},
     "output_type": "execute_result"
    }
   ],
   "source": [
    "# Check for NaN #\n",
    "len(test[test[\"DevType\"].isna()])"
   ]
  },
  {
   "cell_type": "code",
   "execution_count": 77,
   "metadata": {},
   "outputs": [
    {
     "data": {
      "text/plain": [
       "back-end                           24840\n",
       "full-stack                          7707\n",
       "Database-administrator              4541\n",
       "Academic-researcher                 4504\n",
       "Data-business-analyst               4234\n",
       "front-end                           4043\n",
       "Designer                            3737\n",
       "desktop-enterprise-applications     2640\n",
       "Data-scientist                      2410\n",
       "mobile                              1753\n",
       "embedded-applications-devices       1020\n",
       "DevOps-specialist                    498\n",
       "QA-test                              447\n",
       "Engineering-manager                  287\n",
       "data-Engineer                        279\n",
       "game-Dev                             266\n",
       "System-administrator                 212\n",
       "Senior-executive/VP                  151\n",
       "Product-manager                      124\n",
       "Educator                             108\n",
       "Engineer-site-reliability            104\n",
       "Scientist                            102\n",
       "Marketing-sales-professional          65\n",
       "Name: DevType, dtype: int64"
      ]
     },
     "execution_count": 77,
     "metadata": {},
     "output_type": "execute_result"
    }
   ],
   "source": [
    "test[\"DevType\"].value_counts()"
   ]
  },
  {
   "cell_type": "markdown",
   "metadata": {},
   "source": [
    "**EdLevel**"
   ]
  },
  {
   "cell_type": "code",
   "execution_count": 78,
   "metadata": {},
   "outputs": [
    {
     "name": "stdout",
     "output_type": "stream",
     "text": [
      "<class 'pandas.core.frame.DataFrame'>\n",
      "Int64Index: 64072 entries, 0 to 64460\n",
      "Data columns (total 9 columns):\n",
      " #   Column         Non-Null Count  Dtype  \n",
      "---  ------         --------------  -----  \n",
      " 0   YearsCode      57684 non-null  float64\n",
      " 1   YearsCodePro   46349 non-null  float64\n",
      " 2   Age            45446 non-null  float64\n",
      " 3   CompTotal      34826 non-null  float64\n",
      " 4   ConvertedComp  34756 non-null  float64\n",
      " 5   Country        64072 non-null  object \n",
      " 6   CurrencyDesc   45472 non-null  object \n",
      " 7   DevType        64072 non-null  object \n",
      " 8   EdLevel        57431 non-null  object \n",
      "dtypes: float64(5), object(4)\n",
      "memory usage: 6.9+ MB\n"
     ]
    }
   ],
   "source": [
    "test.info()"
   ]
  },
  {
   "cell_type": "code",
   "execution_count": 79,
   "metadata": {},
   "outputs": [
    {
     "data": {
      "text/plain": [
       "array(['Master’s degree (M.A., M.S., M.Eng., MBA, etc.)',\n",
       "       'Bachelor’s degree (B.A., B.S., B.Eng., etc.)', nan,\n",
       "       'Secondary school (e.g. American high school, German Realschule or Gymnasium, etc.)',\n",
       "       'Professional degree (JD, MD, etc.)',\n",
       "       'Some college/university study without earning a degree',\n",
       "       'Associate degree (A.A., A.S., etc.)',\n",
       "       'Other doctoral degree (Ph.D., Ed.D., etc.)',\n",
       "       'Primary/elementary school',\n",
       "       'I never completed any formal education'], dtype=object)"
      ]
     },
     "execution_count": 79,
     "metadata": {},
     "output_type": "execute_result"
    }
   ],
   "source": [
    "test[\"EdLevel\"].unique()"
   ]
  },
  {
   "cell_type": "code",
   "execution_count": 80,
   "metadata": {},
   "outputs": [
    {
     "data": {
      "text/plain": [
       "Bachelor’s degree (B.A., B.S., B.Eng., etc.)                                          26542\n",
       "Master’s degree (M.A., M.S., M.Eng., MBA, etc.)                                       13112\n",
       "Some college/university study without earning a degree                                 7239\n",
       "Secondary school (e.g. American high school, German Realschule or Gymnasium, etc.)     4771\n",
       "Associate degree (A.A., A.S., etc.)                                                    1843\n",
       "Other doctoral degree (Ph.D., Ed.D., etc.)                                             1690\n",
       "Primary/elementary school                                                               941\n",
       "Professional degree (JD, MD, etc.)                                                      800\n",
       "I never completed any formal education                                                  493\n",
       "Name: EdLevel, dtype: int64"
      ]
     },
     "execution_count": 80,
     "metadata": {},
     "output_type": "execute_result"
    }
   ],
   "source": [
    "test[\"EdLevel\"].value_counts()"
   ]
  },
  {
   "cell_type": "code",
   "execution_count": 81,
   "metadata": {},
   "outputs": [],
   "source": [
    "# Shorten the data #\n",
    "test[\"EdLevel\"].replace(\"Bachelor’s degree (B.A., B.S., B.Eng., etc.)\",\"Bachelors-degree\",inplace=True)\n",
    "test[\"EdLevel\"].replace(\"Master’s degree (M.A., M.S., M.Eng., MBA, etc.)\",\"Masters-degree\",inplace=True)\n",
    "test[\"EdLevel\"].replace(\"Some college/university study without earning a degree\",\"college/university-no-degree\",inplace=True)\n",
    "test[\"EdLevel\"].replace(\"Secondary school (e.g. American high school, German Realschule or Gymnasium, etc.)\",\"High-school\",inplace=True)\n",
    "test[\"EdLevel\"].replace(\"Associate degree (A.A., A.S., etc.)\",\"Associate-degree\",inplace=True)\n",
    "test[\"EdLevel\"].replace(\"Other doctoral degree (Ph.D., Ed.D., etc.)\",\"doctora-degree\",inplace=True)\n",
    "test[\"EdLevel\"].replace(\"Primary/elementary school\",\"Primary/elementary-school\",inplace=True)\n",
    "test[\"EdLevel\"].replace(\"Professional degree (JD, MD, etc.)\",\"Professional-degree\",inplace=True)\n",
    "test[\"EdLevel\"].replace(\"I never completed any formal education\",\"no-formal-education\",inplace=True)"
   ]
  },
  {
   "cell_type": "code",
   "execution_count": 82,
   "metadata": {},
   "outputs": [
    {
     "data": {
      "text/plain": [
       "Bachelors-degree                26542\n",
       "Masters-degree                  13112\n",
       "college/university-no-degree     7239\n",
       "High-school                      4771\n",
       "Associate-degree                 1843\n",
       "doctora-degree                   1690\n",
       "Primary/elementary-school         941\n",
       "Professional-degree               800\n",
       "no-formal-education               493\n",
       "Name: EdLevel, dtype: int64"
      ]
     },
     "execution_count": 82,
     "metadata": {},
     "output_type": "execute_result"
    }
   ],
   "source": [
    "test[\"EdLevel\"].value_counts()"
   ]
  },
  {
   "cell_type": "markdown",
   "metadata": {},
   "source": [
    "Fill NaN values with:\n",
    "    \n",
    "    padding max=2\n",
    "    highest Frequency"
   ]
  },
  {
   "cell_type": "code",
   "execution_count": 83,
   "metadata": {},
   "outputs": [
    {
     "data": {
      "text/plain": [
       "6641"
      ]
     },
     "execution_count": 83,
     "metadata": {},
     "output_type": "execute_result"
    }
   ],
   "source": [
    "# number of NaN #\n",
    "len(test[test[\"EdLevel\"].isna()])"
   ]
  },
  {
   "cell_type": "code",
   "execution_count": 84,
   "metadata": {},
   "outputs": [],
   "source": [
    "# padding #\n",
    "test[\"EdLevel\"].interpolate(method=\"pad\",limit=2, inplace=True)"
   ]
  },
  {
   "cell_type": "code",
   "execution_count": 85,
   "metadata": {},
   "outputs": [
    {
     "data": {
      "text/plain": [
       "714"
      ]
     },
     "execution_count": 85,
     "metadata": {},
     "output_type": "execute_result"
    }
   ],
   "source": [
    "# number of NaN #\n",
    "len(test[test[\"EdLevel\"].isna()])"
   ]
  },
  {
   "cell_type": "code",
   "execution_count": 86,
   "metadata": {},
   "outputs": [
    {
     "data": {
      "text/plain": [
       "'Bachelors-degree'"
      ]
     },
     "execution_count": 86,
     "metadata": {},
     "output_type": "execute_result"
    }
   ],
   "source": [
    "# Highest frequency #\n",
    "test[\"EdLevel\"].mode()[0]"
   ]
  },
  {
   "cell_type": "code",
   "execution_count": 87,
   "metadata": {},
   "outputs": [],
   "source": [
    "# Fill NaN with Highest Frequency #\n",
    "test[\"EdLevel\"].fillna(test[\"EdLevel\"].mode()[0],inplace=True)"
   ]
  },
  {
   "cell_type": "code",
   "execution_count": 88,
   "metadata": {},
   "outputs": [
    {
     "data": {
      "text/plain": [
       "0"
      ]
     },
     "execution_count": 88,
     "metadata": {},
     "output_type": "execute_result"
    }
   ],
   "source": [
    "# number of NaN #\n",
    "len(test[test[\"EdLevel\"].isna()])"
   ]
  },
  {
   "cell_type": "markdown",
   "metadata": {},
   "source": [
    "## Numerical cols"
   ]
  },
  {
   "cell_type": "code",
   "execution_count": 89,
   "metadata": {},
   "outputs": [
    {
     "name": "stdout",
     "output_type": "stream",
     "text": [
      "<class 'pandas.core.frame.DataFrame'>\n",
      "Int64Index: 64072 entries, 0 to 64460\n",
      "Data columns (total 9 columns):\n",
      " #   Column         Non-Null Count  Dtype  \n",
      "---  ------         --------------  -----  \n",
      " 0   YearsCode      57684 non-null  float64\n",
      " 1   YearsCodePro   46349 non-null  float64\n",
      " 2   Age            45446 non-null  float64\n",
      " 3   CompTotal      34826 non-null  float64\n",
      " 4   ConvertedComp  34756 non-null  float64\n",
      " 5   Country        64072 non-null  object \n",
      " 6   CurrencyDesc   45472 non-null  object \n",
      " 7   DevType        64072 non-null  object \n",
      " 8   EdLevel        64072 non-null  object \n",
      "dtypes: float64(5), object(4)\n",
      "memory usage: 6.9+ MB\n"
     ]
    }
   ],
   "source": [
    "test.info()"
   ]
  },
  {
   "cell_type": "markdown",
   "metadata": {},
   "source": [
    "**CompTotal and ConvertedComp**"
   ]
  },
  {
   "cell_type": "code",
   "execution_count": 90,
   "metadata": {},
   "outputs": [
    {
     "data": {
      "text/html": [
       "<div>\n",
       "<style scoped>\n",
       "    .dataframe tbody tr th:only-of-type {\n",
       "        vertical-align: middle;\n",
       "    }\n",
       "\n",
       "    .dataframe tbody tr th {\n",
       "        vertical-align: top;\n",
       "    }\n",
       "\n",
       "    .dataframe thead th {\n",
       "        text-align: right;\n",
       "    }\n",
       "</style>\n",
       "<table border=\"1\" class=\"dataframe\">\n",
       "  <thead>\n",
       "    <tr style=\"text-align: right;\">\n",
       "      <th></th>\n",
       "      <th>Country</th>\n",
       "      <th>CompTotal</th>\n",
       "      <th>ConvertedComp</th>\n",
       "    </tr>\n",
       "  </thead>\n",
       "  <tbody>\n",
       "    <tr>\n",
       "      <th>278</th>\n",
       "      <td>Canada</td>\n",
       "      <td>1.700000e+04</td>\n",
       "      <td>NaN</td>\n",
       "    </tr>\n",
       "    <tr>\n",
       "      <th>478</th>\n",
       "      <td>Canada</td>\n",
       "      <td>0.000000e+00</td>\n",
       "      <td>NaN</td>\n",
       "    </tr>\n",
       "    <tr>\n",
       "      <th>792</th>\n",
       "      <td>United States</td>\n",
       "      <td>2.500000e+05</td>\n",
       "      <td>NaN</td>\n",
       "    </tr>\n",
       "    <tr>\n",
       "      <th>1519</th>\n",
       "      <td>Canada</td>\n",
       "      <td>9.500000e+04</td>\n",
       "      <td>NaN</td>\n",
       "    </tr>\n",
       "    <tr>\n",
       "      <th>1657</th>\n",
       "      <td>United States</td>\n",
       "      <td>6.800000e+04</td>\n",
       "      <td>NaN</td>\n",
       "    </tr>\n",
       "    <tr>\n",
       "      <th>1711</th>\n",
       "      <td>Spain</td>\n",
       "      <td>5.000000e+04</td>\n",
       "      <td>NaN</td>\n",
       "    </tr>\n",
       "    <tr>\n",
       "      <th>2488</th>\n",
       "      <td>United States</td>\n",
       "      <td>1.000000e+15</td>\n",
       "      <td>NaN</td>\n",
       "    </tr>\n",
       "    <tr>\n",
       "      <th>3088</th>\n",
       "      <td>United States</td>\n",
       "      <td>1.560000e+05</td>\n",
       "      <td>NaN</td>\n",
       "    </tr>\n",
       "    <tr>\n",
       "      <th>3396</th>\n",
       "      <td>United States</td>\n",
       "      <td>1.000030e+05</td>\n",
       "      <td>NaN</td>\n",
       "    </tr>\n",
       "    <tr>\n",
       "      <th>4490</th>\n",
       "      <td>United States</td>\n",
       "      <td>1.800000e+05</td>\n",
       "      <td>NaN</td>\n",
       "    </tr>\n",
       "  </tbody>\n",
       "</table>\n",
       "</div>"
      ],
      "text/plain": [
       "            Country     CompTotal  ConvertedComp\n",
       "278          Canada  1.700000e+04            NaN\n",
       "478          Canada  0.000000e+00            NaN\n",
       "792   United States  2.500000e+05            NaN\n",
       "1519         Canada  9.500000e+04            NaN\n",
       "1657  United States  6.800000e+04            NaN\n",
       "1711          Spain  5.000000e+04            NaN\n",
       "2488  United States  1.000000e+15            NaN\n",
       "3088  United States  1.560000e+05            NaN\n",
       "3396  United States  1.000030e+05            NaN\n",
       "4490  United States  1.800000e+05            NaN"
      ]
     },
     "execution_count": 90,
     "metadata": {},
     "output_type": "execute_result"
    }
   ],
   "source": [
    "# Show Salary when ConvertedComp = NaN #\n",
    "test.loc[(test[\"ConvertedComp\"].isna()) & (test[\"CompTotal\"].notna()),[\"Country\",\"CompTotal\",\"ConvertedComp\"]].head(10)"
   ]
  },
  {
   "cell_type": "code",
   "execution_count": 91,
   "metadata": {},
   "outputs": [
    {
     "data": {
      "text/plain": [
       "70"
      ]
     },
     "execution_count": 91,
     "metadata": {},
     "output_type": "execute_result"
    }
   ],
   "source": [
    "# number of salaries we need to convert #\n",
    "len(test.loc[(test[\"ConvertedComp\"].isna()) & (test[\"CompTotal\"].notna()),[\"Country\",\"CompTotal\",\"ConvertedComp\"]])"
   ]
  },
  {
   "cell_type": "code",
   "execution_count": 92,
   "metadata": {},
   "outputs": [
    {
     "data": {
      "text/plain": [
       "dtype('float64')"
      ]
     },
     "execution_count": 92,
     "metadata": {},
     "output_type": "execute_result"
    }
   ],
   "source": [
    "test[\"CompTotal\"].dtype"
   ]
  },
  {
   "cell_type": "code",
   "execution_count": 93,
   "metadata": {},
   "outputs": [
    {
     "data": {
      "text/plain": [
       "array(['Canada', 'United States', 'Spain', 'Australia', 'India', 'Angola',\n",
       "       'United Kingdom', 'Indonesia', 'South Africa', 'Belarus',\n",
       "       'Ireland', 'Germany', 'Nigeria', 'Russian Federation', 'France',\n",
       "       'Denmark', 'Norway', 'Czech Republic', 'Uruguay', 'Netherlands',\n",
       "       'Pakistan', 'Belgium', 'Singapore', 'Austria', 'Ukraine'],\n",
       "      dtype=object)"
      ]
     },
     "execution_count": 93,
     "metadata": {},
     "output_type": "execute_result"
    }
   ],
   "source": [
    "# list contries we have to convert salary #\n",
    "test.loc[(test[\"ConvertedComp\"].isna()) & (test[\"CompTotal\"].notna()),\"Country\"].unique()"
   ]
  },
  {
   "cell_type": "code",
   "execution_count": 94,
   "metadata": {},
   "outputs": [
    {
     "data": {
      "text/html": [
       "<div>\n",
       "<style scoped>\n",
       "    .dataframe tbody tr th:only-of-type {\n",
       "        vertical-align: middle;\n",
       "    }\n",
       "\n",
       "    .dataframe tbody tr th {\n",
       "        vertical-align: top;\n",
       "    }\n",
       "\n",
       "    .dataframe thead th {\n",
       "        text-align: right;\n",
       "    }\n",
       "</style>\n",
       "<table border=\"1\" class=\"dataframe\">\n",
       "  <thead>\n",
       "    <tr style=\"text-align: right;\">\n",
       "      <th></th>\n",
       "      <th>Country</th>\n",
       "      <th>CurrencyDesc</th>\n",
       "    </tr>\n",
       "  </thead>\n",
       "  <tbody>\n",
       "    <tr>\n",
       "      <th>278</th>\n",
       "      <td>Canada</td>\n",
       "      <td>Canadian dollar</td>\n",
       "    </tr>\n",
       "    <tr>\n",
       "      <th>478</th>\n",
       "      <td>Canada</td>\n",
       "      <td>Canadian dollar</td>\n",
       "    </tr>\n",
       "    <tr>\n",
       "      <th>792</th>\n",
       "      <td>United States</td>\n",
       "      <td>United States dollar</td>\n",
       "    </tr>\n",
       "    <tr>\n",
       "      <th>1519</th>\n",
       "      <td>Canada</td>\n",
       "      <td>Canadian dollar</td>\n",
       "    </tr>\n",
       "    <tr>\n",
       "      <th>1657</th>\n",
       "      <td>United States</td>\n",
       "      <td>United States dollar</td>\n",
       "    </tr>\n",
       "    <tr>\n",
       "      <th>...</th>\n",
       "      <td>...</td>\n",
       "      <td>...</td>\n",
       "    </tr>\n",
       "    <tr>\n",
       "      <th>59191</th>\n",
       "      <td>Canada</td>\n",
       "      <td>Canadian dollar</td>\n",
       "    </tr>\n",
       "    <tr>\n",
       "      <th>60671</th>\n",
       "      <td>United States</td>\n",
       "      <td>United States dollar</td>\n",
       "    </tr>\n",
       "    <tr>\n",
       "      <th>60951</th>\n",
       "      <td>Ukraine</td>\n",
       "      <td>United States dollar</td>\n",
       "    </tr>\n",
       "    <tr>\n",
       "      <th>61034</th>\n",
       "      <td>India</td>\n",
       "      <td>Indian rupee</td>\n",
       "    </tr>\n",
       "    <tr>\n",
       "      <th>62290</th>\n",
       "      <td>India</td>\n",
       "      <td>Indian rupee</td>\n",
       "    </tr>\n",
       "  </tbody>\n",
       "</table>\n",
       "<p>70 rows × 2 columns</p>\n",
       "</div>"
      ],
      "text/plain": [
       "             Country          CurrencyDesc\n",
       "278           Canada       Canadian dollar\n",
       "478           Canada       Canadian dollar\n",
       "792    United States  United States dollar\n",
       "1519          Canada       Canadian dollar\n",
       "1657   United States  United States dollar\n",
       "...              ...                   ...\n",
       "59191         Canada       Canadian dollar\n",
       "60671  United States  United States dollar\n",
       "60951        Ukraine  United States dollar\n",
       "61034          India          Indian rupee\n",
       "62290          India          Indian rupee\n",
       "\n",
       "[70 rows x 2 columns]"
      ]
     },
     "execution_count": 94,
     "metadata": {},
     "output_type": "execute_result"
    }
   ],
   "source": [
    "test.loc[(test[\"ConvertedComp\"].isna()) & (test[\"CompTotal\"].notna()),[\"Country\",\"CurrencyDesc\"]]   "
   ]
  },
  {
   "cell_type": "code",
   "execution_count": null,
   "metadata": {
    "scrolled": true
   },
   "outputs": [],
   "source": []
  },
  {
   "cell_type": "code",
   "execution_count": 95,
   "metadata": {},
   "outputs": [
    {
     "data": {
      "text/plain": [
       "0.10925209139717817"
      ]
     },
     "execution_count": 95,
     "metadata": {},
     "output_type": "execute_result"
    }
   ],
   "source": [
    "# the number of entries to convert represented as a percentage of the whole dataframe #\n",
    "(70/64072)*100"
   ]
  },
  {
   "cell_type": "code",
   "execution_count": 96,
   "metadata": {},
   "outputs": [],
   "source": [
    "# drop all rows from the dataframe where ConvertedComp == NaN #\n",
    "test.dropna(subset=[\"ConvertedComp\"], inplace=True)"
   ]
  },
  {
   "cell_type": "code",
   "execution_count": 97,
   "metadata": {},
   "outputs": [
    {
     "name": "stdout",
     "output_type": "stream",
     "text": [
      "<class 'pandas.core.frame.DataFrame'>\n",
      "Int64Index: 34756 entries, 7 to 64154\n",
      "Data columns (total 9 columns):\n",
      " #   Column         Non-Null Count  Dtype  \n",
      "---  ------         --------------  -----  \n",
      " 0   YearsCode      34630 non-null  float64\n",
      " 1   YearsCodePro   34621 non-null  float64\n",
      " 2   Age            30596 non-null  float64\n",
      " 3   CompTotal      34756 non-null  float64\n",
      " 4   ConvertedComp  34756 non-null  float64\n",
      " 5   Country        34756 non-null  object \n",
      " 6   CurrencyDesc   34756 non-null  object \n",
      " 7   DevType        34756 non-null  object \n",
      " 8   EdLevel        34756 non-null  object \n",
      "dtypes: float64(5), object(4)\n",
      "memory usage: 2.7+ MB\n"
     ]
    }
   ],
   "source": [
    "test.info()"
   ]
  },
  {
   "cell_type": "markdown",
   "metadata": {},
   "source": [
    "**YearCode col**\n",
    "\n",
    "    Pad max = 2\n",
    "    use mean/mode depending on circumstance"
   ]
  },
  {
   "cell_type": "code",
   "execution_count": 98,
   "metadata": {},
   "outputs": [
    {
     "data": {
      "text/plain": [
       "126"
      ]
     },
     "execution_count": 98,
     "metadata": {},
     "output_type": "execute_result"
    }
   ],
   "source": [
    "len(test[\"YearsCode\"][test[\"YearsCode\"].isna()])"
   ]
  },
  {
   "cell_type": "code",
   "execution_count": 99,
   "metadata": {},
   "outputs": [],
   "source": [
    "# Padding #\n",
    "test[\"YearsCode\"].interpolate(method=\"pad\",limit=2,inplace=True)"
   ]
  },
  {
   "cell_type": "code",
   "execution_count": 100,
   "metadata": {},
   "outputs": [
    {
     "data": {
      "text/plain": [
       "0"
      ]
     },
     "execution_count": 100,
     "metadata": {},
     "output_type": "execute_result"
    }
   ],
   "source": [
    "len(test[\"YearsCode\"][test[\"YearsCode\"].isna()])"
   ]
  },
  {
   "cell_type": "code",
   "execution_count": 101,
   "metadata": {},
   "outputs": [
    {
     "data": {
      "text/plain": [
       "array([17.,  8., 10.,  7., 35.,  5., 37., 19.,  9., 30.,  4., 20., 25.,\n",
       "       16., 36.,  6., 43., 23., 11., 38., 33., 24., 21., 13.,  2.,  3.,\n",
       "       40., 15., 27., 12., 46., 14., 22., 18., 28., 32., 44., 26., 42.,\n",
       "       34., 31., 29.,  1., 41., 51., 47., 39.,  0., 45., 50., 48., 49.])"
      ]
     },
     "execution_count": 101,
     "metadata": {},
     "output_type": "execute_result"
    }
   ],
   "source": [
    "# No NaN #\n",
    "test[\"YearsCode\"].unique()"
   ]
  },
  {
   "cell_type": "markdown",
   "metadata": {},
   "source": [
    "**YearsCodePro Col**\n",
    "\n",
    "    Pad max = 2\n",
    "    use mean/mode depending on circumstance"
   ]
  },
  {
   "cell_type": "code",
   "execution_count": 102,
   "metadata": {},
   "outputs": [
    {
     "data": {
      "text/plain": [
       "135"
      ]
     },
     "execution_count": 102,
     "metadata": {},
     "output_type": "execute_result"
    }
   ],
   "source": [
    "len(test[\"YearsCodePro\"][test[\"YearsCodePro\"].isna()])"
   ]
  },
  {
   "cell_type": "code",
   "execution_count": 103,
   "metadata": {},
   "outputs": [],
   "source": [
    "# Padding #\n",
    "test[\"YearsCodePro\"].interpolate(method=\"pad\",limit=2, inplace=True)"
   ]
  },
  {
   "cell_type": "code",
   "execution_count": 104,
   "metadata": {},
   "outputs": [
    {
     "data": {
      "text/plain": [
       "0"
      ]
     },
     "execution_count": 104,
     "metadata": {},
     "output_type": "execute_result"
    }
   ],
   "source": [
    "len(test[\"YearsCodePro\"][test[\"YearsCodePro\"].isna()])"
   ]
  },
  {
   "cell_type": "code",
   "execution_count": 105,
   "metadata": {},
   "outputs": [
    {
     "data": {
      "text/plain": [
       "array([13.,  4.,  2.,  7., 20.,  1., 23.,  3., 12., 10., 14., 29.,  6.,\n",
       "       28.,  8., 15., 11., 25.,  0.,  5.,  9., 21., 16., 19., 35., 18.,\n",
       "       24., 32., 22., 30., 38., 26., 17., 27., 40., 33., 34., 36., 39.,\n",
       "       37., 31., 41., 45., 47., 50., 42., 43., 44., 48., 46., 49.])"
      ]
     },
     "execution_count": 105,
     "metadata": {},
     "output_type": "execute_result"
    }
   ],
   "source": [
    "# No NaN #\n",
    "test[\"YearsCodePro\"].unique()"
   ]
  },
  {
   "cell_type": "markdown",
   "metadata": {},
   "source": [
    "**Age col**\n",
    "\n",
    "    Pad max = 2\n",
    "    use mean/mode depending on circumstance"
   ]
  },
  {
   "cell_type": "code",
   "execution_count": 106,
   "metadata": {
    "scrolled": true
   },
   "outputs": [
    {
     "name": "stdout",
     "output_type": "stream",
     "text": [
      "<class 'pandas.core.frame.DataFrame'>\n",
      "Int64Index: 34756 entries, 7 to 64154\n",
      "Data columns (total 9 columns):\n",
      " #   Column         Non-Null Count  Dtype  \n",
      "---  ------         --------------  -----  \n",
      " 0   YearsCode      34756 non-null  float64\n",
      " 1   YearsCodePro   34756 non-null  float64\n",
      " 2   Age            30596 non-null  float64\n",
      " 3   CompTotal      34756 non-null  float64\n",
      " 4   ConvertedComp  34756 non-null  float64\n",
      " 5   Country        34756 non-null  object \n",
      " 6   CurrencyDesc   34756 non-null  object \n",
      " 7   DevType        34756 non-null  object \n",
      " 8   EdLevel        34756 non-null  object \n",
      "dtypes: float64(5), object(4)\n",
      "memory usage: 2.7+ MB\n"
     ]
    }
   ],
   "source": [
    "test.info()"
   ]
  },
  {
   "cell_type": "code",
   "execution_count": 107,
   "metadata": {},
   "outputs": [
    {
     "data": {
      "text/plain": [
       "4160"
      ]
     },
     "execution_count": 107,
     "metadata": {},
     "output_type": "execute_result"
    }
   ],
   "source": [
    "len(test[test[\"Age\"].isna()])"
   ]
  },
  {
   "cell_type": "code",
   "execution_count": 108,
   "metadata": {},
   "outputs": [
    {
     "data": {
      "text/plain": [
       "array([ 36. ,  22. ,  23. ,  49. ,  53. ,  27. ,  45. ,  25. ,  32. ,\n",
       "        24. ,   nan,  31. ,  39. ,  34. ,  35. ,  38. ,  28. ,  44. ,\n",
       "        48. ,  20. ,  26. ,  42. ,  21. ,  29. ,  30. ,  41. ,  37. ,\n",
       "        63. ,  33. ,  43. ,  40. ,  51. ,  57. ,  60. ,  50. ,  59. ,\n",
       "        62. ,  52. ,  46. ,  49.5,  56. ,  47. ,  19. ,  54. ,  70. ,\n",
       "        55. ,  61. ,  18. ,  26.8,  64. ,  58. ,  65. ,  84. ,  73. ,\n",
       "        17. ,  99. ,  68. ,  74. ,  69. ,  16. ,  85. ,  32.5,  66. ,\n",
       "        23.8,  72. ,  67. ,  96. ,  79. , 279. ,  22.5,  27.5,  15. ,\n",
       "        89. ,   1. ,  98. ,  10. ,  13. ,  78. ,  31.5,  39.5,  71. ,\n",
       "        81. ,  83. ,  12. ,  75. ])"
      ]
     },
     "execution_count": 108,
     "metadata": {},
     "output_type": "execute_result"
    }
   ],
   "source": [
    "test[\"Age\"].unique()"
   ]
  },
  {
   "cell_type": "code",
   "execution_count": 109,
   "metadata": {},
   "outputs": [],
   "source": [
    "# Padding #\n",
    "test[\"Age\"].interpolate(method=\"pad\",limit=2,inplace=True)"
   ]
  },
  {
   "cell_type": "code",
   "execution_count": 110,
   "metadata": {},
   "outputs": [
    {
     "data": {
      "text/plain": [
       "685"
      ]
     },
     "execution_count": 110,
     "metadata": {},
     "output_type": "execute_result"
    }
   ],
   "source": [
    "len(test[test[\"Age\"].isna()])"
   ]
  },
  {
   "cell_type": "code",
   "execution_count": 111,
   "metadata": {},
   "outputs": [
    {
     "data": {
      "text/plain": [
       "32.15334448651346"
      ]
     },
     "execution_count": 111,
     "metadata": {},
     "output_type": "execute_result"
    }
   ],
   "source": [
    "# mean #\n",
    "test[\"Age\"].mean()"
   ]
  },
  {
   "cell_type": "code",
   "execution_count": 112,
   "metadata": {},
   "outputs": [
    {
     "data": {
      "text/plain": [
       "30.0"
      ]
     },
     "execution_count": 112,
     "metadata": {},
     "output_type": "execute_result"
    }
   ],
   "source": [
    "# mode #\n",
    "test[\"Age\"].mode()[0]"
   ]
  },
  {
   "cell_type": "markdown",
   "metadata": {},
   "source": [
    "We want ages to be whole numbers so we will use the mode not the mean"
   ]
  },
  {
   "cell_type": "code",
   "execution_count": 113,
   "metadata": {},
   "outputs": [],
   "source": [
    "test[\"Age\"].fillna(test[\"Age\"].mode()[0], inplace=True)"
   ]
  },
  {
   "cell_type": "code",
   "execution_count": 114,
   "metadata": {},
   "outputs": [
    {
     "data": {
      "text/plain": [
       "0"
      ]
     },
     "execution_count": 114,
     "metadata": {},
     "output_type": "execute_result"
    }
   ],
   "source": [
    "len(test[test[\"Age\"].isna()])"
   ]
  },
  {
   "cell_type": "code",
   "execution_count": 115,
   "metadata": {},
   "outputs": [
    {
     "data": {
      "text/plain": [
       "array([ 36. ,  22. ,  23. ,  49. ,  53. ,  27. ,  45. ,  25. ,  32. ,\n",
       "        24. ,  31. ,  39. ,  34. ,  35. ,  38. ,  28. ,  44. ,  48. ,\n",
       "        20. ,  26. ,  42. ,  21. ,  29. ,  30. ,  41. ,  37. ,  63. ,\n",
       "        33. ,  43. ,  40. ,  51. ,  57. ,  60. ,  50. ,  59. ,  62. ,\n",
       "        52. ,  46. ,  49.5,  56. ,  47. ,  19. ,  54. ,  70. ,  55. ,\n",
       "        61. ,  18. ,  26.8,  64. ,  58. ,  65. ,  84. ,  73. ,  17. ,\n",
       "        99. ,  68. ,  74. ,  69. ,  16. ,  85. ,  32.5,  66. ,  23.8,\n",
       "        72. ,  67. ,  96. ,  79. , 279. ,  22.5,  27.5,  15. ,  89. ,\n",
       "         1. ,  98. ,  10. ,  13. ,  78. ,  31.5,  39.5,  71. ,  81. ,\n",
       "        83. ,  12. ,  75. ])"
      ]
     },
     "execution_count": 115,
     "metadata": {},
     "output_type": "execute_result"
    }
   ],
   "source": [
    "test[\"Age\"].unique()"
   ]
  },
  {
   "cell_type": "code",
   "execution_count": 116,
   "metadata": {},
   "outputs": [],
   "source": [
    "# make the ages whole numbers #\n",
    "test[\"Age\"].replace(49.5, 50, inplace=True)\n",
    "test[\"Age\"].replace(26.8, 27, inplace=True)\n",
    "test[\"Age\"].replace(32.5, 33, inplace=True)\n",
    "test[\"Age\"].replace(23.8, 24, inplace=True)\n",
    "test[\"Age\"].replace(22.5, 23, inplace=True)\n",
    "test[\"Age\"].replace(27.5, 28, inplace=True)\n",
    "test[\"Age\"].replace(31.5, 32, inplace=True)\n",
    "test[\"Age\"].replace(39.5, 40, inplace=True)"
   ]
  },
  {
   "cell_type": "code",
   "execution_count": 117,
   "metadata": {},
   "outputs": [
    {
     "data": {
      "text/plain": [
       "array([ 36.,  22.,  23.,  49.,  53.,  27.,  45.,  25.,  32.,  24.,  31.,\n",
       "        39.,  34.,  35.,  38.,  28.,  44.,  48.,  20.,  26.,  42.,  21.,\n",
       "        29.,  30.,  41.,  37.,  63.,  33.,  43.,  40.,  51.,  57.,  60.,\n",
       "        50.,  59.,  62.,  52.,  46.,  56.,  47.,  19.,  54.,  70.,  55.,\n",
       "        61.,  18.,  64.,  58.,  65.,  84.,  73.,  17.,  99.,  68.,  74.,\n",
       "        69.,  16.,  85.,  66.,  72.,  67.,  96.,  79., 279.,  15.,  89.,\n",
       "         1.,  98.,  10.,  13.,  78.,  71.,  81.,  83.,  12.,  75.])"
      ]
     },
     "execution_count": 117,
     "metadata": {},
     "output_type": "execute_result"
    }
   ],
   "source": [
    "test[\"Age\"].unique()"
   ]
  },
  {
   "cell_type": "code",
   "execution_count": 118,
   "metadata": {},
   "outputs": [],
   "source": [
    "# Ages incorrect i.e. = [1,279] # "
   ]
  },
  {
   "cell_type": "code",
   "execution_count": 119,
   "metadata": {},
   "outputs": [
    {
     "data": {
      "text/html": [
       "<div>\n",
       "<style scoped>\n",
       "    .dataframe tbody tr th:only-of-type {\n",
       "        vertical-align: middle;\n",
       "    }\n",
       "\n",
       "    .dataframe tbody tr th {\n",
       "        vertical-align: top;\n",
       "    }\n",
       "\n",
       "    .dataframe thead th {\n",
       "        text-align: right;\n",
       "    }\n",
       "</style>\n",
       "<table border=\"1\" class=\"dataframe\">\n",
       "  <thead>\n",
       "    <tr style=\"text-align: right;\">\n",
       "      <th></th>\n",
       "      <th>YearsCode</th>\n",
       "      <th>YearsCodePro</th>\n",
       "      <th>Age</th>\n",
       "      <th>CompTotal</th>\n",
       "      <th>ConvertedComp</th>\n",
       "      <th>Country</th>\n",
       "      <th>CurrencyDesc</th>\n",
       "      <th>DevType</th>\n",
       "      <th>EdLevel</th>\n",
       "    </tr>\n",
       "  </thead>\n",
       "  <tbody>\n",
       "    <tr>\n",
       "      <th>20042</th>\n",
       "      <td>5.0</td>\n",
       "      <td>1.0</td>\n",
       "      <td>1.0</td>\n",
       "      <td>1.000000e+11</td>\n",
       "      <td>1000000.0</td>\n",
       "      <td>Indonesia</td>\n",
       "      <td>Indonesian rupiah</td>\n",
       "      <td>Data-business-analyst</td>\n",
       "      <td>Bachelors-degree</td>\n",
       "    </tr>\n",
       "    <tr>\n",
       "      <th>25061</th>\n",
       "      <td>14.0</td>\n",
       "      <td>7.0</td>\n",
       "      <td>1.0</td>\n",
       "      <td>7.000000e+04</td>\n",
       "      <td>75669.0</td>\n",
       "      <td>Netherlands</td>\n",
       "      <td>European Euro</td>\n",
       "      <td>full-stack</td>\n",
       "      <td>Bachelors-degree</td>\n",
       "    </tr>\n",
       "    <tr>\n",
       "      <th>54687</th>\n",
       "      <td>0.0</td>\n",
       "      <td>0.0</td>\n",
       "      <td>1.0</td>\n",
       "      <td>4.000000e+00</td>\n",
       "      <td>48.0</td>\n",
       "      <td>United States</td>\n",
       "      <td>United States dollar</td>\n",
       "      <td>Academic-researcher</td>\n",
       "      <td>no-formal-education</td>\n",
       "    </tr>\n",
       "    <tr>\n",
       "      <th>58292</th>\n",
       "      <td>3.0</td>\n",
       "      <td>2.0</td>\n",
       "      <td>1.0</td>\n",
       "      <td>6.000000e+06</td>\n",
       "      <td>5268.0</td>\n",
       "      <td>Indonesia</td>\n",
       "      <td>Indonesian rupiah</td>\n",
       "      <td>back-end</td>\n",
       "      <td>no-formal-education</td>\n",
       "    </tr>\n",
       "  </tbody>\n",
       "</table>\n",
       "</div>"
      ],
      "text/plain": [
       "       YearsCode  YearsCodePro  Age     CompTotal  ConvertedComp  \\\n",
       "20042        5.0           1.0  1.0  1.000000e+11      1000000.0   \n",
       "25061       14.0           7.0  1.0  7.000000e+04        75669.0   \n",
       "54687        0.0           0.0  1.0  4.000000e+00           48.0   \n",
       "58292        3.0           2.0  1.0  6.000000e+06         5268.0   \n",
       "\n",
       "             Country          CurrencyDesc                DevType  \\\n",
       "20042      Indonesia     Indonesian rupiah  Data-business-analyst   \n",
       "25061    Netherlands         European Euro             full-stack   \n",
       "54687  United States  United States dollar    Academic-researcher   \n",
       "58292      Indonesia     Indonesian rupiah               back-end   \n",
       "\n",
       "                   EdLevel  \n",
       "20042     Bachelors-degree  \n",
       "25061     Bachelors-degree  \n",
       "54687  no-formal-education  \n",
       "58292  no-formal-education  "
      ]
     },
     "execution_count": 119,
     "metadata": {},
     "output_type": "execute_result"
    }
   ],
   "source": [
    "test.loc[test[\"Age\"] == 1]"
   ]
  },
  {
   "cell_type": "code",
   "execution_count": 120,
   "metadata": {},
   "outputs": [
    {
     "data": {
      "text/plain": [
       "30.0"
      ]
     },
     "execution_count": 120,
     "metadata": {},
     "output_type": "execute_result"
    }
   ],
   "source": [
    "test[\"Age\"].mode()[0]"
   ]
  },
  {
   "cell_type": "code",
   "execution_count": 121,
   "metadata": {},
   "outputs": [],
   "source": [
    "test[\"Age\"].replace(1,30,inplace=True)"
   ]
  },
  {
   "cell_type": "code",
   "execution_count": 122,
   "metadata": {},
   "outputs": [
    {
     "data": {
      "text/html": [
       "<div>\n",
       "<style scoped>\n",
       "    .dataframe tbody tr th:only-of-type {\n",
       "        vertical-align: middle;\n",
       "    }\n",
       "\n",
       "    .dataframe tbody tr th {\n",
       "        vertical-align: top;\n",
       "    }\n",
       "\n",
       "    .dataframe thead th {\n",
       "        text-align: right;\n",
       "    }\n",
       "</style>\n",
       "<table border=\"1\" class=\"dataframe\">\n",
       "  <thead>\n",
       "    <tr style=\"text-align: right;\">\n",
       "      <th></th>\n",
       "      <th>YearsCode</th>\n",
       "      <th>YearsCodePro</th>\n",
       "      <th>Age</th>\n",
       "      <th>CompTotal</th>\n",
       "      <th>ConvertedComp</th>\n",
       "      <th>Country</th>\n",
       "      <th>CurrencyDesc</th>\n",
       "      <th>DevType</th>\n",
       "      <th>EdLevel</th>\n",
       "    </tr>\n",
       "  </thead>\n",
       "  <tbody>\n",
       "    <tr>\n",
       "      <th>14375</th>\n",
       "      <td>7.0</td>\n",
       "      <td>3.0</td>\n",
       "      <td>279.0</td>\n",
       "      <td>49000.0</td>\n",
       "      <td>52968.0</td>\n",
       "      <td>Netherlands</td>\n",
       "      <td>European Euro</td>\n",
       "      <td>mobile</td>\n",
       "      <td>Bachelors-degree</td>\n",
       "    </tr>\n",
       "  </tbody>\n",
       "</table>\n",
       "</div>"
      ],
      "text/plain": [
       "       YearsCode  YearsCodePro    Age  CompTotal  ConvertedComp      Country  \\\n",
       "14375        7.0           3.0  279.0    49000.0        52968.0  Netherlands   \n",
       "\n",
       "        CurrencyDesc DevType           EdLevel  \n",
       "14375  European Euro  mobile  Bachelors-degree  "
      ]
     },
     "execution_count": 122,
     "metadata": {},
     "output_type": "execute_result"
    }
   ],
   "source": [
    "test.loc[test[\"Age\"] == 279]"
   ]
  },
  {
   "cell_type": "markdown",
   "metadata": {},
   "source": [
    "safe to assume age is either 27 or 29 ==> we use 28 "
   ]
  },
  {
   "cell_type": "code",
   "execution_count": 123,
   "metadata": {},
   "outputs": [],
   "source": [
    "test[\"Age\"].replace(279,28,inplace=True)"
   ]
  },
  {
   "cell_type": "code",
   "execution_count": 124,
   "metadata": {},
   "outputs": [
    {
     "data": {
      "text/plain": [
       "array([36., 22., 23., 49., 53., 27., 45., 25., 32., 24., 31., 39., 34.,\n",
       "       35., 38., 28., 44., 48., 20., 26., 42., 21., 29., 30., 41., 37.,\n",
       "       63., 33., 43., 40., 51., 57., 60., 50., 59., 62., 52., 46., 56.,\n",
       "       47., 19., 54., 70., 55., 61., 18., 64., 58., 65., 84., 73., 17.,\n",
       "       99., 68., 74., 69., 16., 85., 66., 72., 67., 96., 79., 15., 89.,\n",
       "       98., 10., 13., 78., 71., 81., 83., 12., 75.])"
      ]
     },
     "execution_count": 124,
     "metadata": {},
     "output_type": "execute_result"
    }
   ],
   "source": [
    "test[\"Age\"].unique()"
   ]
  },
  {
   "cell_type": "code",
   "execution_count": 125,
   "metadata": {},
   "outputs": [
    {
     "name": "stdout",
     "output_type": "stream",
     "text": [
      "<class 'pandas.core.frame.DataFrame'>\n",
      "Int64Index: 34756 entries, 7 to 64154\n",
      "Data columns (total 9 columns):\n",
      " #   Column         Non-Null Count  Dtype  \n",
      "---  ------         --------------  -----  \n",
      " 0   YearsCode      34756 non-null  float64\n",
      " 1   YearsCodePro   34756 non-null  float64\n",
      " 2   Age            34756 non-null  float64\n",
      " 3   CompTotal      34756 non-null  float64\n",
      " 4   ConvertedComp  34756 non-null  float64\n",
      " 5   Country        34756 non-null  object \n",
      " 6   CurrencyDesc   34756 non-null  object \n",
      " 7   DevType        34756 non-null  object \n",
      " 8   EdLevel        34756 non-null  object \n",
      "dtypes: float64(5), object(4)\n",
      "memory usage: 2.7+ MB\n"
     ]
    }
   ],
   "source": [
    "test.info()"
   ]
  },
  {
   "cell_type": "markdown",
   "metadata": {},
   "source": [
    "**Drop unwanted cols**\n",
    "1. YearsCode\n",
    "2. CompTotal\n",
    "3. CurrencyDesc"
   ]
  },
  {
   "cell_type": "code",
   "execution_count": 126,
   "metadata": {},
   "outputs": [],
   "source": [
    "test.drop(labels=[\"YearsCode\", \"CompTotal\", \"CurrencyDesc\"], axis=1, inplace=True)"
   ]
  },
  {
   "cell_type": "code",
   "execution_count": 127,
   "metadata": {},
   "outputs": [
    {
     "data": {
      "text/html": [
       "<div>\n",
       "<style scoped>\n",
       "    .dataframe tbody tr th:only-of-type {\n",
       "        vertical-align: middle;\n",
       "    }\n",
       "\n",
       "    .dataframe tbody tr th {\n",
       "        vertical-align: top;\n",
       "    }\n",
       "\n",
       "    .dataframe thead th {\n",
       "        text-align: right;\n",
       "    }\n",
       "</style>\n",
       "<table border=\"1\" class=\"dataframe\">\n",
       "  <thead>\n",
       "    <tr style=\"text-align: right;\">\n",
       "      <th></th>\n",
       "      <th>YearsCodePro</th>\n",
       "      <th>Age</th>\n",
       "      <th>ConvertedComp</th>\n",
       "      <th>Country</th>\n",
       "      <th>DevType</th>\n",
       "      <th>EdLevel</th>\n",
       "    </tr>\n",
       "  </thead>\n",
       "  <tbody>\n",
       "    <tr>\n",
       "      <th>7</th>\n",
       "      <td>13.0</td>\n",
       "      <td>36.0</td>\n",
       "      <td>116000.0</td>\n",
       "      <td>United States</td>\n",
       "      <td>back-end</td>\n",
       "      <td>Bachelors-degree</td>\n",
       "    </tr>\n",
       "    <tr>\n",
       "      <th>9</th>\n",
       "      <td>4.0</td>\n",
       "      <td>22.0</td>\n",
       "      <td>32315.0</td>\n",
       "      <td>United Kingdom</td>\n",
       "      <td>Database-administrator</td>\n",
       "      <td>Masters-degree</td>\n",
       "    </tr>\n",
       "    <tr>\n",
       "      <th>10</th>\n",
       "      <td>2.0</td>\n",
       "      <td>23.0</td>\n",
       "      <td>40070.0</td>\n",
       "      <td>United Kingdom</td>\n",
       "      <td>back-end</td>\n",
       "      <td>Bachelors-degree</td>\n",
       "    </tr>\n",
       "    <tr>\n",
       "      <th>11</th>\n",
       "      <td>7.0</td>\n",
       "      <td>49.0</td>\n",
       "      <td>14268.0</td>\n",
       "      <td>Spain</td>\n",
       "      <td>Designer</td>\n",
       "      <td>college/university-no-degree</td>\n",
       "    </tr>\n",
       "    <tr>\n",
       "      <th>12</th>\n",
       "      <td>20.0</td>\n",
       "      <td>53.0</td>\n",
       "      <td>38916.0</td>\n",
       "      <td>Netherlands</td>\n",
       "      <td>Designer</td>\n",
       "      <td>High-school</td>\n",
       "    </tr>\n",
       "  </tbody>\n",
       "</table>\n",
       "</div>"
      ],
      "text/plain": [
       "    YearsCodePro   Age  ConvertedComp         Country                 DevType  \\\n",
       "7           13.0  36.0       116000.0   United States                back-end   \n",
       "9            4.0  22.0        32315.0  United Kingdom  Database-administrator   \n",
       "10           2.0  23.0        40070.0  United Kingdom                back-end   \n",
       "11           7.0  49.0        14268.0           Spain                Designer   \n",
       "12          20.0  53.0        38916.0     Netherlands                Designer   \n",
       "\n",
       "                         EdLevel  \n",
       "7               Bachelors-degree  \n",
       "9                 Masters-degree  \n",
       "10              Bachelors-degree  \n",
       "11  college/university-no-degree  \n",
       "12                   High-school  "
      ]
     },
     "execution_count": 127,
     "metadata": {},
     "output_type": "execute_result"
    }
   ],
   "source": [
    "test.head()"
   ]
  },
  {
   "cell_type": "code",
   "execution_count": 128,
   "metadata": {},
   "outputs": [],
   "source": [
    "test.rename(columns = {\"ConvertedComp\": \"Salary\"}, inplace=True)"
   ]
  },
  {
   "cell_type": "code",
   "execution_count": 129,
   "metadata": {},
   "outputs": [],
   "source": [
    "test.reset_index(drop=\"index\",inplace=True)"
   ]
  },
  {
   "cell_type": "code",
   "execution_count": 130,
   "metadata": {},
   "outputs": [
    {
     "name": "stdout",
     "output_type": "stream",
     "text": [
      "<class 'pandas.core.frame.DataFrame'>\n",
      "RangeIndex: 34756 entries, 0 to 34755\n",
      "Data columns (total 6 columns):\n",
      " #   Column        Non-Null Count  Dtype  \n",
      "---  ------        --------------  -----  \n",
      " 0   YearsCodePro  34756 non-null  float64\n",
      " 1   Age           34756 non-null  float64\n",
      " 2   Salary        34756 non-null  float64\n",
      " 3   Country       34756 non-null  object \n",
      " 4   DevType       34756 non-null  object \n",
      " 5   EdLevel       34756 non-null  object \n",
      "dtypes: float64(3), object(3)\n",
      "memory usage: 1.6+ MB\n"
     ]
    }
   ],
   "source": [
    "test.info()"
   ]
  },
  {
   "cell_type": "code",
   "execution_count": 131,
   "metadata": {},
   "outputs": [],
   "source": [
    "salaries = test.copy() "
   ]
  },
  {
   "cell_type": "code",
   "execution_count": 132,
   "metadata": {},
   "outputs": [
    {
     "data": {
      "text/html": [
       "<div>\n",
       "<style scoped>\n",
       "    .dataframe tbody tr th:only-of-type {\n",
       "        vertical-align: middle;\n",
       "    }\n",
       "\n",
       "    .dataframe tbody tr th {\n",
       "        vertical-align: top;\n",
       "    }\n",
       "\n",
       "    .dataframe thead th {\n",
       "        text-align: right;\n",
       "    }\n",
       "</style>\n",
       "<table border=\"1\" class=\"dataframe\">\n",
       "  <thead>\n",
       "    <tr style=\"text-align: right;\">\n",
       "      <th></th>\n",
       "      <th>YearsCodePro</th>\n",
       "      <th>Age</th>\n",
       "      <th>Salary</th>\n",
       "      <th>Country</th>\n",
       "      <th>DevType</th>\n",
       "      <th>EdLevel</th>\n",
       "    </tr>\n",
       "  </thead>\n",
       "  <tbody>\n",
       "    <tr>\n",
       "      <th>0</th>\n",
       "      <td>13.0</td>\n",
       "      <td>36.0</td>\n",
       "      <td>116000.0</td>\n",
       "      <td>United States</td>\n",
       "      <td>back-end</td>\n",
       "      <td>Bachelors-degree</td>\n",
       "    </tr>\n",
       "    <tr>\n",
       "      <th>1</th>\n",
       "      <td>4.0</td>\n",
       "      <td>22.0</td>\n",
       "      <td>32315.0</td>\n",
       "      <td>United Kingdom</td>\n",
       "      <td>Database-administrator</td>\n",
       "      <td>Masters-degree</td>\n",
       "    </tr>\n",
       "    <tr>\n",
       "      <th>2</th>\n",
       "      <td>2.0</td>\n",
       "      <td>23.0</td>\n",
       "      <td>40070.0</td>\n",
       "      <td>United Kingdom</td>\n",
       "      <td>back-end</td>\n",
       "      <td>Bachelors-degree</td>\n",
       "    </tr>\n",
       "    <tr>\n",
       "      <th>3</th>\n",
       "      <td>7.0</td>\n",
       "      <td>49.0</td>\n",
       "      <td>14268.0</td>\n",
       "      <td>Spain</td>\n",
       "      <td>Designer</td>\n",
       "      <td>college/university-no-degree</td>\n",
       "    </tr>\n",
       "    <tr>\n",
       "      <th>4</th>\n",
       "      <td>20.0</td>\n",
       "      <td>53.0</td>\n",
       "      <td>38916.0</td>\n",
       "      <td>Netherlands</td>\n",
       "      <td>Designer</td>\n",
       "      <td>High-school</td>\n",
       "    </tr>\n",
       "  </tbody>\n",
       "</table>\n",
       "</div>"
      ],
      "text/plain": [
       "   YearsCodePro   Age    Salary         Country                 DevType  \\\n",
       "0          13.0  36.0  116000.0   United States                back-end   \n",
       "1           4.0  22.0   32315.0  United Kingdom  Database-administrator   \n",
       "2           2.0  23.0   40070.0  United Kingdom                back-end   \n",
       "3           7.0  49.0   14268.0           Spain                Designer   \n",
       "4          20.0  53.0   38916.0     Netherlands                Designer   \n",
       "\n",
       "                        EdLevel  \n",
       "0              Bachelors-degree  \n",
       "1                Masters-degree  \n",
       "2              Bachelors-degree  \n",
       "3  college/university-no-degree  \n",
       "4                   High-school  "
      ]
     },
     "execution_count": 132,
     "metadata": {},
     "output_type": "execute_result"
    }
   ],
   "source": [
    "salaries.head()"
   ]
  },
  {
   "cell_type": "code",
   "execution_count": 133,
   "metadata": {},
   "outputs": [],
   "source": [
    "# save final df #\n",
    "# salaries.to_csv(\"salaries.csv\")"
   ]
  },
  {
   "cell_type": "code",
   "execution_count": 134,
   "metadata": {},
   "outputs": [],
   "source": [
    "# Load saved dataframe #\n",
    "# test2 = pd.read_csv(\"salaries.csv\")\n",
    "# test2.head()"
   ]
  },
  {
   "cell_type": "code",
   "execution_count": 142,
   "metadata": {},
   "outputs": [
    {
     "data": {
      "text/plain": [
       "United States     8152\n",
       "India             2668\n",
       "United Kingdom    2588\n",
       "Germany           2311\n",
       "Canada            1345\n",
       "Brazil            1157\n",
       "France            1127\n",
       "Netherlands        810\n",
       "Poland             798\n",
       "Australia          772\n",
       "Name: Country, dtype: int64"
      ]
     },
     "execution_count": 142,
     "metadata": {},
     "output_type": "execute_result"
    }
   ],
   "source": [
    "salaries[\"Country\"].value_counts().head(10)"
   ]
  },
  {
   "cell_type": "code",
   "execution_count": null,
   "metadata": {},
   "outputs": [],
   "source": []
  }
 ],
 "metadata": {
  "kernelspec": {
   "display_name": "Python 3",
   "language": "python",
   "name": "python3"
  },
  "language_info": {
   "codemirror_mode": {
    "name": "ipython",
    "version": 3
   },
   "file_extension": ".py",
   "mimetype": "text/x-python",
   "name": "python",
   "nbconvert_exporter": "python",
   "pygments_lexer": "ipython3",
   "version": "3.7.1"
  }
 },
 "nbformat": 4,
 "nbformat_minor": 2
}
