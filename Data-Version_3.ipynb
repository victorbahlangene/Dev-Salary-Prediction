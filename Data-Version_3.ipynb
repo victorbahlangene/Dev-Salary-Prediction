{
 "cells": [
  {
   "cell_type": "markdown",
   "metadata": {},
   "source": [
    "# Data"
   ]
  },
  {
   "cell_type": "code",
   "execution_count": 1,
   "metadata": {},
   "outputs": [],
   "source": [
    "# Data manipulation libs #\n",
    "import numpy as np\n",
    "import pandas as pd"
   ]
  },
  {
   "cell_type": "code",
   "execution_count": 2,
   "metadata": {},
   "outputs": [],
   "source": [
    "# visulization libs #\n",
    "import seaborn as sns\n",
    "import matplotlib.pyplot as plt\n",
    "%matplotlib inline"
   ]
  },
  {
   "cell_type": "code",
   "execution_count": 3,
   "metadata": {},
   "outputs": [],
   "source": [
    "# stack_overflow_18 = pd.read_csv(\"survey_results_public.csv\")\n",
    "# stack_overflow_18.head()"
   ]
  },
  {
   "cell_type": "code",
   "execution_count": 4,
   "metadata": {},
   "outputs": [],
   "source": [
    "# # List of columns we are interested in for salary analysis #\n",
    "# salaries_cols = [\"Country\",\"Student\",\"Employment\",\"FormalEducation\",\"UndergradMajor\",\"CompanySize\",\"DevType\",\"YearsCoding\",\"YearsCodingProf\",\"EducationTypes\",\"SelfTaughtTypes\",\"LanguageWorkedWith\",\"Salary\",\"LanguageDesireNextYear\",\"FrameworkWorkedWith\",\"FrameworkDesireNextYear\",\"OperatingSystem\",\"Age\",\"ConvertedSalary\"]"
   ]
  },
  {
   "cell_type": "code",
   "execution_count": 5,
   "metadata": {},
   "outputs": [],
   "source": [
    "# salaries = stack_overflow_18[salaries_cols]\n",
    "# salaries.head()"
   ]
  },
  {
   "cell_type": "code",
   "execution_count": 6,
   "metadata": {},
   "outputs": [],
   "source": [
    "# salaries.info()"
   ]
  },
  {
   "cell_type": "code",
   "execution_count": 7,
   "metadata": {},
   "outputs": [],
   "source": [
    "# salaries.loc[0:15,:]"
   ]
  },
  {
   "cell_type": "code",
   "execution_count": 8,
   "metadata": {},
   "outputs": [],
   "source": [
    "# # entries for test set #\n",
    "# test_rand = np.random.randint(0,98854,200)\n",
    "# test_rand"
   ]
  },
  {
   "cell_type": "code",
   "execution_count": 9,
   "metadata": {},
   "outputs": [],
   "source": [
    "# # entries for train set #\n",
    "# train_rand = np.random.randint(0,98854,200)\n",
    "# train_rand"
   ]
  },
  {
   "cell_type": "code",
   "execution_count": 10,
   "metadata": {},
   "outputs": [],
   "source": [
    "# train_rand/test_rand"
   ]
  },
  {
   "cell_type": "code",
   "execution_count": 11,
   "metadata": {},
   "outputs": [],
   "source": [
    "# salaries_test = salaries.loc[test_rand,:]\n",
    "# salaries_test.head()"
   ]
  },
  {
   "cell_type": "code",
   "execution_count": 12,
   "metadata": {},
   "outputs": [],
   "source": [
    "# salaries_train = salaries.loc[train_rand,:]\n",
    "# salaries_train.head()"
   ]
  },
  {
   "cell_type": "code",
   "execution_count": 13,
   "metadata": {},
   "outputs": [],
   "source": [
    "# # saving the dataframe #\n",
    "# salaries_test.to_csv('salaries_test.csv')\n",
    "# salaries_train.to_csv('salaries_train.csv')"
   ]
  },
  {
   "cell_type": "code",
   "execution_count": null,
   "metadata": {},
   "outputs": [],
   "source": []
  },
  {
   "cell_type": "code",
   "execution_count": 14,
   "metadata": {},
   "outputs": [],
   "source": [
    "# uploading train dataframe #\n",
    "salaries_train = pd.read_csv(\"salaries_train.csv\")"
   ]
  },
  {
   "cell_type": "code",
   "execution_count": 15,
   "metadata": {},
   "outputs": [
    {
     "data": {
      "text/html": [
       "<div>\n",
       "<style scoped>\n",
       "    .dataframe tbody tr th:only-of-type {\n",
       "        vertical-align: middle;\n",
       "    }\n",
       "\n",
       "    .dataframe tbody tr th {\n",
       "        vertical-align: top;\n",
       "    }\n",
       "\n",
       "    .dataframe thead th {\n",
       "        text-align: right;\n",
       "    }\n",
       "</style>\n",
       "<table border=\"1\" class=\"dataframe\">\n",
       "  <thead>\n",
       "    <tr style=\"text-align: right;\">\n",
       "      <th></th>\n",
       "      <th>Unnamed: 0</th>\n",
       "      <th>Country</th>\n",
       "      <th>Student</th>\n",
       "      <th>Employment</th>\n",
       "      <th>FormalEducation</th>\n",
       "      <th>UndergradMajor</th>\n",
       "      <th>CompanySize</th>\n",
       "      <th>DevType</th>\n",
       "      <th>YearsCoding</th>\n",
       "      <th>YearsCodingProf</th>\n",
       "      <th>EducationTypes</th>\n",
       "      <th>SelfTaughtTypes</th>\n",
       "      <th>LanguageWorkedWith</th>\n",
       "      <th>Salary</th>\n",
       "      <th>LanguageDesireNextYear</th>\n",
       "      <th>FrameworkWorkedWith</th>\n",
       "      <th>FrameworkDesireNextYear</th>\n",
       "      <th>OperatingSystem</th>\n",
       "      <th>Age</th>\n",
       "      <th>ConvertedSalary</th>\n",
       "    </tr>\n",
       "  </thead>\n",
       "  <tbody>\n",
       "    <tr>\n",
       "      <th>0</th>\n",
       "      <td>17522</td>\n",
       "      <td>Greece</td>\n",
       "      <td>No</td>\n",
       "      <td>Employed full-time</td>\n",
       "      <td>Bachelor’s degree (BA, BS, B.Eng., etc.)</td>\n",
       "      <td>Computer science, computer engineering, or sof...</td>\n",
       "      <td>Fewer than 10 employees</td>\n",
       "      <td>Back-end developer;Data or business analyst;Da...</td>\n",
       "      <td>3-5 years</td>\n",
       "      <td>0-2 years</td>\n",
       "      <td>Taught yourself a new language, framework, or ...</td>\n",
       "      <td>The official documentation and/or standards fo...</td>\n",
       "      <td>C#;Java;Matlab;Python;SQL;HTML;CSS</td>\n",
       "      <td>510</td>\n",
       "      <td>C++;C#;Java;JavaScript;Objective-C;Perl;Python...</td>\n",
       "      <td>Spark</td>\n",
       "      <td>Angular;Django;Hadoop;Node.js;Spark;Spring;Ten...</td>\n",
       "      <td>Linux-based</td>\n",
       "      <td>18 - 24 years old</td>\n",
       "      <td>NaN</td>\n",
       "    </tr>\n",
       "    <tr>\n",
       "      <th>1</th>\n",
       "      <td>83134</td>\n",
       "      <td>Nepal</td>\n",
       "      <td>Yes, full-time</td>\n",
       "      <td>Not employed, but looking for work</td>\n",
       "      <td>Bachelor’s degree (BA, BS, B.Eng., etc.)</td>\n",
       "      <td>Web development or web design</td>\n",
       "      <td>NaN</td>\n",
       "      <td>Front-end developer;Full-stack developer</td>\n",
       "      <td>3-5 years</td>\n",
       "      <td>0-2 years</td>\n",
       "      <td>Participated in a full-time developer training...</td>\n",
       "      <td>NaN</td>\n",
       "      <td>JavaScript;TypeScript</td>\n",
       "      <td>120</td>\n",
       "      <td>JavaScript;TypeScript</td>\n",
       "      <td>Angular;Node.js;React</td>\n",
       "      <td>Angular;Node.js;React</td>\n",
       "      <td>Windows</td>\n",
       "      <td>18 - 24 years old</td>\n",
       "      <td>1440.0</td>\n",
       "    </tr>\n",
       "    <tr>\n",
       "      <th>2</th>\n",
       "      <td>858</td>\n",
       "      <td>Bangladesh</td>\n",
       "      <td>No</td>\n",
       "      <td>Employed full-time</td>\n",
       "      <td>Master’s degree (MA, MS, M.Eng., MBA, etc.)</td>\n",
       "      <td>Computer science, computer engineering, or sof...</td>\n",
       "      <td>10 to 19 employees</td>\n",
       "      <td>Back-end developer;Desktop or enterprise appli...</td>\n",
       "      <td>6-8 years</td>\n",
       "      <td>6-8 years</td>\n",
       "      <td>Taken an online course in programming or softw...</td>\n",
       "      <td>NaN</td>\n",
       "      <td>C++;C#;Java;JavaScript;Matlab;SQL;HTML;Bash/Shell</td>\n",
       "      <td>100000</td>\n",
       "      <td>NaN</td>\n",
       "      <td>Angular</td>\n",
       "      <td>NaN</td>\n",
       "      <td>MacOS</td>\n",
       "      <td>25 - 34 years old</td>\n",
       "      <td>14436.0</td>\n",
       "    </tr>\n",
       "    <tr>\n",
       "      <th>3</th>\n",
       "      <td>53284</td>\n",
       "      <td>India</td>\n",
       "      <td>Yes, full-time</td>\n",
       "      <td>Employed full-time</td>\n",
       "      <td>Bachelor’s degree (BA, BS, B.Eng., etc.)</td>\n",
       "      <td>Computer science, computer engineering, or sof...</td>\n",
       "      <td>Fewer than 10 employees</td>\n",
       "      <td>Back-end developer;Designer;Student</td>\n",
       "      <td>3-5 years</td>\n",
       "      <td>NaN</td>\n",
       "      <td>NaN</td>\n",
       "      <td>NaN</td>\n",
       "      <td>C;PHP;HTML</td>\n",
       "      <td>NaN</td>\n",
       "      <td>Python;R</td>\n",
       "      <td>NaN</td>\n",
       "      <td>NaN</td>\n",
       "      <td>NaN</td>\n",
       "      <td>NaN</td>\n",
       "      <td>NaN</td>\n",
       "    </tr>\n",
       "    <tr>\n",
       "      <th>4</th>\n",
       "      <td>37884</td>\n",
       "      <td>Czech Republic</td>\n",
       "      <td>No</td>\n",
       "      <td>Employed part-time</td>\n",
       "      <td>Primary/elementary school</td>\n",
       "      <td>NaN</td>\n",
       "      <td>100 to 499 employees</td>\n",
       "      <td>Back-end developer;Desktop or enterprise appli...</td>\n",
       "      <td>3-5 years</td>\n",
       "      <td>0-2 years</td>\n",
       "      <td>Received on-the-job training in software devel...</td>\n",
       "      <td>The official documentation and/or standards fo...</td>\n",
       "      <td>C;C++;C#;Java;JavaScript;Lua;PHP;Python;SQL;HT...</td>\n",
       "      <td>220</td>\n",
       "      <td>Assembly;C++;C#;Perl;Python;R;Ruby;Rust;Bash/S...</td>\n",
       "      <td>.NET Core;TensorFlow;Torch/PyTorch</td>\n",
       "      <td>.NET Core;TensorFlow</td>\n",
       "      <td>Linux-based</td>\n",
       "      <td>Under 18 years old</td>\n",
       "      <td>3228.0</td>\n",
       "    </tr>\n",
       "  </tbody>\n",
       "</table>\n",
       "</div>"
      ],
      "text/plain": [
       "   Unnamed: 0         Country         Student  \\\n",
       "0       17522          Greece              No   \n",
       "1       83134           Nepal  Yes, full-time   \n",
       "2         858      Bangladesh              No   \n",
       "3       53284           India  Yes, full-time   \n",
       "4       37884  Czech Republic              No   \n",
       "\n",
       "                           Employment  \\\n",
       "0                  Employed full-time   \n",
       "1  Not employed, but looking for work   \n",
       "2                  Employed full-time   \n",
       "3                  Employed full-time   \n",
       "4                  Employed part-time   \n",
       "\n",
       "                               FormalEducation  \\\n",
       "0     Bachelor’s degree (BA, BS, B.Eng., etc.)   \n",
       "1     Bachelor’s degree (BA, BS, B.Eng., etc.)   \n",
       "2  Master’s degree (MA, MS, M.Eng., MBA, etc.)   \n",
       "3     Bachelor’s degree (BA, BS, B.Eng., etc.)   \n",
       "4                    Primary/elementary school   \n",
       "\n",
       "                                      UndergradMajor              CompanySize  \\\n",
       "0  Computer science, computer engineering, or sof...  Fewer than 10 employees   \n",
       "1                      Web development or web design                      NaN   \n",
       "2  Computer science, computer engineering, or sof...       10 to 19 employees   \n",
       "3  Computer science, computer engineering, or sof...  Fewer than 10 employees   \n",
       "4                                                NaN     100 to 499 employees   \n",
       "\n",
       "                                             DevType YearsCoding  \\\n",
       "0  Back-end developer;Data or business analyst;Da...   3-5 years   \n",
       "1           Front-end developer;Full-stack developer   3-5 years   \n",
       "2  Back-end developer;Desktop or enterprise appli...   6-8 years   \n",
       "3                Back-end developer;Designer;Student   3-5 years   \n",
       "4  Back-end developer;Desktop or enterprise appli...   3-5 years   \n",
       "\n",
       "  YearsCodingProf                                     EducationTypes  \\\n",
       "0       0-2 years  Taught yourself a new language, framework, or ...   \n",
       "1       0-2 years  Participated in a full-time developer training...   \n",
       "2       6-8 years  Taken an online course in programming or softw...   \n",
       "3             NaN                                                NaN   \n",
       "4       0-2 years  Received on-the-job training in software devel...   \n",
       "\n",
       "                                     SelfTaughtTypes  \\\n",
       "0  The official documentation and/or standards fo...   \n",
       "1                                                NaN   \n",
       "2                                                NaN   \n",
       "3                                                NaN   \n",
       "4  The official documentation and/or standards fo...   \n",
       "\n",
       "                                  LanguageWorkedWith  Salary  \\\n",
       "0                 C#;Java;Matlab;Python;SQL;HTML;CSS     510   \n",
       "1                              JavaScript;TypeScript     120   \n",
       "2  C++;C#;Java;JavaScript;Matlab;SQL;HTML;Bash/Shell  100000   \n",
       "3                                         C;PHP;HTML     NaN   \n",
       "4  C;C++;C#;Java;JavaScript;Lua;PHP;Python;SQL;HT...     220   \n",
       "\n",
       "                              LanguageDesireNextYear  \\\n",
       "0  C++;C#;Java;JavaScript;Objective-C;Perl;Python...   \n",
       "1                              JavaScript;TypeScript   \n",
       "2                                                NaN   \n",
       "3                                           Python;R   \n",
       "4  Assembly;C++;C#;Perl;Python;R;Ruby;Rust;Bash/S...   \n",
       "\n",
       "                  FrameworkWorkedWith  \\\n",
       "0                               Spark   \n",
       "1               Angular;Node.js;React   \n",
       "2                             Angular   \n",
       "3                                 NaN   \n",
       "4  .NET Core;TensorFlow;Torch/PyTorch   \n",
       "\n",
       "                             FrameworkDesireNextYear OperatingSystem  \\\n",
       "0  Angular;Django;Hadoop;Node.js;Spark;Spring;Ten...     Linux-based   \n",
       "1                              Angular;Node.js;React         Windows   \n",
       "2                                                NaN           MacOS   \n",
       "3                                                NaN             NaN   \n",
       "4                               .NET Core;TensorFlow     Linux-based   \n",
       "\n",
       "                  Age  ConvertedSalary  \n",
       "0   18 - 24 years old              NaN  \n",
       "1   18 - 24 years old           1440.0  \n",
       "2   25 - 34 years old          14436.0  \n",
       "3                 NaN              NaN  \n",
       "4  Under 18 years old           3228.0  "
      ]
     },
     "execution_count": 15,
     "metadata": {},
     "output_type": "execute_result"
    }
   ],
   "source": [
    "salaries_train.head()"
   ]
  },
  {
   "cell_type": "code",
   "execution_count": 16,
   "metadata": {},
   "outputs": [],
   "source": [
    "salaries_train.reset_index(inplace=True)"
   ]
  },
  {
   "cell_type": "code",
   "execution_count": 17,
   "metadata": {},
   "outputs": [
    {
     "data": {
      "text/html": [
       "<div>\n",
       "<style scoped>\n",
       "    .dataframe tbody tr th:only-of-type {\n",
       "        vertical-align: middle;\n",
       "    }\n",
       "\n",
       "    .dataframe tbody tr th {\n",
       "        vertical-align: top;\n",
       "    }\n",
       "\n",
       "    .dataframe thead th {\n",
       "        text-align: right;\n",
       "    }\n",
       "</style>\n",
       "<table border=\"1\" class=\"dataframe\">\n",
       "  <thead>\n",
       "    <tr style=\"text-align: right;\">\n",
       "      <th></th>\n",
       "      <th>index</th>\n",
       "      <th>Unnamed: 0</th>\n",
       "      <th>Country</th>\n",
       "      <th>Student</th>\n",
       "      <th>Employment</th>\n",
       "      <th>FormalEducation</th>\n",
       "      <th>UndergradMajor</th>\n",
       "      <th>CompanySize</th>\n",
       "      <th>DevType</th>\n",
       "      <th>YearsCoding</th>\n",
       "      <th>...</th>\n",
       "      <th>EducationTypes</th>\n",
       "      <th>SelfTaughtTypes</th>\n",
       "      <th>LanguageWorkedWith</th>\n",
       "      <th>Salary</th>\n",
       "      <th>LanguageDesireNextYear</th>\n",
       "      <th>FrameworkWorkedWith</th>\n",
       "      <th>FrameworkDesireNextYear</th>\n",
       "      <th>OperatingSystem</th>\n",
       "      <th>Age</th>\n",
       "      <th>ConvertedSalary</th>\n",
       "    </tr>\n",
       "  </thead>\n",
       "  <tbody>\n",
       "    <tr>\n",
       "      <th>0</th>\n",
       "      <td>0</td>\n",
       "      <td>17522</td>\n",
       "      <td>Greece</td>\n",
       "      <td>No</td>\n",
       "      <td>Employed full-time</td>\n",
       "      <td>Bachelor’s degree (BA, BS, B.Eng., etc.)</td>\n",
       "      <td>Computer science, computer engineering, or sof...</td>\n",
       "      <td>Fewer than 10 employees</td>\n",
       "      <td>Back-end developer;Data or business analyst;Da...</td>\n",
       "      <td>3-5 years</td>\n",
       "      <td>...</td>\n",
       "      <td>Taught yourself a new language, framework, or ...</td>\n",
       "      <td>The official documentation and/or standards fo...</td>\n",
       "      <td>C#;Java;Matlab;Python;SQL;HTML;CSS</td>\n",
       "      <td>510</td>\n",
       "      <td>C++;C#;Java;JavaScript;Objective-C;Perl;Python...</td>\n",
       "      <td>Spark</td>\n",
       "      <td>Angular;Django;Hadoop;Node.js;Spark;Spring;Ten...</td>\n",
       "      <td>Linux-based</td>\n",
       "      <td>18 - 24 years old</td>\n",
       "      <td>NaN</td>\n",
       "    </tr>\n",
       "    <tr>\n",
       "      <th>1</th>\n",
       "      <td>1</td>\n",
       "      <td>83134</td>\n",
       "      <td>Nepal</td>\n",
       "      <td>Yes, full-time</td>\n",
       "      <td>Not employed, but looking for work</td>\n",
       "      <td>Bachelor’s degree (BA, BS, B.Eng., etc.)</td>\n",
       "      <td>Web development or web design</td>\n",
       "      <td>NaN</td>\n",
       "      <td>Front-end developer;Full-stack developer</td>\n",
       "      <td>3-5 years</td>\n",
       "      <td>...</td>\n",
       "      <td>Participated in a full-time developer training...</td>\n",
       "      <td>NaN</td>\n",
       "      <td>JavaScript;TypeScript</td>\n",
       "      <td>120</td>\n",
       "      <td>JavaScript;TypeScript</td>\n",
       "      <td>Angular;Node.js;React</td>\n",
       "      <td>Angular;Node.js;React</td>\n",
       "      <td>Windows</td>\n",
       "      <td>18 - 24 years old</td>\n",
       "      <td>1440.0</td>\n",
       "    </tr>\n",
       "    <tr>\n",
       "      <th>2</th>\n",
       "      <td>2</td>\n",
       "      <td>858</td>\n",
       "      <td>Bangladesh</td>\n",
       "      <td>No</td>\n",
       "      <td>Employed full-time</td>\n",
       "      <td>Master’s degree (MA, MS, M.Eng., MBA, etc.)</td>\n",
       "      <td>Computer science, computer engineering, or sof...</td>\n",
       "      <td>10 to 19 employees</td>\n",
       "      <td>Back-end developer;Desktop or enterprise appli...</td>\n",
       "      <td>6-8 years</td>\n",
       "      <td>...</td>\n",
       "      <td>Taken an online course in programming or softw...</td>\n",
       "      <td>NaN</td>\n",
       "      <td>C++;C#;Java;JavaScript;Matlab;SQL;HTML;Bash/Shell</td>\n",
       "      <td>100000</td>\n",
       "      <td>NaN</td>\n",
       "      <td>Angular</td>\n",
       "      <td>NaN</td>\n",
       "      <td>MacOS</td>\n",
       "      <td>25 - 34 years old</td>\n",
       "      <td>14436.0</td>\n",
       "    </tr>\n",
       "    <tr>\n",
       "      <th>3</th>\n",
       "      <td>3</td>\n",
       "      <td>53284</td>\n",
       "      <td>India</td>\n",
       "      <td>Yes, full-time</td>\n",
       "      <td>Employed full-time</td>\n",
       "      <td>Bachelor’s degree (BA, BS, B.Eng., etc.)</td>\n",
       "      <td>Computer science, computer engineering, or sof...</td>\n",
       "      <td>Fewer than 10 employees</td>\n",
       "      <td>Back-end developer;Designer;Student</td>\n",
       "      <td>3-5 years</td>\n",
       "      <td>...</td>\n",
       "      <td>NaN</td>\n",
       "      <td>NaN</td>\n",
       "      <td>C;PHP;HTML</td>\n",
       "      <td>NaN</td>\n",
       "      <td>Python;R</td>\n",
       "      <td>NaN</td>\n",
       "      <td>NaN</td>\n",
       "      <td>NaN</td>\n",
       "      <td>NaN</td>\n",
       "      <td>NaN</td>\n",
       "    </tr>\n",
       "    <tr>\n",
       "      <th>4</th>\n",
       "      <td>4</td>\n",
       "      <td>37884</td>\n",
       "      <td>Czech Republic</td>\n",
       "      <td>No</td>\n",
       "      <td>Employed part-time</td>\n",
       "      <td>Primary/elementary school</td>\n",
       "      <td>NaN</td>\n",
       "      <td>100 to 499 employees</td>\n",
       "      <td>Back-end developer;Desktop or enterprise appli...</td>\n",
       "      <td>3-5 years</td>\n",
       "      <td>...</td>\n",
       "      <td>Received on-the-job training in software devel...</td>\n",
       "      <td>The official documentation and/or standards fo...</td>\n",
       "      <td>C;C++;C#;Java;JavaScript;Lua;PHP;Python;SQL;HT...</td>\n",
       "      <td>220</td>\n",
       "      <td>Assembly;C++;C#;Perl;Python;R;Ruby;Rust;Bash/S...</td>\n",
       "      <td>.NET Core;TensorFlow;Torch/PyTorch</td>\n",
       "      <td>.NET Core;TensorFlow</td>\n",
       "      <td>Linux-based</td>\n",
       "      <td>Under 18 years old</td>\n",
       "      <td>3228.0</td>\n",
       "    </tr>\n",
       "  </tbody>\n",
       "</table>\n",
       "<p>5 rows × 21 columns</p>\n",
       "</div>"
      ],
      "text/plain": [
       "   index  Unnamed: 0         Country         Student  \\\n",
       "0      0       17522          Greece              No   \n",
       "1      1       83134           Nepal  Yes, full-time   \n",
       "2      2         858      Bangladesh              No   \n",
       "3      3       53284           India  Yes, full-time   \n",
       "4      4       37884  Czech Republic              No   \n",
       "\n",
       "                           Employment  \\\n",
       "0                  Employed full-time   \n",
       "1  Not employed, but looking for work   \n",
       "2                  Employed full-time   \n",
       "3                  Employed full-time   \n",
       "4                  Employed part-time   \n",
       "\n",
       "                               FormalEducation  \\\n",
       "0     Bachelor’s degree (BA, BS, B.Eng., etc.)   \n",
       "1     Bachelor’s degree (BA, BS, B.Eng., etc.)   \n",
       "2  Master’s degree (MA, MS, M.Eng., MBA, etc.)   \n",
       "3     Bachelor’s degree (BA, BS, B.Eng., etc.)   \n",
       "4                    Primary/elementary school   \n",
       "\n",
       "                                      UndergradMajor              CompanySize  \\\n",
       "0  Computer science, computer engineering, or sof...  Fewer than 10 employees   \n",
       "1                      Web development or web design                      NaN   \n",
       "2  Computer science, computer engineering, or sof...       10 to 19 employees   \n",
       "3  Computer science, computer engineering, or sof...  Fewer than 10 employees   \n",
       "4                                                NaN     100 to 499 employees   \n",
       "\n",
       "                                             DevType YearsCoding  ...  \\\n",
       "0  Back-end developer;Data or business analyst;Da...   3-5 years  ...   \n",
       "1           Front-end developer;Full-stack developer   3-5 years  ...   \n",
       "2  Back-end developer;Desktop or enterprise appli...   6-8 years  ...   \n",
       "3                Back-end developer;Designer;Student   3-5 years  ...   \n",
       "4  Back-end developer;Desktop or enterprise appli...   3-5 years  ...   \n",
       "\n",
       "                                      EducationTypes  \\\n",
       "0  Taught yourself a new language, framework, or ...   \n",
       "1  Participated in a full-time developer training...   \n",
       "2  Taken an online course in programming or softw...   \n",
       "3                                                NaN   \n",
       "4  Received on-the-job training in software devel...   \n",
       "\n",
       "                                     SelfTaughtTypes  \\\n",
       "0  The official documentation and/or standards fo...   \n",
       "1                                                NaN   \n",
       "2                                                NaN   \n",
       "3                                                NaN   \n",
       "4  The official documentation and/or standards fo...   \n",
       "\n",
       "                                  LanguageWorkedWith  Salary  \\\n",
       "0                 C#;Java;Matlab;Python;SQL;HTML;CSS     510   \n",
       "1                              JavaScript;TypeScript     120   \n",
       "2  C++;C#;Java;JavaScript;Matlab;SQL;HTML;Bash/Shell  100000   \n",
       "3                                         C;PHP;HTML     NaN   \n",
       "4  C;C++;C#;Java;JavaScript;Lua;PHP;Python;SQL;HT...     220   \n",
       "\n",
       "                              LanguageDesireNextYear  \\\n",
       "0  C++;C#;Java;JavaScript;Objective-C;Perl;Python...   \n",
       "1                              JavaScript;TypeScript   \n",
       "2                                                NaN   \n",
       "3                                           Python;R   \n",
       "4  Assembly;C++;C#;Perl;Python;R;Ruby;Rust;Bash/S...   \n",
       "\n",
       "                  FrameworkWorkedWith  \\\n",
       "0                               Spark   \n",
       "1               Angular;Node.js;React   \n",
       "2                             Angular   \n",
       "3                                 NaN   \n",
       "4  .NET Core;TensorFlow;Torch/PyTorch   \n",
       "\n",
       "                             FrameworkDesireNextYear OperatingSystem  \\\n",
       "0  Angular;Django;Hadoop;Node.js;Spark;Spring;Ten...     Linux-based   \n",
       "1                              Angular;Node.js;React         Windows   \n",
       "2                                                NaN           MacOS   \n",
       "3                                                NaN             NaN   \n",
       "4                               .NET Core;TensorFlow     Linux-based   \n",
       "\n",
       "                  Age ConvertedSalary  \n",
       "0   18 - 24 years old             NaN  \n",
       "1   18 - 24 years old          1440.0  \n",
       "2   25 - 34 years old         14436.0  \n",
       "3                 NaN             NaN  \n",
       "4  Under 18 years old          3228.0  \n",
       "\n",
       "[5 rows x 21 columns]"
      ]
     },
     "execution_count": 17,
     "metadata": {},
     "output_type": "execute_result"
    }
   ],
   "source": [
    "salaries_train.head()"
   ]
  },
  {
   "cell_type": "code",
   "execution_count": 18,
   "metadata": {},
   "outputs": [],
   "source": [
    "# Remove index col #\n",
    "salaries_train.drop([\"index\"],axis=1,inplace=True)"
   ]
  },
  {
   "cell_type": "code",
   "execution_count": 19,
   "metadata": {},
   "outputs": [
    {
     "data": {
      "text/html": [
       "<div>\n",
       "<style scoped>\n",
       "    .dataframe tbody tr th:only-of-type {\n",
       "        vertical-align: middle;\n",
       "    }\n",
       "\n",
       "    .dataframe tbody tr th {\n",
       "        vertical-align: top;\n",
       "    }\n",
       "\n",
       "    .dataframe thead th {\n",
       "        text-align: right;\n",
       "    }\n",
       "</style>\n",
       "<table border=\"1\" class=\"dataframe\">\n",
       "  <thead>\n",
       "    <tr style=\"text-align: right;\">\n",
       "      <th></th>\n",
       "      <th>Unnamed: 0</th>\n",
       "      <th>Country</th>\n",
       "      <th>Student</th>\n",
       "      <th>Employment</th>\n",
       "      <th>FormalEducation</th>\n",
       "      <th>UndergradMajor</th>\n",
       "      <th>CompanySize</th>\n",
       "      <th>DevType</th>\n",
       "      <th>YearsCoding</th>\n",
       "      <th>YearsCodingProf</th>\n",
       "      <th>EducationTypes</th>\n",
       "      <th>SelfTaughtTypes</th>\n",
       "      <th>LanguageWorkedWith</th>\n",
       "      <th>Salary</th>\n",
       "      <th>LanguageDesireNextYear</th>\n",
       "      <th>FrameworkWorkedWith</th>\n",
       "      <th>FrameworkDesireNextYear</th>\n",
       "      <th>OperatingSystem</th>\n",
       "      <th>Age</th>\n",
       "      <th>ConvertedSalary</th>\n",
       "    </tr>\n",
       "  </thead>\n",
       "  <tbody>\n",
       "    <tr>\n",
       "      <th>0</th>\n",
       "      <td>17522</td>\n",
       "      <td>Greece</td>\n",
       "      <td>No</td>\n",
       "      <td>Employed full-time</td>\n",
       "      <td>Bachelor’s degree (BA, BS, B.Eng., etc.)</td>\n",
       "      <td>Computer science, computer engineering, or sof...</td>\n",
       "      <td>Fewer than 10 employees</td>\n",
       "      <td>Back-end developer;Data or business analyst;Da...</td>\n",
       "      <td>3-5 years</td>\n",
       "      <td>0-2 years</td>\n",
       "      <td>Taught yourself a new language, framework, or ...</td>\n",
       "      <td>The official documentation and/or standards fo...</td>\n",
       "      <td>C#;Java;Matlab;Python;SQL;HTML;CSS</td>\n",
       "      <td>510</td>\n",
       "      <td>C++;C#;Java;JavaScript;Objective-C;Perl;Python...</td>\n",
       "      <td>Spark</td>\n",
       "      <td>Angular;Django;Hadoop;Node.js;Spark;Spring;Ten...</td>\n",
       "      <td>Linux-based</td>\n",
       "      <td>18 - 24 years old</td>\n",
       "      <td>NaN</td>\n",
       "    </tr>\n",
       "    <tr>\n",
       "      <th>1</th>\n",
       "      <td>83134</td>\n",
       "      <td>Nepal</td>\n",
       "      <td>Yes, full-time</td>\n",
       "      <td>Not employed, but looking for work</td>\n",
       "      <td>Bachelor’s degree (BA, BS, B.Eng., etc.)</td>\n",
       "      <td>Web development or web design</td>\n",
       "      <td>NaN</td>\n",
       "      <td>Front-end developer;Full-stack developer</td>\n",
       "      <td>3-5 years</td>\n",
       "      <td>0-2 years</td>\n",
       "      <td>Participated in a full-time developer training...</td>\n",
       "      <td>NaN</td>\n",
       "      <td>JavaScript;TypeScript</td>\n",
       "      <td>120</td>\n",
       "      <td>JavaScript;TypeScript</td>\n",
       "      <td>Angular;Node.js;React</td>\n",
       "      <td>Angular;Node.js;React</td>\n",
       "      <td>Windows</td>\n",
       "      <td>18 - 24 years old</td>\n",
       "      <td>1440.0</td>\n",
       "    </tr>\n",
       "    <tr>\n",
       "      <th>2</th>\n",
       "      <td>858</td>\n",
       "      <td>Bangladesh</td>\n",
       "      <td>No</td>\n",
       "      <td>Employed full-time</td>\n",
       "      <td>Master’s degree (MA, MS, M.Eng., MBA, etc.)</td>\n",
       "      <td>Computer science, computer engineering, or sof...</td>\n",
       "      <td>10 to 19 employees</td>\n",
       "      <td>Back-end developer;Desktop or enterprise appli...</td>\n",
       "      <td>6-8 years</td>\n",
       "      <td>6-8 years</td>\n",
       "      <td>Taken an online course in programming or softw...</td>\n",
       "      <td>NaN</td>\n",
       "      <td>C++;C#;Java;JavaScript;Matlab;SQL;HTML;Bash/Shell</td>\n",
       "      <td>100000</td>\n",
       "      <td>NaN</td>\n",
       "      <td>Angular</td>\n",
       "      <td>NaN</td>\n",
       "      <td>MacOS</td>\n",
       "      <td>25 - 34 years old</td>\n",
       "      <td>14436.0</td>\n",
       "    </tr>\n",
       "    <tr>\n",
       "      <th>3</th>\n",
       "      <td>53284</td>\n",
       "      <td>India</td>\n",
       "      <td>Yes, full-time</td>\n",
       "      <td>Employed full-time</td>\n",
       "      <td>Bachelor’s degree (BA, BS, B.Eng., etc.)</td>\n",
       "      <td>Computer science, computer engineering, or sof...</td>\n",
       "      <td>Fewer than 10 employees</td>\n",
       "      <td>Back-end developer;Designer;Student</td>\n",
       "      <td>3-5 years</td>\n",
       "      <td>NaN</td>\n",
       "      <td>NaN</td>\n",
       "      <td>NaN</td>\n",
       "      <td>C;PHP;HTML</td>\n",
       "      <td>NaN</td>\n",
       "      <td>Python;R</td>\n",
       "      <td>NaN</td>\n",
       "      <td>NaN</td>\n",
       "      <td>NaN</td>\n",
       "      <td>NaN</td>\n",
       "      <td>NaN</td>\n",
       "    </tr>\n",
       "    <tr>\n",
       "      <th>4</th>\n",
       "      <td>37884</td>\n",
       "      <td>Czech Republic</td>\n",
       "      <td>No</td>\n",
       "      <td>Employed part-time</td>\n",
       "      <td>Primary/elementary school</td>\n",
       "      <td>NaN</td>\n",
       "      <td>100 to 499 employees</td>\n",
       "      <td>Back-end developer;Desktop or enterprise appli...</td>\n",
       "      <td>3-5 years</td>\n",
       "      <td>0-2 years</td>\n",
       "      <td>Received on-the-job training in software devel...</td>\n",
       "      <td>The official documentation and/or standards fo...</td>\n",
       "      <td>C;C++;C#;Java;JavaScript;Lua;PHP;Python;SQL;HT...</td>\n",
       "      <td>220</td>\n",
       "      <td>Assembly;C++;C#;Perl;Python;R;Ruby;Rust;Bash/S...</td>\n",
       "      <td>.NET Core;TensorFlow;Torch/PyTorch</td>\n",
       "      <td>.NET Core;TensorFlow</td>\n",
       "      <td>Linux-based</td>\n",
       "      <td>Under 18 years old</td>\n",
       "      <td>3228.0</td>\n",
       "    </tr>\n",
       "  </tbody>\n",
       "</table>\n",
       "</div>"
      ],
      "text/plain": [
       "   Unnamed: 0         Country         Student  \\\n",
       "0       17522          Greece              No   \n",
       "1       83134           Nepal  Yes, full-time   \n",
       "2         858      Bangladesh              No   \n",
       "3       53284           India  Yes, full-time   \n",
       "4       37884  Czech Republic              No   \n",
       "\n",
       "                           Employment  \\\n",
       "0                  Employed full-time   \n",
       "1  Not employed, but looking for work   \n",
       "2                  Employed full-time   \n",
       "3                  Employed full-time   \n",
       "4                  Employed part-time   \n",
       "\n",
       "                               FormalEducation  \\\n",
       "0     Bachelor’s degree (BA, BS, B.Eng., etc.)   \n",
       "1     Bachelor’s degree (BA, BS, B.Eng., etc.)   \n",
       "2  Master’s degree (MA, MS, M.Eng., MBA, etc.)   \n",
       "3     Bachelor’s degree (BA, BS, B.Eng., etc.)   \n",
       "4                    Primary/elementary school   \n",
       "\n",
       "                                      UndergradMajor              CompanySize  \\\n",
       "0  Computer science, computer engineering, or sof...  Fewer than 10 employees   \n",
       "1                      Web development or web design                      NaN   \n",
       "2  Computer science, computer engineering, or sof...       10 to 19 employees   \n",
       "3  Computer science, computer engineering, or sof...  Fewer than 10 employees   \n",
       "4                                                NaN     100 to 499 employees   \n",
       "\n",
       "                                             DevType YearsCoding  \\\n",
       "0  Back-end developer;Data or business analyst;Da...   3-5 years   \n",
       "1           Front-end developer;Full-stack developer   3-5 years   \n",
       "2  Back-end developer;Desktop or enterprise appli...   6-8 years   \n",
       "3                Back-end developer;Designer;Student   3-5 years   \n",
       "4  Back-end developer;Desktop or enterprise appli...   3-5 years   \n",
       "\n",
       "  YearsCodingProf                                     EducationTypes  \\\n",
       "0       0-2 years  Taught yourself a new language, framework, or ...   \n",
       "1       0-2 years  Participated in a full-time developer training...   \n",
       "2       6-8 years  Taken an online course in programming or softw...   \n",
       "3             NaN                                                NaN   \n",
       "4       0-2 years  Received on-the-job training in software devel...   \n",
       "\n",
       "                                     SelfTaughtTypes  \\\n",
       "0  The official documentation and/or standards fo...   \n",
       "1                                                NaN   \n",
       "2                                                NaN   \n",
       "3                                                NaN   \n",
       "4  The official documentation and/or standards fo...   \n",
       "\n",
       "                                  LanguageWorkedWith  Salary  \\\n",
       "0                 C#;Java;Matlab;Python;SQL;HTML;CSS     510   \n",
       "1                              JavaScript;TypeScript     120   \n",
       "2  C++;C#;Java;JavaScript;Matlab;SQL;HTML;Bash/Shell  100000   \n",
       "3                                         C;PHP;HTML     NaN   \n",
       "4  C;C++;C#;Java;JavaScript;Lua;PHP;Python;SQL;HT...     220   \n",
       "\n",
       "                              LanguageDesireNextYear  \\\n",
       "0  C++;C#;Java;JavaScript;Objective-C;Perl;Python...   \n",
       "1                              JavaScript;TypeScript   \n",
       "2                                                NaN   \n",
       "3                                           Python;R   \n",
       "4  Assembly;C++;C#;Perl;Python;R;Ruby;Rust;Bash/S...   \n",
       "\n",
       "                  FrameworkWorkedWith  \\\n",
       "0                               Spark   \n",
       "1               Angular;Node.js;React   \n",
       "2                             Angular   \n",
       "3                                 NaN   \n",
       "4  .NET Core;TensorFlow;Torch/PyTorch   \n",
       "\n",
       "                             FrameworkDesireNextYear OperatingSystem  \\\n",
       "0  Angular;Django;Hadoop;Node.js;Spark;Spring;Ten...     Linux-based   \n",
       "1                              Angular;Node.js;React         Windows   \n",
       "2                                                NaN           MacOS   \n",
       "3                                                NaN             NaN   \n",
       "4                               .NET Core;TensorFlow     Linux-based   \n",
       "\n",
       "                  Age  ConvertedSalary  \n",
       "0   18 - 24 years old              NaN  \n",
       "1   18 - 24 years old           1440.0  \n",
       "2   25 - 34 years old          14436.0  \n",
       "3                 NaN              NaN  \n",
       "4  Under 18 years old           3228.0  "
      ]
     },
     "execution_count": 19,
     "metadata": {},
     "output_type": "execute_result"
    }
   ],
   "source": [
    "salaries_train.head()"
   ]
  },
  {
   "cell_type": "markdown",
   "metadata": {},
   "source": [
    "**Dealing with Country col**"
   ]
  },
  {
   "cell_type": "code",
   "execution_count": 20,
   "metadata": {},
   "outputs": [
    {
     "data": {
      "text/plain": [
       "Index(['Unnamed: 0', 'Country', 'Student', 'Employment', 'FormalEducation',\n",
       "       'UndergradMajor', 'CompanySize', 'DevType', 'YearsCoding',\n",
       "       'YearsCodingProf', 'EducationTypes', 'SelfTaughtTypes',\n",
       "       'LanguageWorkedWith', 'Salary', 'LanguageDesireNextYear',\n",
       "       'FrameworkWorkedWith', 'FrameworkDesireNextYear', 'OperatingSystem',\n",
       "       'Age', 'ConvertedSalary'],\n",
       "      dtype='object')"
      ]
     },
     "execution_count": 20,
     "metadata": {},
     "output_type": "execute_result"
    }
   ],
   "source": [
    "salaries_train.columns"
   ]
  },
  {
   "cell_type": "code",
   "execution_count": 21,
   "metadata": {},
   "outputs": [
    {
     "data": {
      "text/plain": [
       "array(['Greece', 'Nepal', 'Bangladesh', 'India', 'Czech Republic',\n",
       "       'Austria', 'Pakistan', 'United States', 'Germany', 'Australia',\n",
       "       'United Kingdom', 'Brazil', 'Bolivia', 'Indonesia', 'Switzerland',\n",
       "       'Poland', 'Sri Lanka', 'Canada', 'Sweden', 'Belarus', 'Bulgaria',\n",
       "       'Spain', 'France', 'Netherlands', 'Ghana', 'Russian Federation',\n",
       "       'Denmark', 'Mexico', 'Uruguay', 'Cuba', 'Luxembourg', 'Egypt',\n",
       "       'Italy', 'Hungary', 'Malaysia', 'Kuwait', 'Viet Nam', 'Turkey',\n",
       "       'Iran, Islamic Republic of...', 'Ireland', 'Colombia', 'Serbia',\n",
       "       'Jordan', 'Ukraine', 'Slovenia', 'Philippines', 'Portugal',\n",
       "       'Argentina', 'South Africa', 'Finland', 'Belgium', 'Iceland',\n",
       "       'Singapore', 'New Zealand', 'Romania', 'China'], dtype=object)"
      ]
     },
     "execution_count": 21,
     "metadata": {},
     "output_type": "execute_result"
    }
   ],
   "source": [
    "salaries_train[\"Country\"].unique()"
   ]
  },
  {
   "cell_type": "code",
   "execution_count": 22,
   "metadata": {},
   "outputs": [
    {
     "data": {
      "text/plain": [
       "56"
      ]
     },
     "execution_count": 22,
     "metadata": {},
     "output_type": "execute_result"
    }
   ],
   "source": [
    "len(salaries_train[\"Country\"].unique())"
   ]
  },
  {
   "cell_type": "markdown",
   "metadata": {},
   "source": [
    "**Dealing with the student col**"
   ]
  },
  {
   "cell_type": "code",
   "execution_count": 23,
   "metadata": {},
   "outputs": [
    {
     "data": {
      "text/plain": [
       "array(['No', 'Yes, full-time', 'Yes, part-time', nan], dtype=object)"
      ]
     },
     "execution_count": 23,
     "metadata": {},
     "output_type": "execute_result"
    }
   ],
   "source": [
    "salaries_train[\"Student\"].unique()"
   ]
  },
  {
   "cell_type": "markdown",
   "metadata": {},
   "source": [
    "replacing:\n",
    "- \"Yes, full-time\" --> \"Yes\"\n",
    "- \"Yes, part-time\" --> \"Yes\"\n",
    "- \"nan\" --> \"No"
   ]
  },
  {
   "cell_type": "code",
   "execution_count": 24,
   "metadata": {},
   "outputs": [],
   "source": [
    "salaries_train[\"Student\"].replace(\"Yes, full-time\",\"Yes\",inplace=True)\n",
    "salaries_train[\"Student\"].replace(\"Yes, part-time\",\"Yes\",inplace=True)\n",
    "salaries_train[\"Student\"].replace(np.nan,\"No\",inplace=True)"
   ]
  },
  {
   "cell_type": "code",
   "execution_count": 25,
   "metadata": {},
   "outputs": [
    {
     "data": {
      "text/plain": [
       "array(['No', 'Yes'], dtype=object)"
      ]
     },
     "execution_count": 25,
     "metadata": {},
     "output_type": "execute_result"
    }
   ],
   "source": [
    "# Show the distinct col values #\n",
    "salaries_train[\"Student\"].unique()"
   ]
  },
  {
   "cell_type": "markdown",
   "metadata": {},
   "source": [
    "**Dealing with the Employment col**"
   ]
  },
  {
   "cell_type": "code",
   "execution_count": 26,
   "metadata": {},
   "outputs": [
    {
     "data": {
      "text/plain": [
       "array(['Employed full-time', 'Not employed, but looking for work',\n",
       "       'Employed part-time', 'Not employed, and not looking for work',\n",
       "       'Independent contractor, freelancer, or self-employed', nan],\n",
       "      dtype=object)"
      ]
     },
     "execution_count": 26,
     "metadata": {},
     "output_type": "execute_result"
    }
   ],
   "source": [
    "salaries_train[\"Employment\"].unique()"
   ]
  },
  {
   "cell_type": "markdown",
   "metadata": {},
   "source": [
    "replace\n",
    "- 'Employed full-time' --> Employed\n",
    "- 'Employed part-time' --> Employed\n",
    "- 'Independent contractor, freelancer, or self-employed' --> Employed\n",
    "- 'Not employed, but looking for work' --> Not_employed\n",
    "- 'Not employed, and not looking for work' --> Not_employed\n",
    "- nan --> Not_employed"
   ]
  },
  {
   "cell_type": "code",
   "execution_count": 27,
   "metadata": {},
   "outputs": [],
   "source": [
    "salaries_train[\"Employment\"].replace(['Employed full-time','Employed part-time','Independent contractor, freelancer, or self-employed'],\"Employed\",inplace=True)\n",
    "salaries_train[\"Employment\"].replace(['Not employed, but looking for work','Not employed, and not looking for work',np.nan],\"Not_employed\",inplace=True)"
   ]
  },
  {
   "cell_type": "code",
   "execution_count": 28,
   "metadata": {},
   "outputs": [
    {
     "data": {
      "text/plain": [
       "array(['Employed', 'Not_employed'], dtype=object)"
      ]
     },
     "execution_count": 28,
     "metadata": {},
     "output_type": "execute_result"
    }
   ],
   "source": [
    "salaries_train[\"Employment\"].unique()"
   ]
  },
  {
   "cell_type": "markdown",
   "metadata": {},
   "source": [
    "**Dealing with the FormalEducation col**"
   ]
  },
  {
   "cell_type": "code",
   "execution_count": 29,
   "metadata": {},
   "outputs": [
    {
     "data": {
      "text/plain": [
       "array(['Bachelor’s degree (BA, BS, B.Eng., etc.)',\n",
       "       'Master’s degree (MA, MS, M.Eng., MBA, etc.)',\n",
       "       'Primary/elementary school',\n",
       "       'Secondary school (e.g. American high school, German Realschule or Gymnasium, etc.)',\n",
       "       nan, 'Some college/university study without earning a degree',\n",
       "       'Associate degree', 'Professional degree (JD, MD, etc.)',\n",
       "       'Other doctoral degree (Ph.D, Ed.D., etc.)'], dtype=object)"
      ]
     },
     "execution_count": 29,
     "metadata": {},
     "output_type": "execute_result"
    }
   ],
   "source": [
    "salaries_train[\"FormalEducation\"].unique()"
   ]
  },
  {
   "cell_type": "markdown",
   "metadata": {},
   "source": [
    "we categorize the education into level:\n",
    "- High --> 'Master’s degree (MA, MS, M.Eng., MBA, etc.)','Other doctoral degree (Ph.D, Ed.D., etc.)'\n",
    "- Medium --> 'Bachelor’s degree (BA, BS, B.Eng., etc.)','Some college/university study without earning a degree','Associate degree', 'Professional degree (JD, MD, etc.)'\n",
    "- low --> 'Primary/elementary school','Secondary school (e.g. American high school, German Realschule or Gymnasium, etc.)',nan"
   ]
  },
  {
   "cell_type": "code",
   "execution_count": 30,
   "metadata": {},
   "outputs": [],
   "source": [
    "salaries_train[\"FormalEducation\"].replace(['Master’s degree (MA, MS, M.Eng., MBA, etc.)','Other doctoral degree (Ph.D, Ed.D., etc.)'],\"High\",inplace=True)\n",
    "salaries_train[\"FormalEducation\"].replace(['Bachelor’s degree (BA, BS, B.Eng., etc.)','Some college/university study without earning a degree','Associate degree', 'Professional degree (JD, MD, etc.)'],\"Medium\",inplace=True)\n",
    "salaries_train[\"FormalEducation\"].replace(['Primary/elementary school','Secondary school (e.g. American high school, German Realschule or Gymnasium, etc.)',np.nan],\"Low\",inplace=True)"
   ]
  },
  {
   "cell_type": "code",
   "execution_count": 31,
   "metadata": {},
   "outputs": [
    {
     "data": {
      "text/plain": [
       "array(['Medium', 'High', 'Low'], dtype=object)"
      ]
     },
     "execution_count": 31,
     "metadata": {},
     "output_type": "execute_result"
    }
   ],
   "source": [
    "salaries_train[\"FormalEducation\"].unique()"
   ]
  },
  {
   "cell_type": "markdown",
   "metadata": {},
   "source": [
    "**Dealing with UndergradMajor col**"
   ]
  },
  {
   "cell_type": "code",
   "execution_count": 32,
   "metadata": {},
   "outputs": [
    {
     "data": {
      "text/plain": [
       "array(['Computer science, computer engineering, or software engineering',\n",
       "       'Web development or web design', nan,\n",
       "       'Information systems, information technology, or system administration',\n",
       "       'Another engineering discipline (ex. civil, electrical, mechanical)',\n",
       "       'A natural science (ex. biology, chemistry, physics)',\n",
       "       'A business discipline (ex. accounting, finance, marketing)',\n",
       "       'A health science (ex. nursing, pharmacy, radiology)',\n",
       "       'Mathematics or statistics',\n",
       "       'A humanities discipline (ex. literature, history, philosophy)',\n",
       "       'I never declared a major',\n",
       "       'A social science (ex. anthropology, psychology, political science)'],\n",
       "      dtype=object)"
      ]
     },
     "execution_count": 32,
     "metadata": {},
     "output_type": "execute_result"
    }
   ],
   "source": [
    "salaries_train[\"UndergradMajor\"].unique()"
   ]
  },
  {
   "cell_type": "code",
   "execution_count": 33,
   "metadata": {},
   "outputs": [
    {
     "data": {
      "text/plain": [
       "'Computer science, computer engineering, or software engineering'"
      ]
     },
     "execution_count": 33,
     "metadata": {},
     "output_type": "execute_result"
    }
   ],
   "source": [
    "salaries_train.loc[0,\"UndergradMajor\"]"
   ]
  },
  {
   "cell_type": "code",
   "execution_count": 34,
   "metadata": {},
   "outputs": [
    {
     "data": {
      "text/html": [
       "<div>\n",
       "<style scoped>\n",
       "    .dataframe tbody tr th:only-of-type {\n",
       "        vertical-align: middle;\n",
       "    }\n",
       "\n",
       "    .dataframe tbody tr th {\n",
       "        vertical-align: top;\n",
       "    }\n",
       "\n",
       "    .dataframe thead th {\n",
       "        text-align: right;\n",
       "    }\n",
       "</style>\n",
       "<table border=\"1\" class=\"dataframe\">\n",
       "  <thead>\n",
       "    <tr style=\"text-align: right;\">\n",
       "      <th></th>\n",
       "      <th>FormalEducation</th>\n",
       "      <th>UndergradMajor</th>\n",
       "    </tr>\n",
       "  </thead>\n",
       "  <tbody>\n",
       "    <tr>\n",
       "      <th>4</th>\n",
       "      <td>Low</td>\n",
       "      <td>NaN</td>\n",
       "    </tr>\n",
       "    <tr>\n",
       "      <th>6</th>\n",
       "      <td>Low</td>\n",
       "      <td>NaN</td>\n",
       "    </tr>\n",
       "    <tr>\n",
       "      <th>11</th>\n",
       "      <td>Low</td>\n",
       "      <td>NaN</td>\n",
       "    </tr>\n",
       "    <tr>\n",
       "      <th>14</th>\n",
       "      <td>Low</td>\n",
       "      <td>NaN</td>\n",
       "    </tr>\n",
       "    <tr>\n",
       "      <th>18</th>\n",
       "      <td>Low</td>\n",
       "      <td>NaN</td>\n",
       "    </tr>\n",
       "    <tr>\n",
       "      <th>29</th>\n",
       "      <td>Low</td>\n",
       "      <td>NaN</td>\n",
       "    </tr>\n",
       "    <tr>\n",
       "      <th>36</th>\n",
       "      <td>Low</td>\n",
       "      <td>NaN</td>\n",
       "    </tr>\n",
       "    <tr>\n",
       "      <th>38</th>\n",
       "      <td>Low</td>\n",
       "      <td>NaN</td>\n",
       "    </tr>\n",
       "    <tr>\n",
       "      <th>46</th>\n",
       "      <td>Low</td>\n",
       "      <td>NaN</td>\n",
       "    </tr>\n",
       "    <tr>\n",
       "      <th>54</th>\n",
       "      <td>Low</td>\n",
       "      <td>NaN</td>\n",
       "    </tr>\n",
       "    <tr>\n",
       "      <th>63</th>\n",
       "      <td>Low</td>\n",
       "      <td>NaN</td>\n",
       "    </tr>\n",
       "    <tr>\n",
       "      <th>71</th>\n",
       "      <td>Low</td>\n",
       "      <td>NaN</td>\n",
       "    </tr>\n",
       "    <tr>\n",
       "      <th>72</th>\n",
       "      <td>Low</td>\n",
       "      <td>NaN</td>\n",
       "    </tr>\n",
       "    <tr>\n",
       "      <th>79</th>\n",
       "      <td>Low</td>\n",
       "      <td>NaN</td>\n",
       "    </tr>\n",
       "    <tr>\n",
       "      <th>87</th>\n",
       "      <td>Low</td>\n",
       "      <td>NaN</td>\n",
       "    </tr>\n",
       "    <tr>\n",
       "      <th>88</th>\n",
       "      <td>Low</td>\n",
       "      <td>NaN</td>\n",
       "    </tr>\n",
       "    <tr>\n",
       "      <th>92</th>\n",
       "      <td>Low</td>\n",
       "      <td>NaN</td>\n",
       "    </tr>\n",
       "    <tr>\n",
       "      <th>97</th>\n",
       "      <td>Low</td>\n",
       "      <td>NaN</td>\n",
       "    </tr>\n",
       "    <tr>\n",
       "      <th>98</th>\n",
       "      <td>Low</td>\n",
       "      <td>NaN</td>\n",
       "    </tr>\n",
       "    <tr>\n",
       "      <th>115</th>\n",
       "      <td>Low</td>\n",
       "      <td>NaN</td>\n",
       "    </tr>\n",
       "    <tr>\n",
       "      <th>116</th>\n",
       "      <td>Low</td>\n",
       "      <td>NaN</td>\n",
       "    </tr>\n",
       "    <tr>\n",
       "      <th>117</th>\n",
       "      <td>Low</td>\n",
       "      <td>NaN</td>\n",
       "    </tr>\n",
       "    <tr>\n",
       "      <th>133</th>\n",
       "      <td>Low</td>\n",
       "      <td>NaN</td>\n",
       "    </tr>\n",
       "    <tr>\n",
       "      <th>146</th>\n",
       "      <td>Low</td>\n",
       "      <td>NaN</td>\n",
       "    </tr>\n",
       "    <tr>\n",
       "      <th>148</th>\n",
       "      <td>Low</td>\n",
       "      <td>NaN</td>\n",
       "    </tr>\n",
       "    <tr>\n",
       "      <th>156</th>\n",
       "      <td>Low</td>\n",
       "      <td>NaN</td>\n",
       "    </tr>\n",
       "    <tr>\n",
       "      <th>162</th>\n",
       "      <td>Low</td>\n",
       "      <td>NaN</td>\n",
       "    </tr>\n",
       "    <tr>\n",
       "      <th>163</th>\n",
       "      <td>Low</td>\n",
       "      <td>NaN</td>\n",
       "    </tr>\n",
       "    <tr>\n",
       "      <th>168</th>\n",
       "      <td>Low</td>\n",
       "      <td>NaN</td>\n",
       "    </tr>\n",
       "    <tr>\n",
       "      <th>175</th>\n",
       "      <td>Low</td>\n",
       "      <td>NaN</td>\n",
       "    </tr>\n",
       "    <tr>\n",
       "      <th>176</th>\n",
       "      <td>Low</td>\n",
       "      <td>NaN</td>\n",
       "    </tr>\n",
       "    <tr>\n",
       "      <th>186</th>\n",
       "      <td>Low</td>\n",
       "      <td>NaN</td>\n",
       "    </tr>\n",
       "    <tr>\n",
       "      <th>189</th>\n",
       "      <td>Low</td>\n",
       "      <td>NaN</td>\n",
       "    </tr>\n",
       "    <tr>\n",
       "      <th>199</th>\n",
       "      <td>Low</td>\n",
       "      <td>NaN</td>\n",
       "    </tr>\n",
       "  </tbody>\n",
       "</table>\n",
       "</div>"
      ],
      "text/plain": [
       "    FormalEducation UndergradMajor\n",
       "4               Low            NaN\n",
       "6               Low            NaN\n",
       "11              Low            NaN\n",
       "14              Low            NaN\n",
       "18              Low            NaN\n",
       "29              Low            NaN\n",
       "36              Low            NaN\n",
       "38              Low            NaN\n",
       "46              Low            NaN\n",
       "54              Low            NaN\n",
       "63              Low            NaN\n",
       "71              Low            NaN\n",
       "72              Low            NaN\n",
       "79              Low            NaN\n",
       "87              Low            NaN\n",
       "88              Low            NaN\n",
       "92              Low            NaN\n",
       "97              Low            NaN\n",
       "98              Low            NaN\n",
       "115             Low            NaN\n",
       "116             Low            NaN\n",
       "117             Low            NaN\n",
       "133             Low            NaN\n",
       "146             Low            NaN\n",
       "148             Low            NaN\n",
       "156             Low            NaN\n",
       "162             Low            NaN\n",
       "163             Low            NaN\n",
       "168             Low            NaN\n",
       "175             Low            NaN\n",
       "176             Low            NaN\n",
       "186             Low            NaN\n",
       "189             Low            NaN\n",
       "199             Low            NaN"
      ]
     },
     "execution_count": 34,
     "metadata": {},
     "output_type": "execute_result"
    }
   ],
   "source": [
    "# show when the UnndergradMajor and FormalEducation is Low(i.e. no college degree) \n",
    "salaries_train[[\"FormalEducation\",\"UndergradMajor\"]][salaries_train[\"FormalEducation\"] == \"Low\"]"
   ]
  },
  {
   "cell_type": "code",
   "execution_count": 35,
   "metadata": {},
   "outputs": [],
   "source": [
    "# Replace the null values will 0 #"
   ]
  },
  {
   "cell_type": "markdown",
   "metadata": {},
   "source": [
    "**Dealing with CompanySize col**"
   ]
  },
  {
   "cell_type": "code",
   "execution_count": 36,
   "metadata": {},
   "outputs": [
    {
     "data": {
      "text/html": [
       "<div>\n",
       "<style scoped>\n",
       "    .dataframe tbody tr th:only-of-type {\n",
       "        vertical-align: middle;\n",
       "    }\n",
       "\n",
       "    .dataframe tbody tr th {\n",
       "        vertical-align: top;\n",
       "    }\n",
       "\n",
       "    .dataframe thead th {\n",
       "        text-align: right;\n",
       "    }\n",
       "</style>\n",
       "<table border=\"1\" class=\"dataframe\">\n",
       "  <thead>\n",
       "    <tr style=\"text-align: right;\">\n",
       "      <th></th>\n",
       "      <th>Employment</th>\n",
       "      <th>CompanySize</th>\n",
       "    </tr>\n",
       "  </thead>\n",
       "  <tbody>\n",
       "    <tr>\n",
       "      <th>0</th>\n",
       "      <td>Employed</td>\n",
       "      <td>Fewer than 10 employees</td>\n",
       "    </tr>\n",
       "    <tr>\n",
       "      <th>1</th>\n",
       "      <td>Not_employed</td>\n",
       "      <td>NaN</td>\n",
       "    </tr>\n",
       "    <tr>\n",
       "      <th>2</th>\n",
       "      <td>Employed</td>\n",
       "      <td>10 to 19 employees</td>\n",
       "    </tr>\n",
       "    <tr>\n",
       "      <th>3</th>\n",
       "      <td>Employed</td>\n",
       "      <td>Fewer than 10 employees</td>\n",
       "    </tr>\n",
       "    <tr>\n",
       "      <th>4</th>\n",
       "      <td>Employed</td>\n",
       "      <td>100 to 499 employees</td>\n",
       "    </tr>\n",
       "    <tr>\n",
       "      <th>...</th>\n",
       "      <td>...</td>\n",
       "      <td>...</td>\n",
       "    </tr>\n",
       "    <tr>\n",
       "      <th>195</th>\n",
       "      <td>Employed</td>\n",
       "      <td>100 to 499 employees</td>\n",
       "    </tr>\n",
       "    <tr>\n",
       "      <th>196</th>\n",
       "      <td>Employed</td>\n",
       "      <td>NaN</td>\n",
       "    </tr>\n",
       "    <tr>\n",
       "      <th>197</th>\n",
       "      <td>Employed</td>\n",
       "      <td>20 to 99 employees</td>\n",
       "    </tr>\n",
       "    <tr>\n",
       "      <th>198</th>\n",
       "      <td>Employed</td>\n",
       "      <td>100 to 499 employees</td>\n",
       "    </tr>\n",
       "    <tr>\n",
       "      <th>199</th>\n",
       "      <td>Not_employed</td>\n",
       "      <td>NaN</td>\n",
       "    </tr>\n",
       "  </tbody>\n",
       "</table>\n",
       "<p>200 rows × 2 columns</p>\n",
       "</div>"
      ],
      "text/plain": [
       "       Employment              CompanySize\n",
       "0        Employed  Fewer than 10 employees\n",
       "1    Not_employed                      NaN\n",
       "2        Employed       10 to 19 employees\n",
       "3        Employed  Fewer than 10 employees\n",
       "4        Employed     100 to 499 employees\n",
       "..            ...                      ...\n",
       "195      Employed     100 to 499 employees\n",
       "196      Employed                      NaN\n",
       "197      Employed       20 to 99 employees\n",
       "198      Employed     100 to 499 employees\n",
       "199  Not_employed                      NaN\n",
       "\n",
       "[200 rows x 2 columns]"
      ]
     },
     "execution_count": 36,
     "metadata": {},
     "output_type": "execute_result"
    }
   ],
   "source": [
    "salaries_train[[\"Employment\",\"CompanySize\"]]"
   ]
  },
  {
   "cell_type": "code",
   "execution_count": 37,
   "metadata": {},
   "outputs": [
    {
     "data": {
      "text/html": [
       "<div>\n",
       "<style scoped>\n",
       "    .dataframe tbody tr th:only-of-type {\n",
       "        vertical-align: middle;\n",
       "    }\n",
       "\n",
       "    .dataframe tbody tr th {\n",
       "        vertical-align: top;\n",
       "    }\n",
       "\n",
       "    .dataframe thead th {\n",
       "        text-align: right;\n",
       "    }\n",
       "</style>\n",
       "<table border=\"1\" class=\"dataframe\">\n",
       "  <thead>\n",
       "    <tr style=\"text-align: right;\">\n",
       "      <th></th>\n",
       "      <th>Unnamed: 0</th>\n",
       "      <th>Country</th>\n",
       "      <th>Student</th>\n",
       "      <th>Employment</th>\n",
       "      <th>FormalEducation</th>\n",
       "      <th>UndergradMajor</th>\n",
       "      <th>CompanySize</th>\n",
       "      <th>DevType</th>\n",
       "      <th>YearsCoding</th>\n",
       "      <th>YearsCodingProf</th>\n",
       "      <th>EducationTypes</th>\n",
       "      <th>SelfTaughtTypes</th>\n",
       "      <th>LanguageWorkedWith</th>\n",
       "      <th>Salary</th>\n",
       "      <th>LanguageDesireNextYear</th>\n",
       "      <th>FrameworkWorkedWith</th>\n",
       "      <th>FrameworkDesireNextYear</th>\n",
       "      <th>OperatingSystem</th>\n",
       "      <th>Age</th>\n",
       "      <th>ConvertedSalary</th>\n",
       "    </tr>\n",
       "  </thead>\n",
       "  <tbody>\n",
       "    <tr>\n",
       "      <th>1</th>\n",
       "      <td>83134</td>\n",
       "      <td>Nepal</td>\n",
       "      <td>Yes</td>\n",
       "      <td>Not_employed</td>\n",
       "      <td>Medium</td>\n",
       "      <td>Web development or web design</td>\n",
       "      <td>NaN</td>\n",
       "      <td>Front-end developer;Full-stack developer</td>\n",
       "      <td>3-5 years</td>\n",
       "      <td>0-2 years</td>\n",
       "      <td>Participated in a full-time developer training...</td>\n",
       "      <td>NaN</td>\n",
       "      <td>JavaScript;TypeScript</td>\n",
       "      <td>120</td>\n",
       "      <td>JavaScript;TypeScript</td>\n",
       "      <td>Angular;Node.js;React</td>\n",
       "      <td>Angular;Node.js;React</td>\n",
       "      <td>Windows</td>\n",
       "      <td>18 - 24 years old</td>\n",
       "      <td>1440.0</td>\n",
       "    </tr>\n",
       "    <tr>\n",
       "      <th>6</th>\n",
       "      <td>84157</td>\n",
       "      <td>Pakistan</td>\n",
       "      <td>No</td>\n",
       "      <td>Not_employed</td>\n",
       "      <td>Low</td>\n",
       "      <td>NaN</td>\n",
       "      <td>NaN</td>\n",
       "      <td>Back-end developer;Desktop or enterprise appli...</td>\n",
       "      <td>3-5 years</td>\n",
       "      <td>0-2 years</td>\n",
       "      <td>Taken an online course in programming or softw...</td>\n",
       "      <td>NaN</td>\n",
       "      <td>Java;Python;HTML;CSS</td>\n",
       "      <td>NaN</td>\n",
       "      <td>Assembly;C#;Java;JavaScript;Perl;Python;Ruby;H...</td>\n",
       "      <td>NaN</td>\n",
       "      <td>Django;Node.js;React;Torch/PyTorch</td>\n",
       "      <td>Windows</td>\n",
       "      <td>Under 18 years old</td>\n",
       "      <td>NaN</td>\n",
       "    </tr>\n",
       "    <tr>\n",
       "      <th>16</th>\n",
       "      <td>85790</td>\n",
       "      <td>Pakistan</td>\n",
       "      <td>No</td>\n",
       "      <td>Not_employed</td>\n",
       "      <td>Medium</td>\n",
       "      <td>A business discipline (ex. accounting, finance...</td>\n",
       "      <td>NaN</td>\n",
       "      <td>Back-end developer;C-suite executive (CEO, CTO...</td>\n",
       "      <td>3-5 years</td>\n",
       "      <td>3-5 years</td>\n",
       "      <td>Taken an online course in programming or softw...</td>\n",
       "      <td>Questions &amp; answers on Stack Overflow;Online d...</td>\n",
       "      <td>Lua;Python;SQL;HTML;CSS;Bash/Shell</td>\n",
       "      <td>NaN</td>\n",
       "      <td>Python;HTML;CSS</td>\n",
       "      <td>Django</td>\n",
       "      <td>Django;TensorFlow</td>\n",
       "      <td>Linux-based</td>\n",
       "      <td>35 - 44 years old</td>\n",
       "      <td>NaN</td>\n",
       "    </tr>\n",
       "    <tr>\n",
       "      <th>18</th>\n",
       "      <td>83540</td>\n",
       "      <td>Indonesia</td>\n",
       "      <td>Yes</td>\n",
       "      <td>Not_employed</td>\n",
       "      <td>Low</td>\n",
       "      <td>NaN</td>\n",
       "      <td>NaN</td>\n",
       "      <td>Back-end developer;C-suite executive (CEO, CTO...</td>\n",
       "      <td>3-5 years</td>\n",
       "      <td>30 or more years</td>\n",
       "      <td>NaN</td>\n",
       "      <td>NaN</td>\n",
       "      <td>Assembly;C;C++;C#;CoffeeScript;Clojure;Erlang;...</td>\n",
       "      <td>08217000063</td>\n",
       "      <td>Assembly;C;C++;C#;CoffeeScript;Clojure;Erlang;...</td>\n",
       "      <td>Angular;.NET Core;Django;Hadoop;Node.js;React;...</td>\n",
       "      <td>Angular;.NET Core;Django;Hadoop;Node.js;React;...</td>\n",
       "      <td>NaN</td>\n",
       "      <td>35 - 44 years old</td>\n",
       "      <td>1000000.0</td>\n",
       "    </tr>\n",
       "    <tr>\n",
       "      <th>20</th>\n",
       "      <td>88759</td>\n",
       "      <td>India</td>\n",
       "      <td>Yes</td>\n",
       "      <td>Not_employed</td>\n",
       "      <td>Medium</td>\n",
       "      <td>Another engineering discipline (ex. civil, ele...</td>\n",
       "      <td>NaN</td>\n",
       "      <td>Student</td>\n",
       "      <td>0-2 years</td>\n",
       "      <td>NaN</td>\n",
       "      <td>NaN</td>\n",
       "      <td>NaN</td>\n",
       "      <td>NaN</td>\n",
       "      <td>NaN</td>\n",
       "      <td>NaN</td>\n",
       "      <td>NaN</td>\n",
       "      <td>NaN</td>\n",
       "      <td>NaN</td>\n",
       "      <td>NaN</td>\n",
       "      <td>NaN</td>\n",
       "    </tr>\n",
       "    <tr>\n",
       "      <th>28</th>\n",
       "      <td>90487</td>\n",
       "      <td>Bangladesh</td>\n",
       "      <td>No</td>\n",
       "      <td>Not_employed</td>\n",
       "      <td>Medium</td>\n",
       "      <td>Web development or web design</td>\n",
       "      <td>NaN</td>\n",
       "      <td>Back-end developer</td>\n",
       "      <td>0-2 years</td>\n",
       "      <td>NaN</td>\n",
       "      <td>Participated in a hackathon</td>\n",
       "      <td>NaN</td>\n",
       "      <td>Assembly;JavaScript;PHP;HTML;CSS</td>\n",
       "      <td>NaN</td>\n",
       "      <td>PHP</td>\n",
       "      <td>NaN</td>\n",
       "      <td>NaN</td>\n",
       "      <td>NaN</td>\n",
       "      <td>NaN</td>\n",
       "      <td>NaN</td>\n",
       "    </tr>\n",
       "    <tr>\n",
       "      <th>32</th>\n",
       "      <td>81275</td>\n",
       "      <td>Sri Lanka</td>\n",
       "      <td>Yes</td>\n",
       "      <td>Not_employed</td>\n",
       "      <td>Medium</td>\n",
       "      <td>Web development or web design</td>\n",
       "      <td>NaN</td>\n",
       "      <td>Designer;Front-end developer;Student</td>\n",
       "      <td>0-2 years</td>\n",
       "      <td>0-2 years</td>\n",
       "      <td>Taken an online course in programming or softw...</td>\n",
       "      <td>NaN</td>\n",
       "      <td>JavaScript;HTML;CSS</td>\n",
       "      <td>250</td>\n",
       "      <td>JavaScript;HTML;CSS</td>\n",
       "      <td>Angular</td>\n",
       "      <td>Angular</td>\n",
       "      <td>Windows</td>\n",
       "      <td>18 - 24 years old</td>\n",
       "      <td>3000.0</td>\n",
       "    </tr>\n",
       "    <tr>\n",
       "      <th>38</th>\n",
       "      <td>94719</td>\n",
       "      <td>Netherlands</td>\n",
       "      <td>No</td>\n",
       "      <td>Not_employed</td>\n",
       "      <td>Low</td>\n",
       "      <td>NaN</td>\n",
       "      <td>NaN</td>\n",
       "      <td>NaN</td>\n",
       "      <td>NaN</td>\n",
       "      <td>NaN</td>\n",
       "      <td>NaN</td>\n",
       "      <td>NaN</td>\n",
       "      <td>NaN</td>\n",
       "      <td>NaN</td>\n",
       "      <td>NaN</td>\n",
       "      <td>NaN</td>\n",
       "      <td>NaN</td>\n",
       "      <td>NaN</td>\n",
       "      <td>NaN</td>\n",
       "      <td>NaN</td>\n",
       "    </tr>\n",
       "    <tr>\n",
       "      <th>43</th>\n",
       "      <td>84805</td>\n",
       "      <td>Netherlands</td>\n",
       "      <td>Yes</td>\n",
       "      <td>Not_employed</td>\n",
       "      <td>Medium</td>\n",
       "      <td>Web development or web design</td>\n",
       "      <td>NaN</td>\n",
       "      <td>Back-end developer;Front-end developer;Marketi...</td>\n",
       "      <td>3-5 years</td>\n",
       "      <td>0-2 years</td>\n",
       "      <td>NaN</td>\n",
       "      <td>NaN</td>\n",
       "      <td>NaN</td>\n",
       "      <td>NaN</td>\n",
       "      <td>NaN</td>\n",
       "      <td>NaN</td>\n",
       "      <td>NaN</td>\n",
       "      <td>NaN</td>\n",
       "      <td>NaN</td>\n",
       "      <td>NaN</td>\n",
       "    </tr>\n",
       "    <tr>\n",
       "      <th>55</th>\n",
       "      <td>83779</td>\n",
       "      <td>United States</td>\n",
       "      <td>No</td>\n",
       "      <td>Not_employed</td>\n",
       "      <td>Medium</td>\n",
       "      <td>A humanities discipline (ex. literature, histo...</td>\n",
       "      <td>NaN</td>\n",
       "      <td>Front-end developer;Full-stack developer;Student</td>\n",
       "      <td>0-2 years</td>\n",
       "      <td>0-2 years</td>\n",
       "      <td>Taken an online course in programming or softw...</td>\n",
       "      <td>The official documentation and/or standards fo...</td>\n",
       "      <td>JavaScript;SQL;HTML;CSS</td>\n",
       "      <td>0</td>\n",
       "      <td>Java;JavaScript;PHP;Python;Scala;SQL;HTML;CSS;...</td>\n",
       "      <td>Angular;Node.js;React</td>\n",
       "      <td>Node.js;React</td>\n",
       "      <td>MacOS</td>\n",
       "      <td>18 - 24 years old</td>\n",
       "      <td>0.0</td>\n",
       "    </tr>\n",
       "    <tr>\n",
       "      <th>58</th>\n",
       "      <td>92415</td>\n",
       "      <td>Egypt</td>\n",
       "      <td>No</td>\n",
       "      <td>Not_employed</td>\n",
       "      <td>Medium</td>\n",
       "      <td>Web development or web design</td>\n",
       "      <td>NaN</td>\n",
       "      <td>Back-end developer;Designer;Full-stack develop...</td>\n",
       "      <td>0-2 years</td>\n",
       "      <td>NaN</td>\n",
       "      <td>NaN</td>\n",
       "      <td>NaN</td>\n",
       "      <td>HTML;CSS</td>\n",
       "      <td>NaN</td>\n",
       "      <td>JavaScript;PHP;Python;HTML;CSS</td>\n",
       "      <td>NaN</td>\n",
       "      <td>Angular;Django;Node.js;React</td>\n",
       "      <td>Windows</td>\n",
       "      <td>NaN</td>\n",
       "      <td>NaN</td>\n",
       "    </tr>\n",
       "    <tr>\n",
       "      <th>62</th>\n",
       "      <td>91360</td>\n",
       "      <td>India</td>\n",
       "      <td>No</td>\n",
       "      <td>Not_employed</td>\n",
       "      <td>Medium</td>\n",
       "      <td>NaN</td>\n",
       "      <td>NaN</td>\n",
       "      <td>NaN</td>\n",
       "      <td>0-2 years</td>\n",
       "      <td>NaN</td>\n",
       "      <td>NaN</td>\n",
       "      <td>NaN</td>\n",
       "      <td>NaN</td>\n",
       "      <td>NaN</td>\n",
       "      <td>C;C#;JavaScript;SQL;HTML</td>\n",
       "      <td>NaN</td>\n",
       "      <td>Angular;.NET Core</td>\n",
       "      <td>Windows</td>\n",
       "      <td>NaN</td>\n",
       "      <td>NaN</td>\n",
       "    </tr>\n",
       "    <tr>\n",
       "      <th>63</th>\n",
       "      <td>82394</td>\n",
       "      <td>Russian Federation</td>\n",
       "      <td>Yes</td>\n",
       "      <td>Not_employed</td>\n",
       "      <td>Low</td>\n",
       "      <td>NaN</td>\n",
       "      <td>NaN</td>\n",
       "      <td>Back-end developer;Desktop or enterprise appli...</td>\n",
       "      <td>3-5 years</td>\n",
       "      <td>0-2 years</td>\n",
       "      <td>Taught yourself a new language, framework, or ...</td>\n",
       "      <td>The official documentation and/or standards fo...</td>\n",
       "      <td>NaN</td>\n",
       "      <td>NaN</td>\n",
       "      <td>C#;Go;JavaScript</td>\n",
       "      <td>.NET Core</td>\n",
       "      <td>.NET Core</td>\n",
       "      <td>Windows</td>\n",
       "      <td>18 - 24 years old</td>\n",
       "      <td>NaN</td>\n",
       "    </tr>\n",
       "    <tr>\n",
       "      <th>66</th>\n",
       "      <td>89600</td>\n",
       "      <td>India</td>\n",
       "      <td>Yes</td>\n",
       "      <td>Not_employed</td>\n",
       "      <td>Medium</td>\n",
       "      <td>Computer science, computer engineering, or sof...</td>\n",
       "      <td>NaN</td>\n",
       "      <td>Student</td>\n",
       "      <td>3-5 years</td>\n",
       "      <td>NaN</td>\n",
       "      <td>Taken an online course in programming or softw...</td>\n",
       "      <td>NaN</td>\n",
       "      <td>C;C++;JavaScript;HTML;CSS;Bash/Shell</td>\n",
       "      <td>NaN</td>\n",
       "      <td>CoffeeScript;JavaScript;Python;HTML;CSS;Bash/S...</td>\n",
       "      <td>NaN</td>\n",
       "      <td>Angular;Node.js;React</td>\n",
       "      <td>Linux-based</td>\n",
       "      <td>18 - 24 years old</td>\n",
       "      <td>NaN</td>\n",
       "    </tr>\n",
       "    <tr>\n",
       "      <th>71</th>\n",
       "      <td>85722</td>\n",
       "      <td>France</td>\n",
       "      <td>No</td>\n",
       "      <td>Not_employed</td>\n",
       "      <td>Low</td>\n",
       "      <td>NaN</td>\n",
       "      <td>NaN</td>\n",
       "      <td>Front-end developer;Student;System administrator</td>\n",
       "      <td>0-2 years</td>\n",
       "      <td>0-2 years</td>\n",
       "      <td>Taken an online course in programming or softw...</td>\n",
       "      <td>The official documentation and/or standards fo...</td>\n",
       "      <td>Haskell;JavaScript;Rust;HTML;CSS;Bash/Shell</td>\n",
       "      <td>NaN</td>\n",
       "      <td>Assembly;C;Kotlin</td>\n",
       "      <td>Node.js</td>\n",
       "      <td>React;TensorFlow;Torch/PyTorch</td>\n",
       "      <td>Linux-based</td>\n",
       "      <td>Under 18 years old</td>\n",
       "      <td>NaN</td>\n",
       "    </tr>\n",
       "    <tr>\n",
       "      <th>79</th>\n",
       "      <td>98566</td>\n",
       "      <td>Viet Nam</td>\n",
       "      <td>No</td>\n",
       "      <td>Not_employed</td>\n",
       "      <td>Low</td>\n",
       "      <td>NaN</td>\n",
       "      <td>NaN</td>\n",
       "      <td>NaN</td>\n",
       "      <td>NaN</td>\n",
       "      <td>NaN</td>\n",
       "      <td>NaN</td>\n",
       "      <td>NaN</td>\n",
       "      <td>NaN</td>\n",
       "      <td>NaN</td>\n",
       "      <td>NaN</td>\n",
       "      <td>NaN</td>\n",
       "      <td>NaN</td>\n",
       "      <td>NaN</td>\n",
       "      <td>NaN</td>\n",
       "      <td>NaN</td>\n",
       "    </tr>\n",
       "    <tr>\n",
       "      <th>81</th>\n",
       "      <td>83356</td>\n",
       "      <td>United States</td>\n",
       "      <td>Yes</td>\n",
       "      <td>Not_employed</td>\n",
       "      <td>Medium</td>\n",
       "      <td>Computer science, computer engineering, or sof...</td>\n",
       "      <td>NaN</td>\n",
       "      <td>Educator or academic researcher;Front-end deve...</td>\n",
       "      <td>6-8 years</td>\n",
       "      <td>0-2 years</td>\n",
       "      <td>Received on-the-job training in software devel...</td>\n",
       "      <td>The official documentation and/or standards fo...</td>\n",
       "      <td>C++;C#;Java;JavaScript;Python;SQL;HTML;CSS</td>\n",
       "      <td>NaN</td>\n",
       "      <td>C++;Java;Python</td>\n",
       "      <td>React</td>\n",
       "      <td>React</td>\n",
       "      <td>Windows</td>\n",
       "      <td>18 - 24 years old</td>\n",
       "      <td>NaN</td>\n",
       "    </tr>\n",
       "    <tr>\n",
       "      <th>92</th>\n",
       "      <td>89483</td>\n",
       "      <td>Germany</td>\n",
       "      <td>Yes</td>\n",
       "      <td>Not_employed</td>\n",
       "      <td>Low</td>\n",
       "      <td>NaN</td>\n",
       "      <td>NaN</td>\n",
       "      <td>Student</td>\n",
       "      <td>3-5 years</td>\n",
       "      <td>NaN</td>\n",
       "      <td>Taught yourself a new language, framework, or ...</td>\n",
       "      <td>The official documentation and/or standards fo...</td>\n",
       "      <td>C++;Java;JavaScript;PHP;Python</td>\n",
       "      <td>NaN</td>\n",
       "      <td>C;C++;Go</td>\n",
       "      <td>NaN</td>\n",
       "      <td>NaN</td>\n",
       "      <td>Linux-based</td>\n",
       "      <td>18 - 24 years old</td>\n",
       "      <td>NaN</td>\n",
       "    </tr>\n",
       "    <tr>\n",
       "      <th>97</th>\n",
       "      <td>83373</td>\n",
       "      <td>Colombia</td>\n",
       "      <td>Yes</td>\n",
       "      <td>Not_employed</td>\n",
       "      <td>Low</td>\n",
       "      <td>NaN</td>\n",
       "      <td>NaN</td>\n",
       "      <td>Back-end developer;Desktop or enterprise appli...</td>\n",
       "      <td>0-2 years</td>\n",
       "      <td>0-2 years</td>\n",
       "      <td>Taken an online course in programming or softw...</td>\n",
       "      <td>The official documentation and/or standards fo...</td>\n",
       "      <td>Java;JavaScript;PHP;Python;SQL;HTML;CSS;Bash/S...</td>\n",
       "      <td>NaN</td>\n",
       "      <td>Assembly;C;C++;Go;Kotlin</td>\n",
       "      <td>Django;Node.js;React</td>\n",
       "      <td>Angular;Django;Node.js;React</td>\n",
       "      <td>Windows</td>\n",
       "      <td>Under 18 years old</td>\n",
       "      <td>NaN</td>\n",
       "    </tr>\n",
       "    <tr>\n",
       "      <th>114</th>\n",
       "      <td>92735</td>\n",
       "      <td>Philippines</td>\n",
       "      <td>No</td>\n",
       "      <td>Not_employed</td>\n",
       "      <td>Medium</td>\n",
       "      <td>Information systems, information technology, o...</td>\n",
       "      <td>NaN</td>\n",
       "      <td>Back-end developer;DevOps specialist;Full-stac...</td>\n",
       "      <td>6-8 years</td>\n",
       "      <td>NaN</td>\n",
       "      <td>NaN</td>\n",
       "      <td>NaN</td>\n",
       "      <td>NaN</td>\n",
       "      <td>NaN</td>\n",
       "      <td>NaN</td>\n",
       "      <td>NaN</td>\n",
       "      <td>NaN</td>\n",
       "      <td>NaN</td>\n",
       "      <td>NaN</td>\n",
       "      <td>NaN</td>\n",
       "    </tr>\n",
       "    <tr>\n",
       "      <th>124</th>\n",
       "      <td>85237</td>\n",
       "      <td>India</td>\n",
       "      <td>Yes</td>\n",
       "      <td>Not_employed</td>\n",
       "      <td>Medium</td>\n",
       "      <td>Web development or web design</td>\n",
       "      <td>NaN</td>\n",
       "      <td>DevOps specialist;Full-stack developer</td>\n",
       "      <td>0-2 years</td>\n",
       "      <td>0-2 years</td>\n",
       "      <td>Taken an online course in programming or softw...</td>\n",
       "      <td>The official documentation and/or standards fo...</td>\n",
       "      <td>C;C++;HTML;CSS;Bash/Shell</td>\n",
       "      <td>NaN</td>\n",
       "      <td>C++;JavaScript;HTML;CSS;Bash/Shell</td>\n",
       "      <td>NaN</td>\n",
       "      <td>Angular;Django;Node.js;React</td>\n",
       "      <td>Linux-based</td>\n",
       "      <td>18 - 24 years old</td>\n",
       "      <td>NaN</td>\n",
       "    </tr>\n",
       "    <tr>\n",
       "      <th>125</th>\n",
       "      <td>88633</td>\n",
       "      <td>United States</td>\n",
       "      <td>No</td>\n",
       "      <td>Not_employed</td>\n",
       "      <td>Medium</td>\n",
       "      <td>A social science (ex. anthropology, psychology...</td>\n",
       "      <td>NaN</td>\n",
       "      <td>Marketing or sales professional</td>\n",
       "      <td>0-2 years</td>\n",
       "      <td>NaN</td>\n",
       "      <td>Taken an online course in programming or softw...</td>\n",
       "      <td>A college/university computer science or softw...</td>\n",
       "      <td>HTML;CSS</td>\n",
       "      <td>35000</td>\n",
       "      <td>JavaScript;Python;SQL;HTML;CSS</td>\n",
       "      <td>NaN</td>\n",
       "      <td>.NET Core;Django;Node.js;React</td>\n",
       "      <td>Windows</td>\n",
       "      <td>25 - 34 years old</td>\n",
       "      <td>35000.0</td>\n",
       "    </tr>\n",
       "    <tr>\n",
       "      <th>131</th>\n",
       "      <td>93561</td>\n",
       "      <td>India</td>\n",
       "      <td>Yes</td>\n",
       "      <td>Not_employed</td>\n",
       "      <td>Medium</td>\n",
       "      <td>Computer science, computer engineering, or sof...</td>\n",
       "      <td>NaN</td>\n",
       "      <td>NaN</td>\n",
       "      <td>3-5 years</td>\n",
       "      <td>NaN</td>\n",
       "      <td>NaN</td>\n",
       "      <td>NaN</td>\n",
       "      <td>NaN</td>\n",
       "      <td>NaN</td>\n",
       "      <td>NaN</td>\n",
       "      <td>NaN</td>\n",
       "      <td>NaN</td>\n",
       "      <td>NaN</td>\n",
       "      <td>NaN</td>\n",
       "      <td>NaN</td>\n",
       "    </tr>\n",
       "    <tr>\n",
       "      <th>133</th>\n",
       "      <td>86294</td>\n",
       "      <td>India</td>\n",
       "      <td>Yes</td>\n",
       "      <td>Not_employed</td>\n",
       "      <td>Low</td>\n",
       "      <td>NaN</td>\n",
       "      <td>NaN</td>\n",
       "      <td>Front-end developer;Student</td>\n",
       "      <td>0-2 years</td>\n",
       "      <td>0-2 years</td>\n",
       "      <td>NaN</td>\n",
       "      <td>NaN</td>\n",
       "      <td>NaN</td>\n",
       "      <td>NaN</td>\n",
       "      <td>NaN</td>\n",
       "      <td>NaN</td>\n",
       "      <td>NaN</td>\n",
       "      <td>NaN</td>\n",
       "      <td>NaN</td>\n",
       "      <td>NaN</td>\n",
       "    </tr>\n",
       "    <tr>\n",
       "      <th>148</th>\n",
       "      <td>80483</td>\n",
       "      <td>United States</td>\n",
       "      <td>No</td>\n",
       "      <td>Not_employed</td>\n",
       "      <td>Low</td>\n",
       "      <td>NaN</td>\n",
       "      <td>NaN</td>\n",
       "      <td>Game or graphics developer;Student</td>\n",
       "      <td>3-5 years</td>\n",
       "      <td>0-2 years</td>\n",
       "      <td>Taught yourself a new language, framework, or ...</td>\n",
       "      <td>The official documentation and/or standards fo...</td>\n",
       "      <td>Python</td>\n",
       "      <td>NaN</td>\n",
       "      <td>Python</td>\n",
       "      <td>NaN</td>\n",
       "      <td>NaN</td>\n",
       "      <td>MacOS</td>\n",
       "      <td>Under 18 years old</td>\n",
       "      <td>NaN</td>\n",
       "    </tr>\n",
       "    <tr>\n",
       "      <th>149</th>\n",
       "      <td>82638</td>\n",
       "      <td>United States</td>\n",
       "      <td>Yes</td>\n",
       "      <td>Not_employed</td>\n",
       "      <td>Medium</td>\n",
       "      <td>A natural science (ex. biology, chemistry, phy...</td>\n",
       "      <td>NaN</td>\n",
       "      <td>Back-end developer;Designer;Front-end develope...</td>\n",
       "      <td>3-5 years</td>\n",
       "      <td>0-2 years</td>\n",
       "      <td>Taken an online course in programming or softw...</td>\n",
       "      <td>The official documentation and/or standards fo...</td>\n",
       "      <td>Assembly;C++;Groovy;Java;JavaScript;Python;SQL...</td>\n",
       "      <td>NaN</td>\n",
       "      <td>C#;Groovy;JavaScript;Python;SQL;TypeScript;HTML</td>\n",
       "      <td>Angular;Node.js</td>\n",
       "      <td>Angular;Django;Node.js;Spring</td>\n",
       "      <td>Windows</td>\n",
       "      <td>18 - 24 years old</td>\n",
       "      <td>NaN</td>\n",
       "    </tr>\n",
       "    <tr>\n",
       "      <th>156</th>\n",
       "      <td>94604</td>\n",
       "      <td>Belgium</td>\n",
       "      <td>No</td>\n",
       "      <td>Not_employed</td>\n",
       "      <td>Low</td>\n",
       "      <td>NaN</td>\n",
       "      <td>NaN</td>\n",
       "      <td>NaN</td>\n",
       "      <td>NaN</td>\n",
       "      <td>NaN</td>\n",
       "      <td>NaN</td>\n",
       "      <td>NaN</td>\n",
       "      <td>NaN</td>\n",
       "      <td>NaN</td>\n",
       "      <td>NaN</td>\n",
       "      <td>NaN</td>\n",
       "      <td>NaN</td>\n",
       "      <td>NaN</td>\n",
       "      <td>NaN</td>\n",
       "      <td>NaN</td>\n",
       "    </tr>\n",
       "    <tr>\n",
       "      <th>158</th>\n",
       "      <td>93395</td>\n",
       "      <td>France</td>\n",
       "      <td>Yes</td>\n",
       "      <td>Not_employed</td>\n",
       "      <td>Medium</td>\n",
       "      <td>Computer science, computer engineering, or sof...</td>\n",
       "      <td>NaN</td>\n",
       "      <td>Data scientist or machine learning specialist;...</td>\n",
       "      <td>6-8 years</td>\n",
       "      <td>NaN</td>\n",
       "      <td>NaN</td>\n",
       "      <td>NaN</td>\n",
       "      <td>NaN</td>\n",
       "      <td>NaN</td>\n",
       "      <td>NaN</td>\n",
       "      <td>NaN</td>\n",
       "      <td>NaN</td>\n",
       "      <td>NaN</td>\n",
       "      <td>NaN</td>\n",
       "      <td>NaN</td>\n",
       "    </tr>\n",
       "    <tr>\n",
       "      <th>163</th>\n",
       "      <td>95055</td>\n",
       "      <td>Jordan</td>\n",
       "      <td>Yes</td>\n",
       "      <td>Not_employed</td>\n",
       "      <td>Low</td>\n",
       "      <td>NaN</td>\n",
       "      <td>NaN</td>\n",
       "      <td>NaN</td>\n",
       "      <td>NaN</td>\n",
       "      <td>NaN</td>\n",
       "      <td>NaN</td>\n",
       "      <td>NaN</td>\n",
       "      <td>NaN</td>\n",
       "      <td>NaN</td>\n",
       "      <td>NaN</td>\n",
       "      <td>NaN</td>\n",
       "      <td>NaN</td>\n",
       "      <td>NaN</td>\n",
       "      <td>NaN</td>\n",
       "      <td>NaN</td>\n",
       "    </tr>\n",
       "    <tr>\n",
       "      <th>168</th>\n",
       "      <td>95948</td>\n",
       "      <td>India</td>\n",
       "      <td>No</td>\n",
       "      <td>Not_employed</td>\n",
       "      <td>Low</td>\n",
       "      <td>NaN</td>\n",
       "      <td>NaN</td>\n",
       "      <td>NaN</td>\n",
       "      <td>NaN</td>\n",
       "      <td>NaN</td>\n",
       "      <td>NaN</td>\n",
       "      <td>NaN</td>\n",
       "      <td>NaN</td>\n",
       "      <td>NaN</td>\n",
       "      <td>NaN</td>\n",
       "      <td>NaN</td>\n",
       "      <td>NaN</td>\n",
       "      <td>NaN</td>\n",
       "      <td>NaN</td>\n",
       "      <td>NaN</td>\n",
       "    </tr>\n",
       "    <tr>\n",
       "      <th>172</th>\n",
       "      <td>91167</td>\n",
       "      <td>Philippines</td>\n",
       "      <td>Yes</td>\n",
       "      <td>Not_employed</td>\n",
       "      <td>Medium</td>\n",
       "      <td>Web development or web design</td>\n",
       "      <td>NaN</td>\n",
       "      <td>Back-end developer;Data or business analyst;Da...</td>\n",
       "      <td>3-5 years</td>\n",
       "      <td>NaN</td>\n",
       "      <td>NaN</td>\n",
       "      <td>NaN</td>\n",
       "      <td>C;JavaScript;PHP;Python;HTML;CSS</td>\n",
       "      <td>NaN</td>\n",
       "      <td>C++;C#;Java;R;VB.NET;Visual Basic 6</td>\n",
       "      <td>NaN</td>\n",
       "      <td>NaN</td>\n",
       "      <td>NaN</td>\n",
       "      <td>NaN</td>\n",
       "      <td>NaN</td>\n",
       "    </tr>\n",
       "    <tr>\n",
       "      <th>175</th>\n",
       "      <td>84640</td>\n",
       "      <td>Singapore</td>\n",
       "      <td>Yes</td>\n",
       "      <td>Not_employed</td>\n",
       "      <td>Low</td>\n",
       "      <td>NaN</td>\n",
       "      <td>NaN</td>\n",
       "      <td>Back-end developer;Database administrator;Student</td>\n",
       "      <td>3-5 years</td>\n",
       "      <td>0-2 years</td>\n",
       "      <td>Taken an online course in programming or softw...</td>\n",
       "      <td>The official documentation and/or standards fo...</td>\n",
       "      <td>C++;JavaScript;Objective-C;PHP;SQL;Swift;HTML;CSS</td>\n",
       "      <td>NaN</td>\n",
       "      <td>Java;Ruby</td>\n",
       "      <td>NaN</td>\n",
       "      <td>Node.js</td>\n",
       "      <td>MacOS</td>\n",
       "      <td>Under 18 years old</td>\n",
       "      <td>NaN</td>\n",
       "    </tr>\n",
       "    <tr>\n",
       "      <th>176</th>\n",
       "      <td>85062</td>\n",
       "      <td>New Zealand</td>\n",
       "      <td>No</td>\n",
       "      <td>Not_employed</td>\n",
       "      <td>Low</td>\n",
       "      <td>NaN</td>\n",
       "      <td>NaN</td>\n",
       "      <td>Back-end developer;Desktop or enterprise appli...</td>\n",
       "      <td>0-2 years</td>\n",
       "      <td>0-2 years</td>\n",
       "      <td>Taught yourself a new language, framework, or ...</td>\n",
       "      <td>The official documentation and/or standards fo...</td>\n",
       "      <td>C++;C#;Go;Java;JavaScript;Lua;Objective-C;Python</td>\n",
       "      <td>NaN</td>\n",
       "      <td>Assembly;C++;CoffeeScript;Clojure;Go;JavaScrip...</td>\n",
       "      <td>Node.js</td>\n",
       "      <td>Node.js;React;Xamarin;TensorFlow</td>\n",
       "      <td>Windows</td>\n",
       "      <td>Under 18 years old</td>\n",
       "      <td>NaN</td>\n",
       "    </tr>\n",
       "    <tr>\n",
       "      <th>183</th>\n",
       "      <td>85191</td>\n",
       "      <td>United States</td>\n",
       "      <td>No</td>\n",
       "      <td>Not_employed</td>\n",
       "      <td>High</td>\n",
       "      <td>A natural science (ex. biology, chemistry, phy...</td>\n",
       "      <td>NaN</td>\n",
       "      <td>Data or business analyst;Data scientist or mac...</td>\n",
       "      <td>24-26 years</td>\n",
       "      <td>24-26 years</td>\n",
       "      <td>Taken an online course in programming or softw...</td>\n",
       "      <td>The official documentation and/or standards fo...</td>\n",
       "      <td>JavaScript;Python;Scala;SQL</td>\n",
       "      <td>NaN</td>\n",
       "      <td>JavaScript;Python;Scala;SQL</td>\n",
       "      <td>Django;Hadoop;Node.js;React;Spark</td>\n",
       "      <td>Django;Node.js;React;Spark;TensorFlow</td>\n",
       "      <td>Linux-based</td>\n",
       "      <td>55 - 64 years old</td>\n",
       "      <td>NaN</td>\n",
       "    </tr>\n",
       "    <tr>\n",
       "      <th>185</th>\n",
       "      <td>91196</td>\n",
       "      <td>China</td>\n",
       "      <td>Yes</td>\n",
       "      <td>Not_employed</td>\n",
       "      <td>Medium</td>\n",
       "      <td>Computer science, computer engineering, or sof...</td>\n",
       "      <td>NaN</td>\n",
       "      <td>Data scientist or machine learning specialist;...</td>\n",
       "      <td>3-5 years</td>\n",
       "      <td>NaN</td>\n",
       "      <td>NaN</td>\n",
       "      <td>NaN</td>\n",
       "      <td>C;C++;JavaScript;Matlab;Python;HTML;CSS;Bash/S...</td>\n",
       "      <td>NaN</td>\n",
       "      <td>C;C++;Matlab;Python</td>\n",
       "      <td>Node.js;TensorFlow</td>\n",
       "      <td>TensorFlow;Torch/PyTorch</td>\n",
       "      <td>Linux-based</td>\n",
       "      <td>NaN</td>\n",
       "      <td>NaN</td>\n",
       "    </tr>\n",
       "    <tr>\n",
       "      <th>186</th>\n",
       "      <td>89245</td>\n",
       "      <td>India</td>\n",
       "      <td>No</td>\n",
       "      <td>Not_employed</td>\n",
       "      <td>Low</td>\n",
       "      <td>NaN</td>\n",
       "      <td>NaN</td>\n",
       "      <td>Student</td>\n",
       "      <td>0-2 years</td>\n",
       "      <td>NaN</td>\n",
       "      <td>Taken an online course in programming or softw...</td>\n",
       "      <td>The official documentation and/or standards fo...</td>\n",
       "      <td>NaN</td>\n",
       "      <td>NaN</td>\n",
       "      <td>Assembly;C;C++;C#;CoffeeScript;Clojure;Erlang;...</td>\n",
       "      <td>NaN</td>\n",
       "      <td>NaN</td>\n",
       "      <td>Windows</td>\n",
       "      <td>Under 18 years old</td>\n",
       "      <td>NaN</td>\n",
       "    </tr>\n",
       "    <tr>\n",
       "      <th>194</th>\n",
       "      <td>80790</td>\n",
       "      <td>United States</td>\n",
       "      <td>No</td>\n",
       "      <td>Not_employed</td>\n",
       "      <td>High</td>\n",
       "      <td>Computer science, computer engineering, or sof...</td>\n",
       "      <td>NaN</td>\n",
       "      <td>Back-end developer;Desktop or enterprise appli...</td>\n",
       "      <td>30 or more years</td>\n",
       "      <td>27-29 years</td>\n",
       "      <td>Received on-the-job training in software devel...</td>\n",
       "      <td>The official documentation and/or standards fo...</td>\n",
       "      <td>JavaScript;Python;HTML;CSS;Bash/Shell</td>\n",
       "      <td>0</td>\n",
       "      <td>Go;Haskell;JavaScript;Rust;TypeScript;Kotlin;O...</td>\n",
       "      <td>Node.js;React</td>\n",
       "      <td>Node.js;React;TensorFlow</td>\n",
       "      <td>Windows</td>\n",
       "      <td>45 - 54 years old</td>\n",
       "      <td>0.0</td>\n",
       "    </tr>\n",
       "    <tr>\n",
       "      <th>199</th>\n",
       "      <td>87040</td>\n",
       "      <td>Netherlands</td>\n",
       "      <td>Yes</td>\n",
       "      <td>Not_employed</td>\n",
       "      <td>Low</td>\n",
       "      <td>NaN</td>\n",
       "      <td>NaN</td>\n",
       "      <td>Back-end developer;Data scientist or machine l...</td>\n",
       "      <td>6-8 years</td>\n",
       "      <td>0-2 years</td>\n",
       "      <td>Taken an online course in programming or softw...</td>\n",
       "      <td>The official documentation and/or standards fo...</td>\n",
       "      <td>C#;PHP;SQL</td>\n",
       "      <td>NaN</td>\n",
       "      <td>C#;Haskell;Python;Bash/Shell</td>\n",
       "      <td>NaN</td>\n",
       "      <td>NaN</td>\n",
       "      <td>Windows</td>\n",
       "      <td>18 - 24 years old</td>\n",
       "      <td>NaN</td>\n",
       "    </tr>\n",
       "  </tbody>\n",
       "</table>\n",
       "</div>"
      ],
      "text/plain": [
       "     Unnamed: 0             Country Student    Employment FormalEducation  \\\n",
       "1         83134               Nepal     Yes  Not_employed          Medium   \n",
       "6         84157            Pakistan      No  Not_employed             Low   \n",
       "16        85790            Pakistan      No  Not_employed          Medium   \n",
       "18        83540           Indonesia     Yes  Not_employed             Low   \n",
       "20        88759               India     Yes  Not_employed          Medium   \n",
       "28        90487          Bangladesh      No  Not_employed          Medium   \n",
       "32        81275           Sri Lanka     Yes  Not_employed          Medium   \n",
       "38        94719         Netherlands      No  Not_employed             Low   \n",
       "43        84805         Netherlands     Yes  Not_employed          Medium   \n",
       "55        83779       United States      No  Not_employed          Medium   \n",
       "58        92415               Egypt      No  Not_employed          Medium   \n",
       "62        91360               India      No  Not_employed          Medium   \n",
       "63        82394  Russian Federation     Yes  Not_employed             Low   \n",
       "66        89600               India     Yes  Not_employed          Medium   \n",
       "71        85722              France      No  Not_employed             Low   \n",
       "79        98566            Viet Nam      No  Not_employed             Low   \n",
       "81        83356       United States     Yes  Not_employed          Medium   \n",
       "92        89483             Germany     Yes  Not_employed             Low   \n",
       "97        83373            Colombia     Yes  Not_employed             Low   \n",
       "114       92735         Philippines      No  Not_employed          Medium   \n",
       "124       85237               India     Yes  Not_employed          Medium   \n",
       "125       88633       United States      No  Not_employed          Medium   \n",
       "131       93561               India     Yes  Not_employed          Medium   \n",
       "133       86294               India     Yes  Not_employed             Low   \n",
       "148       80483       United States      No  Not_employed             Low   \n",
       "149       82638       United States     Yes  Not_employed          Medium   \n",
       "156       94604             Belgium      No  Not_employed             Low   \n",
       "158       93395              France     Yes  Not_employed          Medium   \n",
       "163       95055              Jordan     Yes  Not_employed             Low   \n",
       "168       95948               India      No  Not_employed             Low   \n",
       "172       91167         Philippines     Yes  Not_employed          Medium   \n",
       "175       84640           Singapore     Yes  Not_employed             Low   \n",
       "176       85062         New Zealand      No  Not_employed             Low   \n",
       "183       85191       United States      No  Not_employed            High   \n",
       "185       91196               China     Yes  Not_employed          Medium   \n",
       "186       89245               India      No  Not_employed             Low   \n",
       "194       80790       United States      No  Not_employed            High   \n",
       "199       87040         Netherlands     Yes  Not_employed             Low   \n",
       "\n",
       "                                        UndergradMajor CompanySize  \\\n",
       "1                        Web development or web design         NaN   \n",
       "6                                                  NaN         NaN   \n",
       "16   A business discipline (ex. accounting, finance...         NaN   \n",
       "18                                                 NaN         NaN   \n",
       "20   Another engineering discipline (ex. civil, ele...         NaN   \n",
       "28                       Web development or web design         NaN   \n",
       "32                       Web development or web design         NaN   \n",
       "38                                                 NaN         NaN   \n",
       "43                       Web development or web design         NaN   \n",
       "55   A humanities discipline (ex. literature, histo...         NaN   \n",
       "58                       Web development or web design         NaN   \n",
       "62                                                 NaN         NaN   \n",
       "63                                                 NaN         NaN   \n",
       "66   Computer science, computer engineering, or sof...         NaN   \n",
       "71                                                 NaN         NaN   \n",
       "79                                                 NaN         NaN   \n",
       "81   Computer science, computer engineering, or sof...         NaN   \n",
       "92                                                 NaN         NaN   \n",
       "97                                                 NaN         NaN   \n",
       "114  Information systems, information technology, o...         NaN   \n",
       "124                      Web development or web design         NaN   \n",
       "125  A social science (ex. anthropology, psychology...         NaN   \n",
       "131  Computer science, computer engineering, or sof...         NaN   \n",
       "133                                                NaN         NaN   \n",
       "148                                                NaN         NaN   \n",
       "149  A natural science (ex. biology, chemistry, phy...         NaN   \n",
       "156                                                NaN         NaN   \n",
       "158  Computer science, computer engineering, or sof...         NaN   \n",
       "163                                                NaN         NaN   \n",
       "168                                                NaN         NaN   \n",
       "172                      Web development or web design         NaN   \n",
       "175                                                NaN         NaN   \n",
       "176                                                NaN         NaN   \n",
       "183  A natural science (ex. biology, chemistry, phy...         NaN   \n",
       "185  Computer science, computer engineering, or sof...         NaN   \n",
       "186                                                NaN         NaN   \n",
       "194  Computer science, computer engineering, or sof...         NaN   \n",
       "199                                                NaN         NaN   \n",
       "\n",
       "                                               DevType       YearsCoding  \\\n",
       "1             Front-end developer;Full-stack developer         3-5 years   \n",
       "6    Back-end developer;Desktop or enterprise appli...         3-5 years   \n",
       "16   Back-end developer;C-suite executive (CEO, CTO...         3-5 years   \n",
       "18   Back-end developer;C-suite executive (CEO, CTO...         3-5 years   \n",
       "20                                             Student         0-2 years   \n",
       "28                                  Back-end developer         0-2 years   \n",
       "32                Designer;Front-end developer;Student         0-2 years   \n",
       "38                                                 NaN               NaN   \n",
       "43   Back-end developer;Front-end developer;Marketi...         3-5 years   \n",
       "55    Front-end developer;Full-stack developer;Student         0-2 years   \n",
       "58   Back-end developer;Designer;Full-stack develop...         0-2 years   \n",
       "62                                                 NaN         0-2 years   \n",
       "63   Back-end developer;Desktop or enterprise appli...         3-5 years   \n",
       "66                                             Student         3-5 years   \n",
       "71    Front-end developer;Student;System administrator         0-2 years   \n",
       "79                                                 NaN               NaN   \n",
       "81   Educator or academic researcher;Front-end deve...         6-8 years   \n",
       "92                                             Student         3-5 years   \n",
       "97   Back-end developer;Desktop or enterprise appli...         0-2 years   \n",
       "114  Back-end developer;DevOps specialist;Full-stac...         6-8 years   \n",
       "124             DevOps specialist;Full-stack developer         0-2 years   \n",
       "125                    Marketing or sales professional         0-2 years   \n",
       "131                                                NaN         3-5 years   \n",
       "133                        Front-end developer;Student         0-2 years   \n",
       "148                 Game or graphics developer;Student         3-5 years   \n",
       "149  Back-end developer;Designer;Front-end develope...         3-5 years   \n",
       "156                                                NaN               NaN   \n",
       "158  Data scientist or machine learning specialist;...         6-8 years   \n",
       "163                                                NaN               NaN   \n",
       "168                                                NaN               NaN   \n",
       "172  Back-end developer;Data or business analyst;Da...         3-5 years   \n",
       "175  Back-end developer;Database administrator;Student         3-5 years   \n",
       "176  Back-end developer;Desktop or enterprise appli...         0-2 years   \n",
       "183  Data or business analyst;Data scientist or mac...       24-26 years   \n",
       "185  Data scientist or machine learning specialist;...         3-5 years   \n",
       "186                                            Student         0-2 years   \n",
       "194  Back-end developer;Desktop or enterprise appli...  30 or more years   \n",
       "199  Back-end developer;Data scientist or machine l...         6-8 years   \n",
       "\n",
       "      YearsCodingProf                                     EducationTypes  \\\n",
       "1           0-2 years  Participated in a full-time developer training...   \n",
       "6           0-2 years  Taken an online course in programming or softw...   \n",
       "16          3-5 years  Taken an online course in programming or softw...   \n",
       "18   30 or more years                                                NaN   \n",
       "20                NaN                                                NaN   \n",
       "28                NaN                        Participated in a hackathon   \n",
       "32          0-2 years  Taken an online course in programming or softw...   \n",
       "38                NaN                                                NaN   \n",
       "43          0-2 years                                                NaN   \n",
       "55          0-2 years  Taken an online course in programming or softw...   \n",
       "58                NaN                                                NaN   \n",
       "62                NaN                                                NaN   \n",
       "63          0-2 years  Taught yourself a new language, framework, or ...   \n",
       "66                NaN  Taken an online course in programming or softw...   \n",
       "71          0-2 years  Taken an online course in programming or softw...   \n",
       "79                NaN                                                NaN   \n",
       "81          0-2 years  Received on-the-job training in software devel...   \n",
       "92                NaN  Taught yourself a new language, framework, or ...   \n",
       "97          0-2 years  Taken an online course in programming or softw...   \n",
       "114               NaN                                                NaN   \n",
       "124         0-2 years  Taken an online course in programming or softw...   \n",
       "125               NaN  Taken an online course in programming or softw...   \n",
       "131               NaN                                                NaN   \n",
       "133         0-2 years                                                NaN   \n",
       "148         0-2 years  Taught yourself a new language, framework, or ...   \n",
       "149         0-2 years  Taken an online course in programming or softw...   \n",
       "156               NaN                                                NaN   \n",
       "158               NaN                                                NaN   \n",
       "163               NaN                                                NaN   \n",
       "168               NaN                                                NaN   \n",
       "172               NaN                                                NaN   \n",
       "175         0-2 years  Taken an online course in programming or softw...   \n",
       "176         0-2 years  Taught yourself a new language, framework, or ...   \n",
       "183       24-26 years  Taken an online course in programming or softw...   \n",
       "185               NaN                                                NaN   \n",
       "186               NaN  Taken an online course in programming or softw...   \n",
       "194       27-29 years  Received on-the-job training in software devel...   \n",
       "199         0-2 years  Taken an online course in programming or softw...   \n",
       "\n",
       "                                       SelfTaughtTypes  \\\n",
       "1                                                  NaN   \n",
       "6                                                  NaN   \n",
       "16   Questions & answers on Stack Overflow;Online d...   \n",
       "18                                                 NaN   \n",
       "20                                                 NaN   \n",
       "28                                                 NaN   \n",
       "32                                                 NaN   \n",
       "38                                                 NaN   \n",
       "43                                                 NaN   \n",
       "55   The official documentation and/or standards fo...   \n",
       "58                                                 NaN   \n",
       "62                                                 NaN   \n",
       "63   The official documentation and/or standards fo...   \n",
       "66                                                 NaN   \n",
       "71   The official documentation and/or standards fo...   \n",
       "79                                                 NaN   \n",
       "81   The official documentation and/or standards fo...   \n",
       "92   The official documentation and/or standards fo...   \n",
       "97   The official documentation and/or standards fo...   \n",
       "114                                                NaN   \n",
       "124  The official documentation and/or standards fo...   \n",
       "125  A college/university computer science or softw...   \n",
       "131                                                NaN   \n",
       "133                                                NaN   \n",
       "148  The official documentation and/or standards fo...   \n",
       "149  The official documentation and/or standards fo...   \n",
       "156                                                NaN   \n",
       "158                                                NaN   \n",
       "163                                                NaN   \n",
       "168                                                NaN   \n",
       "172                                                NaN   \n",
       "175  The official documentation and/or standards fo...   \n",
       "176  The official documentation and/or standards fo...   \n",
       "183  The official documentation and/or standards fo...   \n",
       "185                                                NaN   \n",
       "186  The official documentation and/or standards fo...   \n",
       "194  The official documentation and/or standards fo...   \n",
       "199  The official documentation and/or standards fo...   \n",
       "\n",
       "                                    LanguageWorkedWith       Salary  \\\n",
       "1                                JavaScript;TypeScript          120   \n",
       "6                                 Java;Python;HTML;CSS          NaN   \n",
       "16                  Lua;Python;SQL;HTML;CSS;Bash/Shell          NaN   \n",
       "18   Assembly;C;C++;C#;CoffeeScript;Clojure;Erlang;...  08217000063   \n",
       "20                                                 NaN          NaN   \n",
       "28                    Assembly;JavaScript;PHP;HTML;CSS          NaN   \n",
       "32                                 JavaScript;HTML;CSS          250   \n",
       "38                                                 NaN          NaN   \n",
       "43                                                 NaN          NaN   \n",
       "55                             JavaScript;SQL;HTML;CSS            0   \n",
       "58                                            HTML;CSS          NaN   \n",
       "62                                                 NaN          NaN   \n",
       "63                                                 NaN          NaN   \n",
       "66                C;C++;JavaScript;HTML;CSS;Bash/Shell          NaN   \n",
       "71         Haskell;JavaScript;Rust;HTML;CSS;Bash/Shell          NaN   \n",
       "79                                                 NaN          NaN   \n",
       "81          C++;C#;Java;JavaScript;Python;SQL;HTML;CSS          NaN   \n",
       "92                      C++;Java;JavaScript;PHP;Python          NaN   \n",
       "97   Java;JavaScript;PHP;Python;SQL;HTML;CSS;Bash/S...          NaN   \n",
       "114                                                NaN          NaN   \n",
       "124                          C;C++;HTML;CSS;Bash/Shell          NaN   \n",
       "125                                           HTML;CSS        35000   \n",
       "131                                                NaN          NaN   \n",
       "133                                                NaN          NaN   \n",
       "148                                             Python          NaN   \n",
       "149  Assembly;C++;Groovy;Java;JavaScript;Python;SQL...          NaN   \n",
       "156                                                NaN          NaN   \n",
       "158                                                NaN          NaN   \n",
       "163                                                NaN          NaN   \n",
       "168                                                NaN          NaN   \n",
       "172                   C;JavaScript;PHP;Python;HTML;CSS          NaN   \n",
       "175  C++;JavaScript;Objective-C;PHP;SQL;Swift;HTML;CSS          NaN   \n",
       "176   C++;C#;Go;Java;JavaScript;Lua;Objective-C;Python          NaN   \n",
       "183                        JavaScript;Python;Scala;SQL          NaN   \n",
       "185  C;C++;JavaScript;Matlab;Python;HTML;CSS;Bash/S...          NaN   \n",
       "186                                                NaN          NaN   \n",
       "194              JavaScript;Python;HTML;CSS;Bash/Shell            0   \n",
       "199                                         C#;PHP;SQL          NaN   \n",
       "\n",
       "                                LanguageDesireNextYear  \\\n",
       "1                                JavaScript;TypeScript   \n",
       "6    Assembly;C#;Java;JavaScript;Perl;Python;Ruby;H...   \n",
       "16                                     Python;HTML;CSS   \n",
       "18   Assembly;C;C++;C#;CoffeeScript;Clojure;Erlang;...   \n",
       "20                                                 NaN   \n",
       "28                                                 PHP   \n",
       "32                                 JavaScript;HTML;CSS   \n",
       "38                                                 NaN   \n",
       "43                                                 NaN   \n",
       "55   Java;JavaScript;PHP;Python;Scala;SQL;HTML;CSS;...   \n",
       "58                      JavaScript;PHP;Python;HTML;CSS   \n",
       "62                            C;C#;JavaScript;SQL;HTML   \n",
       "63                                    C#;Go;JavaScript   \n",
       "66   CoffeeScript;JavaScript;Python;HTML;CSS;Bash/S...   \n",
       "71                                   Assembly;C;Kotlin   \n",
       "79                                                 NaN   \n",
       "81                                     C++;Java;Python   \n",
       "92                                            C;C++;Go   \n",
       "97                            Assembly;C;C++;Go;Kotlin   \n",
       "114                                                NaN   \n",
       "124                 C++;JavaScript;HTML;CSS;Bash/Shell   \n",
       "125                     JavaScript;Python;SQL;HTML;CSS   \n",
       "131                                                NaN   \n",
       "133                                                NaN   \n",
       "148                                             Python   \n",
       "149    C#;Groovy;JavaScript;Python;SQL;TypeScript;HTML   \n",
       "156                                                NaN   \n",
       "158                                                NaN   \n",
       "163                                                NaN   \n",
       "168                                                NaN   \n",
       "172                C++;C#;Java;R;VB.NET;Visual Basic 6   \n",
       "175                                          Java;Ruby   \n",
       "176  Assembly;C++;CoffeeScript;Clojure;Go;JavaScrip...   \n",
       "183                        JavaScript;Python;Scala;SQL   \n",
       "185                                C;C++;Matlab;Python   \n",
       "186  Assembly;C;C++;C#;CoffeeScript;Clojure;Erlang;...   \n",
       "194  Go;Haskell;JavaScript;Rust;TypeScript;Kotlin;O...   \n",
       "199                       C#;Haskell;Python;Bash/Shell   \n",
       "\n",
       "                                   FrameworkWorkedWith  \\\n",
       "1                                Angular;Node.js;React   \n",
       "6                                                  NaN   \n",
       "16                                              Django   \n",
       "18   Angular;.NET Core;Django;Hadoop;Node.js;React;...   \n",
       "20                                                 NaN   \n",
       "28                                                 NaN   \n",
       "32                                             Angular   \n",
       "38                                                 NaN   \n",
       "43                                                 NaN   \n",
       "55                               Angular;Node.js;React   \n",
       "58                                                 NaN   \n",
       "62                                                 NaN   \n",
       "63                                           .NET Core   \n",
       "66                                                 NaN   \n",
       "71                                             Node.js   \n",
       "79                                                 NaN   \n",
       "81                                               React   \n",
       "92                                                 NaN   \n",
       "97                                Django;Node.js;React   \n",
       "114                                                NaN   \n",
       "124                                                NaN   \n",
       "125                                                NaN   \n",
       "131                                                NaN   \n",
       "133                                                NaN   \n",
       "148                                                NaN   \n",
       "149                                    Angular;Node.js   \n",
       "156                                                NaN   \n",
       "158                                                NaN   \n",
       "163                                                NaN   \n",
       "168                                                NaN   \n",
       "172                                                NaN   \n",
       "175                                                NaN   \n",
       "176                                            Node.js   \n",
       "183                  Django;Hadoop;Node.js;React;Spark   \n",
       "185                                 Node.js;TensorFlow   \n",
       "186                                                NaN   \n",
       "194                                      Node.js;React   \n",
       "199                                                NaN   \n",
       "\n",
       "                               FrameworkDesireNextYear OperatingSystem  \\\n",
       "1                                Angular;Node.js;React         Windows   \n",
       "6                   Django;Node.js;React;Torch/PyTorch         Windows   \n",
       "16                                   Django;TensorFlow     Linux-based   \n",
       "18   Angular;.NET Core;Django;Hadoop;Node.js;React;...             NaN   \n",
       "20                                                 NaN             NaN   \n",
       "28                                                 NaN             NaN   \n",
       "32                                             Angular         Windows   \n",
       "38                                                 NaN             NaN   \n",
       "43                                                 NaN             NaN   \n",
       "55                                       Node.js;React           MacOS   \n",
       "58                        Angular;Django;Node.js;React         Windows   \n",
       "62                                   Angular;.NET Core         Windows   \n",
       "63                                           .NET Core         Windows   \n",
       "66                               Angular;Node.js;React     Linux-based   \n",
       "71                      React;TensorFlow;Torch/PyTorch     Linux-based   \n",
       "79                                                 NaN             NaN   \n",
       "81                                               React         Windows   \n",
       "92                                                 NaN     Linux-based   \n",
       "97                        Angular;Django;Node.js;React         Windows   \n",
       "114                                                NaN             NaN   \n",
       "124                       Angular;Django;Node.js;React     Linux-based   \n",
       "125                     .NET Core;Django;Node.js;React         Windows   \n",
       "131                                                NaN             NaN   \n",
       "133                                                NaN             NaN   \n",
       "148                                                NaN           MacOS   \n",
       "149                      Angular;Django;Node.js;Spring         Windows   \n",
       "156                                                NaN             NaN   \n",
       "158                                                NaN             NaN   \n",
       "163                                                NaN             NaN   \n",
       "168                                                NaN             NaN   \n",
       "172                                                NaN             NaN   \n",
       "175                                            Node.js           MacOS   \n",
       "176                   Node.js;React;Xamarin;TensorFlow         Windows   \n",
       "183              Django;Node.js;React;Spark;TensorFlow     Linux-based   \n",
       "185                           TensorFlow;Torch/PyTorch     Linux-based   \n",
       "186                                                NaN         Windows   \n",
       "194                           Node.js;React;TensorFlow         Windows   \n",
       "199                                                NaN         Windows   \n",
       "\n",
       "                    Age  ConvertedSalary  \n",
       "1     18 - 24 years old           1440.0  \n",
       "6    Under 18 years old              NaN  \n",
       "16    35 - 44 years old              NaN  \n",
       "18    35 - 44 years old        1000000.0  \n",
       "20                  NaN              NaN  \n",
       "28                  NaN              NaN  \n",
       "32    18 - 24 years old           3000.0  \n",
       "38                  NaN              NaN  \n",
       "43                  NaN              NaN  \n",
       "55    18 - 24 years old              0.0  \n",
       "58                  NaN              NaN  \n",
       "62                  NaN              NaN  \n",
       "63    18 - 24 years old              NaN  \n",
       "66    18 - 24 years old              NaN  \n",
       "71   Under 18 years old              NaN  \n",
       "79                  NaN              NaN  \n",
       "81    18 - 24 years old              NaN  \n",
       "92    18 - 24 years old              NaN  \n",
       "97   Under 18 years old              NaN  \n",
       "114                 NaN              NaN  \n",
       "124   18 - 24 years old              NaN  \n",
       "125   25 - 34 years old          35000.0  \n",
       "131                 NaN              NaN  \n",
       "133                 NaN              NaN  \n",
       "148  Under 18 years old              NaN  \n",
       "149   18 - 24 years old              NaN  \n",
       "156                 NaN              NaN  \n",
       "158                 NaN              NaN  \n",
       "163                 NaN              NaN  \n",
       "168                 NaN              NaN  \n",
       "172                 NaN              NaN  \n",
       "175  Under 18 years old              NaN  \n",
       "176  Under 18 years old              NaN  \n",
       "183   55 - 64 years old              NaN  \n",
       "185                 NaN              NaN  \n",
       "186  Under 18 years old              NaN  \n",
       "194   45 - 54 years old              0.0  \n",
       "199   18 - 24 years old              NaN  "
      ]
     },
     "execution_count": 37,
     "metadata": {},
     "output_type": "execute_result"
    }
   ],
   "source": [
    "salaries_train[salaries_train[\"Employment\"] == \"Not_employed\"]"
   ]
  },
  {
   "cell_type": "markdown",
   "metadata": {},
   "source": [
    "The idea is:\n",
    "\n",
    "if salaries_train[\"Employment\"] == \"Not_employed\" --> salaries_train[\"CompanySize\"] == np.nan:\n",
    "    \n",
    "    then set salaries_train[\"CompanySize\"] --> 0"
   ]
  },
  {
   "cell_type": "code",
   "execution_count": 38,
   "metadata": {},
   "outputs": [],
   "source": [
    "# To be updated later #\n",
    "# salaries_train[salaries_train[\"Employment\"] == \"Not_employed\"][[\"CompanySize\"]].replace(np.nan,0,inplace=True)"
   ]
  },
  {
   "cell_type": "code",
   "execution_count": 39,
   "metadata": {},
   "outputs": [
    {
     "data": {
      "text/plain": [
       "array(['Fewer than 10 employees', nan, '10 to 19 employees',\n",
       "       '100 to 499 employees', '20 to 99 employees',\n",
       "       '500 to 999 employees', '1,000 to 4,999 employees',\n",
       "       '5,000 to 9,999 employees', '10,000 or more employees'],\n",
       "      dtype=object)"
      ]
     },
     "execution_count": 39,
     "metadata": {},
     "output_type": "execute_result"
    }
   ],
   "source": [
    "salaries_train[\"CompanySize\"].unique()"
   ]
  },
  {
   "cell_type": "markdown",
   "metadata": {},
   "source": [
    "categorize by average:\n",
    "\n",
    "- 'Fewer than 10 employees' --> 10\n",
    "- '10 to 19 employees' --> 15\n",
    "- '20 to 99 employees' --> 60\n",
    "- '100 to 499 employees' --> 300\n",
    "- '500 to 999 employees' --> 750\n",
    "- '1,000 to 4,999 employees' --> 3000\n",
    "- '5,000 to 9,999 employees' --> 7500\n",
    "- '10,000 or more employees' --> 10000"
   ]
  },
  {
   "cell_type": "code",
   "execution_count": 40,
   "metadata": {},
   "outputs": [],
   "source": [
    "salaries_train[\"CompanySize\"].replace('Fewer than 10 employees',10,inplace=True)\n",
    "salaries_train[\"CompanySize\"].replace('10 to 19 employees',15,inplace=True)\n",
    "salaries_train[\"CompanySize\"].replace('20 to 99 employees',60,inplace=True)\n",
    "salaries_train[\"CompanySize\"].replace('100 to 499 employees',300,inplace=True)\n",
    "salaries_train[\"CompanySize\"].replace('500 to 999 employees',750,inplace=True)\n",
    "salaries_train[\"CompanySize\"].replace('1,000 to 4,999 employees',3000,inplace=True)\n",
    "salaries_train[\"CompanySize\"].replace('5,000 to 9,999 employees',7500,inplace=True)\n",
    "salaries_train[\"CompanySize\"].replace('10,000 or more employees',10000,inplace=True)"
   ]
  },
  {
   "cell_type": "code",
   "execution_count": 41,
   "metadata": {},
   "outputs": [
    {
     "data": {
      "text/html": [
       "<div>\n",
       "<style scoped>\n",
       "    .dataframe tbody tr th:only-of-type {\n",
       "        vertical-align: middle;\n",
       "    }\n",
       "\n",
       "    .dataframe tbody tr th {\n",
       "        vertical-align: top;\n",
       "    }\n",
       "\n",
       "    .dataframe thead th {\n",
       "        text-align: right;\n",
       "    }\n",
       "</style>\n",
       "<table border=\"1\" class=\"dataframe\">\n",
       "  <thead>\n",
       "    <tr style=\"text-align: right;\">\n",
       "      <th></th>\n",
       "      <th>Unnamed: 0</th>\n",
       "      <th>Country</th>\n",
       "      <th>Student</th>\n",
       "      <th>Employment</th>\n",
       "      <th>FormalEducation</th>\n",
       "      <th>UndergradMajor</th>\n",
       "      <th>CompanySize</th>\n",
       "      <th>DevType</th>\n",
       "      <th>YearsCoding</th>\n",
       "      <th>YearsCodingProf</th>\n",
       "      <th>EducationTypes</th>\n",
       "      <th>SelfTaughtTypes</th>\n",
       "      <th>LanguageWorkedWith</th>\n",
       "      <th>Salary</th>\n",
       "      <th>LanguageDesireNextYear</th>\n",
       "      <th>FrameworkWorkedWith</th>\n",
       "      <th>FrameworkDesireNextYear</th>\n",
       "      <th>OperatingSystem</th>\n",
       "      <th>Age</th>\n",
       "      <th>ConvertedSalary</th>\n",
       "    </tr>\n",
       "  </thead>\n",
       "  <tbody>\n",
       "    <tr>\n",
       "      <th>0</th>\n",
       "      <td>17522</td>\n",
       "      <td>Greece</td>\n",
       "      <td>No</td>\n",
       "      <td>Employed</td>\n",
       "      <td>Medium</td>\n",
       "      <td>Computer science, computer engineering, or sof...</td>\n",
       "      <td>10.0</td>\n",
       "      <td>Back-end developer;Data or business analyst;Da...</td>\n",
       "      <td>3-5 years</td>\n",
       "      <td>0-2 years</td>\n",
       "      <td>Taught yourself a new language, framework, or ...</td>\n",
       "      <td>The official documentation and/or standards fo...</td>\n",
       "      <td>C#;Java;Matlab;Python;SQL;HTML;CSS</td>\n",
       "      <td>510</td>\n",
       "      <td>C++;C#;Java;JavaScript;Objective-C;Perl;Python...</td>\n",
       "      <td>Spark</td>\n",
       "      <td>Angular;Django;Hadoop;Node.js;Spark;Spring;Ten...</td>\n",
       "      <td>Linux-based</td>\n",
       "      <td>18 - 24 years old</td>\n",
       "      <td>NaN</td>\n",
       "    </tr>\n",
       "    <tr>\n",
       "      <th>1</th>\n",
       "      <td>83134</td>\n",
       "      <td>Nepal</td>\n",
       "      <td>Yes</td>\n",
       "      <td>Not_employed</td>\n",
       "      <td>Medium</td>\n",
       "      <td>Web development or web design</td>\n",
       "      <td>NaN</td>\n",
       "      <td>Front-end developer;Full-stack developer</td>\n",
       "      <td>3-5 years</td>\n",
       "      <td>0-2 years</td>\n",
       "      <td>Participated in a full-time developer training...</td>\n",
       "      <td>NaN</td>\n",
       "      <td>JavaScript;TypeScript</td>\n",
       "      <td>120</td>\n",
       "      <td>JavaScript;TypeScript</td>\n",
       "      <td>Angular;Node.js;React</td>\n",
       "      <td>Angular;Node.js;React</td>\n",
       "      <td>Windows</td>\n",
       "      <td>18 - 24 years old</td>\n",
       "      <td>1440.0</td>\n",
       "    </tr>\n",
       "    <tr>\n",
       "      <th>2</th>\n",
       "      <td>858</td>\n",
       "      <td>Bangladesh</td>\n",
       "      <td>No</td>\n",
       "      <td>Employed</td>\n",
       "      <td>High</td>\n",
       "      <td>Computer science, computer engineering, or sof...</td>\n",
       "      <td>15.0</td>\n",
       "      <td>Back-end developer;Desktop or enterprise appli...</td>\n",
       "      <td>6-8 years</td>\n",
       "      <td>6-8 years</td>\n",
       "      <td>Taken an online course in programming or softw...</td>\n",
       "      <td>NaN</td>\n",
       "      <td>C++;C#;Java;JavaScript;Matlab;SQL;HTML;Bash/Shell</td>\n",
       "      <td>100000</td>\n",
       "      <td>NaN</td>\n",
       "      <td>Angular</td>\n",
       "      <td>NaN</td>\n",
       "      <td>MacOS</td>\n",
       "      <td>25 - 34 years old</td>\n",
       "      <td>14436.0</td>\n",
       "    </tr>\n",
       "    <tr>\n",
       "      <th>3</th>\n",
       "      <td>53284</td>\n",
       "      <td>India</td>\n",
       "      <td>Yes</td>\n",
       "      <td>Employed</td>\n",
       "      <td>Medium</td>\n",
       "      <td>Computer science, computer engineering, or sof...</td>\n",
       "      <td>10.0</td>\n",
       "      <td>Back-end developer;Designer;Student</td>\n",
       "      <td>3-5 years</td>\n",
       "      <td>NaN</td>\n",
       "      <td>NaN</td>\n",
       "      <td>NaN</td>\n",
       "      <td>C;PHP;HTML</td>\n",
       "      <td>NaN</td>\n",
       "      <td>Python;R</td>\n",
       "      <td>NaN</td>\n",
       "      <td>NaN</td>\n",
       "      <td>NaN</td>\n",
       "      <td>NaN</td>\n",
       "      <td>NaN</td>\n",
       "    </tr>\n",
       "    <tr>\n",
       "      <th>4</th>\n",
       "      <td>37884</td>\n",
       "      <td>Czech Republic</td>\n",
       "      <td>No</td>\n",
       "      <td>Employed</td>\n",
       "      <td>Low</td>\n",
       "      <td>NaN</td>\n",
       "      <td>300.0</td>\n",
       "      <td>Back-end developer;Desktop or enterprise appli...</td>\n",
       "      <td>3-5 years</td>\n",
       "      <td>0-2 years</td>\n",
       "      <td>Received on-the-job training in software devel...</td>\n",
       "      <td>The official documentation and/or standards fo...</td>\n",
       "      <td>C;C++;C#;Java;JavaScript;Lua;PHP;Python;SQL;HT...</td>\n",
       "      <td>220</td>\n",
       "      <td>Assembly;C++;C#;Perl;Python;R;Ruby;Rust;Bash/S...</td>\n",
       "      <td>.NET Core;TensorFlow;Torch/PyTorch</td>\n",
       "      <td>.NET Core;TensorFlow</td>\n",
       "      <td>Linux-based</td>\n",
       "      <td>Under 18 years old</td>\n",
       "      <td>3228.0</td>\n",
       "    </tr>\n",
       "  </tbody>\n",
       "</table>\n",
       "</div>"
      ],
      "text/plain": [
       "   Unnamed: 0         Country Student    Employment FormalEducation  \\\n",
       "0       17522          Greece      No      Employed          Medium   \n",
       "1       83134           Nepal     Yes  Not_employed          Medium   \n",
       "2         858      Bangladesh      No      Employed            High   \n",
       "3       53284           India     Yes      Employed          Medium   \n",
       "4       37884  Czech Republic      No      Employed             Low   \n",
       "\n",
       "                                      UndergradMajor  CompanySize  \\\n",
       "0  Computer science, computer engineering, or sof...         10.0   \n",
       "1                      Web development or web design          NaN   \n",
       "2  Computer science, computer engineering, or sof...         15.0   \n",
       "3  Computer science, computer engineering, or sof...         10.0   \n",
       "4                                                NaN        300.0   \n",
       "\n",
       "                                             DevType YearsCoding  \\\n",
       "0  Back-end developer;Data or business analyst;Da...   3-5 years   \n",
       "1           Front-end developer;Full-stack developer   3-5 years   \n",
       "2  Back-end developer;Desktop or enterprise appli...   6-8 years   \n",
       "3                Back-end developer;Designer;Student   3-5 years   \n",
       "4  Back-end developer;Desktop or enterprise appli...   3-5 years   \n",
       "\n",
       "  YearsCodingProf                                     EducationTypes  \\\n",
       "0       0-2 years  Taught yourself a new language, framework, or ...   \n",
       "1       0-2 years  Participated in a full-time developer training...   \n",
       "2       6-8 years  Taken an online course in programming or softw...   \n",
       "3             NaN                                                NaN   \n",
       "4       0-2 years  Received on-the-job training in software devel...   \n",
       "\n",
       "                                     SelfTaughtTypes  \\\n",
       "0  The official documentation and/or standards fo...   \n",
       "1                                                NaN   \n",
       "2                                                NaN   \n",
       "3                                                NaN   \n",
       "4  The official documentation and/or standards fo...   \n",
       "\n",
       "                                  LanguageWorkedWith  Salary  \\\n",
       "0                 C#;Java;Matlab;Python;SQL;HTML;CSS     510   \n",
       "1                              JavaScript;TypeScript     120   \n",
       "2  C++;C#;Java;JavaScript;Matlab;SQL;HTML;Bash/Shell  100000   \n",
       "3                                         C;PHP;HTML     NaN   \n",
       "4  C;C++;C#;Java;JavaScript;Lua;PHP;Python;SQL;HT...     220   \n",
       "\n",
       "                              LanguageDesireNextYear  \\\n",
       "0  C++;C#;Java;JavaScript;Objective-C;Perl;Python...   \n",
       "1                              JavaScript;TypeScript   \n",
       "2                                                NaN   \n",
       "3                                           Python;R   \n",
       "4  Assembly;C++;C#;Perl;Python;R;Ruby;Rust;Bash/S...   \n",
       "\n",
       "                  FrameworkWorkedWith  \\\n",
       "0                               Spark   \n",
       "1               Angular;Node.js;React   \n",
       "2                             Angular   \n",
       "3                                 NaN   \n",
       "4  .NET Core;TensorFlow;Torch/PyTorch   \n",
       "\n",
       "                             FrameworkDesireNextYear OperatingSystem  \\\n",
       "0  Angular;Django;Hadoop;Node.js;Spark;Spring;Ten...     Linux-based   \n",
       "1                              Angular;Node.js;React         Windows   \n",
       "2                                                NaN           MacOS   \n",
       "3                                                NaN             NaN   \n",
       "4                               .NET Core;TensorFlow     Linux-based   \n",
       "\n",
       "                  Age  ConvertedSalary  \n",
       "0   18 - 24 years old              NaN  \n",
       "1   18 - 24 years old           1440.0  \n",
       "2   25 - 34 years old          14436.0  \n",
       "3                 NaN              NaN  \n",
       "4  Under 18 years old           3228.0  "
      ]
     },
     "execution_count": 41,
     "metadata": {},
     "output_type": "execute_result"
    }
   ],
   "source": [
    "salaries_train.head()"
   ]
  },
  {
   "cell_type": "code",
   "execution_count": 42,
   "metadata": {},
   "outputs": [
    {
     "name": "stdout",
     "output_type": "stream",
     "text": [
      "<class 'pandas.core.frame.DataFrame'>\n",
      "RangeIndex: 200 entries, 0 to 199\n",
      "Data columns (total 20 columns):\n",
      " #   Column                   Non-Null Count  Dtype  \n",
      "---  ------                   --------------  -----  \n",
      " 0   Unnamed: 0               200 non-null    int64  \n",
      " 1   Country                  200 non-null    object \n",
      " 2   Student                  200 non-null    object \n",
      " 3   Employment               200 non-null    object \n",
      " 4   FormalEducation          200 non-null    object \n",
      " 5   UndergradMajor           161 non-null    object \n",
      " 6   CompanySize              136 non-null    float64\n",
      " 7   DevType                  187 non-null    object \n",
      " 8   YearsCoding              192 non-null    object \n",
      " 9   YearsCodingProf          153 non-null    object \n",
      " 10  EducationTypes           142 non-null    object \n",
      " 11  SelfTaughtTypes          122 non-null    object \n",
      " 12  LanguageWorkedWith       162 non-null    object \n",
      " 13  Salary                   95 non-null     object \n",
      " 14  LanguageDesireNextYear   150 non-null    object \n",
      " 15  FrameworkWorkedWith      116 non-null    object \n",
      " 16  FrameworkDesireNextYear  125 non-null    object \n",
      " 17  OperatingSystem          161 non-null    object \n",
      " 18  Age                      137 non-null    object \n",
      " 19  ConvertedSalary          89 non-null     float64\n",
      "dtypes: float64(2), int64(1), object(17)\n",
      "memory usage: 31.4+ KB\n"
     ]
    }
   ],
   "source": [
    "salaries_train.info()"
   ]
  },
  {
   "cell_type": "code",
   "execution_count": 43,
   "metadata": {},
   "outputs": [],
   "source": [
    "# will deal with the null  #"
   ]
  },
  {
   "cell_type": "markdown",
   "metadata": {},
   "source": [
    "**Dealing with the DevType col**"
   ]
  },
  {
   "cell_type": "code",
   "execution_count": 44,
   "metadata": {},
   "outputs": [
    {
     "data": {
      "text/plain": [
       "122"
      ]
     },
     "execution_count": 44,
     "metadata": {},
     "output_type": "execute_result"
    }
   ],
   "source": [
    "len(salaries_train[\"DevType\"].unique())"
   ]
  },
  {
   "cell_type": "code",
   "execution_count": 45,
   "metadata": {},
   "outputs": [
    {
     "data": {
      "text/html": [
       "<div>\n",
       "<style scoped>\n",
       "    .dataframe tbody tr th:only-of-type {\n",
       "        vertical-align: middle;\n",
       "    }\n",
       "\n",
       "    .dataframe tbody tr th {\n",
       "        vertical-align: top;\n",
       "    }\n",
       "\n",
       "    .dataframe thead th {\n",
       "        text-align: right;\n",
       "    }\n",
       "</style>\n",
       "<table border=\"1\" class=\"dataframe\">\n",
       "  <thead>\n",
       "    <tr style=\"text-align: right;\">\n",
       "      <th></th>\n",
       "      <th>DevType</th>\n",
       "    </tr>\n",
       "  </thead>\n",
       "  <tbody>\n",
       "    <tr>\n",
       "      <th>0</th>\n",
       "      <td>Back-end developer;Data or business analyst;Da...</td>\n",
       "    </tr>\n",
       "    <tr>\n",
       "      <th>1</th>\n",
       "      <td>Front-end developer;Full-stack developer</td>\n",
       "    </tr>\n",
       "    <tr>\n",
       "      <th>2</th>\n",
       "      <td>Back-end developer;Desktop or enterprise appli...</td>\n",
       "    </tr>\n",
       "    <tr>\n",
       "      <th>3</th>\n",
       "      <td>Back-end developer;Designer;Student</td>\n",
       "    </tr>\n",
       "    <tr>\n",
       "      <th>4</th>\n",
       "      <td>Back-end developer;Desktop or enterprise appli...</td>\n",
       "    </tr>\n",
       "    <tr>\n",
       "      <th>...</th>\n",
       "      <td>...</td>\n",
       "    </tr>\n",
       "    <tr>\n",
       "      <th>195</th>\n",
       "      <td>Back-end developer;Desktop or enterprise appli...</td>\n",
       "    </tr>\n",
       "    <tr>\n",
       "      <th>196</th>\n",
       "      <td>Back-end developer;Designer;Engineering manage...</td>\n",
       "    </tr>\n",
       "    <tr>\n",
       "      <th>197</th>\n",
       "      <td>Back-end developer;Front-end developer;Full-st...</td>\n",
       "    </tr>\n",
       "    <tr>\n",
       "      <th>198</th>\n",
       "      <td>Designer;Front-end developer</td>\n",
       "    </tr>\n",
       "    <tr>\n",
       "      <th>199</th>\n",
       "      <td>Back-end developer;Data scientist or machine l...</td>\n",
       "    </tr>\n",
       "  </tbody>\n",
       "</table>\n",
       "<p>200 rows × 1 columns</p>\n",
       "</div>"
      ],
      "text/plain": [
       "                                               DevType\n",
       "0    Back-end developer;Data or business analyst;Da...\n",
       "1             Front-end developer;Full-stack developer\n",
       "2    Back-end developer;Desktop or enterprise appli...\n",
       "3                  Back-end developer;Designer;Student\n",
       "4    Back-end developer;Desktop or enterprise appli...\n",
       "..                                                 ...\n",
       "195  Back-end developer;Desktop or enterprise appli...\n",
       "196  Back-end developer;Designer;Engineering manage...\n",
       "197  Back-end developer;Front-end developer;Full-st...\n",
       "198                       Designer;Front-end developer\n",
       "199  Back-end developer;Data scientist or machine l...\n",
       "\n",
       "[200 rows x 1 columns]"
      ]
     },
     "execution_count": 45,
     "metadata": {},
     "output_type": "execute_result"
    }
   ],
   "source": [
    "salaries_train[[\"DevType\"]]"
   ]
  },
  {
   "cell_type": "code",
   "execution_count": 46,
   "metadata": {},
   "outputs": [
    {
     "data": {
      "text/html": [
       "<div>\n",
       "<style scoped>\n",
       "    .dataframe tbody tr th:only-of-type {\n",
       "        vertical-align: middle;\n",
       "    }\n",
       "\n",
       "    .dataframe tbody tr th {\n",
       "        vertical-align: top;\n",
       "    }\n",
       "\n",
       "    .dataframe thead th {\n",
       "        text-align: right;\n",
       "    }\n",
       "</style>\n",
       "<table border=\"1\" class=\"dataframe\">\n",
       "  <thead>\n",
       "    <tr style=\"text-align: right;\">\n",
       "      <th></th>\n",
       "      <th>Column</th>\n",
       "      <th>QuestionText</th>\n",
       "    </tr>\n",
       "  </thead>\n",
       "  <tbody>\n",
       "    <tr>\n",
       "      <th>0</th>\n",
       "      <td>Respondent</td>\n",
       "      <td>Randomized respondent ID number (not in order ...</td>\n",
       "    </tr>\n",
       "    <tr>\n",
       "      <th>1</th>\n",
       "      <td>Hobby</td>\n",
       "      <td>Do you code as a hobby?</td>\n",
       "    </tr>\n",
       "    <tr>\n",
       "      <th>2</th>\n",
       "      <td>OpenSource</td>\n",
       "      <td>Do you contribute to open source projects?</td>\n",
       "    </tr>\n",
       "    <tr>\n",
       "      <th>3</th>\n",
       "      <td>Country</td>\n",
       "      <td>In which country do you currently reside?</td>\n",
       "    </tr>\n",
       "    <tr>\n",
       "      <th>4</th>\n",
       "      <td>Student</td>\n",
       "      <td>Are you currently enrolled in a formal, degree...</td>\n",
       "    </tr>\n",
       "    <tr>\n",
       "      <th>...</th>\n",
       "      <td>...</td>\n",
       "      <td>...</td>\n",
       "    </tr>\n",
       "    <tr>\n",
       "      <th>124</th>\n",
       "      <td>Age</td>\n",
       "      <td>What is your age? If you prefer not to answer,...</td>\n",
       "    </tr>\n",
       "    <tr>\n",
       "      <th>125</th>\n",
       "      <td>Dependents</td>\n",
       "      <td>Do you have any children or other dependents t...</td>\n",
       "    </tr>\n",
       "    <tr>\n",
       "      <th>126</th>\n",
       "      <td>MilitaryUS</td>\n",
       "      <td>Are you currently serving or have you ever ser...</td>\n",
       "    </tr>\n",
       "    <tr>\n",
       "      <th>127</th>\n",
       "      <td>SurveyTooLong</td>\n",
       "      <td>How do you feel about the length of the survey...</td>\n",
       "    </tr>\n",
       "    <tr>\n",
       "      <th>128</th>\n",
       "      <td>SurveyEasy</td>\n",
       "      <td>How easy or difficult was this survey to compl...</td>\n",
       "    </tr>\n",
       "  </tbody>\n",
       "</table>\n",
       "<p>129 rows × 2 columns</p>\n",
       "</div>"
      ],
      "text/plain": [
       "            Column                                       QuestionText\n",
       "0       Respondent  Randomized respondent ID number (not in order ...\n",
       "1            Hobby                            Do you code as a hobby?\n",
       "2       OpenSource         Do you contribute to open source projects?\n",
       "3          Country          In which country do you currently reside?\n",
       "4          Student  Are you currently enrolled in a formal, degree...\n",
       "..             ...                                                ...\n",
       "124            Age  What is your age? If you prefer not to answer,...\n",
       "125     Dependents  Do you have any children or other dependents t...\n",
       "126     MilitaryUS  Are you currently serving or have you ever ser...\n",
       "127  SurveyTooLong  How do you feel about the length of the survey...\n",
       "128     SurveyEasy  How easy or difficult was this survey to compl...\n",
       "\n",
       "[129 rows x 2 columns]"
      ]
     },
     "execution_count": 46,
     "metadata": {},
     "output_type": "execute_result"
    }
   ],
   "source": [
    "# schema shows us what question each individual choose #\n",
    "schema = pd.read_csv(\"survey_results_schema.csv\")\n",
    "schema"
   ]
  },
  {
   "cell_type": "code",
   "execution_count": 47,
   "metadata": {},
   "outputs": [
    {
     "name": "stdout",
     "output_type": "stream",
     "text": [
      "<class 'pandas.core.frame.DataFrame'>\n",
      "RangeIndex: 129 entries, 0 to 128\n",
      "Data columns (total 2 columns):\n",
      " #   Column        Non-Null Count  Dtype \n",
      "---  ------        --------------  ----- \n",
      " 0   Column        129 non-null    object\n",
      " 1   QuestionText  129 non-null    object\n",
      "dtypes: object(2)\n",
      "memory usage: 2.1+ KB\n"
     ]
    }
   ],
   "source": [
    "schema.info()"
   ]
  },
  {
   "cell_type": "code",
   "execution_count": 48,
   "metadata": {},
   "outputs": [
    {
     "data": {
      "text/html": [
       "<div>\n",
       "<style scoped>\n",
       "    .dataframe tbody tr th:only-of-type {\n",
       "        vertical-align: middle;\n",
       "    }\n",
       "\n",
       "    .dataframe tbody tr th {\n",
       "        vertical-align: top;\n",
       "    }\n",
       "\n",
       "    .dataframe thead th {\n",
       "        text-align: right;\n",
       "    }\n",
       "</style>\n",
       "<table border=\"1\" class=\"dataframe\">\n",
       "  <thead>\n",
       "    <tr style=\"text-align: right;\">\n",
       "      <th></th>\n",
       "      <th>Column</th>\n",
       "      <th>QuestionText</th>\n",
       "    </tr>\n",
       "  </thead>\n",
       "  <tbody>\n",
       "    <tr>\n",
       "      <th>9</th>\n",
       "      <td>DevType</td>\n",
       "      <td>Which of the following describe you? Please se...</td>\n",
       "    </tr>\n",
       "  </tbody>\n",
       "</table>\n",
       "</div>"
      ],
      "text/plain": [
       "    Column                                       QuestionText\n",
       "9  DevType  Which of the following describe you? Please se..."
      ]
     },
     "execution_count": 48,
     "metadata": {},
     "output_type": "execute_result"
    }
   ],
   "source": [
    "schema[schema[\"Column\"] == \"DevType\"]"
   ]
  },
  {
   "cell_type": "code",
   "execution_count": 49,
   "metadata": {},
   "outputs": [
    {
     "data": {
      "text/plain": [
       "'Which of the following describe you? Please select all that apply.'"
      ]
     },
     "execution_count": 49,
     "metadata": {},
     "output_type": "execute_result"
    }
   ],
   "source": [
    "schema.loc[9,\"QuestionText\"]"
   ]
  },
  {
   "cell_type": "code",
   "execution_count": 50,
   "metadata": {},
   "outputs": [
    {
     "data": {
      "text/html": [
       "<div>\n",
       "<style scoped>\n",
       "    .dataframe tbody tr th:only-of-type {\n",
       "        vertical-align: middle;\n",
       "    }\n",
       "\n",
       "    .dataframe tbody tr th {\n",
       "        vertical-align: top;\n",
       "    }\n",
       "\n",
       "    .dataframe thead th {\n",
       "        text-align: right;\n",
       "    }\n",
       "</style>\n",
       "<table border=\"1\" class=\"dataframe\">\n",
       "  <thead>\n",
       "    <tr style=\"text-align: right;\">\n",
       "      <th></th>\n",
       "      <th>Unnamed: 0</th>\n",
       "      <th>Country</th>\n",
       "      <th>Student</th>\n",
       "      <th>Employment</th>\n",
       "      <th>FormalEducation</th>\n",
       "      <th>UndergradMajor</th>\n",
       "      <th>CompanySize</th>\n",
       "      <th>DevType</th>\n",
       "      <th>YearsCoding</th>\n",
       "      <th>YearsCodingProf</th>\n",
       "      <th>EducationTypes</th>\n",
       "      <th>SelfTaughtTypes</th>\n",
       "      <th>LanguageWorkedWith</th>\n",
       "      <th>Salary</th>\n",
       "      <th>LanguageDesireNextYear</th>\n",
       "      <th>FrameworkWorkedWith</th>\n",
       "      <th>FrameworkDesireNextYear</th>\n",
       "      <th>OperatingSystem</th>\n",
       "      <th>Age</th>\n",
       "      <th>ConvertedSalary</th>\n",
       "    </tr>\n",
       "  </thead>\n",
       "  <tbody>\n",
       "    <tr>\n",
       "      <th>0</th>\n",
       "      <td>17522</td>\n",
       "      <td>Greece</td>\n",
       "      <td>No</td>\n",
       "      <td>Employed</td>\n",
       "      <td>Medium</td>\n",
       "      <td>Computer science, computer engineering, or sof...</td>\n",
       "      <td>10.0</td>\n",
       "      <td>Back-end developer;Data or business analyst;Da...</td>\n",
       "      <td>3-5 years</td>\n",
       "      <td>0-2 years</td>\n",
       "      <td>Taught yourself a new language, framework, or ...</td>\n",
       "      <td>The official documentation and/or standards fo...</td>\n",
       "      <td>C#;Java;Matlab;Python;SQL;HTML;CSS</td>\n",
       "      <td>510</td>\n",
       "      <td>C++;C#;Java;JavaScript;Objective-C;Perl;Python...</td>\n",
       "      <td>Spark</td>\n",
       "      <td>Angular;Django;Hadoop;Node.js;Spark;Spring;Ten...</td>\n",
       "      <td>Linux-based</td>\n",
       "      <td>18 - 24 years old</td>\n",
       "      <td>NaN</td>\n",
       "    </tr>\n",
       "    <tr>\n",
       "      <th>1</th>\n",
       "      <td>83134</td>\n",
       "      <td>Nepal</td>\n",
       "      <td>Yes</td>\n",
       "      <td>Not_employed</td>\n",
       "      <td>Medium</td>\n",
       "      <td>Web development or web design</td>\n",
       "      <td>NaN</td>\n",
       "      <td>Front-end developer;Full-stack developer</td>\n",
       "      <td>3-5 years</td>\n",
       "      <td>0-2 years</td>\n",
       "      <td>Participated in a full-time developer training...</td>\n",
       "      <td>NaN</td>\n",
       "      <td>JavaScript;TypeScript</td>\n",
       "      <td>120</td>\n",
       "      <td>JavaScript;TypeScript</td>\n",
       "      <td>Angular;Node.js;React</td>\n",
       "      <td>Angular;Node.js;React</td>\n",
       "      <td>Windows</td>\n",
       "      <td>18 - 24 years old</td>\n",
       "      <td>1440.0</td>\n",
       "    </tr>\n",
       "    <tr>\n",
       "      <th>2</th>\n",
       "      <td>858</td>\n",
       "      <td>Bangladesh</td>\n",
       "      <td>No</td>\n",
       "      <td>Employed</td>\n",
       "      <td>High</td>\n",
       "      <td>Computer science, computer engineering, or sof...</td>\n",
       "      <td>15.0</td>\n",
       "      <td>Back-end developer;Desktop or enterprise appli...</td>\n",
       "      <td>6-8 years</td>\n",
       "      <td>6-8 years</td>\n",
       "      <td>Taken an online course in programming or softw...</td>\n",
       "      <td>NaN</td>\n",
       "      <td>C++;C#;Java;JavaScript;Matlab;SQL;HTML;Bash/Shell</td>\n",
       "      <td>100000</td>\n",
       "      <td>NaN</td>\n",
       "      <td>Angular</td>\n",
       "      <td>NaN</td>\n",
       "      <td>MacOS</td>\n",
       "      <td>25 - 34 years old</td>\n",
       "      <td>14436.0</td>\n",
       "    </tr>\n",
       "    <tr>\n",
       "      <th>3</th>\n",
       "      <td>53284</td>\n",
       "      <td>India</td>\n",
       "      <td>Yes</td>\n",
       "      <td>Employed</td>\n",
       "      <td>Medium</td>\n",
       "      <td>Computer science, computer engineering, or sof...</td>\n",
       "      <td>10.0</td>\n",
       "      <td>Back-end developer;Designer;Student</td>\n",
       "      <td>3-5 years</td>\n",
       "      <td>NaN</td>\n",
       "      <td>NaN</td>\n",
       "      <td>NaN</td>\n",
       "      <td>C;PHP;HTML</td>\n",
       "      <td>NaN</td>\n",
       "      <td>Python;R</td>\n",
       "      <td>NaN</td>\n",
       "      <td>NaN</td>\n",
       "      <td>NaN</td>\n",
       "      <td>NaN</td>\n",
       "      <td>NaN</td>\n",
       "    </tr>\n",
       "    <tr>\n",
       "      <th>4</th>\n",
       "      <td>37884</td>\n",
       "      <td>Czech Republic</td>\n",
       "      <td>No</td>\n",
       "      <td>Employed</td>\n",
       "      <td>Low</td>\n",
       "      <td>NaN</td>\n",
       "      <td>300.0</td>\n",
       "      <td>Back-end developer;Desktop or enterprise appli...</td>\n",
       "      <td>3-5 years</td>\n",
       "      <td>0-2 years</td>\n",
       "      <td>Received on-the-job training in software devel...</td>\n",
       "      <td>The official documentation and/or standards fo...</td>\n",
       "      <td>C;C++;C#;Java;JavaScript;Lua;PHP;Python;SQL;HT...</td>\n",
       "      <td>220</td>\n",
       "      <td>Assembly;C++;C#;Perl;Python;R;Ruby;Rust;Bash/S...</td>\n",
       "      <td>.NET Core;TensorFlow;Torch/PyTorch</td>\n",
       "      <td>.NET Core;TensorFlow</td>\n",
       "      <td>Linux-based</td>\n",
       "      <td>Under 18 years old</td>\n",
       "      <td>3228.0</td>\n",
       "    </tr>\n",
       "  </tbody>\n",
       "</table>\n",
       "</div>"
      ],
      "text/plain": [
       "   Unnamed: 0         Country Student    Employment FormalEducation  \\\n",
       "0       17522          Greece      No      Employed          Medium   \n",
       "1       83134           Nepal     Yes  Not_employed          Medium   \n",
       "2         858      Bangladesh      No      Employed            High   \n",
       "3       53284           India     Yes      Employed          Medium   \n",
       "4       37884  Czech Republic      No      Employed             Low   \n",
       "\n",
       "                                      UndergradMajor  CompanySize  \\\n",
       "0  Computer science, computer engineering, or sof...         10.0   \n",
       "1                      Web development or web design          NaN   \n",
       "2  Computer science, computer engineering, or sof...         15.0   \n",
       "3  Computer science, computer engineering, or sof...         10.0   \n",
       "4                                                NaN        300.0   \n",
       "\n",
       "                                             DevType YearsCoding  \\\n",
       "0  Back-end developer;Data or business analyst;Da...   3-5 years   \n",
       "1           Front-end developer;Full-stack developer   3-5 years   \n",
       "2  Back-end developer;Desktop or enterprise appli...   6-8 years   \n",
       "3                Back-end developer;Designer;Student   3-5 years   \n",
       "4  Back-end developer;Desktop or enterprise appli...   3-5 years   \n",
       "\n",
       "  YearsCodingProf                                     EducationTypes  \\\n",
       "0       0-2 years  Taught yourself a new language, framework, or ...   \n",
       "1       0-2 years  Participated in a full-time developer training...   \n",
       "2       6-8 years  Taken an online course in programming or softw...   \n",
       "3             NaN                                                NaN   \n",
       "4       0-2 years  Received on-the-job training in software devel...   \n",
       "\n",
       "                                     SelfTaughtTypes  \\\n",
       "0  The official documentation and/or standards fo...   \n",
       "1                                                NaN   \n",
       "2                                                NaN   \n",
       "3                                                NaN   \n",
       "4  The official documentation and/or standards fo...   \n",
       "\n",
       "                                  LanguageWorkedWith  Salary  \\\n",
       "0                 C#;Java;Matlab;Python;SQL;HTML;CSS     510   \n",
       "1                              JavaScript;TypeScript     120   \n",
       "2  C++;C#;Java;JavaScript;Matlab;SQL;HTML;Bash/Shell  100000   \n",
       "3                                         C;PHP;HTML     NaN   \n",
       "4  C;C++;C#;Java;JavaScript;Lua;PHP;Python;SQL;HT...     220   \n",
       "\n",
       "                              LanguageDesireNextYear  \\\n",
       "0  C++;C#;Java;JavaScript;Objective-C;Perl;Python...   \n",
       "1                              JavaScript;TypeScript   \n",
       "2                                                NaN   \n",
       "3                                           Python;R   \n",
       "4  Assembly;C++;C#;Perl;Python;R;Ruby;Rust;Bash/S...   \n",
       "\n",
       "                  FrameworkWorkedWith  \\\n",
       "0                               Spark   \n",
       "1               Angular;Node.js;React   \n",
       "2                             Angular   \n",
       "3                                 NaN   \n",
       "4  .NET Core;TensorFlow;Torch/PyTorch   \n",
       "\n",
       "                             FrameworkDesireNextYear OperatingSystem  \\\n",
       "0  Angular;Django;Hadoop;Node.js;Spark;Spring;Ten...     Linux-based   \n",
       "1                              Angular;Node.js;React         Windows   \n",
       "2                                                NaN           MacOS   \n",
       "3                                                NaN             NaN   \n",
       "4                               .NET Core;TensorFlow     Linux-based   \n",
       "\n",
       "                  Age  ConvertedSalary  \n",
       "0   18 - 24 years old              NaN  \n",
       "1   18 - 24 years old           1440.0  \n",
       "2   25 - 34 years old          14436.0  \n",
       "3                 NaN              NaN  \n",
       "4  Under 18 years old           3228.0  "
      ]
     },
     "execution_count": 50,
     "metadata": {},
     "output_type": "execute_result"
    }
   ],
   "source": [
    "salaries_train.head()"
   ]
  },
  {
   "cell_type": "code",
   "execution_count": 51,
   "metadata": {},
   "outputs": [
    {
     "data": {
      "text/plain": [
       "0    Back-end developer;Data or business analyst;Da...\n",
       "1             Front-end developer;Full-stack developer\n",
       "2    Back-end developer;Desktop or enterprise appli...\n",
       "3                  Back-end developer;Designer;Student\n",
       "4    Back-end developer;Desktop or enterprise appli...\n",
       "Name: DevType, dtype: object"
      ]
     },
     "execution_count": 51,
     "metadata": {},
     "output_type": "execute_result"
    }
   ],
   "source": [
    "salaries_train[\"DevType\"].head()"
   ]
  },
  {
   "cell_type": "code",
   "execution_count": 52,
   "metadata": {},
   "outputs": [
    {
     "data": {
      "text/plain": [
       "pandas.core.series.Series"
      ]
     },
     "execution_count": 52,
     "metadata": {},
     "output_type": "execute_result"
    }
   ],
   "source": [
    "type(salaries_train[\"DevType\"])"
   ]
  },
  {
   "cell_type": "code",
   "execution_count": 53,
   "metadata": {},
   "outputs": [],
   "source": [
    "# split a pandas Series into an array via (\";\") \n",
    "salaries_train[\"DevType\"] = salaries_train[\"DevType\"].str.split(\";\")"
   ]
  },
  {
   "cell_type": "code",
   "execution_count": 54,
   "metadata": {},
   "outputs": [
    {
     "data": {
      "text/plain": [
       "0    [Back-end developer, Data or business analyst,...\n",
       "1          [Front-end developer, Full-stack developer]\n",
       "2    [Back-end developer, Desktop or enterprise app...\n",
       "3              [Back-end developer, Designer, Student]\n",
       "4    [Back-end developer, Desktop or enterprise app...\n",
       "Name: DevType, dtype: object"
      ]
     },
     "execution_count": 54,
     "metadata": {},
     "output_type": "execute_result"
    }
   ],
   "source": [
    "salaries_train[\"DevType\"].head()"
   ]
  },
  {
   "cell_type": "code",
   "execution_count": 55,
   "metadata": {},
   "outputs": [
    {
     "data": {
      "text/plain": [
       "['Back-end developer',\n",
       " 'Data or business analyst',\n",
       " 'Data scientist or machine learning specialist',\n",
       " 'Database administrator',\n",
       " 'Educator or academic researcher']"
      ]
     },
     "execution_count": 55,
     "metadata": {},
     "output_type": "execute_result"
    }
   ],
   "source": [
    "salaries_train[\"DevType\"][0]"
   ]
  },
  {
   "cell_type": "code",
   "execution_count": 56,
   "metadata": {},
   "outputs": [],
   "source": [
    "# for each individuall select the first option as dev type #\n",
    "salaries_train[\"DevType\"] = salaries_train[\"DevType\"].str[0]"
   ]
  },
  {
   "cell_type": "code",
   "execution_count": 57,
   "metadata": {},
   "outputs": [
    {
     "data": {
      "text/plain": [
       "Back-end developer                               109\n",
       "Full-stack developer                              18\n",
       "Front-end developer                               11\n",
       "Designer                                           6\n",
       "Mobile developer                                   6\n",
       "Data or business analyst                           5\n",
       "Data scientist or machine learning specialist      5\n",
       "Student                                            5\n",
       "Desktop or enterprise applications developer       4\n",
       "Database administrator                             3\n",
       "DevOps specialist                                  3\n",
       "Educator or academic researcher                    3\n",
       "Game or graphics developer                         2\n",
       "Embedded applications or devices developer         2\n",
       "System administrator                               2\n",
       "C-suite executive (CEO, CTO, etc.)                 1\n",
       "Marketing or sales professional                    1\n",
       "QA or test developer                               1\n",
       "Name: DevType, dtype: int64"
      ]
     },
     "execution_count": 57,
     "metadata": {},
     "output_type": "execute_result"
    }
   ],
   "source": [
    "salaries_train[\"DevType\"].value_counts()"
   ]
  },
  {
   "cell_type": "code",
   "execution_count": 58,
   "metadata": {},
   "outputs": [],
   "source": [
    "# We may need to later on add the first two DevType options since the data seems to be squeewed towards Back End Developers #"
   ]
  },
  {
   "cell_type": "markdown",
   "metadata": {},
   "source": [
    "**Dealing with YearsCodingProf col**"
   ]
  },
  {
   "cell_type": "code",
   "execution_count": 59,
   "metadata": {},
   "outputs": [
    {
     "data": {
      "text/plain": [
       "array(['0-2 years', '6-8 years', nan, '3-5 years', '9-11 years',\n",
       "       '27-29 years', '30 or more years', '18-20 years', '12-14 years',\n",
       "       '21-23 years', '15-17 years', '24-26 years'], dtype=object)"
      ]
     },
     "execution_count": 59,
     "metadata": {},
     "output_type": "execute_result"
    }
   ],
   "source": [
    "salaries_train[\"YearsCodingProf\"].unique()"
   ]
  },
  {
   "cell_type": "markdown",
   "metadata": {},
   "source": [
    "replacing:\n",
    "\n",
    "- 0-2 years --> 1 etc"
   ]
  },
  {
   "cell_type": "code",
   "execution_count": 60,
   "metadata": {},
   "outputs": [],
   "source": [
    "salaries_train[\"YearsCodingProf\"].replace('0-2 years',1,inplace=True)\n",
    "salaries_train[\"YearsCodingProf\"].replace('6-8 years',7,inplace=True)\n",
    "salaries_train[\"YearsCodingProf\"].replace(np.nan,0,inplace=True)\n",
    "salaries_train[\"YearsCodingProf\"].replace('3-5 years',5,inplace=True)\n",
    "salaries_train[\"YearsCodingProf\"].replace('27-29 years',28,inplace=True)\n",
    "salaries_train[\"YearsCodingProf\"].replace('18-20 years',19,inplace=True)\n",
    "salaries_train[\"YearsCodingProf\"].replace('12-14 years',13,inplace=True)\n",
    "salaries_train[\"YearsCodingProf\"].replace('21-23 years',22,inplace=True)\n",
    "salaries_train[\"YearsCodingProf\"].replace('15-17 years',16,inplace=True)\n",
    "salaries_train[\"YearsCodingProf\"].replace('24-26 years',25,inplace=True)\n",
    "salaries_train[\"YearsCodingProf\"].replace('30 or more years',30,inplace=True)"
   ]
  },
  {
   "cell_type": "code",
   "execution_count": 61,
   "metadata": {},
   "outputs": [],
   "source": [
    "salaries_train[\"YearsCodingProf\"].replace('9-11 years',10,inplace=True)"
   ]
  },
  {
   "cell_type": "code",
   "execution_count": 62,
   "metadata": {},
   "outputs": [
    {
     "data": {
      "text/plain": [
       "array([ 1,  7,  0,  5, 10, 28, 30, 19, 13, 22, 16, 25], dtype=int64)"
      ]
     },
     "execution_count": 62,
     "metadata": {},
     "output_type": "execute_result"
    }
   ],
   "source": [
    "salaries_train[\"YearsCodingProf\"].unique()"
   ]
  },
  {
   "cell_type": "markdown",
   "metadata": {},
   "source": [
    "**Dealing with YearsCoding col**"
   ]
  },
  {
   "cell_type": "code",
   "execution_count": 63,
   "metadata": {},
   "outputs": [
    {
     "data": {
      "text/html": [
       "<div>\n",
       "<style scoped>\n",
       "    .dataframe tbody tr th:only-of-type {\n",
       "        vertical-align: middle;\n",
       "    }\n",
       "\n",
       "    .dataframe tbody tr th {\n",
       "        vertical-align: top;\n",
       "    }\n",
       "\n",
       "    .dataframe thead th {\n",
       "        text-align: right;\n",
       "    }\n",
       "</style>\n",
       "<table border=\"1\" class=\"dataframe\">\n",
       "  <thead>\n",
       "    <tr style=\"text-align: right;\">\n",
       "      <th></th>\n",
       "      <th>Unnamed: 0</th>\n",
       "      <th>Country</th>\n",
       "      <th>Student</th>\n",
       "      <th>Employment</th>\n",
       "      <th>FormalEducation</th>\n",
       "      <th>UndergradMajor</th>\n",
       "      <th>CompanySize</th>\n",
       "      <th>DevType</th>\n",
       "      <th>YearsCoding</th>\n",
       "      <th>YearsCodingProf</th>\n",
       "      <th>EducationTypes</th>\n",
       "      <th>SelfTaughtTypes</th>\n",
       "      <th>LanguageWorkedWith</th>\n",
       "      <th>Salary</th>\n",
       "      <th>LanguageDesireNextYear</th>\n",
       "      <th>FrameworkWorkedWith</th>\n",
       "      <th>FrameworkDesireNextYear</th>\n",
       "      <th>OperatingSystem</th>\n",
       "      <th>Age</th>\n",
       "      <th>ConvertedSalary</th>\n",
       "    </tr>\n",
       "  </thead>\n",
       "  <tbody>\n",
       "    <tr>\n",
       "      <th>0</th>\n",
       "      <td>17522</td>\n",
       "      <td>Greece</td>\n",
       "      <td>No</td>\n",
       "      <td>Employed</td>\n",
       "      <td>Medium</td>\n",
       "      <td>Computer science, computer engineering, or sof...</td>\n",
       "      <td>10.0</td>\n",
       "      <td>Back-end developer</td>\n",
       "      <td>3-5 years</td>\n",
       "      <td>1</td>\n",
       "      <td>Taught yourself a new language, framework, or ...</td>\n",
       "      <td>The official documentation and/or standards fo...</td>\n",
       "      <td>C#;Java;Matlab;Python;SQL;HTML;CSS</td>\n",
       "      <td>510</td>\n",
       "      <td>C++;C#;Java;JavaScript;Objective-C;Perl;Python...</td>\n",
       "      <td>Spark</td>\n",
       "      <td>Angular;Django;Hadoop;Node.js;Spark;Spring;Ten...</td>\n",
       "      <td>Linux-based</td>\n",
       "      <td>18 - 24 years old</td>\n",
       "      <td>NaN</td>\n",
       "    </tr>\n",
       "    <tr>\n",
       "      <th>1</th>\n",
       "      <td>83134</td>\n",
       "      <td>Nepal</td>\n",
       "      <td>Yes</td>\n",
       "      <td>Not_employed</td>\n",
       "      <td>Medium</td>\n",
       "      <td>Web development or web design</td>\n",
       "      <td>NaN</td>\n",
       "      <td>Front-end developer</td>\n",
       "      <td>3-5 years</td>\n",
       "      <td>1</td>\n",
       "      <td>Participated in a full-time developer training...</td>\n",
       "      <td>NaN</td>\n",
       "      <td>JavaScript;TypeScript</td>\n",
       "      <td>120</td>\n",
       "      <td>JavaScript;TypeScript</td>\n",
       "      <td>Angular;Node.js;React</td>\n",
       "      <td>Angular;Node.js;React</td>\n",
       "      <td>Windows</td>\n",
       "      <td>18 - 24 years old</td>\n",
       "      <td>1440.0</td>\n",
       "    </tr>\n",
       "    <tr>\n",
       "      <th>2</th>\n",
       "      <td>858</td>\n",
       "      <td>Bangladesh</td>\n",
       "      <td>No</td>\n",
       "      <td>Employed</td>\n",
       "      <td>High</td>\n",
       "      <td>Computer science, computer engineering, or sof...</td>\n",
       "      <td>15.0</td>\n",
       "      <td>Back-end developer</td>\n",
       "      <td>6-8 years</td>\n",
       "      <td>7</td>\n",
       "      <td>Taken an online course in programming or softw...</td>\n",
       "      <td>NaN</td>\n",
       "      <td>C++;C#;Java;JavaScript;Matlab;SQL;HTML;Bash/Shell</td>\n",
       "      <td>100000</td>\n",
       "      <td>NaN</td>\n",
       "      <td>Angular</td>\n",
       "      <td>NaN</td>\n",
       "      <td>MacOS</td>\n",
       "      <td>25 - 34 years old</td>\n",
       "      <td>14436.0</td>\n",
       "    </tr>\n",
       "    <tr>\n",
       "      <th>3</th>\n",
       "      <td>53284</td>\n",
       "      <td>India</td>\n",
       "      <td>Yes</td>\n",
       "      <td>Employed</td>\n",
       "      <td>Medium</td>\n",
       "      <td>Computer science, computer engineering, or sof...</td>\n",
       "      <td>10.0</td>\n",
       "      <td>Back-end developer</td>\n",
       "      <td>3-5 years</td>\n",
       "      <td>0</td>\n",
       "      <td>NaN</td>\n",
       "      <td>NaN</td>\n",
       "      <td>C;PHP;HTML</td>\n",
       "      <td>NaN</td>\n",
       "      <td>Python;R</td>\n",
       "      <td>NaN</td>\n",
       "      <td>NaN</td>\n",
       "      <td>NaN</td>\n",
       "      <td>NaN</td>\n",
       "      <td>NaN</td>\n",
       "    </tr>\n",
       "    <tr>\n",
       "      <th>4</th>\n",
       "      <td>37884</td>\n",
       "      <td>Czech Republic</td>\n",
       "      <td>No</td>\n",
       "      <td>Employed</td>\n",
       "      <td>Low</td>\n",
       "      <td>NaN</td>\n",
       "      <td>300.0</td>\n",
       "      <td>Back-end developer</td>\n",
       "      <td>3-5 years</td>\n",
       "      <td>1</td>\n",
       "      <td>Received on-the-job training in software devel...</td>\n",
       "      <td>The official documentation and/or standards fo...</td>\n",
       "      <td>C;C++;C#;Java;JavaScript;Lua;PHP;Python;SQL;HT...</td>\n",
       "      <td>220</td>\n",
       "      <td>Assembly;C++;C#;Perl;Python;R;Ruby;Rust;Bash/S...</td>\n",
       "      <td>.NET Core;TensorFlow;Torch/PyTorch</td>\n",
       "      <td>.NET Core;TensorFlow</td>\n",
       "      <td>Linux-based</td>\n",
       "      <td>Under 18 years old</td>\n",
       "      <td>3228.0</td>\n",
       "    </tr>\n",
       "  </tbody>\n",
       "</table>\n",
       "</div>"
      ],
      "text/plain": [
       "   Unnamed: 0         Country Student    Employment FormalEducation  \\\n",
       "0       17522          Greece      No      Employed          Medium   \n",
       "1       83134           Nepal     Yes  Not_employed          Medium   \n",
       "2         858      Bangladesh      No      Employed            High   \n",
       "3       53284           India     Yes      Employed          Medium   \n",
       "4       37884  Czech Republic      No      Employed             Low   \n",
       "\n",
       "                                      UndergradMajor  CompanySize  \\\n",
       "0  Computer science, computer engineering, or sof...         10.0   \n",
       "1                      Web development or web design          NaN   \n",
       "2  Computer science, computer engineering, or sof...         15.0   \n",
       "3  Computer science, computer engineering, or sof...         10.0   \n",
       "4                                                NaN        300.0   \n",
       "\n",
       "               DevType YearsCoding  YearsCodingProf  \\\n",
       "0   Back-end developer   3-5 years                1   \n",
       "1  Front-end developer   3-5 years                1   \n",
       "2   Back-end developer   6-8 years                7   \n",
       "3   Back-end developer   3-5 years                0   \n",
       "4   Back-end developer   3-5 years                1   \n",
       "\n",
       "                                      EducationTypes  \\\n",
       "0  Taught yourself a new language, framework, or ...   \n",
       "1  Participated in a full-time developer training...   \n",
       "2  Taken an online course in programming or softw...   \n",
       "3                                                NaN   \n",
       "4  Received on-the-job training in software devel...   \n",
       "\n",
       "                                     SelfTaughtTypes  \\\n",
       "0  The official documentation and/or standards fo...   \n",
       "1                                                NaN   \n",
       "2                                                NaN   \n",
       "3                                                NaN   \n",
       "4  The official documentation and/or standards fo...   \n",
       "\n",
       "                                  LanguageWorkedWith  Salary  \\\n",
       "0                 C#;Java;Matlab;Python;SQL;HTML;CSS     510   \n",
       "1                              JavaScript;TypeScript     120   \n",
       "2  C++;C#;Java;JavaScript;Matlab;SQL;HTML;Bash/Shell  100000   \n",
       "3                                         C;PHP;HTML     NaN   \n",
       "4  C;C++;C#;Java;JavaScript;Lua;PHP;Python;SQL;HT...     220   \n",
       "\n",
       "                              LanguageDesireNextYear  \\\n",
       "0  C++;C#;Java;JavaScript;Objective-C;Perl;Python...   \n",
       "1                              JavaScript;TypeScript   \n",
       "2                                                NaN   \n",
       "3                                           Python;R   \n",
       "4  Assembly;C++;C#;Perl;Python;R;Ruby;Rust;Bash/S...   \n",
       "\n",
       "                  FrameworkWorkedWith  \\\n",
       "0                               Spark   \n",
       "1               Angular;Node.js;React   \n",
       "2                             Angular   \n",
       "3                                 NaN   \n",
       "4  .NET Core;TensorFlow;Torch/PyTorch   \n",
       "\n",
       "                             FrameworkDesireNextYear OperatingSystem  \\\n",
       "0  Angular;Django;Hadoop;Node.js;Spark;Spring;Ten...     Linux-based   \n",
       "1                              Angular;Node.js;React         Windows   \n",
       "2                                                NaN           MacOS   \n",
       "3                                                NaN             NaN   \n",
       "4                               .NET Core;TensorFlow     Linux-based   \n",
       "\n",
       "                  Age  ConvertedSalary  \n",
       "0   18 - 24 years old              NaN  \n",
       "1   18 - 24 years old           1440.0  \n",
       "2   25 - 34 years old          14436.0  \n",
       "3                 NaN              NaN  \n",
       "4  Under 18 years old           3228.0  "
      ]
     },
     "execution_count": 63,
     "metadata": {},
     "output_type": "execute_result"
    }
   ],
   "source": [
    "salaries_train.head()"
   ]
  },
  {
   "cell_type": "code",
   "execution_count": 64,
   "metadata": {},
   "outputs": [
    {
     "data": {
      "text/plain": [
       "array(['3-5 years', '6-8 years', '18-20 years', '30 or more years',\n",
       "       '0-2 years', '12-14 years', '9-11 years', '15-17 years',\n",
       "       '21-23 years', nan, '24-26 years', '27-29 years'], dtype=object)"
      ]
     },
     "execution_count": 64,
     "metadata": {},
     "output_type": "execute_result"
    }
   ],
   "source": [
    "salaries_train[\"YearsCoding\"].unique()"
   ]
  },
  {
   "cell_type": "code",
   "execution_count": 65,
   "metadata": {},
   "outputs": [],
   "source": [
    "salaries_train[\"YearsCoding\"].replace('0-2 years',1,inplace=True)\n",
    "salaries_train[\"YearsCoding\"].replace('6-8 years',7,inplace=True)\n",
    "salaries_train[\"YearsCoding\"].replace(np.nan,0,inplace=True)\n",
    "salaries_train[\"YearsCoding\"].replace('3-5 years',5,inplace=True)\n",
    "salaries_train[\"YearsCoding\"].replace('27-29 years',28,inplace=True)\n",
    "salaries_train[\"YearsCoding\"].replace('18-20 years',19,inplace=True)\n",
    "salaries_train[\"YearsCoding\"].replace('12-14 years',13,inplace=True)\n",
    "salaries_train[\"YearsCoding\"].replace('21-23 years',22,inplace=True)\n",
    "salaries_train[\"YearsCoding\"].replace('15-17 years',16,inplace=True)\n",
    "salaries_train[\"YearsCoding\"].replace('24-26 years',25,inplace=True)\n",
    "salaries_train[\"YearsCoding\"].replace('30 or more years',30,inplace=True)\n",
    "salaries_train[\"YearsCoding\"].replace('9-11 years',10,inplace=True)"
   ]
  },
  {
   "cell_type": "code",
   "execution_count": 66,
   "metadata": {},
   "outputs": [
    {
     "data": {
      "text/plain": [
       "array([ 5,  7, 19, 30,  1, 13, 10, 16, 22,  0, 25, 28], dtype=int64)"
      ]
     },
     "execution_count": 66,
     "metadata": {},
     "output_type": "execute_result"
    }
   ],
   "source": [
    "salaries_train[\"YearsCoding\"].unique()"
   ]
  },
  {
   "cell_type": "markdown",
   "metadata": {},
   "source": [
    "**Dealing with EducationTypes col**"
   ]
  },
  {
   "cell_type": "code",
   "execution_count": 67,
   "metadata": {},
   "outputs": [
    {
     "data": {
      "text/html": [
       "<div>\n",
       "<style scoped>\n",
       "    .dataframe tbody tr th:only-of-type {\n",
       "        vertical-align: middle;\n",
       "    }\n",
       "\n",
       "    .dataframe tbody tr th {\n",
       "        vertical-align: top;\n",
       "    }\n",
       "\n",
       "    .dataframe thead th {\n",
       "        text-align: right;\n",
       "    }\n",
       "</style>\n",
       "<table border=\"1\" class=\"dataframe\">\n",
       "  <thead>\n",
       "    <tr style=\"text-align: right;\">\n",
       "      <th></th>\n",
       "      <th>Unnamed: 0</th>\n",
       "      <th>Country</th>\n",
       "      <th>Student</th>\n",
       "      <th>Employment</th>\n",
       "      <th>FormalEducation</th>\n",
       "      <th>UndergradMajor</th>\n",
       "      <th>CompanySize</th>\n",
       "      <th>DevType</th>\n",
       "      <th>YearsCoding</th>\n",
       "      <th>YearsCodingProf</th>\n",
       "      <th>EducationTypes</th>\n",
       "      <th>SelfTaughtTypes</th>\n",
       "      <th>LanguageWorkedWith</th>\n",
       "      <th>Salary</th>\n",
       "      <th>LanguageDesireNextYear</th>\n",
       "      <th>FrameworkWorkedWith</th>\n",
       "      <th>FrameworkDesireNextYear</th>\n",
       "      <th>OperatingSystem</th>\n",
       "      <th>Age</th>\n",
       "      <th>ConvertedSalary</th>\n",
       "    </tr>\n",
       "  </thead>\n",
       "  <tbody>\n",
       "    <tr>\n",
       "      <th>0</th>\n",
       "      <td>17522</td>\n",
       "      <td>Greece</td>\n",
       "      <td>No</td>\n",
       "      <td>Employed</td>\n",
       "      <td>Medium</td>\n",
       "      <td>Computer science, computer engineering, or sof...</td>\n",
       "      <td>10.0</td>\n",
       "      <td>Back-end developer</td>\n",
       "      <td>5</td>\n",
       "      <td>1</td>\n",
       "      <td>Taught yourself a new language, framework, or ...</td>\n",
       "      <td>The official documentation and/or standards fo...</td>\n",
       "      <td>C#;Java;Matlab;Python;SQL;HTML;CSS</td>\n",
       "      <td>510</td>\n",
       "      <td>C++;C#;Java;JavaScript;Objective-C;Perl;Python...</td>\n",
       "      <td>Spark</td>\n",
       "      <td>Angular;Django;Hadoop;Node.js;Spark;Spring;Ten...</td>\n",
       "      <td>Linux-based</td>\n",
       "      <td>18 - 24 years old</td>\n",
       "      <td>NaN</td>\n",
       "    </tr>\n",
       "    <tr>\n",
       "      <th>1</th>\n",
       "      <td>83134</td>\n",
       "      <td>Nepal</td>\n",
       "      <td>Yes</td>\n",
       "      <td>Not_employed</td>\n",
       "      <td>Medium</td>\n",
       "      <td>Web development or web design</td>\n",
       "      <td>NaN</td>\n",
       "      <td>Front-end developer</td>\n",
       "      <td>5</td>\n",
       "      <td>1</td>\n",
       "      <td>Participated in a full-time developer training...</td>\n",
       "      <td>NaN</td>\n",
       "      <td>JavaScript;TypeScript</td>\n",
       "      <td>120</td>\n",
       "      <td>JavaScript;TypeScript</td>\n",
       "      <td>Angular;Node.js;React</td>\n",
       "      <td>Angular;Node.js;React</td>\n",
       "      <td>Windows</td>\n",
       "      <td>18 - 24 years old</td>\n",
       "      <td>1440.0</td>\n",
       "    </tr>\n",
       "    <tr>\n",
       "      <th>2</th>\n",
       "      <td>858</td>\n",
       "      <td>Bangladesh</td>\n",
       "      <td>No</td>\n",
       "      <td>Employed</td>\n",
       "      <td>High</td>\n",
       "      <td>Computer science, computer engineering, or sof...</td>\n",
       "      <td>15.0</td>\n",
       "      <td>Back-end developer</td>\n",
       "      <td>7</td>\n",
       "      <td>7</td>\n",
       "      <td>Taken an online course in programming or softw...</td>\n",
       "      <td>NaN</td>\n",
       "      <td>C++;C#;Java;JavaScript;Matlab;SQL;HTML;Bash/Shell</td>\n",
       "      <td>100000</td>\n",
       "      <td>NaN</td>\n",
       "      <td>Angular</td>\n",
       "      <td>NaN</td>\n",
       "      <td>MacOS</td>\n",
       "      <td>25 - 34 years old</td>\n",
       "      <td>14436.0</td>\n",
       "    </tr>\n",
       "    <tr>\n",
       "      <th>3</th>\n",
       "      <td>53284</td>\n",
       "      <td>India</td>\n",
       "      <td>Yes</td>\n",
       "      <td>Employed</td>\n",
       "      <td>Medium</td>\n",
       "      <td>Computer science, computer engineering, or sof...</td>\n",
       "      <td>10.0</td>\n",
       "      <td>Back-end developer</td>\n",
       "      <td>5</td>\n",
       "      <td>0</td>\n",
       "      <td>NaN</td>\n",
       "      <td>NaN</td>\n",
       "      <td>C;PHP;HTML</td>\n",
       "      <td>NaN</td>\n",
       "      <td>Python;R</td>\n",
       "      <td>NaN</td>\n",
       "      <td>NaN</td>\n",
       "      <td>NaN</td>\n",
       "      <td>NaN</td>\n",
       "      <td>NaN</td>\n",
       "    </tr>\n",
       "    <tr>\n",
       "      <th>4</th>\n",
       "      <td>37884</td>\n",
       "      <td>Czech Republic</td>\n",
       "      <td>No</td>\n",
       "      <td>Employed</td>\n",
       "      <td>Low</td>\n",
       "      <td>NaN</td>\n",
       "      <td>300.0</td>\n",
       "      <td>Back-end developer</td>\n",
       "      <td>5</td>\n",
       "      <td>1</td>\n",
       "      <td>Received on-the-job training in software devel...</td>\n",
       "      <td>The official documentation and/or standards fo...</td>\n",
       "      <td>C;C++;C#;Java;JavaScript;Lua;PHP;Python;SQL;HT...</td>\n",
       "      <td>220</td>\n",
       "      <td>Assembly;C++;C#;Perl;Python;R;Ruby;Rust;Bash/S...</td>\n",
       "      <td>.NET Core;TensorFlow;Torch/PyTorch</td>\n",
       "      <td>.NET Core;TensorFlow</td>\n",
       "      <td>Linux-based</td>\n",
       "      <td>Under 18 years old</td>\n",
       "      <td>3228.0</td>\n",
       "    </tr>\n",
       "  </tbody>\n",
       "</table>\n",
       "</div>"
      ],
      "text/plain": [
       "   Unnamed: 0         Country Student    Employment FormalEducation  \\\n",
       "0       17522          Greece      No      Employed          Medium   \n",
       "1       83134           Nepal     Yes  Not_employed          Medium   \n",
       "2         858      Bangladesh      No      Employed            High   \n",
       "3       53284           India     Yes      Employed          Medium   \n",
       "4       37884  Czech Republic      No      Employed             Low   \n",
       "\n",
       "                                      UndergradMajor  CompanySize  \\\n",
       "0  Computer science, computer engineering, or sof...         10.0   \n",
       "1                      Web development or web design          NaN   \n",
       "2  Computer science, computer engineering, or sof...         15.0   \n",
       "3  Computer science, computer engineering, or sof...         10.0   \n",
       "4                                                NaN        300.0   \n",
       "\n",
       "               DevType  YearsCoding  YearsCodingProf  \\\n",
       "0   Back-end developer            5                1   \n",
       "1  Front-end developer            5                1   \n",
       "2   Back-end developer            7                7   \n",
       "3   Back-end developer            5                0   \n",
       "4   Back-end developer            5                1   \n",
       "\n",
       "                                      EducationTypes  \\\n",
       "0  Taught yourself a new language, framework, or ...   \n",
       "1  Participated in a full-time developer training...   \n",
       "2  Taken an online course in programming or softw...   \n",
       "3                                                NaN   \n",
       "4  Received on-the-job training in software devel...   \n",
       "\n",
       "                                     SelfTaughtTypes  \\\n",
       "0  The official documentation and/or standards fo...   \n",
       "1                                                NaN   \n",
       "2                                                NaN   \n",
       "3                                                NaN   \n",
       "4  The official documentation and/or standards fo...   \n",
       "\n",
       "                                  LanguageWorkedWith  Salary  \\\n",
       "0                 C#;Java;Matlab;Python;SQL;HTML;CSS     510   \n",
       "1                              JavaScript;TypeScript     120   \n",
       "2  C++;C#;Java;JavaScript;Matlab;SQL;HTML;Bash/Shell  100000   \n",
       "3                                         C;PHP;HTML     NaN   \n",
       "4  C;C++;C#;Java;JavaScript;Lua;PHP;Python;SQL;HT...     220   \n",
       "\n",
       "                              LanguageDesireNextYear  \\\n",
       "0  C++;C#;Java;JavaScript;Objective-C;Perl;Python...   \n",
       "1                              JavaScript;TypeScript   \n",
       "2                                                NaN   \n",
       "3                                           Python;R   \n",
       "4  Assembly;C++;C#;Perl;Python;R;Ruby;Rust;Bash/S...   \n",
       "\n",
       "                  FrameworkWorkedWith  \\\n",
       "0                               Spark   \n",
       "1               Angular;Node.js;React   \n",
       "2                             Angular   \n",
       "3                                 NaN   \n",
       "4  .NET Core;TensorFlow;Torch/PyTorch   \n",
       "\n",
       "                             FrameworkDesireNextYear OperatingSystem  \\\n",
       "0  Angular;Django;Hadoop;Node.js;Spark;Spring;Ten...     Linux-based   \n",
       "1                              Angular;Node.js;React         Windows   \n",
       "2                                                NaN           MacOS   \n",
       "3                                                NaN             NaN   \n",
       "4                               .NET Core;TensorFlow     Linux-based   \n",
       "\n",
       "                  Age  ConvertedSalary  \n",
       "0   18 - 24 years old              NaN  \n",
       "1   18 - 24 years old           1440.0  \n",
       "2   25 - 34 years old          14436.0  \n",
       "3                 NaN              NaN  \n",
       "4  Under 18 years old           3228.0  "
      ]
     },
     "execution_count": 67,
     "metadata": {},
     "output_type": "execute_result"
    }
   ],
   "source": [
    "salaries_train.head()"
   ]
  },
  {
   "cell_type": "code",
   "execution_count": 68,
   "metadata": {},
   "outputs": [
    {
     "data": {
      "text/plain": [
       "72"
      ]
     },
     "execution_count": 68,
     "metadata": {},
     "output_type": "execute_result"
    }
   ],
   "source": [
    "len(salaries_train[\"EducationTypes\"].unique())"
   ]
  },
  {
   "cell_type": "code",
   "execution_count": 69,
   "metadata": {},
   "outputs": [
    {
     "data": {
      "text/plain": [
       "'Which of the following types of non-degree education have you used or participated in? Please select all that apply.'"
      ]
     },
     "execution_count": 69,
     "metadata": {},
     "output_type": "execute_result"
    }
   ],
   "source": [
    "# Question salaries_train[\"EducationTypes\"] answers #\n",
    "schema.loc[58,\"QuestionText\"]"
   ]
  },
  {
   "cell_type": "code",
   "execution_count": 70,
   "metadata": {},
   "outputs": [
    {
     "data": {
      "text/plain": [
       "'Taken a part-time in-person course in programming or software development;Taught yourself a new language, framework, or tool without taking a formal course;Participated in online coding competitions (e.g. HackerRank, CodeChef, TopCoder);Participated in a hackathon;Contributed to open source software'"
      ]
     },
     "execution_count": 70,
     "metadata": {},
     "output_type": "execute_result"
    }
   ],
   "source": [
    "salaries_train[\"EducationTypes\"][5]"
   ]
  },
  {
   "cell_type": "code",
   "execution_count": 71,
   "metadata": {},
   "outputs": [],
   "source": [
    "# turn each row in the col into an array #"
   ]
  },
  {
   "cell_type": "code",
   "execution_count": 72,
   "metadata": {},
   "outputs": [],
   "source": [
    "# split a pandas Series into an array via (\";\") \n",
    "salaries_train[\"EducationTypes\"] = salaries_train[\"EducationTypes\"].str.split(\";\")"
   ]
  },
  {
   "cell_type": "code",
   "execution_count": 73,
   "metadata": {},
   "outputs": [
    {
     "data": {
      "text/plain": [
       "['Taught yourself a new language, framework, or tool without taking a formal course']"
      ]
     },
     "execution_count": 73,
     "metadata": {},
     "output_type": "execute_result"
    }
   ],
   "source": [
    "salaries_train[\"EducationTypes\"][0]"
   ]
  },
  {
   "cell_type": "code",
   "execution_count": 74,
   "metadata": {},
   "outputs": [],
   "source": [
    "# Choose the first education type #\n",
    "salaries_train[\"EducationTypes\"] = salaries_train[\"EducationTypes\"].str[0]"
   ]
  },
  {
   "cell_type": "code",
   "execution_count": 75,
   "metadata": {},
   "outputs": [
    {
     "data": {
      "text/plain": [
       "Taken an online course in programming or software development (e.g. a MOOC)          65\n",
       "Taught yourself a new language, framework, or tool without taking a formal course    33\n",
       "Received on-the-job training in software development                                 21\n",
       "Taken a part-time in-person course in programming or software development            11\n",
       "Completed an industry certification program (e.g. MCPD)                               6\n",
       "Participated in a full-time developer training program or bootcamp                    3\n",
       "Participated in online coding competitions (e.g. HackerRank, CodeChef, TopCoder)      1\n",
       "Contributed to open source software                                                   1\n",
       "Participated in a hackathon                                                           1\n",
       "Name: EducationTypes, dtype: int64"
      ]
     },
     "execution_count": 75,
     "metadata": {},
     "output_type": "execute_result"
    }
   ],
   "source": [
    "salaries_train[\"EducationTypes\"].value_counts()"
   ]
  },
  {
   "cell_type": "code",
   "execution_count": 76,
   "metadata": {},
   "outputs": [
    {
     "data": {
      "text/plain": [
       "array(['Taught yourself a new language, framework, or tool without taking a formal course',\n",
       "       'Participated in a full-time developer training program or bootcamp',\n",
       "       'Taken an online course in programming or software development (e.g. a MOOC)',\n",
       "       nan, 'Received on-the-job training in software development',\n",
       "       'Taken a part-time in-person course in programming or software development',\n",
       "       'Completed an industry certification program (e.g. MCPD)',\n",
       "       'Participated in a hackathon',\n",
       "       'Contributed to open source software',\n",
       "       'Participated in online coding competitions (e.g. HackerRank, CodeChef, TopCoder)'],\n",
       "      dtype=object)"
      ]
     },
     "execution_count": 76,
     "metadata": {},
     "output_type": "execute_result"
    }
   ],
   "source": [
    "salaries_train[\"EducationTypes\"].unique()"
   ]
  },
  {
   "cell_type": "code",
   "execution_count": 77,
   "metadata": {},
   "outputs": [
    {
     "data": {
      "text/plain": [
       "10"
      ]
     },
     "execution_count": 77,
     "metadata": {},
     "output_type": "execute_result"
    }
   ],
   "source": [
    "len(salaries_train[\"EducationTypes\"].unique())"
   ]
  },
  {
   "cell_type": "code",
   "execution_count": 78,
   "metadata": {},
   "outputs": [],
   "source": [
    "# might Group cols to fewer options later #"
   ]
  },
  {
   "cell_type": "markdown",
   "metadata": {},
   "source": [
    "**Dealing with SelfTaughtTypes col**"
   ]
  },
  {
   "cell_type": "code",
   "execution_count": 79,
   "metadata": {},
   "outputs": [
    {
     "data": {
      "text/plain": [
       "60"
      ]
     },
     "execution_count": 79,
     "metadata": {},
     "output_type": "execute_result"
    }
   ],
   "source": [
    "len(salaries_train[\"SelfTaughtTypes\"].unique())"
   ]
  },
  {
   "cell_type": "code",
   "execution_count": 80,
   "metadata": {},
   "outputs": [
    {
     "data": {
      "text/plain": [
       "'A book or e-book from O’Reilly, Apress, or a similar publisher;Questions & answers on Stack Overflow;Online developer communities other than Stack Overflow (ex. forums, listservs, IRC channels, etc.)'"
      ]
     },
     "execution_count": 80,
     "metadata": {},
     "output_type": "execute_result"
    }
   ],
   "source": [
    "salaries_train[\"SelfTaughtTypes\"][69]"
   ]
  },
  {
   "cell_type": "code",
   "execution_count": 81,
   "metadata": {},
   "outputs": [],
   "source": [
    "# turn each row in the col into an array #"
   ]
  },
  {
   "cell_type": "code",
   "execution_count": 82,
   "metadata": {},
   "outputs": [
    {
     "data": {
      "text/plain": [
       "['The official documentation and/or standards for the technology',\n",
       " 'Questions & answers on Stack Overflow',\n",
       " 'Online developer communities other than Stack Overflow (ex. forums, listservs, IRC channels, etc.)']"
      ]
     },
     "execution_count": 82,
     "metadata": {},
     "output_type": "execute_result"
    }
   ],
   "source": [
    "salaries_train[\"SelfTaughtTypes\"].str.split(\";\")[0]"
   ]
  },
  {
   "cell_type": "code",
   "execution_count": 83,
   "metadata": {},
   "outputs": [],
   "source": [
    "# split a pandas Series into an array via (\";\") \n",
    "salaries_train[\"SelfTaughtTypes\"] = salaries_train[\"SelfTaughtTypes\"].str.split(\";\")"
   ]
  },
  {
   "cell_type": "code",
   "execution_count": 84,
   "metadata": {},
   "outputs": [
    {
     "data": {
      "text/plain": [
       "['The official documentation and/or standards for the technology',\n",
       " 'Questions & answers on Stack Overflow',\n",
       " 'Online developer communities other than Stack Overflow (ex. forums, listservs, IRC channels, etc.)']"
      ]
     },
     "execution_count": 84,
     "metadata": {},
     "output_type": "execute_result"
    }
   ],
   "source": [
    "salaries_train[\"SelfTaughtTypes\"][0]"
   ]
  },
  {
   "cell_type": "code",
   "execution_count": 85,
   "metadata": {},
   "outputs": [
    {
     "data": {
      "text/plain": [
       "'The official documentation and/or standards for the technology'"
      ]
     },
     "execution_count": 85,
     "metadata": {},
     "output_type": "execute_result"
    }
   ],
   "source": [
    "# Choose first option for SelfTaughtTypes #\n",
    "salaries_train[\"SelfTaughtTypes\"].str[0][0]"
   ]
  },
  {
   "cell_type": "code",
   "execution_count": 86,
   "metadata": {},
   "outputs": [],
   "source": [
    "# Implimentation #\n",
    "salaries_train[\"SelfTaughtTypes\"] = salaries_train[\"SelfTaughtTypes\"].str[0]"
   ]
  },
  {
   "cell_type": "code",
   "execution_count": 87,
   "metadata": {},
   "outputs": [
    {
     "data": {
      "text/plain": [
       "0    The official documentation and/or standards fo...\n",
       "1                                                  NaN\n",
       "2                                                  NaN\n",
       "3                                                  NaN\n",
       "4    The official documentation and/or standards fo...\n",
       "Name: SelfTaughtTypes, dtype: object"
      ]
     },
     "execution_count": 87,
     "metadata": {},
     "output_type": "execute_result"
    }
   ],
   "source": [
    "salaries_train[\"SelfTaughtTypes\"].head()"
   ]
  },
  {
   "cell_type": "code",
   "execution_count": 88,
   "metadata": {},
   "outputs": [
    {
     "data": {
      "text/plain": [
       "'The official documentation and/or standards for the technology'"
      ]
     },
     "execution_count": 88,
     "metadata": {},
     "output_type": "execute_result"
    }
   ],
   "source": [
    "salaries_train[\"SelfTaughtTypes\"][0]"
   ]
  },
  {
   "cell_type": "code",
   "execution_count": 89,
   "metadata": {},
   "outputs": [
    {
     "data": {
      "text/plain": [
       "The official documentation and/or standards for the technology        105\n",
       "A book or e-book from O’Reilly, Apress, or a similar publisher          8\n",
       "Questions & answers on Stack Overflow                                   7\n",
       "The technology’s online help system                                     1\n",
       "A college/university computer science or software engineering book      1\n",
       "Name: SelfTaughtTypes, dtype: int64"
      ]
     },
     "execution_count": 89,
     "metadata": {},
     "output_type": "execute_result"
    }
   ],
   "source": [
    "salaries_train[\"SelfTaughtTypes\"].value_counts()"
   ]
  },
  {
   "cell_type": "code",
   "execution_count": null,
   "metadata": {},
   "outputs": [],
   "source": []
  },
  {
   "cell_type": "markdown",
   "metadata": {},
   "source": [
    "**Dealing with LanguageWorkedWith col**"
   ]
  },
  {
   "cell_type": "code",
   "execution_count": 90,
   "metadata": {},
   "outputs": [
    {
     "data": {
      "text/plain": [
       "147"
      ]
     },
     "execution_count": 90,
     "metadata": {},
     "output_type": "execute_result"
    }
   ],
   "source": [
    "len(salaries_train[\"LanguageWorkedWith\"].unique())"
   ]
  },
  {
   "cell_type": "code",
   "execution_count": 91,
   "metadata": {},
   "outputs": [
    {
     "data": {
      "text/plain": [
       "'C#;Java;Matlab;Python;SQL;HTML;CSS'"
      ]
     },
     "execution_count": 91,
     "metadata": {},
     "output_type": "execute_result"
    }
   ],
   "source": [
    "salaries_train[\"LanguageWorkedWith\"][0]"
   ]
  },
  {
   "cell_type": "code",
   "execution_count": 92,
   "metadata": {},
   "outputs": [],
   "source": [
    "# Turn \"LanguageWorkedWith\" col to a list #\n",
    "salaries_train[\"LanguageWorkedWith\"] = salaries_train[\"LanguageWorkedWith\"].str.split(\";\")"
   ]
  },
  {
   "cell_type": "code",
   "execution_count": 93,
   "metadata": {},
   "outputs": [
    {
     "data": {
      "text/plain": [
       "0                  [C#, Java]\n",
       "1    [JavaScript, TypeScript]\n",
       "2                   [C++, C#]\n",
       "3                    [C, PHP]\n",
       "4                    [C, C++]\n",
       "5               [Assembly, C]\n",
       "Name: LanguageWorkedWith, dtype: object"
      ]
     },
     "execution_count": 93,
     "metadata": {},
     "output_type": "execute_result"
    }
   ],
   "source": [
    "salaries_train[\"LanguageWorkedWith\"].str[0:2].head(6)"
   ]
  },
  {
   "cell_type": "code",
   "execution_count": 94,
   "metadata": {},
   "outputs": [],
   "source": [
    "# Extract the first 2 LanguageWorkedWith #"
   ]
  },
  {
   "cell_type": "code",
   "execution_count": 95,
   "metadata": {},
   "outputs": [],
   "source": [
    "salaries_train[\"LanguageWorkedWith\"] = salaries_train[\"LanguageWorkedWith\"].str[0:2]"
   ]
  },
  {
   "cell_type": "code",
   "execution_count": 96,
   "metadata": {},
   "outputs": [
    {
     "data": {
      "text/plain": [
       "0                  [C#, Java]\n",
       "1    [JavaScript, TypeScript]\n",
       "2                   [C++, C#]\n",
       "3                    [C, PHP]\n",
       "4                    [C, C++]\n",
       "Name: LanguageWorkedWith, dtype: object"
      ]
     },
     "execution_count": 96,
     "metadata": {},
     "output_type": "execute_result"
    }
   ],
   "source": [
    "salaries_train[\"LanguageWorkedWith\"].head()"
   ]
  },
  {
   "cell_type": "code",
   "execution_count": 97,
   "metadata": {},
   "outputs": [],
   "source": [
    "# Create a new col for SecondLanguageWorkedWith #\n",
    "salaries_train[\"SecondLanguageWorkedWith\"] = salaries_train[\"LanguageWorkedWith\"].str[1]"
   ]
  },
  {
   "cell_type": "code",
   "execution_count": 98,
   "metadata": {},
   "outputs": [
    {
     "data": {
      "text/plain": [
       "0          Java\n",
       "1    TypeScript\n",
       "2            C#\n",
       "3           PHP\n",
       "4           C++\n",
       "Name: SecondLanguageWorkedWith, dtype: object"
      ]
     },
     "execution_count": 98,
     "metadata": {},
     "output_type": "execute_result"
    }
   ],
   "source": [
    "salaries_train[\"SecondLanguageWorkedWith\"].head()"
   ]
  },
  {
   "cell_type": "code",
   "execution_count": 99,
   "metadata": {},
   "outputs": [],
   "source": [
    "salaries_train[\"SecondLanguageWorkedWith\"] = salaries_train[\"LanguageWorkedWith\"].str[1]"
   ]
  },
  {
   "cell_type": "code",
   "execution_count": 100,
   "metadata": {},
   "outputs": [],
   "source": [
    "# Primary programming language #\n",
    "salaries_train[\"LanguageWorkedWith\"] = salaries_train[\"LanguageWorkedWith\"].str[0]"
   ]
  },
  {
   "cell_type": "code",
   "execution_count": 101,
   "metadata": {},
   "outputs": [
    {
     "data": {
      "text/plain": [
       "0            C#\n",
       "1    JavaScript\n",
       "2           C++\n",
       "3             C\n",
       "4             C\n",
       "Name: LanguageWorkedWith, dtype: object"
      ]
     },
     "execution_count": 101,
     "metadata": {},
     "output_type": "execute_result"
    }
   ],
   "source": [
    "salaries_train[\"LanguageWorkedWith\"].head()"
   ]
  },
  {
   "cell_type": "code",
   "execution_count": null,
   "metadata": {},
   "outputs": [],
   "source": []
  },
  {
   "cell_type": "markdown",
   "metadata": {},
   "source": [
    "**Dealing with LanguageDesireNextYear col**"
   ]
  },
  {
   "cell_type": "code",
   "execution_count": 102,
   "metadata": {},
   "outputs": [
    {
     "data": {
      "text/plain": [
       "143"
      ]
     },
     "execution_count": 102,
     "metadata": {},
     "output_type": "execute_result"
    }
   ],
   "source": [
    "len(salaries_train[\"LanguageDesireNextYear\"].unique())"
   ]
  },
  {
   "cell_type": "code",
   "execution_count": 103,
   "metadata": {},
   "outputs": [],
   "source": [
    "# Will drop col #"
   ]
  },
  {
   "cell_type": "code",
   "execution_count": null,
   "metadata": {},
   "outputs": [],
   "source": []
  },
  {
   "cell_type": "markdown",
   "metadata": {},
   "source": [
    "**Dealing with FrameworkWorkedWith col**"
   ]
  },
  {
   "cell_type": "code",
   "execution_count": 104,
   "metadata": {},
   "outputs": [
    {
     "data": {
      "text/plain": [
       "50"
      ]
     },
     "execution_count": 104,
     "metadata": {},
     "output_type": "execute_result"
    }
   ],
   "source": [
    "len(salaries_train[\"FrameworkWorkedWith\"].unique())"
   ]
  },
  {
   "cell_type": "code",
   "execution_count": 105,
   "metadata": {},
   "outputs": [
    {
     "data": {
      "text/plain": [
       "0                                 Spark\n",
       "1                 Angular;Node.js;React\n",
       "2                               Angular\n",
       "3                                   NaN\n",
       "4    .NET Core;TensorFlow;Torch/PyTorch\n",
       "Name: FrameworkWorkedWith, dtype: object"
      ]
     },
     "execution_count": 105,
     "metadata": {},
     "output_type": "execute_result"
    }
   ],
   "source": [
    "salaries_train[\"FrameworkWorkedWith\"].head()"
   ]
  },
  {
   "cell_type": "code",
   "execution_count": 106,
   "metadata": {},
   "outputs": [],
   "source": [
    "# Turn salaries_train[\"FrameworkWorkedWith\"] to an array #\n",
    "salaries_train[\"FrameworkWorkedWith\"] = salaries_train[\"FrameworkWorkedWith\"].str.split(\";\")"
   ]
  },
  {
   "cell_type": "code",
   "execution_count": 107,
   "metadata": {},
   "outputs": [
    {
     "data": {
      "text/plain": [
       "0                                   [Spark]\n",
       "1                 [Angular, Node.js, React]\n",
       "2                                 [Angular]\n",
       "3                                       NaN\n",
       "4    [.NET Core, TensorFlow, Torch/PyTorch]\n",
       "Name: FrameworkWorkedWith, dtype: object"
      ]
     },
     "execution_count": 107,
     "metadata": {},
     "output_type": "execute_result"
    }
   ],
   "source": [
    "salaries_train[\"FrameworkWorkedWith\"].head()"
   ]
  },
  {
   "cell_type": "code",
   "execution_count": 108,
   "metadata": {},
   "outputs": [],
   "source": [
    "# Get the first framework #\n",
    "salaries_train[\"FrameworkWorkedWith\"] = salaries_train[\"FrameworkWorkedWith\"].str[0]"
   ]
  },
  {
   "cell_type": "code",
   "execution_count": 109,
   "metadata": {},
   "outputs": [
    {
     "data": {
      "text/plain": [
       "Angular          38\n",
       ".NET Core        26\n",
       "Node.js          22\n",
       "Django            9\n",
       "React             8\n",
       "Spring            7\n",
       "TensorFlow        3\n",
       "Spark             1\n",
       "Torch/PyTorch     1\n",
       "Hadoop            1\n",
       "Name: FrameworkWorkedWith, dtype: int64"
      ]
     },
     "execution_count": 109,
     "metadata": {},
     "output_type": "execute_result"
    }
   ],
   "source": [
    "salaries_train[\"FrameworkWorkedWith\"].value_counts()"
   ]
  },
  {
   "cell_type": "code",
   "execution_count": null,
   "metadata": {},
   "outputs": [],
   "source": []
  },
  {
   "cell_type": "markdown",
   "metadata": {},
   "source": [
    "**Dealing with FrameworkDesireNextYear col**"
   ]
  },
  {
   "cell_type": "code",
   "execution_count": 110,
   "metadata": {},
   "outputs": [
    {
     "data": {
      "text/plain": [
       "72"
      ]
     },
     "execution_count": 110,
     "metadata": {},
     "output_type": "execute_result"
    }
   ],
   "source": [
    "len(salaries_train[\"FrameworkDesireNextYear\"].unique())"
   ]
  },
  {
   "cell_type": "code",
   "execution_count": 111,
   "metadata": {},
   "outputs": [],
   "source": [
    "# Will drop col #"
   ]
  },
  {
   "cell_type": "markdown",
   "metadata": {},
   "source": [
    "**Dealing with OperatingSystem col**"
   ]
  },
  {
   "cell_type": "code",
   "execution_count": 112,
   "metadata": {},
   "outputs": [
    {
     "data": {
      "text/plain": [
       "array(['Linux-based', 'Windows', 'MacOS', nan], dtype=object)"
      ]
     },
     "execution_count": 112,
     "metadata": {},
     "output_type": "execute_result"
    }
   ],
   "source": [
    "salaries_train[\"OperatingSystem\"].unique()"
   ]
  },
  {
   "cell_type": "code",
   "execution_count": 113,
   "metadata": {},
   "outputs": [],
   "source": [
    "# Replace nan with Windows since windows is the most popular OS in the world #\n",
    "salaries_train[\"OperatingSystem\"].replace(np.nan,\"Windows\",inplace=True)"
   ]
  },
  {
   "cell_type": "code",
   "execution_count": 114,
   "metadata": {},
   "outputs": [
    {
     "data": {
      "text/plain": [
       "array(['Linux-based', 'Windows', 'MacOS'], dtype=object)"
      ]
     },
     "execution_count": 114,
     "metadata": {},
     "output_type": "execute_result"
    }
   ],
   "source": [
    "salaries_train[\"OperatingSystem\"].unique()"
   ]
  },
  {
   "cell_type": "markdown",
   "metadata": {},
   "source": [
    "**Dealing with Age col**"
   ]
  },
  {
   "cell_type": "code",
   "execution_count": 115,
   "metadata": {},
   "outputs": [
    {
     "data": {
      "text/plain": [
       "array(['18 - 24 years old', '25 - 34 years old', nan,\n",
       "       'Under 18 years old', '35 - 44 years old', '45 - 54 years old',\n",
       "       '55 - 64 years old'], dtype=object)"
      ]
     },
     "execution_count": 115,
     "metadata": {},
     "output_type": "execute_result"
    }
   ],
   "source": [
    "salaries_train[\"Age\"].unique()"
   ]
  },
  {
   "cell_type": "markdown",
   "metadata": {},
   "source": [
    "Replace:\n",
    "\n",
    "\"18 - 24 years old\" --> 21  etc"
   ]
  },
  {
   "cell_type": "code",
   "execution_count": 116,
   "metadata": {},
   "outputs": [
    {
     "data": {
      "text/plain": [
       "25 - 34 years old     63\n",
       "18 - 24 years old     33\n",
       "35 - 44 years old     22\n",
       "Under 18 years old     9\n",
       "45 - 54 years old      7\n",
       "55 - 64 years old      3\n",
       "Name: Age, dtype: int64"
      ]
     },
     "execution_count": 116,
     "metadata": {},
     "output_type": "execute_result"
    }
   ],
   "source": [
    "salaries_train[\"Age\"].value_counts()"
   ]
  },
  {
   "cell_type": "code",
   "execution_count": 117,
   "metadata": {},
   "outputs": [],
   "source": [
    "salaries_train[\"Age\"].replace(\"18 - 24 years old\",21,inplace=True)\n",
    "salaries_train[\"Age\"].replace(\"25 - 34 years old\",30,inplace=True)\n",
    "salaries_train[\"Age\"].replace(\"Under 18 years old\",18,inplace=True)\n",
    "salaries_train[\"Age\"].replace(\"35 - 44 years old\",40,inplace=True)\n",
    "salaries_train[\"Age\"].replace(\"45 - 54 years old\",50,inplace=True)\n",
    "salaries_train[\"Age\"].replace(\"55 - 64 years old\",60,inplace=True)\n",
    "# since most people are between 25 - 34 years old, for nan --> 30 #\n",
    "salaries_train[\"Age\"].replace(np.nan,30,inplace=True)"
   ]
  },
  {
   "cell_type": "code",
   "execution_count": 118,
   "metadata": {},
   "outputs": [
    {
     "data": {
      "text/plain": [
       "array([21., 30., 18., 40., 50., 60.])"
      ]
     },
     "execution_count": 118,
     "metadata": {},
     "output_type": "execute_result"
    }
   ],
   "source": [
    "salaries_train[\"Age\"].unique()"
   ]
  },
  {
   "cell_type": "code",
   "execution_count": null,
   "metadata": {},
   "outputs": [],
   "source": []
  },
  {
   "cell_type": "markdown",
   "metadata": {},
   "source": [
    "**Dealing with Salary and ConvertedSalary cols**"
   ]
  },
  {
   "cell_type": "code",
   "execution_count": 119,
   "metadata": {},
   "outputs": [
    {
     "data": {
      "text/html": [
       "<div>\n",
       "<style scoped>\n",
       "    .dataframe tbody tr th:only-of-type {\n",
       "        vertical-align: middle;\n",
       "    }\n",
       "\n",
       "    .dataframe tbody tr th {\n",
       "        vertical-align: top;\n",
       "    }\n",
       "\n",
       "    .dataframe thead th {\n",
       "        text-align: right;\n",
       "    }\n",
       "</style>\n",
       "<table border=\"1\" class=\"dataframe\">\n",
       "  <thead>\n",
       "    <tr style=\"text-align: right;\">\n",
       "      <th></th>\n",
       "      <th>Unnamed: 0</th>\n",
       "      <th>Country</th>\n",
       "      <th>Student</th>\n",
       "      <th>Employment</th>\n",
       "      <th>FormalEducation</th>\n",
       "      <th>UndergradMajor</th>\n",
       "      <th>CompanySize</th>\n",
       "      <th>DevType</th>\n",
       "      <th>YearsCoding</th>\n",
       "      <th>YearsCodingProf</th>\n",
       "      <th>...</th>\n",
       "      <th>SelfTaughtTypes</th>\n",
       "      <th>LanguageWorkedWith</th>\n",
       "      <th>Salary</th>\n",
       "      <th>LanguageDesireNextYear</th>\n",
       "      <th>FrameworkWorkedWith</th>\n",
       "      <th>FrameworkDesireNextYear</th>\n",
       "      <th>OperatingSystem</th>\n",
       "      <th>Age</th>\n",
       "      <th>ConvertedSalary</th>\n",
       "      <th>SecondLanguageWorkedWith</th>\n",
       "    </tr>\n",
       "  </thead>\n",
       "  <tbody>\n",
       "    <tr>\n",
       "      <th>0</th>\n",
       "      <td>17522</td>\n",
       "      <td>Greece</td>\n",
       "      <td>No</td>\n",
       "      <td>Employed</td>\n",
       "      <td>Medium</td>\n",
       "      <td>Computer science, computer engineering, or sof...</td>\n",
       "      <td>10.0</td>\n",
       "      <td>Back-end developer</td>\n",
       "      <td>5</td>\n",
       "      <td>1</td>\n",
       "      <td>...</td>\n",
       "      <td>The official documentation and/or standards fo...</td>\n",
       "      <td>C#</td>\n",
       "      <td>510</td>\n",
       "      <td>C++;C#;Java;JavaScript;Objective-C;Perl;Python...</td>\n",
       "      <td>Spark</td>\n",
       "      <td>Angular;Django;Hadoop;Node.js;Spark;Spring;Ten...</td>\n",
       "      <td>Linux-based</td>\n",
       "      <td>21.0</td>\n",
       "      <td>NaN</td>\n",
       "      <td>Java</td>\n",
       "    </tr>\n",
       "    <tr>\n",
       "      <th>1</th>\n",
       "      <td>83134</td>\n",
       "      <td>Nepal</td>\n",
       "      <td>Yes</td>\n",
       "      <td>Not_employed</td>\n",
       "      <td>Medium</td>\n",
       "      <td>Web development or web design</td>\n",
       "      <td>NaN</td>\n",
       "      <td>Front-end developer</td>\n",
       "      <td>5</td>\n",
       "      <td>1</td>\n",
       "      <td>...</td>\n",
       "      <td>NaN</td>\n",
       "      <td>JavaScript</td>\n",
       "      <td>120</td>\n",
       "      <td>JavaScript;TypeScript</td>\n",
       "      <td>Angular</td>\n",
       "      <td>Angular;Node.js;React</td>\n",
       "      <td>Windows</td>\n",
       "      <td>21.0</td>\n",
       "      <td>1440.0</td>\n",
       "      <td>TypeScript</td>\n",
       "    </tr>\n",
       "    <tr>\n",
       "      <th>2</th>\n",
       "      <td>858</td>\n",
       "      <td>Bangladesh</td>\n",
       "      <td>No</td>\n",
       "      <td>Employed</td>\n",
       "      <td>High</td>\n",
       "      <td>Computer science, computer engineering, or sof...</td>\n",
       "      <td>15.0</td>\n",
       "      <td>Back-end developer</td>\n",
       "      <td>7</td>\n",
       "      <td>7</td>\n",
       "      <td>...</td>\n",
       "      <td>NaN</td>\n",
       "      <td>C++</td>\n",
       "      <td>100000</td>\n",
       "      <td>NaN</td>\n",
       "      <td>Angular</td>\n",
       "      <td>NaN</td>\n",
       "      <td>MacOS</td>\n",
       "      <td>30.0</td>\n",
       "      <td>14436.0</td>\n",
       "      <td>C#</td>\n",
       "    </tr>\n",
       "    <tr>\n",
       "      <th>3</th>\n",
       "      <td>53284</td>\n",
       "      <td>India</td>\n",
       "      <td>Yes</td>\n",
       "      <td>Employed</td>\n",
       "      <td>Medium</td>\n",
       "      <td>Computer science, computer engineering, or sof...</td>\n",
       "      <td>10.0</td>\n",
       "      <td>Back-end developer</td>\n",
       "      <td>5</td>\n",
       "      <td>0</td>\n",
       "      <td>...</td>\n",
       "      <td>NaN</td>\n",
       "      <td>C</td>\n",
       "      <td>NaN</td>\n",
       "      <td>Python;R</td>\n",
       "      <td>NaN</td>\n",
       "      <td>NaN</td>\n",
       "      <td>Windows</td>\n",
       "      <td>30.0</td>\n",
       "      <td>NaN</td>\n",
       "      <td>PHP</td>\n",
       "    </tr>\n",
       "    <tr>\n",
       "      <th>4</th>\n",
       "      <td>37884</td>\n",
       "      <td>Czech Republic</td>\n",
       "      <td>No</td>\n",
       "      <td>Employed</td>\n",
       "      <td>Low</td>\n",
       "      <td>NaN</td>\n",
       "      <td>300.0</td>\n",
       "      <td>Back-end developer</td>\n",
       "      <td>5</td>\n",
       "      <td>1</td>\n",
       "      <td>...</td>\n",
       "      <td>The official documentation and/or standards fo...</td>\n",
       "      <td>C</td>\n",
       "      <td>220</td>\n",
       "      <td>Assembly;C++;C#;Perl;Python;R;Ruby;Rust;Bash/S...</td>\n",
       "      <td>.NET Core</td>\n",
       "      <td>.NET Core;TensorFlow</td>\n",
       "      <td>Linux-based</td>\n",
       "      <td>18.0</td>\n",
       "      <td>3228.0</td>\n",
       "      <td>C++</td>\n",
       "    </tr>\n",
       "  </tbody>\n",
       "</table>\n",
       "<p>5 rows × 21 columns</p>\n",
       "</div>"
      ],
      "text/plain": [
       "   Unnamed: 0         Country Student    Employment FormalEducation  \\\n",
       "0       17522          Greece      No      Employed          Medium   \n",
       "1       83134           Nepal     Yes  Not_employed          Medium   \n",
       "2         858      Bangladesh      No      Employed            High   \n",
       "3       53284           India     Yes      Employed          Medium   \n",
       "4       37884  Czech Republic      No      Employed             Low   \n",
       "\n",
       "                                      UndergradMajor  CompanySize  \\\n",
       "0  Computer science, computer engineering, or sof...         10.0   \n",
       "1                      Web development or web design          NaN   \n",
       "2  Computer science, computer engineering, or sof...         15.0   \n",
       "3  Computer science, computer engineering, or sof...         10.0   \n",
       "4                                                NaN        300.0   \n",
       "\n",
       "               DevType  YearsCoding  YearsCodingProf  ...  \\\n",
       "0   Back-end developer            5                1  ...   \n",
       "1  Front-end developer            5                1  ...   \n",
       "2   Back-end developer            7                7  ...   \n",
       "3   Back-end developer            5                0  ...   \n",
       "4   Back-end developer            5                1  ...   \n",
       "\n",
       "                                     SelfTaughtTypes LanguageWorkedWith  \\\n",
       "0  The official documentation and/or standards fo...                 C#   \n",
       "1                                                NaN         JavaScript   \n",
       "2                                                NaN                C++   \n",
       "3                                                NaN                  C   \n",
       "4  The official documentation and/or standards fo...                  C   \n",
       "\n",
       "   Salary                             LanguageDesireNextYear  \\\n",
       "0     510  C++;C#;Java;JavaScript;Objective-C;Perl;Python...   \n",
       "1     120                              JavaScript;TypeScript   \n",
       "2  100000                                                NaN   \n",
       "3     NaN                                           Python;R   \n",
       "4     220  Assembly;C++;C#;Perl;Python;R;Ruby;Rust;Bash/S...   \n",
       "\n",
       "  FrameworkWorkedWith                            FrameworkDesireNextYear  \\\n",
       "0               Spark  Angular;Django;Hadoop;Node.js;Spark;Spring;Ten...   \n",
       "1             Angular                              Angular;Node.js;React   \n",
       "2             Angular                                                NaN   \n",
       "3                 NaN                                                NaN   \n",
       "4           .NET Core                               .NET Core;TensorFlow   \n",
       "\n",
       "  OperatingSystem   Age  ConvertedSalary  SecondLanguageWorkedWith  \n",
       "0     Linux-based  21.0              NaN                      Java  \n",
       "1         Windows  21.0           1440.0                TypeScript  \n",
       "2           MacOS  30.0          14436.0                        C#  \n",
       "3         Windows  30.0              NaN                       PHP  \n",
       "4     Linux-based  18.0           3228.0                       C++  \n",
       "\n",
       "[5 rows x 21 columns]"
      ]
     },
     "execution_count": 119,
     "metadata": {},
     "output_type": "execute_result"
    }
   ],
   "source": [
    "salaries_train.head()"
   ]
  },
  {
   "cell_type": "code",
   "execution_count": 120,
   "metadata": {},
   "outputs": [
    {
     "data": {
      "text/html": [
       "<div>\n",
       "<style scoped>\n",
       "    .dataframe tbody tr th:only-of-type {\n",
       "        vertical-align: middle;\n",
       "    }\n",
       "\n",
       "    .dataframe tbody tr th {\n",
       "        vertical-align: top;\n",
       "    }\n",
       "\n",
       "    .dataframe thead th {\n",
       "        text-align: right;\n",
       "    }\n",
       "</style>\n",
       "<table border=\"1\" class=\"dataframe\">\n",
       "  <thead>\n",
       "    <tr style=\"text-align: right;\">\n",
       "      <th></th>\n",
       "      <th>Salary</th>\n",
       "      <th>ConvertedSalary</th>\n",
       "    </tr>\n",
       "  </thead>\n",
       "  <tbody>\n",
       "    <tr>\n",
       "      <th>0</th>\n",
       "      <td>510</td>\n",
       "      <td>NaN</td>\n",
       "    </tr>\n",
       "    <tr>\n",
       "      <th>1</th>\n",
       "      <td>120</td>\n",
       "      <td>1440.0</td>\n",
       "    </tr>\n",
       "    <tr>\n",
       "      <th>2</th>\n",
       "      <td>100000</td>\n",
       "      <td>14436.0</td>\n",
       "    </tr>\n",
       "    <tr>\n",
       "      <th>3</th>\n",
       "      <td>NaN</td>\n",
       "      <td>NaN</td>\n",
       "    </tr>\n",
       "    <tr>\n",
       "      <th>4</th>\n",
       "      <td>220</td>\n",
       "      <td>3228.0</td>\n",
       "    </tr>\n",
       "  </tbody>\n",
       "</table>\n",
       "</div>"
      ],
      "text/plain": [
       "   Salary  ConvertedSalary\n",
       "0     510              NaN\n",
       "1     120           1440.0\n",
       "2  100000          14436.0\n",
       "3     NaN              NaN\n",
       "4     220           3228.0"
      ]
     },
     "execution_count": 120,
     "metadata": {},
     "output_type": "execute_result"
    }
   ],
   "source": [
    "salaries_train[[\"Salary\",\"ConvertedSalary\"]].head()"
   ]
  },
  {
   "cell_type": "markdown",
   "metadata": {},
   "source": [
    "Understanding what the Salary and ConvertedSalary columns Stand for"
   ]
  },
  {
   "cell_type": "code",
   "execution_count": 121,
   "metadata": {},
   "outputs": [
    {
     "data": {
      "text/html": [
       "<div>\n",
       "<style scoped>\n",
       "    .dataframe tbody tr th:only-of-type {\n",
       "        vertical-align: middle;\n",
       "    }\n",
       "\n",
       "    .dataframe tbody tr th {\n",
       "        vertical-align: top;\n",
       "    }\n",
       "\n",
       "    .dataframe thead th {\n",
       "        text-align: right;\n",
       "    }\n",
       "</style>\n",
       "<table border=\"1\" class=\"dataframe\">\n",
       "  <thead>\n",
       "    <tr style=\"text-align: right;\">\n",
       "      <th></th>\n",
       "      <th>Column</th>\n",
       "      <th>QuestionText</th>\n",
       "    </tr>\n",
       "  </thead>\n",
       "  <tbody>\n",
       "    <tr>\n",
       "      <th>52</th>\n",
       "      <td>Salary</td>\n",
       "      <td>What is your current gross salary (before taxe...</td>\n",
       "    </tr>\n",
       "  </tbody>\n",
       "</table>\n",
       "</div>"
      ],
      "text/plain": [
       "    Column                                       QuestionText\n",
       "52  Salary  What is your current gross salary (before taxe..."
      ]
     },
     "execution_count": 121,
     "metadata": {},
     "output_type": "execute_result"
    }
   ],
   "source": [
    "schema[schema[\"Column\"] == \"Salary\"]"
   ]
  },
  {
   "cell_type": "code",
   "execution_count": 122,
   "metadata": {},
   "outputs": [
    {
     "data": {
      "text/plain": [
       "'What is your current gross salary (before taxes and deductions), in ${q://QID50/ChoiceGroup/SelectedChoicesTextEntry}? Please enter a whole number in the box below, without any punctuation. If you are paid hourly, please estimate an equivalent weekly, monthly, or yearly salary. If you prefer not to answer, please leave the box empty.'"
      ]
     },
     "execution_count": 122,
     "metadata": {},
     "output_type": "execute_result"
    }
   ],
   "source": [
    "schema.loc[52,\"QuestionText\"]"
   ]
  },
  {
   "cell_type": "code",
   "execution_count": 123,
   "metadata": {},
   "outputs": [
    {
     "data": {
      "text/html": [
       "<div>\n",
       "<style scoped>\n",
       "    .dataframe tbody tr th:only-of-type {\n",
       "        vertical-align: middle;\n",
       "    }\n",
       "\n",
       "    .dataframe tbody tr th {\n",
       "        vertical-align: top;\n",
       "    }\n",
       "\n",
       "    .dataframe thead th {\n",
       "        text-align: right;\n",
       "    }\n",
       "</style>\n",
       "<table border=\"1\" class=\"dataframe\">\n",
       "  <thead>\n",
       "    <tr style=\"text-align: right;\">\n",
       "      <th></th>\n",
       "      <th>Column</th>\n",
       "      <th>QuestionText</th>\n",
       "    </tr>\n",
       "  </thead>\n",
       "  <tbody>\n",
       "    <tr>\n",
       "      <th>54</th>\n",
       "      <td>ConvertedSalary</td>\n",
       "      <td>Salary converted to annual USD salaries using ...</td>\n",
       "    </tr>\n",
       "  </tbody>\n",
       "</table>\n",
       "</div>"
      ],
      "text/plain": [
       "             Column                                       QuestionText\n",
       "54  ConvertedSalary  Salary converted to annual USD salaries using ..."
      ]
     },
     "execution_count": 123,
     "metadata": {},
     "output_type": "execute_result"
    }
   ],
   "source": [
    "schema[schema[\"Column\"] == \"ConvertedSalary\"]"
   ]
  },
  {
   "cell_type": "code",
   "execution_count": 124,
   "metadata": {},
   "outputs": [
    {
     "data": {
      "text/plain": [
       "'Salary converted to annual USD salaries using the exchange rate on 2018-01-18, assuming 12 working months and 50 working weeks.'"
      ]
     },
     "execution_count": 124,
     "metadata": {},
     "output_type": "execute_result"
    }
   ],
   "source": [
    "schema.loc[54,\"QuestionText\"]"
   ]
  },
  {
   "cell_type": "code",
   "execution_count": 125,
   "metadata": {},
   "outputs": [
    {
     "name": "stdout",
     "output_type": "stream",
     "text": [
      "<class 'pandas.core.frame.DataFrame'>\n",
      "RangeIndex: 200 entries, 0 to 199\n",
      "Data columns (total 21 columns):\n",
      " #   Column                    Non-Null Count  Dtype  \n",
      "---  ------                    --------------  -----  \n",
      " 0   Unnamed: 0                200 non-null    int64  \n",
      " 1   Country                   200 non-null    object \n",
      " 2   Student                   200 non-null    object \n",
      " 3   Employment                200 non-null    object \n",
      " 4   FormalEducation           200 non-null    object \n",
      " 5   UndergradMajor            161 non-null    object \n",
      " 6   CompanySize               136 non-null    float64\n",
      " 7   DevType                   187 non-null    object \n",
      " 8   YearsCoding               200 non-null    int64  \n",
      " 9   YearsCodingProf           200 non-null    int64  \n",
      " 10  EducationTypes            142 non-null    object \n",
      " 11  SelfTaughtTypes           122 non-null    object \n",
      " 12  LanguageWorkedWith        162 non-null    object \n",
      " 13  Salary                    95 non-null     object \n",
      " 14  LanguageDesireNextYear    150 non-null    object \n",
      " 15  FrameworkWorkedWith       116 non-null    object \n",
      " 16  FrameworkDesireNextYear   125 non-null    object \n",
      " 17  OperatingSystem           200 non-null    object \n",
      " 18  Age                       200 non-null    float64\n",
      " 19  ConvertedSalary           89 non-null     float64\n",
      " 20  SecondLanguageWorkedWith  154 non-null    object \n",
      "dtypes: float64(3), int64(3), object(15)\n",
      "memory usage: 32.9+ KB\n"
     ]
    }
   ],
   "source": [
    "salaries_train.info()"
   ]
  },
  {
   "cell_type": "code",
   "execution_count": 126,
   "metadata": {},
   "outputs": [
    {
     "data": {
      "text/plain": [
       "0           NaN\n",
       "1        1440.0\n",
       "2       14436.0\n",
       "3           NaN\n",
       "4        3228.0\n",
       "         ...   \n",
       "195     47000.0\n",
       "196    110000.0\n",
       "197     70515.0\n",
       "198    140000.0\n",
       "199         NaN\n",
       "Name: ConvertedSalary, Length: 200, dtype: float64"
      ]
     },
     "execution_count": 126,
     "metadata": {},
     "output_type": "execute_result"
    }
   ],
   "source": [
    "salaries_train[\"ConvertedSalary\"]"
   ]
  },
  {
   "cell_type": "markdown",
   "metadata": {},
   "source": [
    "## The target column is ConvertedSalary!"
   ]
  },
  {
   "cell_type": "code",
   "execution_count": 127,
   "metadata": {},
   "outputs": [
    {
     "data": {
      "text/html": [
       "<div>\n",
       "<style scoped>\n",
       "    .dataframe tbody tr th:only-of-type {\n",
       "        vertical-align: middle;\n",
       "    }\n",
       "\n",
       "    .dataframe tbody tr th {\n",
       "        vertical-align: top;\n",
       "    }\n",
       "\n",
       "    .dataframe thead th {\n",
       "        text-align: right;\n",
       "    }\n",
       "</style>\n",
       "<table border=\"1\" class=\"dataframe\">\n",
       "  <thead>\n",
       "    <tr style=\"text-align: right;\">\n",
       "      <th></th>\n",
       "      <th>Unnamed: 0</th>\n",
       "      <th>Country</th>\n",
       "      <th>Student</th>\n",
       "      <th>Employment</th>\n",
       "      <th>FormalEducation</th>\n",
       "      <th>UndergradMajor</th>\n",
       "      <th>CompanySize</th>\n",
       "      <th>DevType</th>\n",
       "      <th>YearsCoding</th>\n",
       "      <th>YearsCodingProf</th>\n",
       "      <th>...</th>\n",
       "      <th>SelfTaughtTypes</th>\n",
       "      <th>LanguageWorkedWith</th>\n",
       "      <th>Salary</th>\n",
       "      <th>LanguageDesireNextYear</th>\n",
       "      <th>FrameworkWorkedWith</th>\n",
       "      <th>FrameworkDesireNextYear</th>\n",
       "      <th>OperatingSystem</th>\n",
       "      <th>Age</th>\n",
       "      <th>ConvertedSalary</th>\n",
       "      <th>SecondLanguageWorkedWith</th>\n",
       "    </tr>\n",
       "  </thead>\n",
       "  <tbody>\n",
       "    <tr>\n",
       "      <th>0</th>\n",
       "      <td>17522</td>\n",
       "      <td>Greece</td>\n",
       "      <td>No</td>\n",
       "      <td>Employed</td>\n",
       "      <td>Medium</td>\n",
       "      <td>Computer science, computer engineering, or sof...</td>\n",
       "      <td>10.0</td>\n",
       "      <td>Back-end developer</td>\n",
       "      <td>5</td>\n",
       "      <td>1</td>\n",
       "      <td>...</td>\n",
       "      <td>The official documentation and/or standards fo...</td>\n",
       "      <td>C#</td>\n",
       "      <td>510</td>\n",
       "      <td>C++;C#;Java;JavaScript;Objective-C;Perl;Python...</td>\n",
       "      <td>Spark</td>\n",
       "      <td>Angular;Django;Hadoop;Node.js;Spark;Spring;Ten...</td>\n",
       "      <td>Linux-based</td>\n",
       "      <td>21.0</td>\n",
       "      <td>NaN</td>\n",
       "      <td>Java</td>\n",
       "    </tr>\n",
       "    <tr>\n",
       "      <th>1</th>\n",
       "      <td>83134</td>\n",
       "      <td>Nepal</td>\n",
       "      <td>Yes</td>\n",
       "      <td>Not_employed</td>\n",
       "      <td>Medium</td>\n",
       "      <td>Web development or web design</td>\n",
       "      <td>NaN</td>\n",
       "      <td>Front-end developer</td>\n",
       "      <td>5</td>\n",
       "      <td>1</td>\n",
       "      <td>...</td>\n",
       "      <td>NaN</td>\n",
       "      <td>JavaScript</td>\n",
       "      <td>120</td>\n",
       "      <td>JavaScript;TypeScript</td>\n",
       "      <td>Angular</td>\n",
       "      <td>Angular;Node.js;React</td>\n",
       "      <td>Windows</td>\n",
       "      <td>21.0</td>\n",
       "      <td>1440.0</td>\n",
       "      <td>TypeScript</td>\n",
       "    </tr>\n",
       "    <tr>\n",
       "      <th>2</th>\n",
       "      <td>858</td>\n",
       "      <td>Bangladesh</td>\n",
       "      <td>No</td>\n",
       "      <td>Employed</td>\n",
       "      <td>High</td>\n",
       "      <td>Computer science, computer engineering, or sof...</td>\n",
       "      <td>15.0</td>\n",
       "      <td>Back-end developer</td>\n",
       "      <td>7</td>\n",
       "      <td>7</td>\n",
       "      <td>...</td>\n",
       "      <td>NaN</td>\n",
       "      <td>C++</td>\n",
       "      <td>100000</td>\n",
       "      <td>NaN</td>\n",
       "      <td>Angular</td>\n",
       "      <td>NaN</td>\n",
       "      <td>MacOS</td>\n",
       "      <td>30.0</td>\n",
       "      <td>14436.0</td>\n",
       "      <td>C#</td>\n",
       "    </tr>\n",
       "    <tr>\n",
       "      <th>3</th>\n",
       "      <td>53284</td>\n",
       "      <td>India</td>\n",
       "      <td>Yes</td>\n",
       "      <td>Employed</td>\n",
       "      <td>Medium</td>\n",
       "      <td>Computer science, computer engineering, or sof...</td>\n",
       "      <td>10.0</td>\n",
       "      <td>Back-end developer</td>\n",
       "      <td>5</td>\n",
       "      <td>0</td>\n",
       "      <td>...</td>\n",
       "      <td>NaN</td>\n",
       "      <td>C</td>\n",
       "      <td>NaN</td>\n",
       "      <td>Python;R</td>\n",
       "      <td>NaN</td>\n",
       "      <td>NaN</td>\n",
       "      <td>Windows</td>\n",
       "      <td>30.0</td>\n",
       "      <td>NaN</td>\n",
       "      <td>PHP</td>\n",
       "    </tr>\n",
       "    <tr>\n",
       "      <th>4</th>\n",
       "      <td>37884</td>\n",
       "      <td>Czech Republic</td>\n",
       "      <td>No</td>\n",
       "      <td>Employed</td>\n",
       "      <td>Low</td>\n",
       "      <td>NaN</td>\n",
       "      <td>300.0</td>\n",
       "      <td>Back-end developer</td>\n",
       "      <td>5</td>\n",
       "      <td>1</td>\n",
       "      <td>...</td>\n",
       "      <td>The official documentation and/or standards fo...</td>\n",
       "      <td>C</td>\n",
       "      <td>220</td>\n",
       "      <td>Assembly;C++;C#;Perl;Python;R;Ruby;Rust;Bash/S...</td>\n",
       "      <td>.NET Core</td>\n",
       "      <td>.NET Core;TensorFlow</td>\n",
       "      <td>Linux-based</td>\n",
       "      <td>18.0</td>\n",
       "      <td>3228.0</td>\n",
       "      <td>C++</td>\n",
       "    </tr>\n",
       "  </tbody>\n",
       "</table>\n",
       "<p>5 rows × 21 columns</p>\n",
       "</div>"
      ],
      "text/plain": [
       "   Unnamed: 0         Country Student    Employment FormalEducation  \\\n",
       "0       17522          Greece      No      Employed          Medium   \n",
       "1       83134           Nepal     Yes  Not_employed          Medium   \n",
       "2         858      Bangladesh      No      Employed            High   \n",
       "3       53284           India     Yes      Employed          Medium   \n",
       "4       37884  Czech Republic      No      Employed             Low   \n",
       "\n",
       "                                      UndergradMajor  CompanySize  \\\n",
       "0  Computer science, computer engineering, or sof...         10.0   \n",
       "1                      Web development or web design          NaN   \n",
       "2  Computer science, computer engineering, or sof...         15.0   \n",
       "3  Computer science, computer engineering, or sof...         10.0   \n",
       "4                                                NaN        300.0   \n",
       "\n",
       "               DevType  YearsCoding  YearsCodingProf  ...  \\\n",
       "0   Back-end developer            5                1  ...   \n",
       "1  Front-end developer            5                1  ...   \n",
       "2   Back-end developer            7                7  ...   \n",
       "3   Back-end developer            5                0  ...   \n",
       "4   Back-end developer            5                1  ...   \n",
       "\n",
       "                                     SelfTaughtTypes LanguageWorkedWith  \\\n",
       "0  The official documentation and/or standards fo...                 C#   \n",
       "1                                                NaN         JavaScript   \n",
       "2                                                NaN                C++   \n",
       "3                                                NaN                  C   \n",
       "4  The official documentation and/or standards fo...                  C   \n",
       "\n",
       "   Salary                             LanguageDesireNextYear  \\\n",
       "0     510  C++;C#;Java;JavaScript;Objective-C;Perl;Python...   \n",
       "1     120                              JavaScript;TypeScript   \n",
       "2  100000                                                NaN   \n",
       "3     NaN                                           Python;R   \n",
       "4     220  Assembly;C++;C#;Perl;Python;R;Ruby;Rust;Bash/S...   \n",
       "\n",
       "  FrameworkWorkedWith                            FrameworkDesireNextYear  \\\n",
       "0               Spark  Angular;Django;Hadoop;Node.js;Spark;Spring;Ten...   \n",
       "1             Angular                              Angular;Node.js;React   \n",
       "2             Angular                                                NaN   \n",
       "3                 NaN                                                NaN   \n",
       "4           .NET Core                               .NET Core;TensorFlow   \n",
       "\n",
       "  OperatingSystem   Age  ConvertedSalary  SecondLanguageWorkedWith  \n",
       "0     Linux-based  21.0              NaN                      Java  \n",
       "1         Windows  21.0           1440.0                TypeScript  \n",
       "2           MacOS  30.0          14436.0                        C#  \n",
       "3         Windows  30.0              NaN                       PHP  \n",
       "4     Linux-based  18.0           3228.0                       C++  \n",
       "\n",
       "[5 rows x 21 columns]"
      ]
     },
     "execution_count": 127,
     "metadata": {},
     "output_type": "execute_result"
    }
   ],
   "source": [
    "salaries_train.head()"
   ]
  },
  {
   "cell_type": "markdown",
   "metadata": {},
   "source": [
    "**Removing unwanted cols**\n",
    "- Unnamed: 0\n",
    "- SelfTaughtTypes \n",
    "- LanguageDesireNextYear \n",
    "- FrameworkDesireNextYear "
   ]
  },
  {
   "cell_type": "code",
   "execution_count": 128,
   "metadata": {},
   "outputs": [],
   "source": [
    "# Removing unwanteted cols #\n",
    "salaries_train.drop([\"Unnamed: 0\",\"SelfTaughtTypes\",\"LanguageDesireNextYear\",\"FrameworkDesireNextYear\"], axis=1, inplace = True)"
   ]
  },
  {
   "cell_type": "code",
   "execution_count": 129,
   "metadata": {},
   "outputs": [
    {
     "data": {
      "text/html": [
       "<div>\n",
       "<style scoped>\n",
       "    .dataframe tbody tr th:only-of-type {\n",
       "        vertical-align: middle;\n",
       "    }\n",
       "\n",
       "    .dataframe tbody tr th {\n",
       "        vertical-align: top;\n",
       "    }\n",
       "\n",
       "    .dataframe thead th {\n",
       "        text-align: right;\n",
       "    }\n",
       "</style>\n",
       "<table border=\"1\" class=\"dataframe\">\n",
       "  <thead>\n",
       "    <tr style=\"text-align: right;\">\n",
       "      <th></th>\n",
       "      <th>Country</th>\n",
       "      <th>Student</th>\n",
       "      <th>Employment</th>\n",
       "      <th>FormalEducation</th>\n",
       "      <th>UndergradMajor</th>\n",
       "      <th>CompanySize</th>\n",
       "      <th>DevType</th>\n",
       "      <th>YearsCoding</th>\n",
       "      <th>YearsCodingProf</th>\n",
       "      <th>EducationTypes</th>\n",
       "      <th>LanguageWorkedWith</th>\n",
       "      <th>Salary</th>\n",
       "      <th>FrameworkWorkedWith</th>\n",
       "      <th>OperatingSystem</th>\n",
       "      <th>Age</th>\n",
       "      <th>ConvertedSalary</th>\n",
       "      <th>SecondLanguageWorkedWith</th>\n",
       "    </tr>\n",
       "  </thead>\n",
       "  <tbody>\n",
       "    <tr>\n",
       "      <th>0</th>\n",
       "      <td>Greece</td>\n",
       "      <td>No</td>\n",
       "      <td>Employed</td>\n",
       "      <td>Medium</td>\n",
       "      <td>Computer science, computer engineering, or sof...</td>\n",
       "      <td>10.0</td>\n",
       "      <td>Back-end developer</td>\n",
       "      <td>5</td>\n",
       "      <td>1</td>\n",
       "      <td>Taught yourself a new language, framework, or ...</td>\n",
       "      <td>C#</td>\n",
       "      <td>510</td>\n",
       "      <td>Spark</td>\n",
       "      <td>Linux-based</td>\n",
       "      <td>21.0</td>\n",
       "      <td>NaN</td>\n",
       "      <td>Java</td>\n",
       "    </tr>\n",
       "    <tr>\n",
       "      <th>1</th>\n",
       "      <td>Nepal</td>\n",
       "      <td>Yes</td>\n",
       "      <td>Not_employed</td>\n",
       "      <td>Medium</td>\n",
       "      <td>Web development or web design</td>\n",
       "      <td>NaN</td>\n",
       "      <td>Front-end developer</td>\n",
       "      <td>5</td>\n",
       "      <td>1</td>\n",
       "      <td>Participated in a full-time developer training...</td>\n",
       "      <td>JavaScript</td>\n",
       "      <td>120</td>\n",
       "      <td>Angular</td>\n",
       "      <td>Windows</td>\n",
       "      <td>21.0</td>\n",
       "      <td>1440.0</td>\n",
       "      <td>TypeScript</td>\n",
       "    </tr>\n",
       "    <tr>\n",
       "      <th>2</th>\n",
       "      <td>Bangladesh</td>\n",
       "      <td>No</td>\n",
       "      <td>Employed</td>\n",
       "      <td>High</td>\n",
       "      <td>Computer science, computer engineering, or sof...</td>\n",
       "      <td>15.0</td>\n",
       "      <td>Back-end developer</td>\n",
       "      <td>7</td>\n",
       "      <td>7</td>\n",
       "      <td>Taken an online course in programming or softw...</td>\n",
       "      <td>C++</td>\n",
       "      <td>100000</td>\n",
       "      <td>Angular</td>\n",
       "      <td>MacOS</td>\n",
       "      <td>30.0</td>\n",
       "      <td>14436.0</td>\n",
       "      <td>C#</td>\n",
       "    </tr>\n",
       "    <tr>\n",
       "      <th>3</th>\n",
       "      <td>India</td>\n",
       "      <td>Yes</td>\n",
       "      <td>Employed</td>\n",
       "      <td>Medium</td>\n",
       "      <td>Computer science, computer engineering, or sof...</td>\n",
       "      <td>10.0</td>\n",
       "      <td>Back-end developer</td>\n",
       "      <td>5</td>\n",
       "      <td>0</td>\n",
       "      <td>NaN</td>\n",
       "      <td>C</td>\n",
       "      <td>NaN</td>\n",
       "      <td>NaN</td>\n",
       "      <td>Windows</td>\n",
       "      <td>30.0</td>\n",
       "      <td>NaN</td>\n",
       "      <td>PHP</td>\n",
       "    </tr>\n",
       "    <tr>\n",
       "      <th>4</th>\n",
       "      <td>Czech Republic</td>\n",
       "      <td>No</td>\n",
       "      <td>Employed</td>\n",
       "      <td>Low</td>\n",
       "      <td>NaN</td>\n",
       "      <td>300.0</td>\n",
       "      <td>Back-end developer</td>\n",
       "      <td>5</td>\n",
       "      <td>1</td>\n",
       "      <td>Received on-the-job training in software devel...</td>\n",
       "      <td>C</td>\n",
       "      <td>220</td>\n",
       "      <td>.NET Core</td>\n",
       "      <td>Linux-based</td>\n",
       "      <td>18.0</td>\n",
       "      <td>3228.0</td>\n",
       "      <td>C++</td>\n",
       "    </tr>\n",
       "  </tbody>\n",
       "</table>\n",
       "</div>"
      ],
      "text/plain": [
       "          Country Student    Employment FormalEducation  \\\n",
       "0          Greece      No      Employed          Medium   \n",
       "1           Nepal     Yes  Not_employed          Medium   \n",
       "2      Bangladesh      No      Employed            High   \n",
       "3           India     Yes      Employed          Medium   \n",
       "4  Czech Republic      No      Employed             Low   \n",
       "\n",
       "                                      UndergradMajor  CompanySize  \\\n",
       "0  Computer science, computer engineering, or sof...         10.0   \n",
       "1                      Web development or web design          NaN   \n",
       "2  Computer science, computer engineering, or sof...         15.0   \n",
       "3  Computer science, computer engineering, or sof...         10.0   \n",
       "4                                                NaN        300.0   \n",
       "\n",
       "               DevType  YearsCoding  YearsCodingProf  \\\n",
       "0   Back-end developer            5                1   \n",
       "1  Front-end developer            5                1   \n",
       "2   Back-end developer            7                7   \n",
       "3   Back-end developer            5                0   \n",
       "4   Back-end developer            5                1   \n",
       "\n",
       "                                      EducationTypes LanguageWorkedWith  \\\n",
       "0  Taught yourself a new language, framework, or ...                 C#   \n",
       "1  Participated in a full-time developer training...         JavaScript   \n",
       "2  Taken an online course in programming or softw...                C++   \n",
       "3                                                NaN                  C   \n",
       "4  Received on-the-job training in software devel...                  C   \n",
       "\n",
       "   Salary FrameworkWorkedWith OperatingSystem   Age  ConvertedSalary  \\\n",
       "0     510               Spark     Linux-based  21.0              NaN   \n",
       "1     120             Angular         Windows  21.0           1440.0   \n",
       "2  100000             Angular           MacOS  30.0          14436.0   \n",
       "3     NaN                 NaN         Windows  30.0              NaN   \n",
       "4     220           .NET Core     Linux-based  18.0           3228.0   \n",
       "\n",
       "  SecondLanguageWorkedWith  \n",
       "0                     Java  \n",
       "1               TypeScript  \n",
       "2                       C#  \n",
       "3                      PHP  \n",
       "4                      C++  "
      ]
     },
     "execution_count": 129,
     "metadata": {},
     "output_type": "execute_result"
    }
   ],
   "source": [
    "salaries_train.head()"
   ]
  },
  {
   "cell_type": "code",
   "execution_count": 130,
   "metadata": {},
   "outputs": [
    {
     "name": "stdout",
     "output_type": "stream",
     "text": [
      "<class 'pandas.core.frame.DataFrame'>\n",
      "RangeIndex: 200 entries, 0 to 199\n",
      "Data columns (total 17 columns):\n",
      " #   Column                    Non-Null Count  Dtype  \n",
      "---  ------                    --------------  -----  \n",
      " 0   Country                   200 non-null    object \n",
      " 1   Student                   200 non-null    object \n",
      " 2   Employment                200 non-null    object \n",
      " 3   FormalEducation           200 non-null    object \n",
      " 4   UndergradMajor            161 non-null    object \n",
      " 5   CompanySize               136 non-null    float64\n",
      " 6   DevType                   187 non-null    object \n",
      " 7   YearsCoding               200 non-null    int64  \n",
      " 8   YearsCodingProf           200 non-null    int64  \n",
      " 9   EducationTypes            142 non-null    object \n",
      " 10  LanguageWorkedWith        162 non-null    object \n",
      " 11  Salary                    95 non-null     object \n",
      " 12  FrameworkWorkedWith       116 non-null    object \n",
      " 13  OperatingSystem           200 non-null    object \n",
      " 14  Age                       200 non-null    float64\n",
      " 15  ConvertedSalary           89 non-null     float64\n",
      " 16  SecondLanguageWorkedWith  154 non-null    object \n",
      "dtypes: float64(3), int64(2), object(12)\n",
      "memory usage: 26.7+ KB\n"
     ]
    }
   ],
   "source": [
    "salaries_train.info()"
   ]
  },
  {
   "cell_type": "markdown",
   "metadata": {},
   "source": [
    "### dealing will the left over null values\n",
    "-  UndergradMajor\n",
    "- CompanySize\n",
    "- DevType\n",
    "- EducationTypes\n",
    "- LanguageWorkedWith\n",
    "- FrameworkWorkedWith\n",
    "- SecondLanguageWorkedWith"
   ]
  },
  {
   "cell_type": "markdown",
   "metadata": {},
   "source": [
    "**UndergradMajor**"
   ]
  },
  {
   "cell_type": "code",
   "execution_count": 131,
   "metadata": {},
   "outputs": [
    {
     "data": {
      "text/plain": [
       "array(['Computer science, computer engineering, or software engineering',\n",
       "       'Web development or web design', nan,\n",
       "       'Information systems, information technology, or system administration',\n",
       "       'Another engineering discipline (ex. civil, electrical, mechanical)',\n",
       "       'A natural science (ex. biology, chemistry, physics)',\n",
       "       'A business discipline (ex. accounting, finance, marketing)',\n",
       "       'A health science (ex. nursing, pharmacy, radiology)',\n",
       "       'Mathematics or statistics',\n",
       "       'A humanities discipline (ex. literature, history, philosophy)',\n",
       "       'I never declared a major',\n",
       "       'A social science (ex. anthropology, psychology, political science)'],\n",
       "      dtype=object)"
      ]
     },
     "execution_count": 131,
     "metadata": {},
     "output_type": "execute_result"
    }
   ],
   "source": [
    "salaries_train[\"UndergradMajor\"].unique()"
   ]
  },
  {
   "cell_type": "code",
   "execution_count": 132,
   "metadata": {},
   "outputs": [
    {
     "data": {
      "text/plain": [
       "39"
      ]
     },
     "execution_count": 132,
     "metadata": {},
     "output_type": "execute_result"
    }
   ],
   "source": [
    "# Number of null values(i.e. in this case people who didnt get a degree) #\n",
    "len(salaries_train[salaries_train[\"UndergradMajor\"].isnull()])"
   ]
  },
  {
   "cell_type": "code",
   "execution_count": 133,
   "metadata": {},
   "outputs": [
    {
     "data": {
      "text/plain": [
       "Computer science, computer engineering, or software engineering          102\n",
       "Another engineering discipline (ex. civil, electrical, mechanical)        14\n",
       "Web development or web design                                             11\n",
       "Information systems, information technology, or system administration     10\n",
       "A natural science (ex. biology, chemistry, physics)                        6\n",
       "Mathematics or statistics                                                  5\n",
       "A business discipline (ex. accounting, finance, marketing)                 5\n",
       "A social science (ex. anthropology, psychology, political science)         3\n",
       "A humanities discipline (ex. literature, history, philosophy)              2\n",
       "A health science (ex. nursing, pharmacy, radiology)                        2\n",
       "I never declared a major                                                   1\n",
       "Name: UndergradMajor, dtype: int64"
      ]
     },
     "execution_count": 133,
     "metadata": {},
     "output_type": "execute_result"
    }
   ],
   "source": [
    "salaries_train[\"UndergradMajor\"].value_counts()"
   ]
  },
  {
   "cell_type": "markdown",
   "metadata": {},
   "source": [
    "Replace :\n",
    "\n",
    "nan --> 'I never declared a major'"
   ]
  },
  {
   "cell_type": "code",
   "execution_count": 134,
   "metadata": {},
   "outputs": [],
   "source": [
    "# implimatation #\n",
    "salaries_train[\"UndergradMajor\"].replace(np.nan,'I never declared a major',inplace=True)"
   ]
  },
  {
   "cell_type": "code",
   "execution_count": 135,
   "metadata": {},
   "outputs": [
    {
     "data": {
      "text/plain": [
       "Computer science, computer engineering, or software engineering          102\n",
       "I never declared a major                                                  40\n",
       "Another engineering discipline (ex. civil, electrical, mechanical)        14\n",
       "Web development or web design                                             11\n",
       "Information systems, information technology, or system administration     10\n",
       "A natural science (ex. biology, chemistry, physics)                        6\n",
       "Mathematics or statistics                                                  5\n",
       "A business discipline (ex. accounting, finance, marketing)                 5\n",
       "A social science (ex. anthropology, psychology, political science)         3\n",
       "A humanities discipline (ex. literature, history, philosophy)              2\n",
       "A health science (ex. nursing, pharmacy, radiology)                        2\n",
       "Name: UndergradMajor, dtype: int64"
      ]
     },
     "execution_count": 135,
     "metadata": {},
     "output_type": "execute_result"
    }
   ],
   "source": [
    "salaries_train[\"UndergradMajor\"].value_counts()"
   ]
  },
  {
   "cell_type": "code",
   "execution_count": 136,
   "metadata": {},
   "outputs": [
    {
     "name": "stdout",
     "output_type": "stream",
     "text": [
      "<class 'pandas.core.frame.DataFrame'>\n",
      "RangeIndex: 200 entries, 0 to 199\n",
      "Data columns (total 17 columns):\n",
      " #   Column                    Non-Null Count  Dtype  \n",
      "---  ------                    --------------  -----  \n",
      " 0   Country                   200 non-null    object \n",
      " 1   Student                   200 non-null    object \n",
      " 2   Employment                200 non-null    object \n",
      " 3   FormalEducation           200 non-null    object \n",
      " 4   UndergradMajor            200 non-null    object \n",
      " 5   CompanySize               136 non-null    float64\n",
      " 6   DevType                   187 non-null    object \n",
      " 7   YearsCoding               200 non-null    int64  \n",
      " 8   YearsCodingProf           200 non-null    int64  \n",
      " 9   EducationTypes            142 non-null    object \n",
      " 10  LanguageWorkedWith        162 non-null    object \n",
      " 11  Salary                    95 non-null     object \n",
      " 12  FrameworkWorkedWith       116 non-null    object \n",
      " 13  OperatingSystem           200 non-null    object \n",
      " 14  Age                       200 non-null    float64\n",
      " 15  ConvertedSalary           89 non-null     float64\n",
      " 16  SecondLanguageWorkedWith  154 non-null    object \n",
      "dtypes: float64(3), int64(2), object(12)\n",
      "memory usage: 26.7+ KB\n"
     ]
    }
   ],
   "source": [
    "salaries_train.info()"
   ]
  },
  {
   "cell_type": "markdown",
   "metadata": {},
   "source": [
    "**CompanySize**"
   ]
  },
  {
   "cell_type": "markdown",
   "metadata": {},
   "source": [
    "The logic is if you are not employed(Employment == \"Not_employed\") then your company size is zero"
   ]
  },
  {
   "cell_type": "code",
   "execution_count": 137,
   "metadata": {},
   "outputs": [
    {
     "data": {
      "text/plain": [
       "64"
      ]
     },
     "execution_count": 137,
     "metadata": {},
     "output_type": "execute_result"
    }
   ],
   "source": [
    "# number of null values in CompanySize col #\n",
    "len(salaries_train[\"CompanySize\"][salaries_train[\"CompanySize\"].isnull()])"
   ]
  },
  {
   "cell_type": "code",
   "execution_count": 138,
   "metadata": {},
   "outputs": [
    {
     "data": {
      "text/html": [
       "<div>\n",
       "<style scoped>\n",
       "    .dataframe tbody tr th:only-of-type {\n",
       "        vertical-align: middle;\n",
       "    }\n",
       "\n",
       "    .dataframe tbody tr th {\n",
       "        vertical-align: top;\n",
       "    }\n",
       "\n",
       "    .dataframe thead th {\n",
       "        text-align: right;\n",
       "    }\n",
       "</style>\n",
       "<table border=\"1\" class=\"dataframe\">\n",
       "  <thead>\n",
       "    <tr style=\"text-align: right;\">\n",
       "      <th></th>\n",
       "      <th>Employment</th>\n",
       "      <th>CompanySize</th>\n",
       "    </tr>\n",
       "  </thead>\n",
       "  <tbody>\n",
       "    <tr>\n",
       "      <th>1</th>\n",
       "      <td>Not_employed</td>\n",
       "      <td>NaN</td>\n",
       "    </tr>\n",
       "    <tr>\n",
       "      <th>6</th>\n",
       "      <td>Not_employed</td>\n",
       "      <td>NaN</td>\n",
       "    </tr>\n",
       "    <tr>\n",
       "      <th>10</th>\n",
       "      <td>Employed</td>\n",
       "      <td>NaN</td>\n",
       "    </tr>\n",
       "    <tr>\n",
       "      <th>11</th>\n",
       "      <td>Employed</td>\n",
       "      <td>NaN</td>\n",
       "    </tr>\n",
       "    <tr>\n",
       "      <th>12</th>\n",
       "      <td>Employed</td>\n",
       "      <td>NaN</td>\n",
       "    </tr>\n",
       "    <tr>\n",
       "      <th>...</th>\n",
       "      <td>...</td>\n",
       "      <td>...</td>\n",
       "    </tr>\n",
       "    <tr>\n",
       "      <th>186</th>\n",
       "      <td>Not_employed</td>\n",
       "      <td>NaN</td>\n",
       "    </tr>\n",
       "    <tr>\n",
       "      <th>189</th>\n",
       "      <td>Employed</td>\n",
       "      <td>NaN</td>\n",
       "    </tr>\n",
       "    <tr>\n",
       "      <th>194</th>\n",
       "      <td>Not_employed</td>\n",
       "      <td>NaN</td>\n",
       "    </tr>\n",
       "    <tr>\n",
       "      <th>196</th>\n",
       "      <td>Employed</td>\n",
       "      <td>NaN</td>\n",
       "    </tr>\n",
       "    <tr>\n",
       "      <th>199</th>\n",
       "      <td>Not_employed</td>\n",
       "      <td>NaN</td>\n",
       "    </tr>\n",
       "  </tbody>\n",
       "</table>\n",
       "<p>64 rows × 2 columns</p>\n",
       "</div>"
      ],
      "text/plain": [
       "       Employment  CompanySize\n",
       "1    Not_employed          NaN\n",
       "6    Not_employed          NaN\n",
       "10       Employed          NaN\n",
       "11       Employed          NaN\n",
       "12       Employed          NaN\n",
       "..            ...          ...\n",
       "186  Not_employed          NaN\n",
       "189      Employed          NaN\n",
       "194  Not_employed          NaN\n",
       "196      Employed          NaN\n",
       "199  Not_employed          NaN\n",
       "\n",
       "[64 rows x 2 columns]"
      ]
     },
     "execution_count": 138,
     "metadata": {},
     "output_type": "execute_result"
    }
   ],
   "source": [
    "# Show Empoloyment and CompanySize cols where CompanySize == NaN #\n",
    "salaries_train[[\"Employment\",\"CompanySize\"]][salaries_train[\"CompanySize\"].isnull()]"
   ]
  },
  {
   "cell_type": "code",
   "execution_count": 139,
   "metadata": {},
   "outputs": [
    {
     "data": {
      "text/plain": [
       "38"
      ]
     },
     "execution_count": 139,
     "metadata": {},
     "output_type": "execute_result"
    }
   ],
   "source": [
    "# Number of null values where CompanySize == NaN and Employment == \"Not_employed\" #\n",
    "len(salaries_train[[\"Employment\",\"CompanySize\"]][(salaries_train[\"CompanySize\"].isnull()) & (salaries_train[\"Employment\"] == \"Not_employed\")])"
   ]
  },
  {
   "cell_type": "code",
   "execution_count": 140,
   "metadata": {},
   "outputs": [
    {
     "data": {
      "text/html": [
       "<div>\n",
       "<style scoped>\n",
       "    .dataframe tbody tr th:only-of-type {\n",
       "        vertical-align: middle;\n",
       "    }\n",
       "\n",
       "    .dataframe tbody tr th {\n",
       "        vertical-align: top;\n",
       "    }\n",
       "\n",
       "    .dataframe thead th {\n",
       "        text-align: right;\n",
       "    }\n",
       "</style>\n",
       "<table border=\"1\" class=\"dataframe\">\n",
       "  <thead>\n",
       "    <tr style=\"text-align: right;\">\n",
       "      <th></th>\n",
       "      <th>Employment</th>\n",
       "      <th>CompanySize</th>\n",
       "    </tr>\n",
       "  </thead>\n",
       "  <tbody>\n",
       "    <tr>\n",
       "      <th>1</th>\n",
       "      <td>Not_employed</td>\n",
       "      <td>NaN</td>\n",
       "    </tr>\n",
       "    <tr>\n",
       "      <th>6</th>\n",
       "      <td>Not_employed</td>\n",
       "      <td>NaN</td>\n",
       "    </tr>\n",
       "    <tr>\n",
       "      <th>16</th>\n",
       "      <td>Not_employed</td>\n",
       "      <td>NaN</td>\n",
       "    </tr>\n",
       "    <tr>\n",
       "      <th>18</th>\n",
       "      <td>Not_employed</td>\n",
       "      <td>NaN</td>\n",
       "    </tr>\n",
       "    <tr>\n",
       "      <th>20</th>\n",
       "      <td>Not_employed</td>\n",
       "      <td>NaN</td>\n",
       "    </tr>\n",
       "    <tr>\n",
       "      <th>28</th>\n",
       "      <td>Not_employed</td>\n",
       "      <td>NaN</td>\n",
       "    </tr>\n",
       "    <tr>\n",
       "      <th>32</th>\n",
       "      <td>Not_employed</td>\n",
       "      <td>NaN</td>\n",
       "    </tr>\n",
       "    <tr>\n",
       "      <th>38</th>\n",
       "      <td>Not_employed</td>\n",
       "      <td>NaN</td>\n",
       "    </tr>\n",
       "    <tr>\n",
       "      <th>43</th>\n",
       "      <td>Not_employed</td>\n",
       "      <td>NaN</td>\n",
       "    </tr>\n",
       "    <tr>\n",
       "      <th>55</th>\n",
       "      <td>Not_employed</td>\n",
       "      <td>NaN</td>\n",
       "    </tr>\n",
       "    <tr>\n",
       "      <th>58</th>\n",
       "      <td>Not_employed</td>\n",
       "      <td>NaN</td>\n",
       "    </tr>\n",
       "    <tr>\n",
       "      <th>62</th>\n",
       "      <td>Not_employed</td>\n",
       "      <td>NaN</td>\n",
       "    </tr>\n",
       "    <tr>\n",
       "      <th>63</th>\n",
       "      <td>Not_employed</td>\n",
       "      <td>NaN</td>\n",
       "    </tr>\n",
       "    <tr>\n",
       "      <th>66</th>\n",
       "      <td>Not_employed</td>\n",
       "      <td>NaN</td>\n",
       "    </tr>\n",
       "    <tr>\n",
       "      <th>71</th>\n",
       "      <td>Not_employed</td>\n",
       "      <td>NaN</td>\n",
       "    </tr>\n",
       "    <tr>\n",
       "      <th>79</th>\n",
       "      <td>Not_employed</td>\n",
       "      <td>NaN</td>\n",
       "    </tr>\n",
       "    <tr>\n",
       "      <th>81</th>\n",
       "      <td>Not_employed</td>\n",
       "      <td>NaN</td>\n",
       "    </tr>\n",
       "    <tr>\n",
       "      <th>92</th>\n",
       "      <td>Not_employed</td>\n",
       "      <td>NaN</td>\n",
       "    </tr>\n",
       "    <tr>\n",
       "      <th>97</th>\n",
       "      <td>Not_employed</td>\n",
       "      <td>NaN</td>\n",
       "    </tr>\n",
       "    <tr>\n",
       "      <th>114</th>\n",
       "      <td>Not_employed</td>\n",
       "      <td>NaN</td>\n",
       "    </tr>\n",
       "    <tr>\n",
       "      <th>124</th>\n",
       "      <td>Not_employed</td>\n",
       "      <td>NaN</td>\n",
       "    </tr>\n",
       "    <tr>\n",
       "      <th>125</th>\n",
       "      <td>Not_employed</td>\n",
       "      <td>NaN</td>\n",
       "    </tr>\n",
       "    <tr>\n",
       "      <th>131</th>\n",
       "      <td>Not_employed</td>\n",
       "      <td>NaN</td>\n",
       "    </tr>\n",
       "    <tr>\n",
       "      <th>133</th>\n",
       "      <td>Not_employed</td>\n",
       "      <td>NaN</td>\n",
       "    </tr>\n",
       "    <tr>\n",
       "      <th>148</th>\n",
       "      <td>Not_employed</td>\n",
       "      <td>NaN</td>\n",
       "    </tr>\n",
       "    <tr>\n",
       "      <th>149</th>\n",
       "      <td>Not_employed</td>\n",
       "      <td>NaN</td>\n",
       "    </tr>\n",
       "    <tr>\n",
       "      <th>156</th>\n",
       "      <td>Not_employed</td>\n",
       "      <td>NaN</td>\n",
       "    </tr>\n",
       "    <tr>\n",
       "      <th>158</th>\n",
       "      <td>Not_employed</td>\n",
       "      <td>NaN</td>\n",
       "    </tr>\n",
       "    <tr>\n",
       "      <th>163</th>\n",
       "      <td>Not_employed</td>\n",
       "      <td>NaN</td>\n",
       "    </tr>\n",
       "    <tr>\n",
       "      <th>168</th>\n",
       "      <td>Not_employed</td>\n",
       "      <td>NaN</td>\n",
       "    </tr>\n",
       "    <tr>\n",
       "      <th>172</th>\n",
       "      <td>Not_employed</td>\n",
       "      <td>NaN</td>\n",
       "    </tr>\n",
       "    <tr>\n",
       "      <th>175</th>\n",
       "      <td>Not_employed</td>\n",
       "      <td>NaN</td>\n",
       "    </tr>\n",
       "    <tr>\n",
       "      <th>176</th>\n",
       "      <td>Not_employed</td>\n",
       "      <td>NaN</td>\n",
       "    </tr>\n",
       "    <tr>\n",
       "      <th>183</th>\n",
       "      <td>Not_employed</td>\n",
       "      <td>NaN</td>\n",
       "    </tr>\n",
       "    <tr>\n",
       "      <th>185</th>\n",
       "      <td>Not_employed</td>\n",
       "      <td>NaN</td>\n",
       "    </tr>\n",
       "    <tr>\n",
       "      <th>186</th>\n",
       "      <td>Not_employed</td>\n",
       "      <td>NaN</td>\n",
       "    </tr>\n",
       "    <tr>\n",
       "      <th>194</th>\n",
       "      <td>Not_employed</td>\n",
       "      <td>NaN</td>\n",
       "    </tr>\n",
       "    <tr>\n",
       "      <th>199</th>\n",
       "      <td>Not_employed</td>\n",
       "      <td>NaN</td>\n",
       "    </tr>\n",
       "  </tbody>\n",
       "</table>\n",
       "</div>"
      ],
      "text/plain": [
       "       Employment  CompanySize\n",
       "1    Not_employed          NaN\n",
       "6    Not_employed          NaN\n",
       "16   Not_employed          NaN\n",
       "18   Not_employed          NaN\n",
       "20   Not_employed          NaN\n",
       "28   Not_employed          NaN\n",
       "32   Not_employed          NaN\n",
       "38   Not_employed          NaN\n",
       "43   Not_employed          NaN\n",
       "55   Not_employed          NaN\n",
       "58   Not_employed          NaN\n",
       "62   Not_employed          NaN\n",
       "63   Not_employed          NaN\n",
       "66   Not_employed          NaN\n",
       "71   Not_employed          NaN\n",
       "79   Not_employed          NaN\n",
       "81   Not_employed          NaN\n",
       "92   Not_employed          NaN\n",
       "97   Not_employed          NaN\n",
       "114  Not_employed          NaN\n",
       "124  Not_employed          NaN\n",
       "125  Not_employed          NaN\n",
       "131  Not_employed          NaN\n",
       "133  Not_employed          NaN\n",
       "148  Not_employed          NaN\n",
       "149  Not_employed          NaN\n",
       "156  Not_employed          NaN\n",
       "158  Not_employed          NaN\n",
       "163  Not_employed          NaN\n",
       "168  Not_employed          NaN\n",
       "172  Not_employed          NaN\n",
       "175  Not_employed          NaN\n",
       "176  Not_employed          NaN\n",
       "183  Not_employed          NaN\n",
       "185  Not_employed          NaN\n",
       "186  Not_employed          NaN\n",
       "194  Not_employed          NaN\n",
       "199  Not_employed          NaN"
      ]
     },
     "execution_count": 140,
     "metadata": {},
     "output_type": "execute_result"
    }
   ],
   "source": [
    "# show where salaries_train[\"Employment\"] == \"Not_employed\" and salaries_train[\"CompanySize\"] = nan #\n",
    "salaries_train[[\"Employment\",\"CompanySize\"]][(salaries_train[\"CompanySize\"].isnull()) & (salaries_train[\"Employment\"] == \"Not_employed\")]"
   ]
  },
  {
   "cell_type": "code",
   "execution_count": 141,
   "metadata": {},
   "outputs": [],
   "source": [
    "# sal_df = salaries_train.copy()"
   ]
  },
  {
   "cell_type": "code",
   "execution_count": 142,
   "metadata": {},
   "outputs": [
    {
     "data": {
      "text/html": [
       "<div>\n",
       "<style scoped>\n",
       "    .dataframe tbody tr th:only-of-type {\n",
       "        vertical-align: middle;\n",
       "    }\n",
       "\n",
       "    .dataframe tbody tr th {\n",
       "        vertical-align: top;\n",
       "    }\n",
       "\n",
       "    .dataframe thead th {\n",
       "        text-align: right;\n",
       "    }\n",
       "</style>\n",
       "<table border=\"1\" class=\"dataframe\">\n",
       "  <thead>\n",
       "    <tr style=\"text-align: right;\">\n",
       "      <th></th>\n",
       "      <th>Employment</th>\n",
       "      <th>CompanySize</th>\n",
       "    </tr>\n",
       "  </thead>\n",
       "  <tbody>\n",
       "    <tr>\n",
       "      <th>1</th>\n",
       "      <td>Not_employed</td>\n",
       "      <td>NaN</td>\n",
       "    </tr>\n",
       "    <tr>\n",
       "      <th>6</th>\n",
       "      <td>Not_employed</td>\n",
       "      <td>NaN</td>\n",
       "    </tr>\n",
       "    <tr>\n",
       "      <th>16</th>\n",
       "      <td>Not_employed</td>\n",
       "      <td>NaN</td>\n",
       "    </tr>\n",
       "    <tr>\n",
       "      <th>18</th>\n",
       "      <td>Not_employed</td>\n",
       "      <td>NaN</td>\n",
       "    </tr>\n",
       "    <tr>\n",
       "      <th>20</th>\n",
       "      <td>Not_employed</td>\n",
       "      <td>NaN</td>\n",
       "    </tr>\n",
       "  </tbody>\n",
       "</table>\n",
       "</div>"
      ],
      "text/plain": [
       "      Employment  CompanySize\n",
       "1   Not_employed          NaN\n",
       "6   Not_employed          NaN\n",
       "16  Not_employed          NaN\n",
       "18  Not_employed          NaN\n",
       "20  Not_employed          NaN"
      ]
     },
     "execution_count": 142,
     "metadata": {},
     "output_type": "execute_result"
    }
   ],
   "source": [
    "salaries_train[[\"Employment\",\"CompanySize\"]][(salaries_train[\"CompanySize\"].isnull()) & (salaries_train[\"Employment\"] == \"Not_employed\")].head()"
   ]
  },
  {
   "cell_type": "code",
   "execution_count": 143,
   "metadata": {},
   "outputs": [
    {
     "data": {
      "text/plain": [
       "1     NaN\n",
       "6     NaN\n",
       "16    NaN\n",
       "18    NaN\n",
       "20    NaN\n",
       "28    NaN\n",
       "32    NaN\n",
       "38    NaN\n",
       "43    NaN\n",
       "55    NaN\n",
       "58    NaN\n",
       "62    NaN\n",
       "63    NaN\n",
       "66    NaN\n",
       "71    NaN\n",
       "79    NaN\n",
       "81    NaN\n",
       "92    NaN\n",
       "97    NaN\n",
       "114   NaN\n",
       "124   NaN\n",
       "125   NaN\n",
       "131   NaN\n",
       "133   NaN\n",
       "148   NaN\n",
       "149   NaN\n",
       "156   NaN\n",
       "158   NaN\n",
       "163   NaN\n",
       "168   NaN\n",
       "172   NaN\n",
       "175   NaN\n",
       "176   NaN\n",
       "183   NaN\n",
       "185   NaN\n",
       "186   NaN\n",
       "194   NaN\n",
       "199   NaN\n",
       "Name: CompanySize, dtype: float64"
      ]
     },
     "execution_count": 143,
     "metadata": {},
     "output_type": "execute_result"
    }
   ],
   "source": [
    "# show CompanySize col where Employment col == \"Not_employed\" #\n",
    "salaries_train.loc[salaries_train[\"Employment\"] == \"Not_employed\", \"CompanySize\"]"
   ]
  },
  {
   "cell_type": "code",
   "execution_count": 144,
   "metadata": {},
   "outputs": [],
   "source": [
    "# where Employment col == \"Not_employed\" make CompanySize =0 #\n",
    "salaries_train.loc[salaries_train[\"Employment\"] == \"Not_employed\", \"CompanySize\"] = 0"
   ]
  },
  {
   "cell_type": "code",
   "execution_count": 145,
   "metadata": {},
   "outputs": [
    {
     "data": {
      "text/plain": [
       "array([   10.,     0.,    15.,   300.,    60.,   750.,    nan,  3000.,\n",
       "        7500., 10000.])"
      ]
     },
     "execution_count": 145,
     "metadata": {},
     "output_type": "execute_result"
    }
   ],
   "source": [
    "salaries_train[\"CompanySize\"].unique()"
   ]
  },
  {
   "cell_type": "code",
   "execution_count": 146,
   "metadata": {},
   "outputs": [
    {
     "data": {
      "text/plain": [
       "0.0        38\n",
       "300.0      30\n",
       "60.0       28\n",
       "3000.0     18\n",
       "10.0       17\n",
       "10000.0    17\n",
       "15.0       15\n",
       "750.0       9\n",
       "7500.0      2\n",
       "Name: CompanySize, dtype: int64"
      ]
     },
     "execution_count": 146,
     "metadata": {},
     "output_type": "execute_result"
    }
   ],
   "source": [
    "salaries_train[\"CompanySize\"].value_counts()"
   ]
  },
  {
   "cell_type": "markdown",
   "metadata": {},
   "source": [
    "For the rest on NaN values in the CompanySize col we look to see what other col can affect it"
   ]
  },
  {
   "cell_type": "code",
   "execution_count": 147,
   "metadata": {},
   "outputs": [
    {
     "data": {
      "text/html": [
       "<div>\n",
       "<style scoped>\n",
       "    .dataframe tbody tr th:only-of-type {\n",
       "        vertical-align: middle;\n",
       "    }\n",
       "\n",
       "    .dataframe tbody tr th {\n",
       "        vertical-align: top;\n",
       "    }\n",
       "\n",
       "    .dataframe thead th {\n",
       "        text-align: right;\n",
       "    }\n",
       "</style>\n",
       "<table border=\"1\" class=\"dataframe\">\n",
       "  <thead>\n",
       "    <tr style=\"text-align: right;\">\n",
       "      <th></th>\n",
       "      <th>Country</th>\n",
       "      <th>Student</th>\n",
       "      <th>Employment</th>\n",
       "      <th>FormalEducation</th>\n",
       "      <th>UndergradMajor</th>\n",
       "      <th>CompanySize</th>\n",
       "      <th>DevType</th>\n",
       "      <th>YearsCoding</th>\n",
       "      <th>YearsCodingProf</th>\n",
       "      <th>EducationTypes</th>\n",
       "      <th>LanguageWorkedWith</th>\n",
       "      <th>Salary</th>\n",
       "      <th>FrameworkWorkedWith</th>\n",
       "      <th>OperatingSystem</th>\n",
       "      <th>Age</th>\n",
       "      <th>ConvertedSalary</th>\n",
       "      <th>SecondLanguageWorkedWith</th>\n",
       "    </tr>\n",
       "  </thead>\n",
       "  <tbody>\n",
       "    <tr>\n",
       "      <th>10</th>\n",
       "      <td>Australia</td>\n",
       "      <td>No</td>\n",
       "      <td>Employed</td>\n",
       "      <td>Medium</td>\n",
       "      <td>A natural science (ex. biology, chemistry, phy...</td>\n",
       "      <td>NaN</td>\n",
       "      <td>Desktop or enterprise applications developer</td>\n",
       "      <td>30</td>\n",
       "      <td>28</td>\n",
       "      <td>Taken an online course in programming or softw...</td>\n",
       "      <td>VBA</td>\n",
       "      <td>NaN</td>\n",
       "      <td>NaN</td>\n",
       "      <td>MacOS</td>\n",
       "      <td>50.0</td>\n",
       "      <td>NaN</td>\n",
       "      <td>VB.NET</td>\n",
       "    </tr>\n",
       "    <tr>\n",
       "      <th>11</th>\n",
       "      <td>India</td>\n",
       "      <td>Yes</td>\n",
       "      <td>Employed</td>\n",
       "      <td>Low</td>\n",
       "      <td>I never declared a major</td>\n",
       "      <td>NaN</td>\n",
       "      <td>Back-end developer</td>\n",
       "      <td>5</td>\n",
       "      <td>5</td>\n",
       "      <td>NaN</td>\n",
       "      <td>NaN</td>\n",
       "      <td>NaN</td>\n",
       "      <td>NaN</td>\n",
       "      <td>Windows</td>\n",
       "      <td>30.0</td>\n",
       "      <td>NaN</td>\n",
       "      <td>NaN</td>\n",
       "    </tr>\n",
       "    <tr>\n",
       "      <th>12</th>\n",
       "      <td>United States</td>\n",
       "      <td>No</td>\n",
       "      <td>Employed</td>\n",
       "      <td>Medium</td>\n",
       "      <td>Computer science, computer engineering, or sof...</td>\n",
       "      <td>NaN</td>\n",
       "      <td>Full-stack developer</td>\n",
       "      <td>30</td>\n",
       "      <td>30</td>\n",
       "      <td>Completed an industry certification program (e...</td>\n",
       "      <td>Swift</td>\n",
       "      <td>NaN</td>\n",
       "      <td>NaN</td>\n",
       "      <td>MacOS</td>\n",
       "      <td>60.0</td>\n",
       "      <td>NaN</td>\n",
       "      <td>NaN</td>\n",
       "    </tr>\n",
       "    <tr>\n",
       "      <th>25</th>\n",
       "      <td>Indonesia</td>\n",
       "      <td>No</td>\n",
       "      <td>Employed</td>\n",
       "      <td>Medium</td>\n",
       "      <td>A natural science (ex. biology, chemistry, phy...</td>\n",
       "      <td>NaN</td>\n",
       "      <td>Back-end developer</td>\n",
       "      <td>7</td>\n",
       "      <td>7</td>\n",
       "      <td>Taught yourself a new language, framework, or ...</td>\n",
       "      <td>C#</td>\n",
       "      <td>5000</td>\n",
       "      <td>Angular</td>\n",
       "      <td>Windows</td>\n",
       "      <td>30.0</td>\n",
       "      <td>3785.0</td>\n",
       "      <td>Java</td>\n",
       "    </tr>\n",
       "    <tr>\n",
       "      <th>54</th>\n",
       "      <td>Luxembourg</td>\n",
       "      <td>Yes</td>\n",
       "      <td>Employed</td>\n",
       "      <td>Low</td>\n",
       "      <td>I never declared a major</td>\n",
       "      <td>NaN</td>\n",
       "      <td>Back-end developer</td>\n",
       "      <td>5</td>\n",
       "      <td>1</td>\n",
       "      <td>Contributed to open source software</td>\n",
       "      <td>C#</td>\n",
       "      <td>2000</td>\n",
       "      <td>Angular</td>\n",
       "      <td>Windows</td>\n",
       "      <td>21.0</td>\n",
       "      <td>29376.0</td>\n",
       "      <td>CoffeeScript</td>\n",
       "    </tr>\n",
       "  </tbody>\n",
       "</table>\n",
       "</div>"
      ],
      "text/plain": [
       "          Country Student Employment FormalEducation  \\\n",
       "10      Australia      No   Employed          Medium   \n",
       "11          India     Yes   Employed             Low   \n",
       "12  United States      No   Employed          Medium   \n",
       "25      Indonesia      No   Employed          Medium   \n",
       "54     Luxembourg     Yes   Employed             Low   \n",
       "\n",
       "                                       UndergradMajor  CompanySize  \\\n",
       "10  A natural science (ex. biology, chemistry, phy...          NaN   \n",
       "11                           I never declared a major          NaN   \n",
       "12  Computer science, computer engineering, or sof...          NaN   \n",
       "25  A natural science (ex. biology, chemistry, phy...          NaN   \n",
       "54                           I never declared a major          NaN   \n",
       "\n",
       "                                         DevType  YearsCoding  \\\n",
       "10  Desktop or enterprise applications developer           30   \n",
       "11                            Back-end developer            5   \n",
       "12                          Full-stack developer           30   \n",
       "25                            Back-end developer            7   \n",
       "54                            Back-end developer            5   \n",
       "\n",
       "    YearsCodingProf                                     EducationTypes  \\\n",
       "10               28  Taken an online course in programming or softw...   \n",
       "11                5                                                NaN   \n",
       "12               30  Completed an industry certification program (e...   \n",
       "25                7  Taught yourself a new language, framework, or ...   \n",
       "54                1                Contributed to open source software   \n",
       "\n",
       "   LanguageWorkedWith Salary FrameworkWorkedWith OperatingSystem   Age  \\\n",
       "10                VBA    NaN                 NaN           MacOS  50.0   \n",
       "11                NaN    NaN                 NaN         Windows  30.0   \n",
       "12              Swift    NaN                 NaN           MacOS  60.0   \n",
       "25                 C#   5000             Angular         Windows  30.0   \n",
       "54                 C#   2000             Angular         Windows  21.0   \n",
       "\n",
       "    ConvertedSalary SecondLanguageWorkedWith  \n",
       "10              NaN                   VB.NET  \n",
       "11              NaN                      NaN  \n",
       "12              NaN                      NaN  \n",
       "25           3785.0                     Java  \n",
       "54          29376.0             CoffeeScript  "
      ]
     },
     "execution_count": 147,
     "metadata": {},
     "output_type": "execute_result"
    }
   ],
   "source": [
    "# show rows where CompanySize = NaN and all cols of dataframe\n",
    "salaries_train.loc[salaries_train[\"CompanySize\"].isnull()].head()"
   ]
  },
  {
   "cell_type": "markdown",
   "metadata": {},
   "source": [
    "In this case no other col affects the Companysize therefore the remaining NaN are set to zero"
   ]
  },
  {
   "cell_type": "code",
   "execution_count": 148,
   "metadata": {},
   "outputs": [],
   "source": [
    "salaries_train[\"CompanySize\"].fillna(0,inplace = True)"
   ]
  },
  {
   "cell_type": "code",
   "execution_count": 149,
   "metadata": {},
   "outputs": [
    {
     "name": "stdout",
     "output_type": "stream",
     "text": [
      "<class 'pandas.core.frame.DataFrame'>\n",
      "RangeIndex: 200 entries, 0 to 199\n",
      "Data columns (total 17 columns):\n",
      " #   Column                    Non-Null Count  Dtype  \n",
      "---  ------                    --------------  -----  \n",
      " 0   Country                   200 non-null    object \n",
      " 1   Student                   200 non-null    object \n",
      " 2   Employment                200 non-null    object \n",
      " 3   FormalEducation           200 non-null    object \n",
      " 4   UndergradMajor            200 non-null    object \n",
      " 5   CompanySize               200 non-null    float64\n",
      " 6   DevType                   187 non-null    object \n",
      " 7   YearsCoding               200 non-null    int64  \n",
      " 8   YearsCodingProf           200 non-null    int64  \n",
      " 9   EducationTypes            142 non-null    object \n",
      " 10  LanguageWorkedWith        162 non-null    object \n",
      " 11  Salary                    95 non-null     object \n",
      " 12  FrameworkWorkedWith       116 non-null    object \n",
      " 13  OperatingSystem           200 non-null    object \n",
      " 14  Age                       200 non-null    float64\n",
      " 15  ConvertedSalary           89 non-null     float64\n",
      " 16  SecondLanguageWorkedWith  154 non-null    object \n",
      "dtypes: float64(3), int64(2), object(12)\n",
      "memory usage: 26.7+ KB\n"
     ]
    }
   ],
   "source": [
    "salaries_train.info()"
   ]
  },
  {
   "cell_type": "markdown",
   "metadata": {},
   "source": [
    "**DevType**"
   ]
  },
  {
   "cell_type": "code",
   "execution_count": 150,
   "metadata": {},
   "outputs": [
    {
     "data": {
      "text/plain": [
       "Back-end developer                               109\n",
       "Full-stack developer                              18\n",
       "Front-end developer                               11\n",
       "Designer                                           6\n",
       "Mobile developer                                   6\n",
       "Data or business analyst                           5\n",
       "Data scientist or machine learning specialist      5\n",
       "Student                                            5\n",
       "Desktop or enterprise applications developer       4\n",
       "Database administrator                             3\n",
       "DevOps specialist                                  3\n",
       "Educator or academic researcher                    3\n",
       "Game or graphics developer                         2\n",
       "Embedded applications or devices developer         2\n",
       "System administrator                               2\n",
       "C-suite executive (CEO, CTO, etc.)                 1\n",
       "Marketing or sales professional                    1\n",
       "QA or test developer                               1\n",
       "Name: DevType, dtype: int64"
      ]
     },
     "execution_count": 150,
     "metadata": {},
     "output_type": "execute_result"
    }
   ],
   "source": [
    "salaries_train[\"DevType\"].value_counts()"
   ]
  },
  {
   "cell_type": "code",
   "execution_count": 151,
   "metadata": {},
   "outputs": [
    {
     "data": {
      "text/html": [
       "<div>\n",
       "<style scoped>\n",
       "    .dataframe tbody tr th:only-of-type {\n",
       "        vertical-align: middle;\n",
       "    }\n",
       "\n",
       "    .dataframe tbody tr th {\n",
       "        vertical-align: top;\n",
       "    }\n",
       "\n",
       "    .dataframe thead th {\n",
       "        text-align: right;\n",
       "    }\n",
       "</style>\n",
       "<table border=\"1\" class=\"dataframe\">\n",
       "  <thead>\n",
       "    <tr style=\"text-align: right;\">\n",
       "      <th></th>\n",
       "      <th>DevType</th>\n",
       "      <th>FormalEducation</th>\n",
       "    </tr>\n",
       "  </thead>\n",
       "  <tbody>\n",
       "    <tr>\n",
       "      <th>38</th>\n",
       "      <td>NaN</td>\n",
       "      <td>Low</td>\n",
       "    </tr>\n",
       "    <tr>\n",
       "      <th>57</th>\n",
       "      <td>NaN</td>\n",
       "      <td>Medium</td>\n",
       "    </tr>\n",
       "    <tr>\n",
       "      <th>62</th>\n",
       "      <td>NaN</td>\n",
       "      <td>Medium</td>\n",
       "    </tr>\n",
       "    <tr>\n",
       "      <th>79</th>\n",
       "      <td>NaN</td>\n",
       "      <td>Low</td>\n",
       "    </tr>\n",
       "    <tr>\n",
       "      <th>95</th>\n",
       "      <td>NaN</td>\n",
       "      <td>Medium</td>\n",
       "    </tr>\n",
       "    <tr>\n",
       "      <th>100</th>\n",
       "      <td>NaN</td>\n",
       "      <td>Medium</td>\n",
       "    </tr>\n",
       "    <tr>\n",
       "      <th>107</th>\n",
       "      <td>NaN</td>\n",
       "      <td>Medium</td>\n",
       "    </tr>\n",
       "    <tr>\n",
       "      <th>131</th>\n",
       "      <td>NaN</td>\n",
       "      <td>Medium</td>\n",
       "    </tr>\n",
       "    <tr>\n",
       "      <th>134</th>\n",
       "      <td>NaN</td>\n",
       "      <td>Medium</td>\n",
       "    </tr>\n",
       "    <tr>\n",
       "      <th>153</th>\n",
       "      <td>NaN</td>\n",
       "      <td>Medium</td>\n",
       "    </tr>\n",
       "    <tr>\n",
       "      <th>156</th>\n",
       "      <td>NaN</td>\n",
       "      <td>Low</td>\n",
       "    </tr>\n",
       "    <tr>\n",
       "      <th>163</th>\n",
       "      <td>NaN</td>\n",
       "      <td>Low</td>\n",
       "    </tr>\n",
       "    <tr>\n",
       "      <th>168</th>\n",
       "      <td>NaN</td>\n",
       "      <td>Low</td>\n",
       "    </tr>\n",
       "  </tbody>\n",
       "</table>\n",
       "</div>"
      ],
      "text/plain": [
       "    DevType FormalEducation\n",
       "38      NaN             Low\n",
       "57      NaN          Medium\n",
       "62      NaN          Medium\n",
       "79      NaN             Low\n",
       "95      NaN          Medium\n",
       "100     NaN          Medium\n",
       "107     NaN          Medium\n",
       "131     NaN          Medium\n",
       "134     NaN          Medium\n",
       "153     NaN          Medium\n",
       "156     NaN             Low\n",
       "163     NaN             Low\n",
       "168     NaN             Low"
      ]
     },
     "execution_count": 151,
     "metadata": {},
     "output_type": "execute_result"
    }
   ],
   "source": [
    "salaries_train.loc[salaries_train[\"DevType\"].isnull(), [\"DevType\",\"FormalEducation\"]]"
   ]
  },
  {
   "cell_type": "markdown",
   "metadata": {},
   "source": [
    "For missing NaN values we will pad the data"
   ]
  },
  {
   "cell_type": "code",
   "execution_count": 152,
   "metadata": {},
   "outputs": [],
   "source": [
    "# Filling in NaN in a Series by padding, but filling at most two consecutive NaN at a time. #\n",
    "salaries_train[\"DevType\"].interpolate(method='pad', limit=2, inplace=True)"
   ]
  },
  {
   "cell_type": "code",
   "execution_count": 153,
   "metadata": {},
   "outputs": [
    {
     "name": "stdout",
     "output_type": "stream",
     "text": [
      "<class 'pandas.core.frame.DataFrame'>\n",
      "RangeIndex: 200 entries, 0 to 199\n",
      "Data columns (total 17 columns):\n",
      " #   Column                    Non-Null Count  Dtype  \n",
      "---  ------                    --------------  -----  \n",
      " 0   Country                   200 non-null    object \n",
      " 1   Student                   200 non-null    object \n",
      " 2   Employment                200 non-null    object \n",
      " 3   FormalEducation           200 non-null    object \n",
      " 4   UndergradMajor            200 non-null    object \n",
      " 5   CompanySize               200 non-null    float64\n",
      " 6   DevType                   200 non-null    object \n",
      " 7   YearsCoding               200 non-null    int64  \n",
      " 8   YearsCodingProf           200 non-null    int64  \n",
      " 9   EducationTypes            142 non-null    object \n",
      " 10  LanguageWorkedWith        162 non-null    object \n",
      " 11  Salary                    95 non-null     object \n",
      " 12  FrameworkWorkedWith       116 non-null    object \n",
      " 13  OperatingSystem           200 non-null    object \n",
      " 14  Age                       200 non-null    float64\n",
      " 15  ConvertedSalary           89 non-null     float64\n",
      " 16  SecondLanguageWorkedWith  154 non-null    object \n",
      "dtypes: float64(3), int64(2), object(12)\n",
      "memory usage: 26.7+ KB\n"
     ]
    }
   ],
   "source": [
    "salaries_train.info()"
   ]
  },
  {
   "cell_type": "markdown",
   "metadata": {},
   "source": [
    "**EducationTypes**"
   ]
  },
  {
   "cell_type": "code",
   "execution_count": 154,
   "metadata": {},
   "outputs": [
    {
     "name": "stdout",
     "output_type": "stream",
     "text": [
      "<class 'pandas.core.frame.DataFrame'>\n",
      "RangeIndex: 200 entries, 0 to 199\n",
      "Data columns (total 17 columns):\n",
      " #   Column                    Non-Null Count  Dtype  \n",
      "---  ------                    --------------  -----  \n",
      " 0   Country                   200 non-null    object \n",
      " 1   Student                   200 non-null    object \n",
      " 2   Employment                200 non-null    object \n",
      " 3   FormalEducation           200 non-null    object \n",
      " 4   UndergradMajor            200 non-null    object \n",
      " 5   CompanySize               200 non-null    float64\n",
      " 6   DevType                   200 non-null    object \n",
      " 7   YearsCoding               200 non-null    int64  \n",
      " 8   YearsCodingProf           200 non-null    int64  \n",
      " 9   EducationTypes            142 non-null    object \n",
      " 10  LanguageWorkedWith        162 non-null    object \n",
      " 11  Salary                    95 non-null     object \n",
      " 12  FrameworkWorkedWith       116 non-null    object \n",
      " 13  OperatingSystem           200 non-null    object \n",
      " 14  Age                       200 non-null    float64\n",
      " 15  ConvertedSalary           89 non-null     float64\n",
      " 16  SecondLanguageWorkedWith  154 non-null    object \n",
      "dtypes: float64(3), int64(2), object(12)\n",
      "memory usage: 26.7+ KB\n"
     ]
    }
   ],
   "source": [
    "salaries_train.info()"
   ]
  },
  {
   "cell_type": "code",
   "execution_count": 155,
   "metadata": {},
   "outputs": [
    {
     "data": {
      "text/plain": [
       "array(['Taught yourself a new language, framework, or tool without taking a formal course',\n",
       "       'Participated in a full-time developer training program or bootcamp',\n",
       "       'Taken an online course in programming or software development (e.g. a MOOC)',\n",
       "       nan, 'Received on-the-job training in software development',\n",
       "       'Taken a part-time in-person course in programming or software development',\n",
       "       'Completed an industry certification program (e.g. MCPD)',\n",
       "       'Participated in a hackathon',\n",
       "       'Contributed to open source software',\n",
       "       'Participated in online coding competitions (e.g. HackerRank, CodeChef, TopCoder)'],\n",
       "      dtype=object)"
      ]
     },
     "execution_count": 155,
     "metadata": {},
     "output_type": "execute_result"
    }
   ],
   "source": [
    "salaries_train[\"EducationTypes\"].unique()"
   ]
  },
  {
   "cell_type": "code",
   "execution_count": 156,
   "metadata": {},
   "outputs": [
    {
     "data": {
      "text/plain": [
       "Taken an online course in programming or software development (e.g. a MOOC)          65\n",
       "Taught yourself a new language, framework, or tool without taking a formal course    33\n",
       "Received on-the-job training in software development                                 21\n",
       "Taken a part-time in-person course in programming or software development            11\n",
       "Completed an industry certification program (e.g. MCPD)                               6\n",
       "Participated in a full-time developer training program or bootcamp                    3\n",
       "Participated in online coding competitions (e.g. HackerRank, CodeChef, TopCoder)      1\n",
       "Contributed to open source software                                                   1\n",
       "Participated in a hackathon                                                           1\n",
       "Name: EducationTypes, dtype: int64"
      ]
     },
     "execution_count": 156,
     "metadata": {},
     "output_type": "execute_result"
    }
   ],
   "source": [
    "salaries_train[\"EducationTypes\"].value_counts()"
   ]
  },
  {
   "cell_type": "code",
   "execution_count": 157,
   "metadata": {},
   "outputs": [
    {
     "data": {
      "text/html": [
       "<div>\n",
       "<style scoped>\n",
       "    .dataframe tbody tr th:only-of-type {\n",
       "        vertical-align: middle;\n",
       "    }\n",
       "\n",
       "    .dataframe tbody tr th {\n",
       "        vertical-align: top;\n",
       "    }\n",
       "\n",
       "    .dataframe thead th {\n",
       "        text-align: right;\n",
       "    }\n",
       "</style>\n",
       "<table border=\"1\" class=\"dataframe\">\n",
       "  <thead>\n",
       "    <tr style=\"text-align: right;\">\n",
       "      <th></th>\n",
       "      <th>UndergradMajor</th>\n",
       "      <th>Employment</th>\n",
       "      <th>FormalEducation</th>\n",
       "      <th>EducationTypes</th>\n",
       "    </tr>\n",
       "  </thead>\n",
       "  <tbody>\n",
       "    <tr>\n",
       "      <th>3</th>\n",
       "      <td>Computer science, computer engineering, or sof...</td>\n",
       "      <td>Employed</td>\n",
       "      <td>Medium</td>\n",
       "      <td>NaN</td>\n",
       "    </tr>\n",
       "    <tr>\n",
       "      <th>11</th>\n",
       "      <td>I never declared a major</td>\n",
       "      <td>Employed</td>\n",
       "      <td>Low</td>\n",
       "      <td>NaN</td>\n",
       "    </tr>\n",
       "    <tr>\n",
       "      <th>18</th>\n",
       "      <td>I never declared a major</td>\n",
       "      <td>Not_employed</td>\n",
       "      <td>Low</td>\n",
       "      <td>NaN</td>\n",
       "    </tr>\n",
       "    <tr>\n",
       "      <th>20</th>\n",
       "      <td>Another engineering discipline (ex. civil, ele...</td>\n",
       "      <td>Not_employed</td>\n",
       "      <td>Medium</td>\n",
       "      <td>NaN</td>\n",
       "    </tr>\n",
       "    <tr>\n",
       "      <th>21</th>\n",
       "      <td>Another engineering discipline (ex. civil, ele...</td>\n",
       "      <td>Employed</td>\n",
       "      <td>High</td>\n",
       "      <td>NaN</td>\n",
       "    </tr>\n",
       "    <tr>\n",
       "      <th>22</th>\n",
       "      <td>Computer science, computer engineering, or sof...</td>\n",
       "      <td>Employed</td>\n",
       "      <td>Medium</td>\n",
       "      <td>NaN</td>\n",
       "    </tr>\n",
       "    <tr>\n",
       "      <th>27</th>\n",
       "      <td>Computer science, computer engineering, or sof...</td>\n",
       "      <td>Employed</td>\n",
       "      <td>Medium</td>\n",
       "      <td>NaN</td>\n",
       "    </tr>\n",
       "    <tr>\n",
       "      <th>29</th>\n",
       "      <td>I never declared a major</td>\n",
       "      <td>Employed</td>\n",
       "      <td>Low</td>\n",
       "      <td>NaN</td>\n",
       "    </tr>\n",
       "    <tr>\n",
       "      <th>30</th>\n",
       "      <td>Another engineering discipline (ex. civil, ele...</td>\n",
       "      <td>Employed</td>\n",
       "      <td>Medium</td>\n",
       "      <td>NaN</td>\n",
       "    </tr>\n",
       "    <tr>\n",
       "      <th>36</th>\n",
       "      <td>I never declared a major</td>\n",
       "      <td>Employed</td>\n",
       "      <td>Low</td>\n",
       "      <td>NaN</td>\n",
       "    </tr>\n",
       "  </tbody>\n",
       "</table>\n",
       "</div>"
      ],
      "text/plain": [
       "                                       UndergradMajor    Employment  \\\n",
       "3   Computer science, computer engineering, or sof...      Employed   \n",
       "11                           I never declared a major      Employed   \n",
       "18                           I never declared a major  Not_employed   \n",
       "20  Another engineering discipline (ex. civil, ele...  Not_employed   \n",
       "21  Another engineering discipline (ex. civil, ele...      Employed   \n",
       "22  Computer science, computer engineering, or sof...      Employed   \n",
       "27  Computer science, computer engineering, or sof...      Employed   \n",
       "29                           I never declared a major      Employed   \n",
       "30  Another engineering discipline (ex. civil, ele...      Employed   \n",
       "36                           I never declared a major      Employed   \n",
       "\n",
       "   FormalEducation EducationTypes  \n",
       "3           Medium            NaN  \n",
       "11             Low            NaN  \n",
       "18             Low            NaN  \n",
       "20          Medium            NaN  \n",
       "21            High            NaN  \n",
       "22          Medium            NaN  \n",
       "27          Medium            NaN  \n",
       "29             Low            NaN  \n",
       "30          Medium            NaN  \n",
       "36             Low            NaN  "
      ]
     },
     "execution_count": 157,
     "metadata": {},
     "output_type": "execute_result"
    }
   ],
   "source": [
    "# Show EducationTypes and FormalEducation where EducationTypes = NaN #\n",
    "salaries_train.loc[salaries_train[\"EducationTypes\"].isnull(), [\"UndergradMajor\",\"Employment\",\"FormalEducation\",\"EducationTypes\"]].head(10)"
   ]
  },
  {
   "cell_type": "markdown",
   "metadata": {},
   "source": [
    "## Apply corr to view the relationship between the categorical cols"
   ]
  },
  {
   "cell_type": "markdown",
   "metadata": {},
   "source": [
    "We can assume that if: \n",
    "\n",
    "    Employment == \"Not_employed\" ie. no one is paying for you to get any further type of education\n",
    "    FormalEducation == \"Low\" ie. did not go to university\n",
    "    EducationTypes == NaN \n",
    "    \n",
    "Then most likely you are self taught (Taught yourself a new language, framework, or tool without taking a formal course)"
   ]
  },
  {
   "cell_type": "code",
   "execution_count": 158,
   "metadata": {},
   "outputs": [
    {
     "data": {
      "text/html": [
       "<div>\n",
       "<style scoped>\n",
       "    .dataframe tbody tr th:only-of-type {\n",
       "        vertical-align: middle;\n",
       "    }\n",
       "\n",
       "    .dataframe tbody tr th {\n",
       "        vertical-align: top;\n",
       "    }\n",
       "\n",
       "    .dataframe thead th {\n",
       "        text-align: right;\n",
       "    }\n",
       "</style>\n",
       "<table border=\"1\" class=\"dataframe\">\n",
       "  <thead>\n",
       "    <tr style=\"text-align: right;\">\n",
       "      <th></th>\n",
       "      <th>UndergradMajor</th>\n",
       "      <th>Employment</th>\n",
       "      <th>FormalEducation</th>\n",
       "      <th>EducationTypes</th>\n",
       "    </tr>\n",
       "  </thead>\n",
       "  <tbody>\n",
       "    <tr>\n",
       "      <th>6</th>\n",
       "      <td>I never declared a major</td>\n",
       "      <td>Not_employed</td>\n",
       "      <td>Low</td>\n",
       "      <td>Taken an online course in programming or softw...</td>\n",
       "    </tr>\n",
       "    <tr>\n",
       "      <th>63</th>\n",
       "      <td>I never declared a major</td>\n",
       "      <td>Not_employed</td>\n",
       "      <td>Low</td>\n",
       "      <td>Taught yourself a new language, framework, or ...</td>\n",
       "    </tr>\n",
       "    <tr>\n",
       "      <th>71</th>\n",
       "      <td>I never declared a major</td>\n",
       "      <td>Not_employed</td>\n",
       "      <td>Low</td>\n",
       "      <td>Taken an online course in programming or softw...</td>\n",
       "    </tr>\n",
       "    <tr>\n",
       "      <th>92</th>\n",
       "      <td>I never declared a major</td>\n",
       "      <td>Not_employed</td>\n",
       "      <td>Low</td>\n",
       "      <td>Taught yourself a new language, framework, or ...</td>\n",
       "    </tr>\n",
       "    <tr>\n",
       "      <th>97</th>\n",
       "      <td>I never declared a major</td>\n",
       "      <td>Not_employed</td>\n",
       "      <td>Low</td>\n",
       "      <td>Taken an online course in programming or softw...</td>\n",
       "    </tr>\n",
       "    <tr>\n",
       "      <th>148</th>\n",
       "      <td>I never declared a major</td>\n",
       "      <td>Not_employed</td>\n",
       "      <td>Low</td>\n",
       "      <td>Taught yourself a new language, framework, or ...</td>\n",
       "    </tr>\n",
       "    <tr>\n",
       "      <th>175</th>\n",
       "      <td>I never declared a major</td>\n",
       "      <td>Not_employed</td>\n",
       "      <td>Low</td>\n",
       "      <td>Taken an online course in programming or softw...</td>\n",
       "    </tr>\n",
       "    <tr>\n",
       "      <th>176</th>\n",
       "      <td>I never declared a major</td>\n",
       "      <td>Not_employed</td>\n",
       "      <td>Low</td>\n",
       "      <td>Taught yourself a new language, framework, or ...</td>\n",
       "    </tr>\n",
       "    <tr>\n",
       "      <th>186</th>\n",
       "      <td>I never declared a major</td>\n",
       "      <td>Not_employed</td>\n",
       "      <td>Low</td>\n",
       "      <td>Taken an online course in programming or softw...</td>\n",
       "    </tr>\n",
       "    <tr>\n",
       "      <th>199</th>\n",
       "      <td>I never declared a major</td>\n",
       "      <td>Not_employed</td>\n",
       "      <td>Low</td>\n",
       "      <td>Taken an online course in programming or softw...</td>\n",
       "    </tr>\n",
       "  </tbody>\n",
       "</table>\n",
       "</div>"
      ],
      "text/plain": [
       "               UndergradMajor    Employment FormalEducation  \\\n",
       "6    I never declared a major  Not_employed             Low   \n",
       "63   I never declared a major  Not_employed             Low   \n",
       "71   I never declared a major  Not_employed             Low   \n",
       "92   I never declared a major  Not_employed             Low   \n",
       "97   I never declared a major  Not_employed             Low   \n",
       "148  I never declared a major  Not_employed             Low   \n",
       "175  I never declared a major  Not_employed             Low   \n",
       "176  I never declared a major  Not_employed             Low   \n",
       "186  I never declared a major  Not_employed             Low   \n",
       "199  I never declared a major  Not_employed             Low   \n",
       "\n",
       "                                        EducationTypes  \n",
       "6    Taken an online course in programming or softw...  \n",
       "63   Taught yourself a new language, framework, or ...  \n",
       "71   Taken an online course in programming or softw...  \n",
       "92   Taught yourself a new language, framework, or ...  \n",
       "97   Taken an online course in programming or softw...  \n",
       "148  Taught yourself a new language, framework, or ...  \n",
       "175  Taken an online course in programming or softw...  \n",
       "176  Taught yourself a new language, framework, or ...  \n",
       "186  Taken an online course in programming or softw...  \n",
       "199  Taken an online course in programming or softw...  "
      ]
     },
     "execution_count": 158,
     "metadata": {},
     "output_type": "execute_result"
    }
   ],
   "source": [
    "salaries_train.loc[(salaries_train[\"Employment\"] == \"Not_employed\") & (salaries_train[\"FormalEducation\"] == \"Low\") & salaries_train[\"EducationTypes\"], [\"UndergradMajor\",\"Employment\",\"FormalEducation\",\"EducationTypes\"]]"
   ]
  },
  {
   "cell_type": "code",
   "execution_count": 159,
   "metadata": {},
   "outputs": [
    {
     "data": {
      "text/html": [
       "<div>\n",
       "<style scoped>\n",
       "    .dataframe tbody tr th:only-of-type {\n",
       "        vertical-align: middle;\n",
       "    }\n",
       "\n",
       "    .dataframe tbody tr th {\n",
       "        vertical-align: top;\n",
       "    }\n",
       "\n",
       "    .dataframe thead th {\n",
       "        text-align: right;\n",
       "    }\n",
       "</style>\n",
       "<table border=\"1\" class=\"dataframe\">\n",
       "  <thead>\n",
       "    <tr style=\"text-align: right;\">\n",
       "      <th></th>\n",
       "      <th>Country</th>\n",
       "      <th>Student</th>\n",
       "      <th>Employment</th>\n",
       "      <th>FormalEducation</th>\n",
       "      <th>UndergradMajor</th>\n",
       "      <th>CompanySize</th>\n",
       "      <th>DevType</th>\n",
       "      <th>YearsCoding</th>\n",
       "      <th>YearsCodingProf</th>\n",
       "      <th>EducationTypes</th>\n",
       "      <th>LanguageWorkedWith</th>\n",
       "      <th>Salary</th>\n",
       "      <th>FrameworkWorkedWith</th>\n",
       "      <th>OperatingSystem</th>\n",
       "      <th>Age</th>\n",
       "      <th>ConvertedSalary</th>\n",
       "      <th>SecondLanguageWorkedWith</th>\n",
       "    </tr>\n",
       "  </thead>\n",
       "  <tbody>\n",
       "    <tr>\n",
       "      <th>18</th>\n",
       "      <td>Indonesia</td>\n",
       "      <td>Yes</td>\n",
       "      <td>Not_employed</td>\n",
       "      <td>Low</td>\n",
       "      <td>I never declared a major</td>\n",
       "      <td>0.0</td>\n",
       "      <td>Back-end developer</td>\n",
       "      <td>5</td>\n",
       "      <td>30</td>\n",
       "      <td>NaN</td>\n",
       "      <td>Assembly</td>\n",
       "      <td>08217000063</td>\n",
       "      <td>Angular</td>\n",
       "      <td>Windows</td>\n",
       "      <td>40.0</td>\n",
       "      <td>1000000.0</td>\n",
       "      <td>C</td>\n",
       "    </tr>\n",
       "    <tr>\n",
       "      <th>38</th>\n",
       "      <td>Netherlands</td>\n",
       "      <td>No</td>\n",
       "      <td>Not_employed</td>\n",
       "      <td>Low</td>\n",
       "      <td>I never declared a major</td>\n",
       "      <td>0.0</td>\n",
       "      <td>Mobile developer</td>\n",
       "      <td>0</td>\n",
       "      <td>0</td>\n",
       "      <td>NaN</td>\n",
       "      <td>NaN</td>\n",
       "      <td>NaN</td>\n",
       "      <td>NaN</td>\n",
       "      <td>Windows</td>\n",
       "      <td>30.0</td>\n",
       "      <td>NaN</td>\n",
       "      <td>NaN</td>\n",
       "    </tr>\n",
       "    <tr>\n",
       "      <th>79</th>\n",
       "      <td>Viet Nam</td>\n",
       "      <td>No</td>\n",
       "      <td>Not_employed</td>\n",
       "      <td>Low</td>\n",
       "      <td>I never declared a major</td>\n",
       "      <td>0.0</td>\n",
       "      <td>Mobile developer</td>\n",
       "      <td>0</td>\n",
       "      <td>0</td>\n",
       "      <td>NaN</td>\n",
       "      <td>NaN</td>\n",
       "      <td>NaN</td>\n",
       "      <td>NaN</td>\n",
       "      <td>Windows</td>\n",
       "      <td>30.0</td>\n",
       "      <td>NaN</td>\n",
       "      <td>NaN</td>\n",
       "    </tr>\n",
       "    <tr>\n",
       "      <th>133</th>\n",
       "      <td>India</td>\n",
       "      <td>Yes</td>\n",
       "      <td>Not_employed</td>\n",
       "      <td>Low</td>\n",
       "      <td>I never declared a major</td>\n",
       "      <td>0.0</td>\n",
       "      <td>Front-end developer</td>\n",
       "      <td>1</td>\n",
       "      <td>1</td>\n",
       "      <td>NaN</td>\n",
       "      <td>NaN</td>\n",
       "      <td>NaN</td>\n",
       "      <td>NaN</td>\n",
       "      <td>Windows</td>\n",
       "      <td>30.0</td>\n",
       "      <td>NaN</td>\n",
       "      <td>NaN</td>\n",
       "    </tr>\n",
       "    <tr>\n",
       "      <th>156</th>\n",
       "      <td>Belgium</td>\n",
       "      <td>No</td>\n",
       "      <td>Not_employed</td>\n",
       "      <td>Low</td>\n",
       "      <td>I never declared a major</td>\n",
       "      <td>0.0</td>\n",
       "      <td>Back-end developer</td>\n",
       "      <td>0</td>\n",
       "      <td>0</td>\n",
       "      <td>NaN</td>\n",
       "      <td>NaN</td>\n",
       "      <td>NaN</td>\n",
       "      <td>NaN</td>\n",
       "      <td>Windows</td>\n",
       "      <td>30.0</td>\n",
       "      <td>NaN</td>\n",
       "      <td>NaN</td>\n",
       "    </tr>\n",
       "    <tr>\n",
       "      <th>163</th>\n",
       "      <td>Jordan</td>\n",
       "      <td>Yes</td>\n",
       "      <td>Not_employed</td>\n",
       "      <td>Low</td>\n",
       "      <td>I never declared a major</td>\n",
       "      <td>0.0</td>\n",
       "      <td>Front-end developer</td>\n",
       "      <td>0</td>\n",
       "      <td>0</td>\n",
       "      <td>NaN</td>\n",
       "      <td>NaN</td>\n",
       "      <td>NaN</td>\n",
       "      <td>NaN</td>\n",
       "      <td>Windows</td>\n",
       "      <td>30.0</td>\n",
       "      <td>NaN</td>\n",
       "      <td>NaN</td>\n",
       "    </tr>\n",
       "    <tr>\n",
       "      <th>168</th>\n",
       "      <td>India</td>\n",
       "      <td>No</td>\n",
       "      <td>Not_employed</td>\n",
       "      <td>Low</td>\n",
       "      <td>I never declared a major</td>\n",
       "      <td>0.0</td>\n",
       "      <td>Designer</td>\n",
       "      <td>0</td>\n",
       "      <td>0</td>\n",
       "      <td>NaN</td>\n",
       "      <td>NaN</td>\n",
       "      <td>NaN</td>\n",
       "      <td>NaN</td>\n",
       "      <td>Windows</td>\n",
       "      <td>30.0</td>\n",
       "      <td>NaN</td>\n",
       "      <td>NaN</td>\n",
       "    </tr>\n",
       "  </tbody>\n",
       "</table>\n",
       "</div>"
      ],
      "text/plain": [
       "         Country Student    Employment FormalEducation  \\\n",
       "18     Indonesia     Yes  Not_employed             Low   \n",
       "38   Netherlands      No  Not_employed             Low   \n",
       "79      Viet Nam      No  Not_employed             Low   \n",
       "133        India     Yes  Not_employed             Low   \n",
       "156      Belgium      No  Not_employed             Low   \n",
       "163       Jordan     Yes  Not_employed             Low   \n",
       "168        India      No  Not_employed             Low   \n",
       "\n",
       "               UndergradMajor  CompanySize              DevType  YearsCoding  \\\n",
       "18   I never declared a major          0.0   Back-end developer            5   \n",
       "38   I never declared a major          0.0     Mobile developer            0   \n",
       "79   I never declared a major          0.0     Mobile developer            0   \n",
       "133  I never declared a major          0.0  Front-end developer            1   \n",
       "156  I never declared a major          0.0   Back-end developer            0   \n",
       "163  I never declared a major          0.0  Front-end developer            0   \n",
       "168  I never declared a major          0.0             Designer            0   \n",
       "\n",
       "     YearsCodingProf EducationTypes LanguageWorkedWith       Salary  \\\n",
       "18                30            NaN           Assembly  08217000063   \n",
       "38                 0            NaN                NaN          NaN   \n",
       "79                 0            NaN                NaN          NaN   \n",
       "133                1            NaN                NaN          NaN   \n",
       "156                0            NaN                NaN          NaN   \n",
       "163                0            NaN                NaN          NaN   \n",
       "168                0            NaN                NaN          NaN   \n",
       "\n",
       "    FrameworkWorkedWith OperatingSystem   Age  ConvertedSalary  \\\n",
       "18              Angular         Windows  40.0        1000000.0   \n",
       "38                  NaN         Windows  30.0              NaN   \n",
       "79                  NaN         Windows  30.0              NaN   \n",
       "133                 NaN         Windows  30.0              NaN   \n",
       "156                 NaN         Windows  30.0              NaN   \n",
       "163                 NaN         Windows  30.0              NaN   \n",
       "168                 NaN         Windows  30.0              NaN   \n",
       "\n",
       "    SecondLanguageWorkedWith  \n",
       "18                         C  \n",
       "38                       NaN  \n",
       "79                       NaN  \n",
       "133                      NaN  \n",
       "156                      NaN  \n",
       "163                      NaN  \n",
       "168                      NaN  "
      ]
     },
     "execution_count": 159,
     "metadata": {},
     "output_type": "execute_result"
    }
   ],
   "source": [
    "salaries_train.loc[(salaries_train[\"Employment\"] == \"Not_employed\") & (salaries_train[\"FormalEducation\"] == \"Low\") & (salaries_train[\"EducationTypes\"].isnull())]"
   ]
  },
  {
   "cell_type": "code",
   "execution_count": 160,
   "metadata": {},
   "outputs": [],
   "source": [
    "# Testing the code #"
   ]
  },
  {
   "cell_type": "code",
   "execution_count": 161,
   "metadata": {},
   "outputs": [
    {
     "data": {
      "text/plain": [
       "18     NaN\n",
       "38     NaN\n",
       "79     NaN\n",
       "133    NaN\n",
       "156    NaN\n",
       "163    NaN\n",
       "168    NaN\n",
       "Name: EducationTypes, dtype: object"
      ]
     },
     "execution_count": 161,
     "metadata": {},
     "output_type": "execute_result"
    }
   ],
   "source": [
    "# show null values in EducationTypes col that represent the assumed relationship #\n",
    "salaries_train.loc[(salaries_train[\"Employment\"] == \"Not_employed\") & (salaries_train[\"FormalEducation\"] == \"Low\") & (salaries_train[\"EducationTypes\"].isnull()), \"EducationTypes\"]"
   ]
  },
  {
   "cell_type": "code",
   "execution_count": 162,
   "metadata": {},
   "outputs": [],
   "source": [
    "# in EducationTypes col take the suggested relationship and broadcast the new value #\n",
    "salaries_train.loc[(salaries_train[\"Employment\"] == \"Not_employed\") & (salaries_train[\"FormalEducation\"] == \"Low\") & (salaries_train[\"EducationTypes\"].isnull()), \"EducationTypes\"] = \"Taught yourself a new language, framework, or tool without taking a formal course\""
   ]
  },
  {
   "cell_type": "code",
   "execution_count": 163,
   "metadata": {},
   "outputs": [
    {
     "data": {
      "text/plain": [
       "Taken an online course in programming or software development (e.g. a MOOC)          65\n",
       "Taught yourself a new language, framework, or tool without taking a formal course    40\n",
       "Received on-the-job training in software development                                 21\n",
       "Taken a part-time in-person course in programming or software development            11\n",
       "Completed an industry certification program (e.g. MCPD)                               6\n",
       "Participated in a full-time developer training program or bootcamp                    3\n",
       "Participated in online coding competitions (e.g. HackerRank, CodeChef, TopCoder)      1\n",
       "Contributed to open source software                                                   1\n",
       "Participated in a hackathon                                                           1\n",
       "Name: EducationTypes, dtype: int64"
      ]
     },
     "execution_count": 163,
     "metadata": {},
     "output_type": "execute_result"
    }
   ],
   "source": [
    "salaries_train[\"EducationTypes\"].value_counts()"
   ]
  },
  {
   "cell_type": "code",
   "execution_count": 164,
   "metadata": {},
   "outputs": [
    {
     "name": "stdout",
     "output_type": "stream",
     "text": [
      "<class 'pandas.core.frame.DataFrame'>\n",
      "RangeIndex: 200 entries, 0 to 199\n",
      "Data columns (total 17 columns):\n",
      " #   Column                    Non-Null Count  Dtype  \n",
      "---  ------                    --------------  -----  \n",
      " 0   Country                   200 non-null    object \n",
      " 1   Student                   200 non-null    object \n",
      " 2   Employment                200 non-null    object \n",
      " 3   FormalEducation           200 non-null    object \n",
      " 4   UndergradMajor            200 non-null    object \n",
      " 5   CompanySize               200 non-null    float64\n",
      " 6   DevType                   200 non-null    object \n",
      " 7   YearsCoding               200 non-null    int64  \n",
      " 8   YearsCodingProf           200 non-null    int64  \n",
      " 9   EducationTypes            149 non-null    object \n",
      " 10  LanguageWorkedWith        162 non-null    object \n",
      " 11  Salary                    95 non-null     object \n",
      " 12  FrameworkWorkedWith       116 non-null    object \n",
      " 13  OperatingSystem           200 non-null    object \n",
      " 14  Age                       200 non-null    float64\n",
      " 15  ConvertedSalary           89 non-null     float64\n",
      " 16  SecondLanguageWorkedWith  154 non-null    object \n",
      "dtypes: float64(3), int64(2), object(12)\n",
      "memory usage: 26.7+ KB\n"
     ]
    }
   ],
   "source": [
    "salaries_train.info()"
   ]
  },
  {
   "cell_type": "code",
   "execution_count": 165,
   "metadata": {},
   "outputs": [
    {
     "data": {
      "text/plain": [
       "51"
      ]
     },
     "execution_count": 165,
     "metadata": {},
     "output_type": "execute_result"
    }
   ],
   "source": [
    "# Number of Remaining NaN values #\n",
    "len(salaries_train.loc[salaries_train[\"EducationTypes\"].isnull(),\"EducationTypes\"])"
   ]
  },
  {
   "cell_type": "code",
   "execution_count": 166,
   "metadata": {},
   "outputs": [],
   "source": [
    "# # Pad the rest of the EducationTypes dataframe #\n",
    "# salaries_train[\"EducationTypes\"].salaries_train[\"ConvertedSalary\"]"
   ]
  },
  {
   "cell_type": "code",
   "execution_count": 167,
   "metadata": {},
   "outputs": [
    {
     "data": {
      "text/plain": [
       "3      NaN\n",
       "11     NaN\n",
       "20     NaN\n",
       "21     NaN\n",
       "22     NaN\n",
       "27     NaN\n",
       "29     NaN\n",
       "30     NaN\n",
       "36     NaN\n",
       "37     NaN\n",
       "39     NaN\n",
       "40     NaN\n",
       "43     NaN\n",
       "49     NaN\n",
       "51     NaN\n",
       "58     NaN\n",
       "59     NaN\n",
       "61     NaN\n",
       "62     NaN\n",
       "67     NaN\n",
       "70     NaN\n",
       "72     NaN\n",
       "74     NaN\n",
       "82     NaN\n",
       "85     NaN\n",
       "95     NaN\n",
       "96     NaN\n",
       "98     NaN\n",
       "99     NaN\n",
       "104    NaN\n",
       "107    NaN\n",
       "110    NaN\n",
       "114    NaN\n",
       "117    NaN\n",
       "120    NaN\n",
       "121    NaN\n",
       "131    NaN\n",
       "134    NaN\n",
       "136    NaN\n",
       "147    NaN\n",
       "158    NaN\n",
       "167    NaN\n",
       "171    NaN\n",
       "172    NaN\n",
       "177    NaN\n",
       "179    NaN\n",
       "184    NaN\n",
       "185    NaN\n",
       "189    NaN\n",
       "190    NaN\n",
       "193    NaN\n",
       "Name: EducationTypes, dtype: object"
      ]
     },
     "execution_count": 167,
     "metadata": {},
     "output_type": "execute_result"
    }
   ],
   "source": [
    "# Check for any null values #\n",
    "salaries_train[\"EducationTypes\"][salaries_train[\"EducationTypes\"].isnull()]"
   ]
  },
  {
   "cell_type": "code",
   "execution_count": 168,
   "metadata": {},
   "outputs": [
    {
     "data": {
      "text/plain": [
       "'Taken an online course in programming or software development (e.g. a MOOC)'"
      ]
     },
     "execution_count": 168,
     "metadata": {},
     "output_type": "execute_result"
    }
   ],
   "source": [
    "# After padding with a limit of 2 we are left with 1 NaN value. Fill will fill it with the highest frequency #\n",
    "salaries_train[\"EducationTypes\"].mode()[0]"
   ]
  },
  {
   "cell_type": "code",
   "execution_count": 169,
   "metadata": {},
   "outputs": [],
   "source": [
    "# fill NaN with highest frequency #\n",
    "salaries_train[\"EducationTypes\"].fillna(salaries_train[\"EducationTypes\"].mode()[0], inplace=True)"
   ]
  },
  {
   "cell_type": "code",
   "execution_count": 170,
   "metadata": {},
   "outputs": [
    {
     "data": {
      "text/plain": [
       "Series([], Name: EducationTypes, dtype: object)"
      ]
     },
     "execution_count": 170,
     "metadata": {},
     "output_type": "execute_result"
    }
   ],
   "source": [
    "# check for any null values # \n",
    "salaries_train[\"EducationTypes\"][salaries_train[\"EducationTypes\"].isnull()]"
   ]
  },
  {
   "cell_type": "code",
   "execution_count": 171,
   "metadata": {},
   "outputs": [
    {
     "name": "stdout",
     "output_type": "stream",
     "text": [
      "<class 'pandas.core.frame.DataFrame'>\n",
      "RangeIndex: 200 entries, 0 to 199\n",
      "Data columns (total 17 columns):\n",
      " #   Column                    Non-Null Count  Dtype  \n",
      "---  ------                    --------------  -----  \n",
      " 0   Country                   200 non-null    object \n",
      " 1   Student                   200 non-null    object \n",
      " 2   Employment                200 non-null    object \n",
      " 3   FormalEducation           200 non-null    object \n",
      " 4   UndergradMajor            200 non-null    object \n",
      " 5   CompanySize               200 non-null    float64\n",
      " 6   DevType                   200 non-null    object \n",
      " 7   YearsCoding               200 non-null    int64  \n",
      " 8   YearsCodingProf           200 non-null    int64  \n",
      " 9   EducationTypes            200 non-null    object \n",
      " 10  LanguageWorkedWith        162 non-null    object \n",
      " 11  Salary                    95 non-null     object \n",
      " 12  FrameworkWorkedWith       116 non-null    object \n",
      " 13  OperatingSystem           200 non-null    object \n",
      " 14  Age                       200 non-null    float64\n",
      " 15  ConvertedSalary           89 non-null     float64\n",
      " 16  SecondLanguageWorkedWith  154 non-null    object \n",
      "dtypes: float64(3), int64(2), object(12)\n",
      "memory usage: 26.7+ KB\n"
     ]
    }
   ],
   "source": [
    "salaries_train.info()"
   ]
  },
  {
   "cell_type": "markdown",
   "metadata": {},
   "source": [
    "**LanguageWorkedWith**"
   ]
  },
  {
   "cell_type": "code",
   "execution_count": 172,
   "metadata": {},
   "outputs": [
    {
     "data": {
      "text/plain": [
       "array(['C#', 'JavaScript', 'C++', 'C', 'Assembly', 'Java', 'VBA', nan,\n",
       "       'Swift', 'Lua', 'Objective-C', 'Go', 'CoffeeScript', 'Groovy',\n",
       "       'HTML', 'SQL', 'Haskell', 'Clojure', 'Python', 'Scala'],\n",
       "      dtype=object)"
      ]
     },
     "execution_count": 172,
     "metadata": {},
     "output_type": "execute_result"
    }
   ],
   "source": [
    "salaries_train[\"LanguageWorkedWith\"].unique()"
   ]
  },
  {
   "cell_type": "code",
   "execution_count": 173,
   "metadata": {},
   "outputs": [
    {
     "data": {
      "text/plain": [
       "C#              33\n",
       "C++             26\n",
       "Java            25\n",
       "C               21\n",
       "JavaScript      20\n",
       "Assembly        11\n",
       "Go               7\n",
       "Groovy           4\n",
       "Python           2\n",
       "CoffeeScript     2\n",
       "Swift            2\n",
       "HTML             2\n",
       "Lua              1\n",
       "SQL              1\n",
       "Scala            1\n",
       "Clojure          1\n",
       "VBA              1\n",
       "Objective-C      1\n",
       "Haskell          1\n",
       "Name: LanguageWorkedWith, dtype: int64"
      ]
     },
     "execution_count": 173,
     "metadata": {},
     "output_type": "execute_result"
    }
   ],
   "source": [
    "salaries_train[\"LanguageWorkedWith\"].value_counts()"
   ]
  },
  {
   "cell_type": "code",
   "execution_count": 174,
   "metadata": {},
   "outputs": [
    {
     "data": {
      "text/plain": [
       "38"
      ]
     },
     "execution_count": 174,
     "metadata": {},
     "output_type": "execute_result"
    }
   ],
   "source": [
    "# number of null values # \n",
    "len(salaries_train[\"LanguageWorkedWith\"][salaries_train[\"LanguageWorkedWith\"].isnull()])"
   ]
  },
  {
   "cell_type": "markdown",
   "metadata": {},
   "source": [
    "For language worked with we will pad the null values"
   ]
  },
  {
   "cell_type": "code",
   "execution_count": 175,
   "metadata": {},
   "outputs": [],
   "source": [
    "# Padding dataframe #\n",
    "salaries_train[\"LanguageWorkedWith\"].interpolate(method='pad', limit=2, inplace=True)"
   ]
  },
  {
   "cell_type": "code",
   "execution_count": 176,
   "metadata": {},
   "outputs": [
    {
     "data": {
      "text/plain": [
       "63    NaN\n",
       "Name: LanguageWorkedWith, dtype: object"
      ]
     },
     "execution_count": 176,
     "metadata": {},
     "output_type": "execute_result"
    }
   ],
   "source": [
    "# Show Null values #\n",
    "salaries_train[\"LanguageWorkedWith\"][salaries_train[\"LanguageWorkedWith\"].isnull()]"
   ]
  },
  {
   "cell_type": "code",
   "execution_count": 177,
   "metadata": {},
   "outputs": [
    {
     "data": {
      "text/plain": [
       "'C#'"
      ]
     },
     "execution_count": 177,
     "metadata": {},
     "output_type": "execute_result"
    }
   ],
   "source": [
    "# Highest frequency #\n",
    "salaries_train[\"LanguageWorkedWith\"].mode()[0]"
   ]
  },
  {
   "cell_type": "code",
   "execution_count": 178,
   "metadata": {},
   "outputs": [],
   "source": [
    "# use the highest frequency to fill the remaining null values #\n",
    "salaries_train[\"LanguageWorkedWith\"].fillna(salaries_train[\"LanguageWorkedWith\"].mode()[0],inplace=True)"
   ]
  },
  {
   "cell_type": "code",
   "execution_count": 179,
   "metadata": {},
   "outputs": [
    {
     "data": {
      "text/plain": [
       "Series([], Name: LanguageWorkedWith, dtype: object)"
      ]
     },
     "execution_count": 179,
     "metadata": {},
     "output_type": "execute_result"
    }
   ],
   "source": [
    "# Check for NaN values #\n",
    "salaries_train[\"LanguageWorkedWith\"][salaries_train[\"LanguageWorkedWith\"].isnull()]"
   ]
  },
  {
   "cell_type": "code",
   "execution_count": 180,
   "metadata": {},
   "outputs": [
    {
     "name": "stdout",
     "output_type": "stream",
     "text": [
      "<class 'pandas.core.frame.DataFrame'>\n",
      "RangeIndex: 200 entries, 0 to 199\n",
      "Data columns (total 17 columns):\n",
      " #   Column                    Non-Null Count  Dtype  \n",
      "---  ------                    --------------  -----  \n",
      " 0   Country                   200 non-null    object \n",
      " 1   Student                   200 non-null    object \n",
      " 2   Employment                200 non-null    object \n",
      " 3   FormalEducation           200 non-null    object \n",
      " 4   UndergradMajor            200 non-null    object \n",
      " 5   CompanySize               200 non-null    float64\n",
      " 6   DevType                   200 non-null    object \n",
      " 7   YearsCoding               200 non-null    int64  \n",
      " 8   YearsCodingProf           200 non-null    int64  \n",
      " 9   EducationTypes            200 non-null    object \n",
      " 10  LanguageWorkedWith        200 non-null    object \n",
      " 11  Salary                    95 non-null     object \n",
      " 12  FrameworkWorkedWith       116 non-null    object \n",
      " 13  OperatingSystem           200 non-null    object \n",
      " 14  Age                       200 non-null    float64\n",
      " 15  ConvertedSalary           89 non-null     float64\n",
      " 16  SecondLanguageWorkedWith  154 non-null    object \n",
      "dtypes: float64(3), int64(2), object(12)\n",
      "memory usage: 26.7+ KB\n"
     ]
    }
   ],
   "source": [
    "salaries_train.info()"
   ]
  },
  {
   "cell_type": "markdown",
   "metadata": {},
   "source": [
    "**SecondLanguageWorkedWith**"
   ]
  },
  {
   "cell_type": "code",
   "execution_count": 181,
   "metadata": {},
   "outputs": [
    {
     "name": "stdout",
     "output_type": "stream",
     "text": [
      "<class 'pandas.core.frame.DataFrame'>\n",
      "RangeIndex: 200 entries, 0 to 199\n",
      "Data columns (total 17 columns):\n",
      " #   Column                    Non-Null Count  Dtype  \n",
      "---  ------                    --------------  -----  \n",
      " 0   Country                   200 non-null    object \n",
      " 1   Student                   200 non-null    object \n",
      " 2   Employment                200 non-null    object \n",
      " 3   FormalEducation           200 non-null    object \n",
      " 4   UndergradMajor            200 non-null    object \n",
      " 5   CompanySize               200 non-null    float64\n",
      " 6   DevType                   200 non-null    object \n",
      " 7   YearsCoding               200 non-null    int64  \n",
      " 8   YearsCodingProf           200 non-null    int64  \n",
      " 9   EducationTypes            200 non-null    object \n",
      " 10  LanguageWorkedWith        200 non-null    object \n",
      " 11  Salary                    95 non-null     object \n",
      " 12  FrameworkWorkedWith       116 non-null    object \n",
      " 13  OperatingSystem           200 non-null    object \n",
      " 14  Age                       200 non-null    float64\n",
      " 15  ConvertedSalary           89 non-null     float64\n",
      " 16  SecondLanguageWorkedWith  154 non-null    object \n",
      "dtypes: float64(3), int64(2), object(12)\n",
      "memory usage: 26.7+ KB\n"
     ]
    }
   ],
   "source": [
    "salaries_train.info()"
   ]
  },
  {
   "cell_type": "code",
   "execution_count": 182,
   "metadata": {},
   "outputs": [
    {
     "data": {
      "text/plain": [
       "array(['Java', 'TypeScript', 'C#', 'PHP', 'C++', 'C', 'Python', 'F#',\n",
       "       'JavaScript', 'VB.NET', nan, 'HTML', 'Go', 'SQL', 'Swift', 'Ruby',\n",
       "       'CoffeeScript', 'CSS', 'Matlab', 'Kotlin', 'R', 'Bash/Shell',\n",
       "       'Objective-C', 'Groovy', 'Perl', 'VBA'], dtype=object)"
      ]
     },
     "execution_count": 182,
     "metadata": {},
     "output_type": "execute_result"
    }
   ],
   "source": [
    "salaries_train[\"SecondLanguageWorkedWith\"].unique()"
   ]
  },
  {
   "cell_type": "code",
   "execution_count": 183,
   "metadata": {},
   "outputs": [
    {
     "data": {
      "text/plain": [
       "JavaScript      44\n",
       "Java            19\n",
       "C#              19\n",
       "C++             18\n",
       "Python          11\n",
       "PHP              7\n",
       "C                6\n",
       "Go               4\n",
       "HTML             3\n",
       "SQL              3\n",
       "TypeScript       2\n",
       "CSS              2\n",
       "R                2\n",
       "F#               2\n",
       "Ruby             2\n",
       "Kotlin           1\n",
       "Matlab           1\n",
       "Objective-C      1\n",
       "VB.NET           1\n",
       "Swift            1\n",
       "Perl             1\n",
       "Bash/Shell       1\n",
       "VBA              1\n",
       "Groovy           1\n",
       "CoffeeScript     1\n",
       "Name: SecondLanguageWorkedWith, dtype: int64"
      ]
     },
     "execution_count": 183,
     "metadata": {},
     "output_type": "execute_result"
    }
   ],
   "source": [
    "salaries_train[\"SecondLanguageWorkedWith\"].value_counts()"
   ]
  },
  {
   "cell_type": "code",
   "execution_count": 184,
   "metadata": {},
   "outputs": [
    {
     "data": {
      "text/plain": [
       "46"
      ]
     },
     "execution_count": 184,
     "metadata": {},
     "output_type": "execute_result"
    }
   ],
   "source": [
    "# number of null values # \n",
    "len(salaries_train[\"SecondLanguageWorkedWith\"][salaries_train[\"SecondLanguageWorkedWith\"].isnull()])"
   ]
  },
  {
   "cell_type": "markdown",
   "metadata": {},
   "source": [
    "For language worked with we will pad the null values"
   ]
  },
  {
   "cell_type": "code",
   "execution_count": 185,
   "metadata": {},
   "outputs": [],
   "source": [
    "# Padding dataframe #\n",
    "salaries_train[\"SecondLanguageWorkedWith\"].interpolate(method='pad', limit=2, inplace=True)"
   ]
  },
  {
   "cell_type": "code",
   "execution_count": 186,
   "metadata": {},
   "outputs": [
    {
     "data": {
      "text/plain": [
       "63    NaN\n",
       "74    NaN\n",
       "Name: SecondLanguageWorkedWith, dtype: object"
      ]
     },
     "execution_count": 186,
     "metadata": {},
     "output_type": "execute_result"
    }
   ],
   "source": [
    "# Show Null values #\n",
    "salaries_train[\"SecondLanguageWorkedWith\"][salaries_train[\"SecondLanguageWorkedWith\"].isnull()]"
   ]
  },
  {
   "cell_type": "code",
   "execution_count": 187,
   "metadata": {},
   "outputs": [
    {
     "data": {
      "text/plain": [
       "'JavaScript'"
      ]
     },
     "execution_count": 187,
     "metadata": {},
     "output_type": "execute_result"
    }
   ],
   "source": [
    "# Highest frequency #\n",
    "salaries_train[\"SecondLanguageWorkedWith\"].mode()[0]"
   ]
  },
  {
   "cell_type": "code",
   "execution_count": 188,
   "metadata": {},
   "outputs": [],
   "source": [
    "# use the highest frequency to fill the remaining null values #\n",
    "salaries_train[\"SecondLanguageWorkedWith\"].fillna(salaries_train[\"SecondLanguageWorkedWith\"].mode()[0],inplace=True)"
   ]
  },
  {
   "cell_type": "code",
   "execution_count": 189,
   "metadata": {},
   "outputs": [
    {
     "data": {
      "text/plain": [
       "Series([], Name: SecondLanguageWorkedWith, dtype: object)"
      ]
     },
     "execution_count": 189,
     "metadata": {},
     "output_type": "execute_result"
    }
   ],
   "source": [
    "# Check for NaN values #\n",
    "salaries_train[\"SecondLanguageWorkedWith\"][salaries_train[\"SecondLanguageWorkedWith\"].isnull()]"
   ]
  },
  {
   "cell_type": "code",
   "execution_count": 190,
   "metadata": {},
   "outputs": [
    {
     "name": "stdout",
     "output_type": "stream",
     "text": [
      "<class 'pandas.core.frame.DataFrame'>\n",
      "RangeIndex: 200 entries, 0 to 199\n",
      "Data columns (total 17 columns):\n",
      " #   Column                    Non-Null Count  Dtype  \n",
      "---  ------                    --------------  -----  \n",
      " 0   Country                   200 non-null    object \n",
      " 1   Student                   200 non-null    object \n",
      " 2   Employment                200 non-null    object \n",
      " 3   FormalEducation           200 non-null    object \n",
      " 4   UndergradMajor            200 non-null    object \n",
      " 5   CompanySize               200 non-null    float64\n",
      " 6   DevType                   200 non-null    object \n",
      " 7   YearsCoding               200 non-null    int64  \n",
      " 8   YearsCodingProf           200 non-null    int64  \n",
      " 9   EducationTypes            200 non-null    object \n",
      " 10  LanguageWorkedWith        200 non-null    object \n",
      " 11  Salary                    95 non-null     object \n",
      " 12  FrameworkWorkedWith       116 non-null    object \n",
      " 13  OperatingSystem           200 non-null    object \n",
      " 14  Age                       200 non-null    float64\n",
      " 15  ConvertedSalary           89 non-null     float64\n",
      " 16  SecondLanguageWorkedWith  200 non-null    object \n",
      "dtypes: float64(3), int64(2), object(12)\n",
      "memory usage: 26.7+ KB\n"
     ]
    }
   ],
   "source": [
    "salaries_train.info()"
   ]
  },
  {
   "cell_type": "markdown",
   "metadata": {},
   "source": [
    "**FrameworkWorkedWith**"
   ]
  },
  {
   "cell_type": "code",
   "execution_count": 191,
   "metadata": {},
   "outputs": [
    {
     "name": "stdout",
     "output_type": "stream",
     "text": [
      "<class 'pandas.core.frame.DataFrame'>\n",
      "RangeIndex: 200 entries, 0 to 199\n",
      "Data columns (total 17 columns):\n",
      " #   Column                    Non-Null Count  Dtype  \n",
      "---  ------                    --------------  -----  \n",
      " 0   Country                   200 non-null    object \n",
      " 1   Student                   200 non-null    object \n",
      " 2   Employment                200 non-null    object \n",
      " 3   FormalEducation           200 non-null    object \n",
      " 4   UndergradMajor            200 non-null    object \n",
      " 5   CompanySize               200 non-null    float64\n",
      " 6   DevType                   200 non-null    object \n",
      " 7   YearsCoding               200 non-null    int64  \n",
      " 8   YearsCodingProf           200 non-null    int64  \n",
      " 9   EducationTypes            200 non-null    object \n",
      " 10  LanguageWorkedWith        200 non-null    object \n",
      " 11  Salary                    95 non-null     object \n",
      " 12  FrameworkWorkedWith       116 non-null    object \n",
      " 13  OperatingSystem           200 non-null    object \n",
      " 14  Age                       200 non-null    float64\n",
      " 15  ConvertedSalary           89 non-null     float64\n",
      " 16  SecondLanguageWorkedWith  200 non-null    object \n",
      "dtypes: float64(3), int64(2), object(12)\n",
      "memory usage: 26.7+ KB\n"
     ]
    }
   ],
   "source": [
    "salaries_train.info()"
   ]
  },
  {
   "cell_type": "code",
   "execution_count": 192,
   "metadata": {},
   "outputs": [
    {
     "data": {
      "text/plain": [
       "array(['Spark', 'Angular', nan, '.NET Core', 'TensorFlow', 'React',\n",
       "       'Node.js', 'Django', 'Spring', 'Torch/PyTorch', 'Hadoop'],\n",
       "      dtype=object)"
      ]
     },
     "execution_count": 192,
     "metadata": {},
     "output_type": "execute_result"
    }
   ],
   "source": [
    "salaries_train[\"FrameworkWorkedWith\"].unique()"
   ]
  },
  {
   "cell_type": "code",
   "execution_count": 193,
   "metadata": {},
   "outputs": [
    {
     "data": {
      "text/plain": [
       "Angular          38\n",
       ".NET Core        26\n",
       "Node.js          22\n",
       "Django            9\n",
       "React             8\n",
       "Spring            7\n",
       "TensorFlow        3\n",
       "Spark             1\n",
       "Torch/PyTorch     1\n",
       "Hadoop            1\n",
       "Name: FrameworkWorkedWith, dtype: int64"
      ]
     },
     "execution_count": 193,
     "metadata": {},
     "output_type": "execute_result"
    }
   ],
   "source": [
    "salaries_train[\"FrameworkWorkedWith\"].value_counts()"
   ]
  },
  {
   "cell_type": "code",
   "execution_count": 194,
   "metadata": {},
   "outputs": [
    {
     "data": {
      "text/plain": [
       "84"
      ]
     },
     "execution_count": 194,
     "metadata": {},
     "output_type": "execute_result"
    }
   ],
   "source": [
    "# Number of null values #\n",
    "len(salaries_train[\"FrameworkWorkedWith\"][salaries_train[\"FrameworkWorkedWith\"].isnull()])"
   ]
  },
  {
   "cell_type": "code",
   "execution_count": 195,
   "metadata": {},
   "outputs": [
    {
     "data": {
      "text/plain": [
       "array(['C#', 'JavaScript', 'C++', 'C', 'Assembly', 'Java', 'VBA', 'Swift',\n",
       "       'Lua', 'Objective-C', 'Go', 'CoffeeScript', 'Groovy', 'HTML',\n",
       "       'SQL', 'Haskell', 'Clojure', 'Python', 'Scala'], dtype=object)"
      ]
     },
     "execution_count": 195,
     "metadata": {},
     "output_type": "execute_result"
    }
   ],
   "source": [
    "# List of LanguageWorkedWith #\n",
    "salaries_train[\"LanguageWorkedWith\"].unique()"
   ]
  },
  {
   "cell_type": "code",
   "execution_count": 196,
   "metadata": {},
   "outputs": [
    {
     "data": {
      "text/plain": [
       "array(['Java', 'TypeScript', 'C#', 'PHP', 'C++', 'C', 'Python', 'F#',\n",
       "       'JavaScript', 'VB.NET', 'HTML', 'Go', 'SQL', 'Swift', 'Ruby',\n",
       "       'CoffeeScript', 'CSS', 'Matlab', 'Kotlin', 'R', 'Bash/Shell',\n",
       "       'Objective-C', 'Groovy', 'Perl', 'VBA'], dtype=object)"
      ]
     },
     "execution_count": 196,
     "metadata": {},
     "output_type": "execute_result"
    }
   ],
   "source": [
    "# List of SecondLanguageWorkedWith #\n",
    "salaries_train[\"SecondLanguageWorkedWith\"].unique()"
   ]
  },
  {
   "cell_type": "markdown",
   "metadata": {},
   "source": [
    "In programing the FrameworkWorkedWith is related to the LanguageWorkedWith and SecondLanguageWorkedWith:\n",
    "    \n",
    "    Angular          --> TypeScript\n",
    "    .NET Core        --> C#\n",
    "    Node.js          --> JavaScript\n",
    "    Django           --> Python\n",
    "    React            --> JavaScript\n",
    "    Spring           --> Java\n",
    "    TensorFlow       --> Python\n",
    "    Spark            --> Java\n",
    "    Hadoop           --> Java\n",
    "    Torch/PyTorch    --> Python"
   ]
  },
  {
   "cell_type": "code",
   "execution_count": 197,
   "metadata": {},
   "outputs": [
    {
     "data": {
      "text/html": [
       "<div>\n",
       "<style scoped>\n",
       "    .dataframe tbody tr th:only-of-type {\n",
       "        vertical-align: middle;\n",
       "    }\n",
       "\n",
       "    .dataframe tbody tr th {\n",
       "        vertical-align: top;\n",
       "    }\n",
       "\n",
       "    .dataframe thead th {\n",
       "        text-align: right;\n",
       "    }\n",
       "</style>\n",
       "<table border=\"1\" class=\"dataframe\">\n",
       "  <thead>\n",
       "    <tr style=\"text-align: right;\">\n",
       "      <th></th>\n",
       "      <th>LanguageWorkedWith</th>\n",
       "      <th>SecondLanguageWorkedWith</th>\n",
       "      <th>FrameworkWorkedWith</th>\n",
       "    </tr>\n",
       "  </thead>\n",
       "  <tbody>\n",
       "    <tr>\n",
       "      <th>3</th>\n",
       "      <td>C</td>\n",
       "      <td>PHP</td>\n",
       "      <td>NaN</td>\n",
       "    </tr>\n",
       "    <tr>\n",
       "      <th>6</th>\n",
       "      <td>Java</td>\n",
       "      <td>Python</td>\n",
       "      <td>NaN</td>\n",
       "    </tr>\n",
       "    <tr>\n",
       "      <th>10</th>\n",
       "      <td>VBA</td>\n",
       "      <td>VB.NET</td>\n",
       "      <td>NaN</td>\n",
       "    </tr>\n",
       "    <tr>\n",
       "      <th>11</th>\n",
       "      <td>VBA</td>\n",
       "      <td>VB.NET</td>\n",
       "      <td>NaN</td>\n",
       "    </tr>\n",
       "    <tr>\n",
       "      <th>12</th>\n",
       "      <td>Swift</td>\n",
       "      <td>VB.NET</td>\n",
       "      <td>NaN</td>\n",
       "    </tr>\n",
       "    <tr>\n",
       "      <th>...</th>\n",
       "      <td>...</td>\n",
       "      <td>...</td>\n",
       "      <td>...</td>\n",
       "    </tr>\n",
       "    <tr>\n",
       "      <th>182</th>\n",
       "      <td>C#</td>\n",
       "      <td>JavaScript</td>\n",
       "      <td>NaN</td>\n",
       "    </tr>\n",
       "    <tr>\n",
       "      <th>186</th>\n",
       "      <td>C</td>\n",
       "      <td>C++</td>\n",
       "      <td>NaN</td>\n",
       "    </tr>\n",
       "    <tr>\n",
       "      <th>187</th>\n",
       "      <td>JavaScript</td>\n",
       "      <td>PHP</td>\n",
       "      <td>NaN</td>\n",
       "    </tr>\n",
       "    <tr>\n",
       "      <th>193</th>\n",
       "      <td>Java</td>\n",
       "      <td>JavaScript</td>\n",
       "      <td>NaN</td>\n",
       "    </tr>\n",
       "    <tr>\n",
       "      <th>199</th>\n",
       "      <td>C#</td>\n",
       "      <td>PHP</td>\n",
       "      <td>NaN</td>\n",
       "    </tr>\n",
       "  </tbody>\n",
       "</table>\n",
       "<p>84 rows × 3 columns</p>\n",
       "</div>"
      ],
      "text/plain": [
       "    LanguageWorkedWith SecondLanguageWorkedWith FrameworkWorkedWith\n",
       "3                    C                      PHP                 NaN\n",
       "6                 Java                   Python                 NaN\n",
       "10                 VBA                   VB.NET                 NaN\n",
       "11                 VBA                   VB.NET                 NaN\n",
       "12               Swift                   VB.NET                 NaN\n",
       "..                 ...                      ...                 ...\n",
       "182                 C#               JavaScript                 NaN\n",
       "186                  C                      C++                 NaN\n",
       "187         JavaScript                      PHP                 NaN\n",
       "193               Java               JavaScript                 NaN\n",
       "199                 C#                      PHP                 NaN\n",
       "\n",
       "[84 rows x 3 columns]"
      ]
     },
     "execution_count": 197,
     "metadata": {},
     "output_type": "execute_result"
    }
   ],
   "source": [
    "# Show FrameworkWorkedWith,SecondLanguageWorkedWith,LanguageWorkedWith when FrameworkWorkedWith = NaN\n",
    "salaries_train.loc[salaries_train[\"FrameworkWorkedWith\"].isnull(), [\"LanguageWorkedWith\",\"SecondLanguageWorkedWith\",\"FrameworkWorkedWith\"]]"
   ]
  },
  {
   "cell_type": "markdown",
   "metadata": {},
   "source": [
    "For TypeScript"
   ]
  },
  {
   "cell_type": "code",
   "execution_count": 198,
   "metadata": {},
   "outputs": [
    {
     "data": {
      "text/plain": [
       "102    NaN\n",
       "Name: FrameworkWorkedWith, dtype: object"
      ]
     },
     "execution_count": 198,
     "metadata": {},
     "output_type": "execute_result"
    }
   ],
   "source": [
    "# Show FrameworkWorkedWith col when LanguageWorkedWith or SecondLanguageWorkedWit == TypeScript and FrameworkWorkedWith == NaN  #\n",
    "salaries_train.loc[((salaries_train[\"LanguageWorkedWith\"] == \"TypeScript\") | (salaries_train[\"SecondLanguageWorkedWith\"] == \"TypeScript\")) & (salaries_train[\"FrameworkWorkedWith\"].isnull()), \"FrameworkWorkedWith\"]"
   ]
  },
  {
   "cell_type": "code",
   "execution_count": 199,
   "metadata": {},
   "outputs": [],
   "source": [
    "# Broadcasting \"TypeScript\" to NaN that meet the condition # \n",
    "salaries_train.loc[((salaries_train[\"LanguageWorkedWith\"] == \"TypeScript\") | (salaries_train[\"SecondLanguageWorkedWith\"] == \"TypeScript\")) & (salaries_train[\"FrameworkWorkedWith\"].isnull()), \"FrameworkWorkedWith\"] = \"TypeScript\" "
   ]
  },
  {
   "cell_type": "code",
   "execution_count": 200,
   "metadata": {
    "scrolled": true
   },
   "outputs": [
    {
     "data": {
      "text/plain": [
       "0"
      ]
     },
     "execution_count": 200,
     "metadata": {},
     "output_type": "execute_result"
    }
   ],
   "source": [
    "# Checking for NaN values #\n",
    "len(salaries_train.loc[((salaries_train[\"LanguageWorkedWith\"] == \"TypeScript\") | (salaries_train[\"SecondLanguageWorkedWith\"] == \"TypeScript\")) & (salaries_train[\"FrameworkWorkedWith\"].isnull()), \"FrameworkWorkedWith\"])"
   ]
  },
  {
   "cell_type": "markdown",
   "metadata": {},
   "source": [
    "For C#"
   ]
  },
  {
   "cell_type": "code",
   "execution_count": 201,
   "metadata": {},
   "outputs": [
    {
     "data": {
      "text/plain": [
       "22     NaN\n",
       "27     NaN\n",
       "37     NaN\n",
       "38     NaN\n",
       "43     NaN\n",
       "51     NaN\n",
       "52     NaN\n",
       "65     NaN\n",
       "78     NaN\n",
       "79     NaN\n",
       "82     NaN\n",
       "83     NaN\n",
       "95     NaN\n",
       "110    NaN\n",
       "132    NaN\n",
       "133    NaN\n",
       "134    NaN\n",
       "154    NaN\n",
       "157    NaN\n",
       "158    NaN\n",
       "170    NaN\n",
       "171    NaN\n",
       "177    NaN\n",
       "182    NaN\n",
       "199    NaN\n",
       "Name: FrameworkWorkedWith, dtype: object"
      ]
     },
     "execution_count": 201,
     "metadata": {},
     "output_type": "execute_result"
    }
   ],
   "source": [
    "# Show FrameworkWorkedWith col when LanguageWorkedWith or SecondLanguageWorkedWit == C# and FrameworkWorkedWith == NaN  #\n",
    "salaries_train.loc[((salaries_train[\"LanguageWorkedWith\"] == \"C#\") | (salaries_train[\"SecondLanguageWorkedWith\"] == \"C#\")) & (salaries_train[\"FrameworkWorkedWith\"].isnull()), \"FrameworkWorkedWith\"]"
   ]
  },
  {
   "cell_type": "code",
   "execution_count": 202,
   "metadata": {},
   "outputs": [],
   "source": [
    "# Broadcasting \".NET Core\" to NaN that meet the condition # \n",
    "salaries_train.loc[((salaries_train[\"LanguageWorkedWith\"] == \"C#\") | (salaries_train[\"SecondLanguageWorkedWith\"] == \"C#\")) & (salaries_train[\"FrameworkWorkedWith\"].isnull()), \"FrameworkWorkedWith\"] = \".NET Core\""
   ]
  },
  {
   "cell_type": "code",
   "execution_count": 203,
   "metadata": {},
   "outputs": [
    {
     "data": {
      "text/plain": [
       "0"
      ]
     },
     "execution_count": 203,
     "metadata": {},
     "output_type": "execute_result"
    }
   ],
   "source": [
    "# Number of remaining NaN values #\n",
    "len(salaries_train.loc[((salaries_train[\"LanguageWorkedWith\"] == \"C#\") | (salaries_train[\"SecondLanguageWorkedWith\"] == \"C#\")) & (salaries_train[\"FrameworkWorkedWith\"].isnull()), \"FrameworkWorkedWith\"])"
   ]
  },
  {
   "cell_type": "markdown",
   "metadata": {},
   "source": [
    "For JavaScript: \n",
    "    \n",
    "    either Node.js or React"
   ]
  },
  {
   "cell_type": "code",
   "execution_count": 204,
   "metadata": {},
   "outputs": [
    {
     "data": {
      "text/plain": [
       "19     NaN\n",
       "20     NaN\n",
       "28     NaN\n",
       "29     NaN\n",
       "30     NaN\n",
       "41     NaN\n",
       "57     NaN\n",
       "59     NaN\n",
       "70     NaN\n",
       "72     NaN\n",
       "73     NaN\n",
       "74     NaN\n",
       "107    NaN\n",
       "117    NaN\n",
       "118    NaN\n",
       "131    NaN\n",
       "145    NaN\n",
       "156    NaN\n",
       "169    NaN\n",
       "172    NaN\n",
       "175    NaN\n",
       "187    NaN\n",
       "193    NaN\n",
       "Name: FrameworkWorkedWith, dtype: object"
      ]
     },
     "execution_count": 204,
     "metadata": {},
     "output_type": "execute_result"
    }
   ],
   "source": [
    "salaries_train.loc[((salaries_train[\"LanguageWorkedWith\"] == \"JavaScript\") | (salaries_train[\"SecondLanguageWorkedWith\"] == \"JavaScript\")) & (salaries_train[\"FrameworkWorkedWith\"].isnull()), \"FrameworkWorkedWith\"]"
   ]
  },
  {
   "cell_type": "code",
   "execution_count": 205,
   "metadata": {},
   "outputs": [
    {
     "data": {
      "text/plain": [
       "23"
      ]
     },
     "execution_count": 205,
     "metadata": {},
     "output_type": "execute_result"
    }
   ],
   "source": [
    "# number of NaN values with the condition #\n",
    "len(salaries_train.loc[((salaries_train[\"LanguageWorkedWith\"] == \"JavaScript\") | (salaries_train[\"SecondLanguageWorkedWith\"] == \"JavaScript\")) & (salaries_train[\"FrameworkWorkedWith\"].isnull()), \"FrameworkWorkedWith\"])"
   ]
  },
  {
   "cell_type": "code",
   "execution_count": 206,
   "metadata": {},
   "outputs": [],
   "source": [
    "# if the programing languages are JavaScript #\n",
    "choice = [\"Node.js\",\"React\"]\n",
    "random_react_nodejs = np.random.choice(choice, 23)"
   ]
  },
  {
   "cell_type": "code",
   "execution_count": 207,
   "metadata": {},
   "outputs": [
    {
     "data": {
      "text/plain": [
       "array(['React', 'Node.js', 'React', 'Node.js', 'Node.js', 'React',\n",
       "       'React', 'React', 'React', 'React', 'React', 'Node.js', 'Node.js',\n",
       "       'Node.js', 'Node.js', 'Node.js', 'React', 'Node.js', 'Node.js',\n",
       "       'React', 'Node.js', 'Node.js', 'React'], dtype='<U7')"
      ]
     },
     "execution_count": 207,
     "metadata": {},
     "output_type": "execute_result"
    }
   ],
   "source": [
    "random_react_nodejs"
   ]
  },
  {
   "cell_type": "code",
   "execution_count": 208,
   "metadata": {},
   "outputs": [],
   "source": [
    "# adding array to existing col in dataframe #\n",
    "salaries_train.loc[((salaries_train[\"LanguageWorkedWith\"] == \"JavaScript\") | (salaries_train[\"SecondLanguageWorkedWith\"] == \"JavaScript\")) & (salaries_train[\"FrameworkWorkedWith\"].isnull()), \"FrameworkWorkedWith\"] = random_react_nodejs.tolist()"
   ]
  },
  {
   "cell_type": "code",
   "execution_count": 209,
   "metadata": {},
   "outputs": [
    {
     "data": {
      "text/plain": [
       "Series([], Name: FrameworkWorkedWith, dtype: object)"
      ]
     },
     "execution_count": 209,
     "metadata": {},
     "output_type": "execute_result"
    }
   ],
   "source": [
    "# Cheacking for any NaN values left #\n",
    "salaries_train.loc[((salaries_train[\"LanguageWorkedWith\"] == \"JavaScript\") | (salaries_train[\"SecondLanguageWorkedWith\"] == \"JavaScript\")) & (salaries_train[\"FrameworkWorkedWith\"].isnull()), \"FrameworkWorkedWith\"]"
   ]
  },
  {
   "cell_type": "markdown",
   "metadata": {},
   "source": [
    "For Python:\n",
    "    \n",
    "    either Django or TensorFlow or Torch/PyTorch"
   ]
  },
  {
   "cell_type": "code",
   "execution_count": 210,
   "metadata": {},
   "outputs": [
    {
     "data": {
      "text/plain": [
       "6      NaN\n",
       "40     NaN\n",
       "140    NaN\n",
       "148    NaN\n",
       "Name: FrameworkWorkedWith, dtype: object"
      ]
     },
     "execution_count": 210,
     "metadata": {},
     "output_type": "execute_result"
    }
   ],
   "source": [
    "# Show null values where Python is a programing language #\n",
    "salaries_train.loc[((salaries_train[\"LanguageWorkedWith\"] == \"Python\") | (salaries_train[\"SecondLanguageWorkedWith\"] == \"Python\")) & (salaries_train[\"FrameworkWorkedWith\"].isnull()), \"FrameworkWorkedWith\"]"
   ]
  },
  {
   "cell_type": "code",
   "execution_count": 211,
   "metadata": {},
   "outputs": [
    {
     "data": {
      "text/plain": [
       "4"
      ]
     },
     "execution_count": 211,
     "metadata": {},
     "output_type": "execute_result"
    }
   ],
   "source": [
    "# Number of NaN values #\n",
    "len(salaries_train.loc[((salaries_train[\"LanguageWorkedWith\"] == \"Python\") | (salaries_train[\"SecondLanguageWorkedWith\"] == \"Python\")) & (salaries_train[\"FrameworkWorkedWith\"].isnull()), \"FrameworkWorkedWith\"])"
   ]
  },
  {
   "cell_type": "code",
   "execution_count": 212,
   "metadata": {},
   "outputs": [],
   "source": [
    "# if the programing languages are Python #\n",
    "choice = [\"Django\",\"TensorFlow\",\"Torch/PyTorch\"]\n",
    "random_Python = np.random.choice(choice, 4)"
   ]
  },
  {
   "cell_type": "code",
   "execution_count": 213,
   "metadata": {},
   "outputs": [
    {
     "data": {
      "text/plain": [
       "array(['Torch/PyTorch', 'Torch/PyTorch', 'Django', 'TensorFlow'],\n",
       "      dtype='<U13')"
      ]
     },
     "execution_count": 213,
     "metadata": {},
     "output_type": "execute_result"
    }
   ],
   "source": [
    "random_Python"
   ]
  },
  {
   "cell_type": "code",
   "execution_count": 214,
   "metadata": {},
   "outputs": [],
   "source": [
    "# adding array to existing col in dataframe #\n",
    "salaries_train.loc[((salaries_train[\"LanguageWorkedWith\"] == \"Python\") | (salaries_train[\"SecondLanguageWorkedWith\"] == \"Python\")) & (salaries_train[\"FrameworkWorkedWith\"].isnull()), \"FrameworkWorkedWith\"] = random_Python.tolist() "
   ]
  },
  {
   "cell_type": "code",
   "execution_count": 215,
   "metadata": {},
   "outputs": [
    {
     "data": {
      "text/plain": [
       "0"
      ]
     },
     "execution_count": 215,
     "metadata": {},
     "output_type": "execute_result"
    }
   ],
   "source": [
    "# Number of NaN values #\n",
    "len(salaries_train.loc[((salaries_train[\"LanguageWorkedWith\"] == \"Python\") | (salaries_train[\"SecondLanguageWorkedWith\"] == \"Python\")) & (salaries_train[\"FrameworkWorkedWith\"].isnull()), \"FrameworkWorkedWith\"])"
   ]
  },
  {
   "cell_type": "markdown",
   "metadata": {},
   "source": [
    "For Java\n",
    "    \n",
    "    either Spring  or Spark or Hadoop "
   ]
  },
  {
   "cell_type": "code",
   "execution_count": 216,
   "metadata": {},
   "outputs": [
    {
     "data": {
      "text/plain": [
       "61     NaN\n",
       "62     NaN\n",
       "91     NaN\n",
       "92     NaN\n",
       "93     NaN\n",
       "96     NaN\n",
       "114    NaN\n",
       "137    NaN\n",
       "Name: FrameworkWorkedWith, dtype: object"
      ]
     },
     "execution_count": 216,
     "metadata": {},
     "output_type": "execute_result"
    }
   ],
   "source": [
    "# Show null values where Java is a programing language #\n",
    "salaries_train.loc[((salaries_train[\"LanguageWorkedWith\"] == \"Java\") | (salaries_train[\"SecondLanguageWorkedWith\"] == \"Java\")) & (salaries_train[\"FrameworkWorkedWith\"].isnull()), \"FrameworkWorkedWith\"]"
   ]
  },
  {
   "cell_type": "code",
   "execution_count": 217,
   "metadata": {},
   "outputs": [
    {
     "data": {
      "text/plain": [
       "8"
      ]
     },
     "execution_count": 217,
     "metadata": {},
     "output_type": "execute_result"
    }
   ],
   "source": [
    "# Number of NaN values #\n",
    "len(salaries_train.loc[((salaries_train[\"LanguageWorkedWith\"] == \"Java\") | (salaries_train[\"SecondLanguageWorkedWith\"] == \"Java\")) & (salaries_train[\"FrameworkWorkedWith\"].isnull()), \"FrameworkWorkedWith\"])"
   ]
  },
  {
   "cell_type": "code",
   "execution_count": 218,
   "metadata": {},
   "outputs": [],
   "source": [
    "# if the programing languages are Java #\n",
    "choice = [\"Spring\", \"Spark\" ,\"Hadoop\"]\n",
    "random_Java = np.random.choice(choice, 8)"
   ]
  },
  {
   "cell_type": "code",
   "execution_count": 219,
   "metadata": {},
   "outputs": [
    {
     "data": {
      "text/plain": [
       "array(['Spring', 'Spring', 'Spring', 'Hadoop', 'Spark', 'Spark', 'Spark',\n",
       "       'Spark'], dtype='<U6')"
      ]
     },
     "execution_count": 219,
     "metadata": {},
     "output_type": "execute_result"
    }
   ],
   "source": [
    "random_Java"
   ]
  },
  {
   "cell_type": "code",
   "execution_count": 220,
   "metadata": {},
   "outputs": [],
   "source": [
    "# adding array to existing col in dataframe #\n",
    "salaries_train.loc[((salaries_train[\"LanguageWorkedWith\"] == \"Java\") | (salaries_train[\"SecondLanguageWorkedWith\"] == \"Java\")) & (salaries_train[\"FrameworkWorkedWith\"].isnull()), \"FrameworkWorkedWith\"] = random_Java.tolist()   "
   ]
  },
  {
   "cell_type": "code",
   "execution_count": 221,
   "metadata": {},
   "outputs": [
    {
     "data": {
      "text/plain": [
       "0"
      ]
     },
     "execution_count": 221,
     "metadata": {},
     "output_type": "execute_result"
    }
   ],
   "source": [
    "# Number of NaN values #\n",
    "len(salaries_train.loc[((salaries_train[\"LanguageWorkedWith\"] == \"Java\") | (salaries_train[\"SecondLanguageWorkedWith\"] == \"Java\")) & (salaries_train[\"FrameworkWorkedWith\"].isnull()), \"FrameworkWorkedWith\"])"
   ]
  },
  {
   "cell_type": "code",
   "execution_count": 222,
   "metadata": {},
   "outputs": [
    {
     "data": {
      "text/plain": [
       "23"
      ]
     },
     "execution_count": 222,
     "metadata": {},
     "output_type": "execute_result"
    }
   ],
   "source": [
    "len(salaries_train[\"FrameworkWorkedWith\"][salaries_train[\"FrameworkWorkedWith\"].isnull()])"
   ]
  },
  {
   "cell_type": "code",
   "execution_count": 223,
   "metadata": {},
   "outputs": [
    {
     "data": {
      "text/html": [
       "<div>\n",
       "<style scoped>\n",
       "    .dataframe tbody tr th:only-of-type {\n",
       "        vertical-align: middle;\n",
       "    }\n",
       "\n",
       "    .dataframe tbody tr th {\n",
       "        vertical-align: top;\n",
       "    }\n",
       "\n",
       "    .dataframe thead th {\n",
       "        text-align: right;\n",
       "    }\n",
       "</style>\n",
       "<table border=\"1\" class=\"dataframe\">\n",
       "  <thead>\n",
       "    <tr style=\"text-align: right;\">\n",
       "      <th></th>\n",
       "      <th>LanguageWorkedWith</th>\n",
       "      <th>SecondLanguageWorkedWith</th>\n",
       "      <th>FrameworkWorkedWith</th>\n",
       "    </tr>\n",
       "  </thead>\n",
       "  <tbody>\n",
       "    <tr>\n",
       "      <th>3</th>\n",
       "      <td>C</td>\n",
       "      <td>PHP</td>\n",
       "      <td>NaN</td>\n",
       "    </tr>\n",
       "    <tr>\n",
       "      <th>10</th>\n",
       "      <td>VBA</td>\n",
       "      <td>VB.NET</td>\n",
       "      <td>NaN</td>\n",
       "    </tr>\n",
       "    <tr>\n",
       "      <th>11</th>\n",
       "      <td>VBA</td>\n",
       "      <td>VB.NET</td>\n",
       "      <td>NaN</td>\n",
       "    </tr>\n",
       "    <tr>\n",
       "      <th>12</th>\n",
       "      <td>Swift</td>\n",
       "      <td>VB.NET</td>\n",
       "      <td>NaN</td>\n",
       "    </tr>\n",
       "    <tr>\n",
       "      <th>14</th>\n",
       "      <td>C</td>\n",
       "      <td>C++</td>\n",
       "      <td>NaN</td>\n",
       "    </tr>\n",
       "    <tr>\n",
       "      <th>58</th>\n",
       "      <td>HTML</td>\n",
       "      <td>CSS</td>\n",
       "      <td>NaN</td>\n",
       "    </tr>\n",
       "    <tr>\n",
       "      <th>66</th>\n",
       "      <td>C</td>\n",
       "      <td>C++</td>\n",
       "      <td>NaN</td>\n",
       "    </tr>\n",
       "    <tr>\n",
       "      <th>67</th>\n",
       "      <td>C</td>\n",
       "      <td>C++</td>\n",
       "      <td>NaN</td>\n",
       "    </tr>\n",
       "    <tr>\n",
       "      <th>68</th>\n",
       "      <td>SQL</td>\n",
       "      <td>C++</td>\n",
       "      <td>NaN</td>\n",
       "    </tr>\n",
       "    <tr>\n",
       "      <th>88</th>\n",
       "      <td>C</td>\n",
       "      <td>C++</td>\n",
       "      <td>NaN</td>\n",
       "    </tr>\n",
       "    <tr>\n",
       "      <th>89</th>\n",
       "      <td>Swift</td>\n",
       "      <td>C++</td>\n",
       "      <td>NaN</td>\n",
       "    </tr>\n",
       "    <tr>\n",
       "      <th>123</th>\n",
       "      <td>Scala</td>\n",
       "      <td>Bash/Shell</td>\n",
       "      <td>NaN</td>\n",
       "    </tr>\n",
       "    <tr>\n",
       "      <th>124</th>\n",
       "      <td>C</td>\n",
       "      <td>C++</td>\n",
       "      <td>NaN</td>\n",
       "    </tr>\n",
       "    <tr>\n",
       "      <th>125</th>\n",
       "      <td>HTML</td>\n",
       "      <td>CSS</td>\n",
       "      <td>NaN</td>\n",
       "    </tr>\n",
       "    <tr>\n",
       "      <th>146</th>\n",
       "      <td>C</td>\n",
       "      <td>C++</td>\n",
       "      <td>NaN</td>\n",
       "    </tr>\n",
       "    <tr>\n",
       "      <th>147</th>\n",
       "      <td>C</td>\n",
       "      <td>C++</td>\n",
       "      <td>NaN</td>\n",
       "    </tr>\n",
       "    <tr>\n",
       "      <th>150</th>\n",
       "      <td>Assembly</td>\n",
       "      <td>C</td>\n",
       "      <td>NaN</td>\n",
       "    </tr>\n",
       "    <tr>\n",
       "      <th>161</th>\n",
       "      <td>Assembly</td>\n",
       "      <td>C++</td>\n",
       "      <td>NaN</td>\n",
       "    </tr>\n",
       "    <tr>\n",
       "      <th>162</th>\n",
       "      <td>Assembly</td>\n",
       "      <td>C++</td>\n",
       "      <td>NaN</td>\n",
       "    </tr>\n",
       "    <tr>\n",
       "      <th>163</th>\n",
       "      <td>Assembly</td>\n",
       "      <td>C++</td>\n",
       "      <td>NaN</td>\n",
       "    </tr>\n",
       "    <tr>\n",
       "      <th>166</th>\n",
       "      <td>C</td>\n",
       "      <td>C++</td>\n",
       "      <td>NaN</td>\n",
       "    </tr>\n",
       "    <tr>\n",
       "      <th>168</th>\n",
       "      <td>C</td>\n",
       "      <td>C++</td>\n",
       "      <td>NaN</td>\n",
       "    </tr>\n",
       "    <tr>\n",
       "      <th>186</th>\n",
       "      <td>C</td>\n",
       "      <td>C++</td>\n",
       "      <td>NaN</td>\n",
       "    </tr>\n",
       "  </tbody>\n",
       "</table>\n",
       "</div>"
      ],
      "text/plain": [
       "    LanguageWorkedWith SecondLanguageWorkedWith FrameworkWorkedWith\n",
       "3                    C                      PHP                 NaN\n",
       "10                 VBA                   VB.NET                 NaN\n",
       "11                 VBA                   VB.NET                 NaN\n",
       "12               Swift                   VB.NET                 NaN\n",
       "14                   C                      C++                 NaN\n",
       "58                HTML                      CSS                 NaN\n",
       "66                   C                      C++                 NaN\n",
       "67                   C                      C++                 NaN\n",
       "68                 SQL                      C++                 NaN\n",
       "88                   C                      C++                 NaN\n",
       "89               Swift                      C++                 NaN\n",
       "123              Scala               Bash/Shell                 NaN\n",
       "124                  C                      C++                 NaN\n",
       "125               HTML                      CSS                 NaN\n",
       "146                  C                      C++                 NaN\n",
       "147                  C                      C++                 NaN\n",
       "150           Assembly                        C                 NaN\n",
       "161           Assembly                      C++                 NaN\n",
       "162           Assembly                      C++                 NaN\n",
       "163           Assembly                      C++                 NaN\n",
       "166                  C                      C++                 NaN\n",
       "168                  C                      C++                 NaN\n",
       "186                  C                      C++                 NaN"
      ]
     },
     "execution_count": 223,
     "metadata": {},
     "output_type": "execute_result"
    }
   ],
   "source": [
    "# Show FrameworkWorkedWith,SecondLanguageWorkedWith,LanguageWorkedWith when FrameworkWorkedWith = NaN\n",
    "salaries_train.loc[salaries_train[\"FrameworkWorkedWith\"].isnull(), [\"LanguageWorkedWith\",\"SecondLanguageWorkedWith\",\"FrameworkWorkedWith\"]]"
   ]
  },
  {
   "cell_type": "markdown",
   "metadata": {},
   "source": [
    "For the remaining Languages, there is no way to know what frame work the user used, so we leave them as not specified"
   ]
  },
  {
   "cell_type": "code",
   "execution_count": 224,
   "metadata": {},
   "outputs": [],
   "source": [
    "# Broadcast \"No_Framework\" to the FrameworkWorkedWith where FrameworkWorkedWith = NaN for the remaining entries #\n",
    "salaries_train.loc[salaries_train[\"FrameworkWorkedWith\"].isnull(), \"FrameworkWorkedWith\"] = \"No_Framework\""
   ]
  },
  {
   "cell_type": "code",
   "execution_count": 225,
   "metadata": {},
   "outputs": [
    {
     "data": {
      "text/plain": [
       "Series([], Name: FrameworkWorkedWith, dtype: object)"
      ]
     },
     "execution_count": 225,
     "metadata": {},
     "output_type": "execute_result"
    }
   ],
   "source": [
    "# Check for NaN values #\n",
    "salaries_train.loc[salaries_train[\"FrameworkWorkedWith\"].isnull(), \"FrameworkWorkedWith\"] "
   ]
  },
  {
   "cell_type": "code",
   "execution_count": 226,
   "metadata": {},
   "outputs": [
    {
     "data": {
      "text/plain": [
       "array(['Spark', 'Angular', 'No_Framework', '.NET Core', 'Torch/PyTorch',\n",
       "       'TensorFlow', 'React', 'Node.js', 'Django', 'Spring', 'Hadoop',\n",
       "       'TypeScript'], dtype=object)"
      ]
     },
     "execution_count": 226,
     "metadata": {},
     "output_type": "execute_result"
    }
   ],
   "source": [
    "salaries_train[\"FrameworkWorkedWith\"].unique()"
   ]
  },
  {
   "cell_type": "code",
   "execution_count": 227,
   "metadata": {},
   "outputs": [
    {
     "data": {
      "text/plain": [
       ".NET Core        51\n",
       "Angular          38\n",
       "Node.js          34\n",
       "No_Framework     23\n",
       "React            19\n",
       "Django           10\n",
       "Spring           10\n",
       "Spark             5\n",
       "TensorFlow        4\n",
       "Torch/PyTorch     3\n",
       "Hadoop            2\n",
       "TypeScript        1\n",
       "Name: FrameworkWorkedWith, dtype: int64"
      ]
     },
     "execution_count": 227,
     "metadata": {},
     "output_type": "execute_result"
    }
   ],
   "source": [
    "salaries_train[\"FrameworkWorkedWith\"].value_counts()"
   ]
  },
  {
   "cell_type": "code",
   "execution_count": 228,
   "metadata": {},
   "outputs": [
    {
     "name": "stdout",
     "output_type": "stream",
     "text": [
      "<class 'pandas.core.frame.DataFrame'>\n",
      "RangeIndex: 200 entries, 0 to 199\n",
      "Data columns (total 17 columns):\n",
      " #   Column                    Non-Null Count  Dtype  \n",
      "---  ------                    --------------  -----  \n",
      " 0   Country                   200 non-null    object \n",
      " 1   Student                   200 non-null    object \n",
      " 2   Employment                200 non-null    object \n",
      " 3   FormalEducation           200 non-null    object \n",
      " 4   UndergradMajor            200 non-null    object \n",
      " 5   CompanySize               200 non-null    float64\n",
      " 6   DevType                   200 non-null    object \n",
      " 7   YearsCoding               200 non-null    int64  \n",
      " 8   YearsCodingProf           200 non-null    int64  \n",
      " 9   EducationTypes            200 non-null    object \n",
      " 10  LanguageWorkedWith        200 non-null    object \n",
      " 11  Salary                    95 non-null     object \n",
      " 12  FrameworkWorkedWith       200 non-null    object \n",
      " 13  OperatingSystem           200 non-null    object \n",
      " 14  Age                       200 non-null    float64\n",
      " 15  ConvertedSalary           89 non-null     float64\n",
      " 16  SecondLanguageWorkedWith  200 non-null    object \n",
      "dtypes: float64(3), int64(2), object(12)\n",
      "memory usage: 26.7+ KB\n"
     ]
    }
   ],
   "source": [
    "salaries_train.info()"
   ]
  },
  {
   "cell_type": "markdown",
   "metadata": {},
   "source": [
    "**ConvertedSalary**"
   ]
  },
  {
   "cell_type": "markdown",
   "metadata": {},
   "source": [
    "Convert Salary to USD salaries based on countries"
   ]
  },
  {
   "cell_type": "code",
   "execution_count": 229,
   "metadata": {},
   "outputs": [
    {
     "data": {
      "text/html": [
       "<div>\n",
       "<style scoped>\n",
       "    .dataframe tbody tr th:only-of-type {\n",
       "        vertical-align: middle;\n",
       "    }\n",
       "\n",
       "    .dataframe tbody tr th {\n",
       "        vertical-align: top;\n",
       "    }\n",
       "\n",
       "    .dataframe thead th {\n",
       "        text-align: right;\n",
       "    }\n",
       "</style>\n",
       "<table border=\"1\" class=\"dataframe\">\n",
       "  <thead>\n",
       "    <tr style=\"text-align: right;\">\n",
       "      <th></th>\n",
       "      <th>Country</th>\n",
       "      <th>Salary</th>\n",
       "      <th>ConvertedSalary</th>\n",
       "    </tr>\n",
       "  </thead>\n",
       "  <tbody>\n",
       "    <tr>\n",
       "      <th>0</th>\n",
       "      <td>Greece</td>\n",
       "      <td>510</td>\n",
       "      <td>NaN</td>\n",
       "    </tr>\n",
       "    <tr>\n",
       "      <th>48</th>\n",
       "      <td>Uruguay</td>\n",
       "      <td>36200</td>\n",
       "      <td>NaN</td>\n",
       "    </tr>\n",
       "    <tr>\n",
       "      <th>56</th>\n",
       "      <td>Poland</td>\n",
       "      <td>8000</td>\n",
       "      <td>NaN</td>\n",
       "    </tr>\n",
       "    <tr>\n",
       "      <th>77</th>\n",
       "      <td>India</td>\n",
       "      <td>380000</td>\n",
       "      <td>NaN</td>\n",
       "    </tr>\n",
       "    <tr>\n",
       "      <th>89</th>\n",
       "      <td>Poland</td>\n",
       "      <td>8000</td>\n",
       "      <td>NaN</td>\n",
       "    </tr>\n",
       "    <tr>\n",
       "      <th>139</th>\n",
       "      <td>Denmark</td>\n",
       "      <td>120000</td>\n",
       "      <td>NaN</td>\n",
       "    </tr>\n",
       "  </tbody>\n",
       "</table>\n",
       "</div>"
      ],
      "text/plain": [
       "     Country  Salary  ConvertedSalary\n",
       "0     Greece     510              NaN\n",
       "48   Uruguay   36200              NaN\n",
       "56    Poland    8000              NaN\n",
       "77     India  380000              NaN\n",
       "89    Poland    8000              NaN\n",
       "139  Denmark  120000              NaN"
      ]
     },
     "execution_count": 229,
     "metadata": {},
     "output_type": "execute_result"
    }
   ],
   "source": [
    "# Show Salary when ConvertedSalary = NaN #\n",
    "salaries_train.loc[(salaries_train[\"ConvertedSalary\"].isnull()) & (salaries_train[\"Salary\"].isnull() == False),[\"Country\",\"Salary\",\"ConvertedSalary\"]]"
   ]
  },
  {
   "cell_type": "code",
   "execution_count": 230,
   "metadata": {},
   "outputs": [
    {
     "data": {
      "text/plain": [
       "Country                      object\n",
       "Student                      object\n",
       "Employment                   object\n",
       "FormalEducation              object\n",
       "UndergradMajor               object\n",
       "CompanySize                 float64\n",
       "DevType                      object\n",
       "YearsCoding                   int64\n",
       "YearsCodingProf               int64\n",
       "EducationTypes               object\n",
       "LanguageWorkedWith           object\n",
       "Salary                       object\n",
       "FrameworkWorkedWith          object\n",
       "OperatingSystem              object\n",
       "Age                         float64\n",
       "ConvertedSalary             float64\n",
       "SecondLanguageWorkedWith     object\n",
       "dtype: object"
      ]
     },
     "execution_count": 230,
     "metadata": {},
     "output_type": "execute_result"
    }
   ],
   "source": [
    "salaries_train.dtypes"
   ]
  },
  {
   "cell_type": "code",
   "execution_count": 231,
   "metadata": {},
   "outputs": [
    {
     "data": {
      "text/plain": [
       "array(['510', '120', '100000', nan, '220', '1600', '110000', '180000',\n",
       "       '56000', '49000', '10000', '9000', '1500', '08217000063', '80000',\n",
       "       '5000', '30700', '18000', '250', '55000', '15000', '85000',\n",
       "       '130000', '3500', '53050', '9600', '36200', '195000', '76000',\n",
       "       '200', '2000', '0', '8000', '2200', '61000', '87500', '380000',\n",
       "       '30000', '26000', '100', '120000', '90000', '42500', '152000',\n",
       "       '50000', '6500000', '94,000.00', '82000', '73000', '35000',\n",
       "       '75000', '1800', '150000', '9500', '44000', '22000', '70000',\n",
       "       '40000', '165000', '25000', '111300', '131304', '2100', '6',\n",
       "       '145000', '7500', '95000', '66500', '1150', '105000', '1100',\n",
       "       '52000', '47000', '57616', '140000'], dtype=object)"
      ]
     },
     "execution_count": 231,
     "metadata": {},
     "output_type": "execute_result"
    }
   ],
   "source": [
    "salaries_train[\"Salary\"].unique()"
   ]
  },
  {
   "cell_type": "code",
   "execution_count": 232,
   "metadata": {},
   "outputs": [],
   "source": [
    "# Some of the string values have commas. will remove the comas #"
   ]
  },
  {
   "cell_type": "code",
   "execution_count": 233,
   "metadata": {},
   "outputs": [
    {
     "data": {
      "text/plain": [
       "array(['510', '120', '100000', nan, '220', '1600', '110000', '180000',\n",
       "       '56000', '49000', '10000', '9000', '1500', '08217000063', '80000',\n",
       "       '5000', '30700', '18000', '250', '55000', '15000', '85000',\n",
       "       '130000', '3500', '53050', '9600', '36200', '195000', '76000',\n",
       "       '200', '2000', '0', '8000', '2200', '61000', '87500', '380000',\n",
       "       '30000', '26000', '100', '120000', '90000', '42500', '152000',\n",
       "       '50000', '6500000', '94,000.00', '82000', '73000', '35000',\n",
       "       '75000', '1800', '150000', '9500', '44000', '22000', '70000',\n",
       "       '40000', '165000', '25000', '111300', '131304', '2100', '6',\n",
       "       '145000', '7500', '95000', '66500', '1150', '105000', '1100',\n",
       "       '52000', '47000', '57616', '140000'], dtype=object)"
      ]
     },
     "execution_count": 233,
     "metadata": {},
     "output_type": "execute_result"
    }
   ],
   "source": [
    "salaries_train[\"Salary\"].unique()"
   ]
  },
  {
   "cell_type": "code",
   "execution_count": 234,
   "metadata": {},
   "outputs": [],
   "source": [
    "salaries_train[\"Salary\"] = salaries_train[\"Salary\"].str.replace(\",\",\"\")"
   ]
  },
  {
   "cell_type": "code",
   "execution_count": 235,
   "metadata": {},
   "outputs": [
    {
     "data": {
      "text/plain": [
       "array(['510', '120', '100000', nan, '220', '1600', '110000', '180000',\n",
       "       '56000', '49000', '10000', '9000', '1500', '08217000063', '80000',\n",
       "       '5000', '30700', '18000', '250', '55000', '15000', '85000',\n",
       "       '130000', '3500', '53050', '9600', '36200', '195000', '76000',\n",
       "       '200', '2000', '0', '8000', '2200', '61000', '87500', '380000',\n",
       "       '30000', '26000', '100', '120000', '90000', '42500', '152000',\n",
       "       '50000', '6500000', '94000.00', '82000', '73000', '35000', '75000',\n",
       "       '1800', '150000', '9500', '44000', '22000', '70000', '40000',\n",
       "       '165000', '25000', '111300', '131304', '2100', '6', '145000',\n",
       "       '7500', '95000', '66500', '1150', '105000', '1100', '52000',\n",
       "       '47000', '57616', '140000'], dtype=object)"
      ]
     },
     "execution_count": 235,
     "metadata": {},
     "output_type": "execute_result"
    }
   ],
   "source": [
    "salaries_train[\"Salary\"].unique()"
   ]
  },
  {
   "cell_type": "code",
   "execution_count": 236,
   "metadata": {},
   "outputs": [
    {
     "data": {
      "text/plain": [
       "Country                      object\n",
       "Student                      object\n",
       "Employment                   object\n",
       "FormalEducation              object\n",
       "UndergradMajor               object\n",
       "CompanySize                 float64\n",
       "DevType                      object\n",
       "YearsCoding                   int64\n",
       "YearsCodingProf               int64\n",
       "EducationTypes               object\n",
       "LanguageWorkedWith           object\n",
       "Salary                      float64\n",
       "FrameworkWorkedWith          object\n",
       "OperatingSystem              object\n",
       "Age                         float64\n",
       "ConvertedSalary             float64\n",
       "SecondLanguageWorkedWith     object\n",
       "dtype: object"
      ]
     },
     "execution_count": 236,
     "metadata": {},
     "output_type": "execute_result"
    }
   ],
   "source": [
    "# Convert Salary to float #\n",
    "salaries_train[\"Salary\"] = salaries_train[\"Salary\"].astype(float)\n",
    "salaries_train.dtypes"
   ]
  },
  {
   "cell_type": "markdown",
   "metadata": {},
   "source": [
    "Currency exchange:\n",
    "    \n",
    "    Greece --> 1.219 USD\n",
    "    Uruguay --> 0.02278 USD\n",
    "    Poland --> 0.2719 USD\n",
    "    India --> 0.01381 USD\n",
    "    Denmark --> 0.1639 USD\n"
   ]
  },
  {
   "cell_type": "code",
   "execution_count": 237,
   "metadata": {},
   "outputs": [
    {
     "data": {
      "text/html": [
       "<div>\n",
       "<style scoped>\n",
       "    .dataframe tbody tr th:only-of-type {\n",
       "        vertical-align: middle;\n",
       "    }\n",
       "\n",
       "    .dataframe tbody tr th {\n",
       "        vertical-align: top;\n",
       "    }\n",
       "\n",
       "    .dataframe thead th {\n",
       "        text-align: right;\n",
       "    }\n",
       "</style>\n",
       "<table border=\"1\" class=\"dataframe\">\n",
       "  <thead>\n",
       "    <tr style=\"text-align: right;\">\n",
       "      <th></th>\n",
       "      <th>Country</th>\n",
       "      <th>Salary</th>\n",
       "      <th>ConvertedSalary</th>\n",
       "    </tr>\n",
       "  </thead>\n",
       "  <tbody>\n",
       "    <tr>\n",
       "      <th>0</th>\n",
       "      <td>Greece</td>\n",
       "      <td>510.0</td>\n",
       "      <td>NaN</td>\n",
       "    </tr>\n",
       "    <tr>\n",
       "      <th>48</th>\n",
       "      <td>Uruguay</td>\n",
       "      <td>36200.0</td>\n",
       "      <td>NaN</td>\n",
       "    </tr>\n",
       "    <tr>\n",
       "      <th>56</th>\n",
       "      <td>Poland</td>\n",
       "      <td>8000.0</td>\n",
       "      <td>NaN</td>\n",
       "    </tr>\n",
       "    <tr>\n",
       "      <th>77</th>\n",
       "      <td>India</td>\n",
       "      <td>380000.0</td>\n",
       "      <td>NaN</td>\n",
       "    </tr>\n",
       "    <tr>\n",
       "      <th>89</th>\n",
       "      <td>Poland</td>\n",
       "      <td>8000.0</td>\n",
       "      <td>NaN</td>\n",
       "    </tr>\n",
       "    <tr>\n",
       "      <th>139</th>\n",
       "      <td>Denmark</td>\n",
       "      <td>120000.0</td>\n",
       "      <td>NaN</td>\n",
       "    </tr>\n",
       "  </tbody>\n",
       "</table>\n",
       "</div>"
      ],
      "text/plain": [
       "     Country    Salary  ConvertedSalary\n",
       "0     Greece     510.0              NaN\n",
       "48   Uruguay   36200.0              NaN\n",
       "56    Poland    8000.0              NaN\n",
       "77     India  380000.0              NaN\n",
       "89    Poland    8000.0              NaN\n",
       "139  Denmark  120000.0              NaN"
      ]
     },
     "execution_count": 237,
     "metadata": {},
     "output_type": "execute_result"
    }
   ],
   "source": [
    "# Show Salary when ConvertedSalary = NaN #\n",
    "salaries_train.loc[(salaries_train[\"ConvertedSalary\"].isnull()) & (salaries_train[\"Salary\"].isnull() == False),[\"Country\",\"Salary\",\"ConvertedSalary\"]]"
   ]
  },
  {
   "cell_type": "code",
   "execution_count": 238,
   "metadata": {},
   "outputs": [],
   "source": [
    "# For Greece #\n",
    "salaries_train.loc[\n",
    "    ((salaries_train[\"Country\"] == \"Greece\") & (salaries_train[\"ConvertedSalary\"].isnull())) & (salaries_train[\"Salary\"].isnull() == False), \n",
    "    \"ConvertedSalary\"\n",
    "] = salaries_train.loc[0,\"Salary\"]*1.219"
   ]
  },
  {
   "cell_type": "code",
   "execution_count": 239,
   "metadata": {},
   "outputs": [
    {
     "data": {
      "text/plain": [
       "Series([], Name: ConvertedSalary, dtype: float64)"
      ]
     },
     "execution_count": 239,
     "metadata": {},
     "output_type": "execute_result"
    }
   ],
   "source": [
    "# Check that the change has been applied #\n",
    "salaries_train.loc[\n",
    "    ((salaries_train[\"Country\"] == \"Greece\") & (salaries_train[\"ConvertedSalary\"].isnull())) & (salaries_train[\"Salary\"].isnull() == False), \n",
    "    \"ConvertedSalary\"\n",
    "]"
   ]
  },
  {
   "cell_type": "code",
   "execution_count": 240,
   "metadata": {},
   "outputs": [],
   "source": [
    "# Uraguay --> 0.02278 USD #\n",
    "salaries_train.loc[\n",
    "    ((salaries_train[\"Country\"] == \"Uruguay\") & (salaries_train[\"ConvertedSalary\"].isnull())) & (salaries_train[\"Salary\"].isnull() == False), \n",
    "    \"ConvertedSalary\"\n",
    "] = salaries_train.loc[48,\"Salary\"]*0.02278"
   ]
  },
  {
   "cell_type": "code",
   "execution_count": 241,
   "metadata": {},
   "outputs": [
    {
     "data": {
      "text/plain": [
       "Series([], Name: ConvertedSalary, dtype: float64)"
      ]
     },
     "execution_count": 241,
     "metadata": {},
     "output_type": "execute_result"
    }
   ],
   "source": [
    "# Check that the change has been applied #\n",
    "salaries_train.loc[\n",
    "    ((salaries_train[\"Country\"] == \"Uruguay\") & (salaries_train[\"ConvertedSalary\"].isnull())) & (salaries_train[\"Salary\"].isnull() == False), \n",
    "    \"ConvertedSalary\"\n",
    "]"
   ]
  },
  {
   "cell_type": "code",
   "execution_count": 242,
   "metadata": {},
   "outputs": [],
   "source": [
    "# For India --> 0.01381 USD #\n",
    "salaries_train.loc[\n",
    "    ((salaries_train[\"Country\"] == \"India\") & (salaries_train[\"ConvertedSalary\"].isnull())) & (salaries_train[\"Salary\"].isnull() == False), \n",
    "    \"ConvertedSalary\"\n",
    "] = salaries_train.loc[77,\"Salary\"]*0.01381"
   ]
  },
  {
   "cell_type": "code",
   "execution_count": 243,
   "metadata": {},
   "outputs": [
    {
     "data": {
      "text/plain": [
       "Series([], Name: ConvertedSalary, dtype: float64)"
      ]
     },
     "execution_count": 243,
     "metadata": {},
     "output_type": "execute_result"
    }
   ],
   "source": [
    "# Check that the change has been applied #\n",
    "salaries_train.loc[\n",
    "    ((salaries_train[\"Country\"] == \"India\") & (salaries_train[\"ConvertedSalary\"].isnull())) & (salaries_train[\"Salary\"].isnull() == False), \n",
    "    \"ConvertedSalary\"\n",
    "]"
   ]
  },
  {
   "cell_type": "code",
   "execution_count": 244,
   "metadata": {},
   "outputs": [],
   "source": [
    "# for Denmark --> 0.1639 USD #\n",
    "salaries_train.loc[\n",
    "    ((salaries_train[\"Country\"] == \"Denmark\") & (salaries_train[\"ConvertedSalary\"].isnull())) & (salaries_train[\"Salary\"].isnull() == False), \n",
    "    \"ConvertedSalary\"\n",
    "] = salaries_train.loc[139,\"Salary\"]*0.1639"
   ]
  },
  {
   "cell_type": "code",
   "execution_count": 245,
   "metadata": {},
   "outputs": [
    {
     "data": {
      "text/plain": [
       "Series([], Name: ConvertedSalary, dtype: float64)"
      ]
     },
     "execution_count": 245,
     "metadata": {},
     "output_type": "execute_result"
    }
   ],
   "source": [
    "# Check that the change has been applied #\n",
    "salaries_train.loc[\n",
    "    ((salaries_train[\"Country\"] == \"Denmark\") & (salaries_train[\"ConvertedSalary\"].isnull())) & (salaries_train[\"Salary\"].isnull() == False), \n",
    "    \"ConvertedSalary\"\n",
    "]"
   ]
  },
  {
   "cell_type": "code",
   "execution_count": 246,
   "metadata": {},
   "outputs": [],
   "source": [
    "# Poland --> 0.2719 USD #\n",
    "salaries_train.loc[\n",
    "    ((salaries_train[\"Country\"] == \"Poland\") & (salaries_train[\"ConvertedSalary\"].isnull())) & (salaries_train[\"Salary\"].isnull() == False), \n",
    "    \"ConvertedSalary\"\n",
    "] = salaries_train.loc[[56,89],\"Salary\"]*0.2719"
   ]
  },
  {
   "cell_type": "code",
   "execution_count": 247,
   "metadata": {},
   "outputs": [
    {
     "data": {
      "text/plain": [
       "Series([], Name: ConvertedSalary, dtype: float64)"
      ]
     },
     "execution_count": 247,
     "metadata": {},
     "output_type": "execute_result"
    }
   ],
   "source": [
    "# Check that the change has been applied #\n",
    "salaries_train.loc[\n",
    "    ((salaries_train[\"Country\"] == \"Poland\") & (salaries_train[\"ConvertedSalary\"].isnull())) & (salaries_train[\"Salary\"].isnull() == False), \n",
    "    \"ConvertedSalary\"\n",
    "] "
   ]
  },
  {
   "cell_type": "code",
   "execution_count": 248,
   "metadata": {},
   "outputs": [
    {
     "name": "stdout",
     "output_type": "stream",
     "text": [
      "<class 'pandas.core.frame.DataFrame'>\n",
      "RangeIndex: 200 entries, 0 to 199\n",
      "Data columns (total 17 columns):\n",
      " #   Column                    Non-Null Count  Dtype  \n",
      "---  ------                    --------------  -----  \n",
      " 0   Country                   200 non-null    object \n",
      " 1   Student                   200 non-null    object \n",
      " 2   Employment                200 non-null    object \n",
      " 3   FormalEducation           200 non-null    object \n",
      " 4   UndergradMajor            200 non-null    object \n",
      " 5   CompanySize               200 non-null    float64\n",
      " 6   DevType                   200 non-null    object \n",
      " 7   YearsCoding               200 non-null    int64  \n",
      " 8   YearsCodingProf           200 non-null    int64  \n",
      " 9   EducationTypes            200 non-null    object \n",
      " 10  LanguageWorkedWith        200 non-null    object \n",
      " 11  Salary                    95 non-null     float64\n",
      " 12  FrameworkWorkedWith       200 non-null    object \n",
      " 13  OperatingSystem           200 non-null    object \n",
      " 14  Age                       200 non-null    float64\n",
      " 15  ConvertedSalary           95 non-null     float64\n",
      " 16  SecondLanguageWorkedWith  200 non-null    object \n",
      "dtypes: float64(4), int64(2), object(11)\n",
      "memory usage: 26.7+ KB\n"
     ]
    }
   ],
   "source": [
    "salaries_train.info()"
   ]
  },
  {
   "cell_type": "code",
   "execution_count": 252,
   "metadata": {},
   "outputs": [
    {
     "data": {
      "text/plain": [
       "0         621.69\n",
       "1        1440.00\n",
       "2       14436.00\n",
       "4        3228.00\n",
       "5       23496.00\n",
       "         ...    \n",
       "194         0.00\n",
       "195     47000.00\n",
       "196    110000.00\n",
       "197     70515.00\n",
       "198    140000.00\n",
       "Name: ConvertedSalary, Length: 95, dtype: float64"
      ]
     },
     "execution_count": 252,
     "metadata": {},
     "output_type": "execute_result"
    }
   ],
   "source": [
    "salaries_train.loc[salaries_train[\"ConvertedSalary\"].notna(),\"ConvertedSalary\"]"
   ]
  },
  {
   "cell_type": "code",
   "execution_count": 261,
   "metadata": {},
   "outputs": [],
   "source": [
    "con_salaries = salaries_train.copy()"
   ]
  },
  {
   "cell_type": "code",
   "execution_count": 266,
   "metadata": {},
   "outputs": [],
   "source": [
    "con_salaries.dropna(subset=['ConvertedSalary'], inplace=True)"
   ]
  },
  {
   "cell_type": "code",
   "execution_count": 267,
   "metadata": {},
   "outputs": [
    {
     "name": "stdout",
     "output_type": "stream",
     "text": [
      "<class 'pandas.core.frame.DataFrame'>\n",
      "Int64Index: 95 entries, 0 to 198\n",
      "Data columns (total 17 columns):\n",
      " #   Column                    Non-Null Count  Dtype  \n",
      "---  ------                    --------------  -----  \n",
      " 0   Country                   95 non-null     object \n",
      " 1   Student                   95 non-null     object \n",
      " 2   Employment                95 non-null     object \n",
      " 3   FormalEducation           95 non-null     object \n",
      " 4   UndergradMajor            95 non-null     object \n",
      " 5   CompanySize               95 non-null     float64\n",
      " 6   DevType                   95 non-null     object \n",
      " 7   YearsCoding               95 non-null     int64  \n",
      " 8   YearsCodingProf           95 non-null     int64  \n",
      " 9   EducationTypes            95 non-null     object \n",
      " 10  LanguageWorkedWith        95 non-null     object \n",
      " 11  Salary                    95 non-null     float64\n",
      " 12  FrameworkWorkedWith       95 non-null     object \n",
      " 13  OperatingSystem           95 non-null     object \n",
      " 14  Age                       95 non-null     float64\n",
      " 15  ConvertedSalary           95 non-null     float64\n",
      " 16  SecondLanguageWorkedWith  95 non-null     object \n",
      "dtypes: float64(4), int64(2), object(11)\n",
      "memory usage: 13.4+ KB\n"
     ]
    }
   ],
   "source": [
    "con_salaries.info()"
   ]
  },
  {
   "cell_type": "code",
   "execution_count": null,
   "metadata": {},
   "outputs": [],
   "source": []
  },
  {
   "cell_type": "code",
   "execution_count": null,
   "metadata": {},
   "outputs": [],
   "source": []
  },
  {
   "cell_type": "code",
   "execution_count": null,
   "metadata": {},
   "outputs": [],
   "source": [
    "# # more entries with NaN than will numbers #\n",
    "# len(salaries_train[salaries_train[\"ConvertedSalary\"].isnull()])"
   ]
  },
  {
   "cell_type": "code",
   "execution_count": null,
   "metadata": {},
   "outputs": [],
   "source": [
    "# salaries_train[\"ConvertedSalary\"].mean()"
   ]
  },
  {
   "cell_type": "markdown",
   "metadata": {},
   "source": [
    "for the missing values of ConvertedSalary \n",
    "    \n",
    "    1. Pad values with a limit of 2\n",
    "    1. then return the mean value across the col for the remaining NaN values"
   ]
  },
  {
   "cell_type": "code",
   "execution_count": null,
   "metadata": {},
   "outputs": [],
   "source": [
    "# salaries_train[\"ConvertedSalary\"].mean()"
   ]
  },
  {
   "cell_type": "code",
   "execution_count": null,
   "metadata": {},
   "outputs": [],
   "source": [
    "# # Padding #\n",
    "# salaries_train[\"ConvertedSalary\"].interpolate(method='pad', limit=2, inplace=True)\n",
    "# len(salaries_train[\"ConvertedSalary\"][salaries_train[\"ConvertedSalary\"].isnull()])"
   ]
  },
  {
   "cell_type": "code",
   "execution_count": null,
   "metadata": {},
   "outputs": [],
   "source": [
    "# salaries_train[\"ConvertedSalary\"].mean()"
   ]
  },
  {
   "cell_type": "code",
   "execution_count": null,
   "metadata": {},
   "outputs": [],
   "source": [
    "# # Returning the mean #\n",
    "# salaries_train[\"ConvertedSalary\"].fillna(salaries_train[\"ConvertedSalary\"].mean(),inplace=True)"
   ]
  },
  {
   "cell_type": "code",
   "execution_count": null,
   "metadata": {},
   "outputs": [],
   "source": [
    "# # Check for null values #\n",
    "# salaries_train[\"ConvertedSalary\"][salaries_train[\"ConvertedSalary\"].isnull()]"
   ]
  },
  {
   "cell_type": "code",
   "execution_count": null,
   "metadata": {},
   "outputs": [],
   "source": [
    "# salaries_train.info()"
   ]
  },
  {
   "cell_type": "code",
   "execution_count": 250,
   "metadata": {},
   "outputs": [],
   "source": [
    "# salaries_train.head()"
   ]
  },
  {
   "cell_type": "markdown",
   "metadata": {},
   "source": [
    "## Data Visualization"
   ]
  },
  {
   "cell_type": "code",
   "execution_count": 268,
   "metadata": {},
   "outputs": [
    {
     "data": {
      "text/plain": [
       "<seaborn.axisgrid.PairGrid at 0xe478cd4cc0>"
      ]
     },
     "execution_count": 268,
     "metadata": {},
     "output_type": "execute_result"
    },
    {
     "data": {
      "image/png": "[encoded data removed]",
      "text/plain": [
       "<Figure size 1080x1080 with 42 Axes>"
      ]
     },
     "metadata": {
      "needs_background": "light"
     },
     "output_type": "display_data"
    }
   ],
   "source": [
    "sns.pairplot(con_salaries)"
   ]
  },
  {
   "cell_type": "code",
   "execution_count": 269,
   "metadata": {},
   "outputs": [],
   "source": [
    "corr = con_salaries.corr()"
   ]
  },
  {
   "cell_type": "code",
   "execution_count": 270,
   "metadata": {},
   "outputs": [
    {
     "data": {
      "text/plain": [
       "<matplotlib.axes._subplots.AxesSubplot at 0xe47bab5978>"
      ]
     },
     "execution_count": 270,
     "metadata": {},
     "output_type": "execute_result"
    },
    {
     "data": {
      "image/png": "[encoded data removed]",
      "text/plain": [
       "<Figure size 432x288 with 2 Axes>"
      ]
     },
     "metadata": {
      "needs_background": "light"
     },
     "output_type": "display_data"
    }
   ],
   "source": [
    "sns.heatmap(corr,annot=True)"
   ]
  },
  {
   "cell_type": "markdown",
   "metadata": {},
   "source": [
    "# Methodology"
   ]
  },
  {
   "cell_type": "markdown",
   "metadata": {},
   "source": [
    "1. do a basic linear regression and calculate evaluation metics and predictions\n",
    "2. Repeat 1. using a Standardization\n",
    "3. make a pipeline and repeat 1 and 2\n",
    "4. save model\n",
    "5. create web app of model"
   ]
  },
  {
   "cell_type": "markdown",
   "metadata": {},
   "source": [
    "# Analysis"
   ]
  },
  {
   "cell_type": "markdown",
   "metadata": {},
   "source": [
    "### 1. basic linear regression"
   ]
  },
  {
   "cell_type": "code",
   "execution_count": 272,
   "metadata": {},
   "outputs": [
    {
     "name": "stderr",
     "output_type": "stream",
     "text": [
      "C:\\ProgramData\\Anaconda3\\lib\\site-packages\\sklearn\\linear_model\\least_angle.py:35: DeprecationWarning: `np.float` is a deprecated alias for the builtin `float`. To silence this warning, use `float` by itself. Doing this will not modify any behavior and is safe. If you specifically wanted the numpy scalar type, use `np.float64` here.\n",
      "Deprecated in NumPy 1.20; for more details and guidance: https://numpy.org/devdocs/release/1.20.0-notes.html#deprecations\n",
      "  eps=np.finfo(np.float).eps,\n",
      "C:\\ProgramData\\Anaconda3\\lib\\site-packages\\sklearn\\linear_model\\least_angle.py:597: DeprecationWarning: `np.float` is a deprecated alias for the builtin `float`. To silence this warning, use `float` by itself. Doing this will not modify any behavior and is safe. If you specifically wanted the numpy scalar type, use `np.float64` here.\n",
      "Deprecated in NumPy 1.20; for more details and guidance: https://numpy.org/devdocs/release/1.20.0-notes.html#deprecations\n",
      "  eps=np.finfo(np.float).eps, copy_X=True, fit_path=True,\n",
      "C:\\ProgramData\\Anaconda3\\lib\\site-packages\\sklearn\\linear_model\\least_angle.py:836: DeprecationWarning: `np.float` is a deprecated alias for the builtin `float`. To silence this warning, use `float` by itself. Doing this will not modify any behavior and is safe. If you specifically wanted the numpy scalar type, use `np.float64` here.\n",
      "Deprecated in NumPy 1.20; for more details and guidance: https://numpy.org/devdocs/release/1.20.0-notes.html#deprecations\n",
      "  eps=np.finfo(np.float).eps, copy_X=True, fit_path=True,\n",
      "C:\\ProgramData\\Anaconda3\\lib\\site-packages\\sklearn\\linear_model\\least_angle.py:862: DeprecationWarning: `np.float` is a deprecated alias for the builtin `float`. To silence this warning, use `float` by itself. Doing this will not modify any behavior and is safe. If you specifically wanted the numpy scalar type, use `np.float64` here.\n",
      "Deprecated in NumPy 1.20; for more details and guidance: https://numpy.org/devdocs/release/1.20.0-notes.html#deprecations\n",
      "  eps=np.finfo(np.float).eps, positive=False):\n",
      "C:\\ProgramData\\Anaconda3\\lib\\site-packages\\sklearn\\linear_model\\least_angle.py:1097: DeprecationWarning: `np.float` is a deprecated alias for the builtin `float`. To silence this warning, use `float` by itself. Doing this will not modify any behavior and is safe. If you specifically wanted the numpy scalar type, use `np.float64` here.\n",
      "Deprecated in NumPy 1.20; for more details and guidance: https://numpy.org/devdocs/release/1.20.0-notes.html#deprecations\n",
      "  max_n_alphas=1000, n_jobs=None, eps=np.finfo(np.float).eps,\n",
      "C:\\ProgramData\\Anaconda3\\lib\\site-packages\\sklearn\\linear_model\\least_angle.py:1344: DeprecationWarning: `np.float` is a deprecated alias for the builtin `float`. To silence this warning, use `float` by itself. Doing this will not modify any behavior and is safe. If you specifically wanted the numpy scalar type, use `np.float64` here.\n",
      "Deprecated in NumPy 1.20; for more details and guidance: https://numpy.org/devdocs/release/1.20.0-notes.html#deprecations\n",
      "  max_n_alphas=1000, n_jobs=None, eps=np.finfo(np.float).eps,\n",
      "C:\\ProgramData\\Anaconda3\\lib\\site-packages\\sklearn\\linear_model\\least_angle.py:1480: DeprecationWarning: `np.float` is a deprecated alias for the builtin `float`. To silence this warning, use `float` by itself. Doing this will not modify any behavior and is safe. If you specifically wanted the numpy scalar type, use `np.float64` here.\n",
      "Deprecated in NumPy 1.20; for more details and guidance: https://numpy.org/devdocs/release/1.20.0-notes.html#deprecations\n",
      "  eps=np.finfo(np.float).eps, copy_X=True, positive=False):\n",
      "C:\\ProgramData\\Anaconda3\\lib\\site-packages\\sklearn\\linear_model\\randomized_l1.py:152: DeprecationWarning: `np.float` is a deprecated alias for the builtin `float`. To silence this warning, use `float` by itself. Doing this will not modify any behavior and is safe. If you specifically wanted the numpy scalar type, use `np.float64` here.\n",
      "Deprecated in NumPy 1.20; for more details and guidance: https://numpy.org/devdocs/release/1.20.0-notes.html#deprecations\n",
      "  precompute=False, eps=np.finfo(np.float).eps,\n",
      "C:\\ProgramData\\Anaconda3\\lib\\site-packages\\sklearn\\linear_model\\randomized_l1.py:320: DeprecationWarning: `np.float` is a deprecated alias for the builtin `float`. To silence this warning, use `float` by itself. Doing this will not modify any behavior and is safe. If you specifically wanted the numpy scalar type, use `np.float64` here.\n",
      "Deprecated in NumPy 1.20; for more details and guidance: https://numpy.org/devdocs/release/1.20.0-notes.html#deprecations\n",
      "  eps=np.finfo(np.float).eps, random_state=None,\n",
      "C:\\ProgramData\\Anaconda3\\lib\\site-packages\\sklearn\\linear_model\\randomized_l1.py:580: DeprecationWarning: `np.float` is a deprecated alias for the builtin `float`. To silence this warning, use `float` by itself. Doing this will not modify any behavior and is safe. If you specifically wanted the numpy scalar type, use `np.float64` here.\n",
      "Deprecated in NumPy 1.20; for more details and guidance: https://numpy.org/devdocs/release/1.20.0-notes.html#deprecations\n",
      "  eps=4 * np.finfo(np.float).eps, n_jobs=None,\n"
     ]
    }
   ],
   "source": [
    "# Linear regesion model #\n",
    "from sklearn.linear_model import LinearRegression"
   ]
  },
  {
   "cell_type": "code",
   "execution_count": 273,
   "metadata": {},
   "outputs": [],
   "source": [
    "lreg = LinearRegression()"
   ]
  },
  {
   "cell_type": "code",
   "execution_count": 274,
   "metadata": {},
   "outputs": [
    {
     "data": {
      "text/plain": [
       "Index(['Country', 'Student', 'Employment', 'FormalEducation', 'UndergradMajor',\n",
       "       'CompanySize', 'DevType', 'YearsCoding', 'YearsCodingProf',\n",
       "       'EducationTypes', 'LanguageWorkedWith', 'Salary', 'FrameworkWorkedWith',\n",
       "       'OperatingSystem', 'Age', 'ConvertedSalary',\n",
       "       'SecondLanguageWorkedWith'],\n",
       "      dtype='object')"
      ]
     },
     "execution_count": 274,
     "metadata": {},
     "output_type": "execute_result"
    }
   ],
   "source": [
    "con_salaries.columns"
   ]
  },
  {
   "cell_type": "code",
   "execution_count": 275,
   "metadata": {},
   "outputs": [],
   "source": [
    "X = con_salaries.loc[:,['Age','CompanySize','YearsCoding', 'YearsCodingProf','Student', 'Employment', 'FormalEducation', 'UndergradMajor','DevType','EducationTypes','LanguageWorkedWith','SecondLanguageWorkedWith','FrameworkWorkedWith','OperatingSystem']]"
   ]
  },
  {
   "cell_type": "code",
   "execution_count": 276,
   "metadata": {},
   "outputs": [],
   "source": [
    "y = con_salaries[\"ConvertedSalary\"]"
   ]
  },
  {
   "cell_type": "code",
   "execution_count": 277,
   "metadata": {},
   "outputs": [],
   "source": [
    "# Get dummies for all categorical cols in X #\n",
    "categorical_columns = ['Student', 'Employment', 'FormalEducation', 'UndergradMajor','DevType',\n",
    "                       'EducationTypes','LanguageWorkedWith','SecondLanguageWorkedWith',\n",
    "                       'FrameworkWorkedWith','OperatingSystem']\n",
    "\n",
    "for column in categorical_columns:\n",
    "    tempdf = pd.get_dummies(X[column], prefix=column)\n",
    "\n",
    "    X = pd.merge(\n",
    "        left=X,\n",
    "        right=tempdf,\n",
    "        left_index=True,\n",
    "        right_index=True,\n",
    "    )\n",
    "\n",
    "    X = X.drop(columns=column)\n"
   ]
  },
  {
   "cell_type": "code",
   "execution_count": 278,
   "metadata": {},
   "outputs": [
    {
     "data": {
      "text/html": [
       "<div>\n",
       "<style scoped>\n",
       "    .dataframe tbody tr th:only-of-type {\n",
       "        vertical-align: middle;\n",
       "    }\n",
       "\n",
       "    .dataframe tbody tr th {\n",
       "        vertical-align: top;\n",
       "    }\n",
       "\n",
       "    .dataframe thead th {\n",
       "        text-align: right;\n",
       "    }\n",
       "</style>\n",
       "<table border=\"1\" class=\"dataframe\">\n",
       "  <thead>\n",
       "    <tr style=\"text-align: right;\">\n",
       "      <th></th>\n",
       "      <th>Age</th>\n",
       "      <th>CompanySize</th>\n",
       "      <th>YearsCoding</th>\n",
       "      <th>YearsCodingProf</th>\n",
       "      <th>Student_No</th>\n",
       "      <th>Student_Yes</th>\n",
       "      <th>Employment_Employed</th>\n",
       "      <th>Employment_Not_employed</th>\n",
       "      <th>FormalEducation_High</th>\n",
       "      <th>FormalEducation_Low</th>\n",
       "      <th>...</th>\n",
       "      <th>FrameworkWorkedWith_Node.js</th>\n",
       "      <th>FrameworkWorkedWith_React</th>\n",
       "      <th>FrameworkWorkedWith_Spark</th>\n",
       "      <th>FrameworkWorkedWith_Spring</th>\n",
       "      <th>FrameworkWorkedWith_TensorFlow</th>\n",
       "      <th>FrameworkWorkedWith_Torch/PyTorch</th>\n",
       "      <th>FrameworkWorkedWith_TypeScript</th>\n",
       "      <th>OperatingSystem_Linux-based</th>\n",
       "      <th>OperatingSystem_MacOS</th>\n",
       "      <th>OperatingSystem_Windows</th>\n",
       "    </tr>\n",
       "  </thead>\n",
       "  <tbody>\n",
       "    <tr>\n",
       "      <th>0</th>\n",
       "      <td>21.0</td>\n",
       "      <td>10.0</td>\n",
       "      <td>5</td>\n",
       "      <td>1</td>\n",
       "      <td>1</td>\n",
       "      <td>0</td>\n",
       "      <td>1</td>\n",
       "      <td>0</td>\n",
       "      <td>0</td>\n",
       "      <td>0</td>\n",
       "      <td>...</td>\n",
       "      <td>0</td>\n",
       "      <td>0</td>\n",
       "      <td>1</td>\n",
       "      <td>0</td>\n",
       "      <td>0</td>\n",
       "      <td>0</td>\n",
       "      <td>0</td>\n",
       "      <td>1</td>\n",
       "      <td>0</td>\n",
       "      <td>0</td>\n",
       "    </tr>\n",
       "    <tr>\n",
       "      <th>1</th>\n",
       "      <td>21.0</td>\n",
       "      <td>0.0</td>\n",
       "      <td>5</td>\n",
       "      <td>1</td>\n",
       "      <td>0</td>\n",
       "      <td>1</td>\n",
       "      <td>0</td>\n",
       "      <td>1</td>\n",
       "      <td>0</td>\n",
       "      <td>0</td>\n",
       "      <td>...</td>\n",
       "      <td>0</td>\n",
       "      <td>0</td>\n",
       "      <td>0</td>\n",
       "      <td>0</td>\n",
       "      <td>0</td>\n",
       "      <td>0</td>\n",
       "      <td>0</td>\n",
       "      <td>0</td>\n",
       "      <td>0</td>\n",
       "      <td>1</td>\n",
       "    </tr>\n",
       "    <tr>\n",
       "      <th>2</th>\n",
       "      <td>30.0</td>\n",
       "      <td>15.0</td>\n",
       "      <td>7</td>\n",
       "      <td>7</td>\n",
       "      <td>1</td>\n",
       "      <td>0</td>\n",
       "      <td>1</td>\n",
       "      <td>0</td>\n",
       "      <td>1</td>\n",
       "      <td>0</td>\n",
       "      <td>...</td>\n",
       "      <td>0</td>\n",
       "      <td>0</td>\n",
       "      <td>0</td>\n",
       "      <td>0</td>\n",
       "      <td>0</td>\n",
       "      <td>0</td>\n",
       "      <td>0</td>\n",
       "      <td>0</td>\n",
       "      <td>1</td>\n",
       "      <td>0</td>\n",
       "    </tr>\n",
       "    <tr>\n",
       "      <th>4</th>\n",
       "      <td>18.0</td>\n",
       "      <td>300.0</td>\n",
       "      <td>5</td>\n",
       "      <td>1</td>\n",
       "      <td>1</td>\n",
       "      <td>0</td>\n",
       "      <td>1</td>\n",
       "      <td>0</td>\n",
       "      <td>0</td>\n",
       "      <td>1</td>\n",
       "      <td>...</td>\n",
       "      <td>0</td>\n",
       "      <td>0</td>\n",
       "      <td>0</td>\n",
       "      <td>0</td>\n",
       "      <td>0</td>\n",
       "      <td>0</td>\n",
       "      <td>0</td>\n",
       "      <td>1</td>\n",
       "      <td>0</td>\n",
       "      <td>0</td>\n",
       "    </tr>\n",
       "    <tr>\n",
       "      <th>5</th>\n",
       "      <td>30.0</td>\n",
       "      <td>60.0</td>\n",
       "      <td>5</td>\n",
       "      <td>5</td>\n",
       "      <td>0</td>\n",
       "      <td>1</td>\n",
       "      <td>1</td>\n",
       "      <td>0</td>\n",
       "      <td>0</td>\n",
       "      <td>0</td>\n",
       "      <td>...</td>\n",
       "      <td>0</td>\n",
       "      <td>0</td>\n",
       "      <td>0</td>\n",
       "      <td>0</td>\n",
       "      <td>0</td>\n",
       "      <td>0</td>\n",
       "      <td>0</td>\n",
       "      <td>0</td>\n",
       "      <td>0</td>\n",
       "      <td>1</td>\n",
       "    </tr>\n",
       "  </tbody>\n",
       "</table>\n",
       "<p>5 rows × 98 columns</p>\n",
       "</div>"
      ],
      "text/plain": [
       "    Age  CompanySize  YearsCoding  YearsCodingProf  Student_No  Student_Yes  \\\n",
       "0  21.0         10.0            5                1           1            0   \n",
       "1  21.0          0.0            5                1           0            1   \n",
       "2  30.0         15.0            7                7           1            0   \n",
       "4  18.0        300.0            5                1           1            0   \n",
       "5  30.0         60.0            5                5           0            1   \n",
       "\n",
       "   Employment_Employed  Employment_Not_employed  FormalEducation_High  \\\n",
       "0                    1                        0                     0   \n",
       "1                    0                        1                     0   \n",
       "2                    1                        0                     1   \n",
       "4                    1                        0                     0   \n",
       "5                    1                        0                     0   \n",
       "\n",
       "   FormalEducation_Low  ...  FrameworkWorkedWith_Node.js  \\\n",
       "0                    0  ...                            0   \n",
       "1                    0  ...                            0   \n",
       "2                    0  ...                            0   \n",
       "4                    1  ...                            0   \n",
       "5                    0  ...                            0   \n",
       "\n",
       "   FrameworkWorkedWith_React  FrameworkWorkedWith_Spark  \\\n",
       "0                          0                          1   \n",
       "1                          0                          0   \n",
       "2                          0                          0   \n",
       "4                          0                          0   \n",
       "5                          0                          0   \n",
       "\n",
       "   FrameworkWorkedWith_Spring  FrameworkWorkedWith_TensorFlow  \\\n",
       "0                           0                               0   \n",
       "1                           0                               0   \n",
       "2                           0                               0   \n",
       "4                           0                               0   \n",
       "5                           0                               0   \n",
       "\n",
       "   FrameworkWorkedWith_Torch/PyTorch  FrameworkWorkedWith_TypeScript  \\\n",
       "0                                  0                               0   \n",
       "1                                  0                               0   \n",
       "2                                  0                               0   \n",
       "4                                  0                               0   \n",
       "5                                  0                               0   \n",
       "\n",
       "   OperatingSystem_Linux-based  OperatingSystem_MacOS  OperatingSystem_Windows  \n",
       "0                            1                      0                        0  \n",
       "1                            0                      0                        1  \n",
       "2                            0                      1                        0  \n",
       "4                            1                      0                        0  \n",
       "5                            0                      0                        1  \n",
       "\n",
       "[5 rows x 98 columns]"
      ]
     },
     "execution_count": 278,
     "metadata": {},
     "output_type": "execute_result"
    }
   ],
   "source": [
    "X.head()"
   ]
  },
  {
   "cell_type": "code",
   "execution_count": 279,
   "metadata": {},
   "outputs": [],
   "source": [
    "# Train test split #\n",
    "from sklearn.model_selection import train_test_split"
   ]
  },
  {
   "cell_type": "code",
   "execution_count": 280,
   "metadata": {},
   "outputs": [],
   "source": [
    "X_train, X_test, y_train, y_test = train_test_split(X, y, test_size=0.3, random_state=42)"
   ]
  },
  {
   "cell_type": "markdown",
   "metadata": {},
   "source": [
    "**Train/fit lm on the training data.**"
   ]
  },
  {
   "cell_type": "code",
   "execution_count": 281,
   "metadata": {},
   "outputs": [
    {
     "data": {
      "text/plain": [
       "LinearRegression(copy_X=True, fit_intercept=True, n_jobs=None,\n",
       "         normalize=False)"
      ]
     },
     "execution_count": 281,
     "metadata": {},
     "output_type": "execute_result"
    }
   ],
   "source": [
    "lreg.fit(X_train,y_train)"
   ]
  },
  {
   "cell_type": "markdown",
   "metadata": {},
   "source": [
    "**model coeffients**"
   ]
  },
  {
   "cell_type": "code",
   "execution_count": 282,
   "metadata": {},
   "outputs": [
    {
     "name": "stdout",
     "output_type": "stream",
     "text": [
      "Coefficients: \n",
      " [-3.50727187e+04 -8.83470372e+01 -2.07765753e+04  8.17227786e+04\n",
      "  1.78952969e+05 -1.78952969e+05  4.57677234e+05 -4.57677234e+05\n",
      " -2.49031539e+04 -4.39486585e+05  4.64389739e+05 -6.33917166e+05\n",
      " -3.82265622e+05  8.02687978e+05  4.87039801e+05  1.46653865e+05\n",
      "  1.13725536e+06  7.39602685e+04 -4.39486585e+05 -7.78163070e+04\n",
      "  3.24996434e+04 -1.14661124e+06  8.05622286e+04  1.27154121e+06\n",
      " -2.09896609e+06 -4.84287739e-08 -4.92848348e+05 -2.68337317e-08\n",
      "  6.44802621e+05 -2.63215043e-07  2.34581739e+05  7.12935358e+05\n",
      " -2.84068350e+05  1.46653865e+05 -2.47693881e+05  3.24996434e+04\n",
      " -2.11250545e+05 -3.11410986e-09  6.39056878e+05 -1.01181021e+06\n",
      "  1.90521935e+05 -3.25191648e+05  2.24813749e+05  4.93859838e+05\n",
      " -7.55397757e+05 -2.64989463e+04  6.23587178e+04  5.24569020e+04\n",
      "  6.98491931e-09 -3.93482761e+04  6.07242561e+05 -4.49845098e+05\n",
      "  1.46653865e+05 -8.77325114e+04  3.74654796e+05  2.03483992e+05\n",
      "  1.27154121e+06 -9.08391582e+05 -4.51177872e+05 -9.08391582e+05\n",
      "  7.33202758e+05 -2.44452844e+04  8.89298514e+05  1.46653865e+05\n",
      "  0.00000000e+00 -5.87457538e+05 -4.41174257e+05  0.00000000e+00\n",
      " -8.66571299e+05  1.77581736e+05 -2.58078722e+05  0.00000000e+00\n",
      "  0.00000000e+00 -5.66157535e+04  8.00522662e+05 -1.52978538e+06\n",
      " -2.53213571e+05  7.78692862e+05 -3.79801163e+05  0.00000000e+00\n",
      "  2.03483992e+05  6.39056878e+05  9.37041279e+05  4.61907488e+05\n",
      "  3.92059501e+04  2.16278793e+05  0.00000000e+00  4.36794423e+05\n",
      "  2.51768126e+05 -3.62981180e+05 -5.66157535e+04  6.28057097e+05\n",
      " -1.61441494e+06  0.00000000e+00  0.00000000e+00 -1.65875553e+05\n",
      "  3.13828894e+04  1.34492664e+05]\n"
     ]
    }
   ],
   "source": [
    "# The coefficients\n",
    "print('Coefficients: \\n', lreg.coef_)"
   ]
  },
  {
   "cell_type": "markdown",
   "metadata": {},
   "source": [
    "**Model prediction**"
   ]
  },
  {
   "cell_type": "code",
   "execution_count": 283,
   "metadata": {},
   "outputs": [],
   "source": [
    "predict_y = lreg.predict(X_test)"
   ]
  },
  {
   "cell_type": "markdown",
   "metadata": {},
   "source": [
    "**Real values(y_test) vs predicted vals(predict_y)**"
   ]
  },
  {
   "cell_type": "code",
   "execution_count": 284,
   "metadata": {},
   "outputs": [
    {
     "data": {
      "text/plain": [
       "Text(0, 0.5, 'Predicted Y')"
      ]
     },
     "execution_count": 284,
     "metadata": {},
     "output_type": "execute_result"
    },
    {
     "data": {
      "image/png": "[encoded data removed]",
      "text/plain": [
       "<Figure size 432x288 with 1 Axes>"
      ]
     },
     "metadata": {
      "needs_background": "light"
     },
     "output_type": "display_data"
    }
   ],
   "source": [
    "import matplotlib.pyplot as plt\n",
    "plt.scatter(y_test,predict_y)\n",
    "plt.xlabel('Y Test')\n",
    "plt.ylabel('Predicted Y')"
   ]
  },
  {
   "cell_type": "markdown",
   "metadata": {},
   "source": [
    "**Model Evaluation**"
   ]
  },
  {
   "cell_type": "code",
   "execution_count": 285,
   "metadata": {},
   "outputs": [
    {
     "name": "stdout",
     "output_type": "stream",
     "text": [
      "MAE: 1096053.3971888584\n",
      "MSE: 1848877383550.8696\n",
      "RMSE: 1359734.306234446\n",
      "R^2_score: -55.831083920651444\n"
     ]
    }
   ],
   "source": [
    "# calculate these metrics by hand!\n",
    "from sklearn import metrics\n",
    "from sklearn.metrics import r2_score\n",
    "\n",
    "print('MAE:', metrics.mean_absolute_error(y_test, predict_y))\n",
    "print('MSE:', metrics.mean_squared_error(y_test, predict_y))\n",
    "print('RMSE:', np.sqrt(metrics.mean_squared_error(y_test, predict_y)))\n",
    "print(\"R^2_score:\", r2_score(y_test, predict_y))\n"
   ]
  },
  {
   "cell_type": "code",
   "execution_count": null,
   "metadata": {},
   "outputs": [],
   "source": []
  },
  {
   "cell_type": "code",
   "execution_count": null,
   "metadata": {},
   "outputs": [],
   "source": []
  },
  {
   "cell_type": "markdown",
   "metadata": {},
   "source": [
    "**Residuals plot**"
   ]
  },
  {
   "cell_type": "code",
   "execution_count": 286,
   "metadata": {},
   "outputs": [
    {
     "name": "stderr",
     "output_type": "stream",
     "text": [
      "C:\\ProgramData\\Anaconda3\\lib\\site-packages\\scipy\\stats\\stats.py:1713: FutureWarning: Using a non-tuple sequence for multidimensional indexing is deprecated; use `arr[tuple(seq)]` instead of `arr[seq]`. In the future this will be interpreted as an array index, `arr[np.array(seq)]`, which will result either in an error or a different result.\n",
      "  return np.add.reduce(sorted[indexer] * weights, axis=axis) / sumval\n"
     ]
    },
    {
     "data": {
      "text/plain": [
       "<matplotlib.axes._subplots.AxesSubplot at 0xe47ece6c18>"
      ]
     },
     "execution_count": 286,
     "metadata": {},
     "output_type": "execute_result"
    },
    {
     "data": {
      "image/png": "[encoded data removed]",
      "text/plain": [
       "<Figure size 432x288 with 1 Axes>"
      ]
     },
     "metadata": {
      "needs_background": "light"
     },
     "output_type": "display_data"
    }
   ],
   "source": [
    "sns.distplot((y_test-predict_y),bins=50)"
   ]
  },
  {
   "cell_type": "markdown",
   "metadata": {},
   "source": [
    "**Prediction of salary using new data**"
   ]
  },
  {
   "cell_type": "markdown",
   "metadata": {},
   "source": [
    "I suspect the issues with my results is that i am using different countries, and as we know income varries largely per country"
   ]
  },
  {
   "cell_type": "code",
   "execution_count": 287,
   "metadata": {},
   "outputs": [],
   "source": [
    "from sklearn.model_selection import cross_val_score"
   ]
  },
  {
   "cell_type": "code",
   "execution_count": 288,
   "metadata": {},
   "outputs": [
    {
     "name": "stderr",
     "output_type": "stream",
     "text": [
      "C:\\ProgramData\\Anaconda3\\lib\\site-packages\\sklearn\\model_selection\\_split.py:437: DeprecationWarning: `np.int` is a deprecated alias for the builtin `int`. To silence this warning, use `int` by itself. Doing this will not modify any behavior and is safe. When replacing `np.int`, you may wish to use e.g. `np.int64` or `np.int32` to specify the precision. If you wish to review your current use, check the release note link for additional information.\n",
      "Deprecated in NumPy 1.20; for more details and guidance: https://numpy.org/devdocs/release/1.20.0-notes.html#deprecations\n",
      "  fold_sizes = np.full(n_splits, n_samples // n_splits, dtype=np.int)\n",
      "C:\\ProgramData\\Anaconda3\\lib\\site-packages\\sklearn\\model_selection\\_split.py:113: DeprecationWarning: `np.bool` is a deprecated alias for the builtin `bool`. To silence this warning, use `bool` by itself. Doing this will not modify any behavior and is safe. If you specifically wanted the numpy scalar type, use `np.bool_` here.\n",
      "Deprecated in NumPy 1.20; for more details and guidance: https://numpy.org/devdocs/release/1.20.0-notes.html#deprecations\n",
      "  test_mask = np.zeros(_num_samples(X), dtype=np.bool)\n",
      "C:\\ProgramData\\Anaconda3\\lib\\site-packages\\sklearn\\model_selection\\_split.py:113: DeprecationWarning: `np.bool` is a deprecated alias for the builtin `bool`. To silence this warning, use `bool` by itself. Doing this will not modify any behavior and is safe. If you specifically wanted the numpy scalar type, use `np.bool_` here.\n",
      "Deprecated in NumPy 1.20; for more details and guidance: https://numpy.org/devdocs/release/1.20.0-notes.html#deprecations\n",
      "  test_mask = np.zeros(_num_samples(X), dtype=np.bool)\n",
      "C:\\ProgramData\\Anaconda3\\lib\\site-packages\\sklearn\\model_selection\\_split.py:113: DeprecationWarning: `np.bool` is a deprecated alias for the builtin `bool`. To silence this warning, use `bool` by itself. Doing this will not modify any behavior and is safe. If you specifically wanted the numpy scalar type, use `np.bool_` here.\n",
      "Deprecated in NumPy 1.20; for more details and guidance: https://numpy.org/devdocs/release/1.20.0-notes.html#deprecations\n",
      "  test_mask = np.zeros(_num_samples(X), dtype=np.bool)\n"
     ]
    },
    {
     "data": {
      "text/plain": [
       "-256088.37211116904"
      ]
     },
     "execution_count": 288,
     "metadata": {},
     "output_type": "execute_result"
    }
   ],
   "source": [
    "np.mean(cross_val_score(lreg,X_train,y_train, scoring = 'neg_mean_absolute_error', cv= 3))"
   ]
  },
  {
   "cell_type": "code",
   "execution_count": null,
   "metadata": {},
   "outputs": [],
   "source": []
  },
  {
   "cell_type": "code",
   "execution_count": null,
   "metadata": {},
   "outputs": [],
   "source": []
  },
  {
   "cell_type": "code",
   "execution_count": null,
   "metadata": {},
   "outputs": [],
   "source": []
  },
  {
   "cell_type": "code",
   "execution_count": null,
   "metadata": {},
   "outputs": [],
   "source": []
  },
  {
   "cell_type": "code",
   "execution_count": null,
   "metadata": {},
   "outputs": [],
   "source": []
  },
  {
   "cell_type": "code",
   "execution_count": null,
   "metadata": {},
   "outputs": [],
   "source": []
  },
  {
   "cell_type": "code",
   "execution_count": null,
   "metadata": {},
   "outputs": [],
   "source": [
    "# y_test.head()"
   ]
  },
  {
   "cell_type": "code",
   "execution_count": null,
   "metadata": {},
   "outputs": [],
   "source": [
    "# predict_y[0:6]"
   ]
  },
  {
   "cell_type": "code",
   "execution_count": null,
   "metadata": {},
   "outputs": [],
   "source": [
    "# salaries_train.columns"
   ]
  },
  {
   "cell_type": "code",
   "execution_count": null,
   "metadata": {},
   "outputs": [],
   "source": [
    "# enter information that will be used to predict salary #\n"
   ]
  },
  {
   "cell_type": "code",
   "execution_count": null,
   "metadata": {},
   "outputs": [],
   "source": [
    "# lreg.predict()"
   ]
  },
  {
   "cell_type": "code",
   "execution_count": null,
   "metadata": {},
   "outputs": [],
   "source": []
  },
  {
   "cell_type": "code",
   "execution_count": null,
   "metadata": {},
   "outputs": [],
   "source": []
  },
  {
   "cell_type": "code",
   "execution_count": null,
   "metadata": {},
   "outputs": [],
   "source": []
  },
  {
   "cell_type": "code",
   "execution_count": null,
   "metadata": {},
   "outputs": [],
   "source": []
  },
  {
   "cell_type": "code",
   "execution_count": null,
   "metadata": {},
   "outputs": [],
   "source": []
  },
  {
   "cell_type": "code",
   "execution_count": null,
   "metadata": {},
   "outputs": [],
   "source": []
  },
  {
   "cell_type": "code",
   "execution_count": null,
   "metadata": {},
   "outputs": [],
   "source": []
  },
  {
   "cell_type": "code",
   "execution_count": null,
   "metadata": {},
   "outputs": [],
   "source": []
  },
  {
   "cell_type": "code",
   "execution_count": null,
   "metadata": {},
   "outputs": [],
   "source": []
  },
  {
   "cell_type": "code",
   "execution_count": null,
   "metadata": {},
   "outputs": [],
   "source": []
  },
  {
   "cell_type": "markdown",
   "metadata": {},
   "source": [
    "### 2. Repeat using Standardization"
   ]
  },
  {
   "cell_type": "code",
   "execution_count": null,
   "metadata": {},
   "outputs": [],
   "source": []
  },
  {
   "cell_type": "code",
   "execution_count": null,
   "metadata": {},
   "outputs": [],
   "source": []
  },
  {
   "cell_type": "code",
   "execution_count": null,
   "metadata": {},
   "outputs": [],
   "source": []
  },
  {
   "cell_type": "code",
   "execution_count": null,
   "metadata": {},
   "outputs": [],
   "source": []
  },
  {
   "cell_type": "code",
   "execution_count": null,
   "metadata": {},
   "outputs": [],
   "source": []
  },
  {
   "cell_type": "code",
   "execution_count": null,
   "metadata": {},
   "outputs": [],
   "source": []
  },
  {
   "cell_type": "code",
   "execution_count": null,
   "metadata": {},
   "outputs": [],
   "source": []
  },
  {
   "cell_type": "code",
   "execution_count": null,
   "metadata": {},
   "outputs": [],
   "source": []
  },
  {
   "cell_type": "code",
   "execution_count": null,
   "metadata": {},
   "outputs": [],
   "source": []
  },
  {
   "cell_type": "code",
   "execution_count": null,
   "metadata": {},
   "outputs": [],
   "source": []
  },
  {
   "cell_type": "code",
   "execution_count": null,
   "metadata": {},
   "outputs": [],
   "source": []
  },
  {
   "cell_type": "code",
   "execution_count": null,
   "metadata": {},
   "outputs": [],
   "source": []
  },
  {
   "cell_type": "code",
   "execution_count": null,
   "metadata": {},
   "outputs": [],
   "source": []
  },
  {
   "cell_type": "code",
   "execution_count": null,
   "metadata": {},
   "outputs": [],
   "source": []
  },
  {
   "cell_type": "code",
   "execution_count": null,
   "metadata": {},
   "outputs": [],
   "source": []
  },
  {
   "cell_type": "code",
   "execution_count": null,
   "metadata": {},
   "outputs": [],
   "source": []
  },
  {
   "cell_type": "code",
   "execution_count": null,
   "metadata": {},
   "outputs": [],
   "source": []
  },
  {
   "cell_type": "code",
   "execution_count": null,
   "metadata": {},
   "outputs": [],
   "source": []
  },
  {
   "cell_type": "code",
   "execution_count": null,
   "metadata": {},
   "outputs": [],
   "source": []
  },
  {
   "cell_type": "code",
   "execution_count": null,
   "metadata": {},
   "outputs": [],
   "source": []
  },
  {
   "cell_type": "code",
   "execution_count": null,
   "metadata": {},
   "outputs": [],
   "source": [
    "# from sklearn.model_selection import cross_val_score"
   ]
  },
  {
   "cell_type": "code",
   "execution_count": null,
   "metadata": {},
   "outputs": [],
   "source": [
    "# # Encoding categorical features #\n",
    "# from sklearn.preprocessing import OneHotEncoder\n",
    "# ohe = OneHotEncoder()"
   ]
  },
  {
   "cell_type": "code",
   "execution_count": null,
   "metadata": {},
   "outputs": [],
   "source": [
    "# # Sex col Example #\n",
    "# ohe.fit_transform(X[[\"LanguageWorkedWith\"]])"
   ]
  },
  {
   "cell_type": "code",
   "execution_count": null,
   "metadata": {},
   "outputs": [],
   "source": [
    "# # View what each array stands for #\n",
    "# ohe.categories_"
   ]
  },
  {
   "cell_type": "code",
   "execution_count": null,
   "metadata": {},
   "outputs": [],
   "source": [
    "# # column transformer #\n",
    "# from sklearn.compose import make_column_transformer"
   ]
  },
  {
   "cell_type": "code",
   "execution_count": null,
   "metadata": {},
   "outputs": [],
   "source": [
    "# column_trans = make_column_transformer(\n",
    "#     (OneHotEncoder(), ['LanguageWorkedWith','SecondLanguageWorkedWith','FrameworkWorkedWith']),\n",
    "#     remainder=\"passthrough\"\n",
    "# )"
   ]
  },
  {
   "cell_type": "code",
   "execution_count": null,
   "metadata": {},
   "outputs": [],
   "source": [
    "# column_trans.fit_transform(X)"
   ]
  },
  {
   "cell_type": "code",
   "execution_count": null,
   "metadata": {},
   "outputs": [],
   "source": [
    "# # Put all these steps into a Pipeline #\n",
    "# from sklearn.pipeline import make_pipeline"
   ]
  },
  {
   "cell_type": "code",
   "execution_count": null,
   "metadata": {},
   "outputs": [],
   "source": [
    "# # Order of application. First colum transform then apply logistic regression #\n",
    "# pipe = make_pipeline(column_trans, lreg)"
   ]
  },
  {
   "cell_type": "code",
   "execution_count": null,
   "metadata": {},
   "outputs": [],
   "source": [
    "# # Passing entire pipeline into cross validation score #\n",
    "# cross_val_score(pipe, X, y, cv=5, scoring=\"accuracy\").mean()"
   ]
  },
  {
   "cell_type": "code",
   "execution_count": null,
   "metadata": {},
   "outputs": [],
   "source": []
  },
  {
   "cell_type": "code",
   "execution_count": null,
   "metadata": {},
   "outputs": [],
   "source": []
  },
  {
   "cell_type": "code",
   "execution_count": null,
   "metadata": {},
   "outputs": [],
   "source": []
  },
  {
   "cell_type": "code",
   "execution_count": null,
   "metadata": {},
   "outputs": [],
   "source": []
  },
  {
   "cell_type": "code",
   "execution_count": null,
   "metadata": {},
   "outputs": [],
   "source": []
  },
  {
   "cell_type": "code",
   "execution_count": null,
   "metadata": {},
   "outputs": [],
   "source": []
  }
 ],
 "metadata": {
  "kernelspec": {
   "display_name": "Python 3",
   "language": "python",
   "name": "python3"
  },
  "language_info": {
   "codemirror_mode": {
    "name": "ipython",
    "version": 3
   },
   "file_extension": ".py",
   "mimetype": "text/x-python",
   "name": "python",
   "nbconvert_exporter": "python",
   "pygments_lexer": "ipython3",
   "version": "3.7.1"
  }
 },
 "nbformat": 4,
 "nbformat_minor": 2
}
